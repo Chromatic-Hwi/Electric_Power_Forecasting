{
 "cells": [
  {
   "cell_type": "code",
   "execution_count": 24,
   "id": "7a7e9474",
   "metadata": {},
   "outputs": [],
   "source": [
    "import pymysql\n",
    "\n",
    "db = pymysql.connect(user='root', password='0000', host='localhost', db='result', cursorclass=pymysql.cursors.DictCursor)\n",
    "# 현재 로컬호스트로 DB 사용중임. -> host를 localhost로 입력하면 됨."
   ]
  },
  {
   "cell_type": "code",
   "execution_count": 25,
   "id": "4842cdd0",
   "metadata": {},
   "outputs": [
    {
     "name": "stdout",
     "output_type": "stream",
     "text": [
      "<class 'list'>\n"
     ]
    }
   ],
   "source": [
    "cursor = db.cursor()\n",
    "\n",
    "query = \"SELECT * FROM result.electric_prediction_result_data_for_chart_year\"\n",
    "cursor.execute(query)\n",
    "db_result = cursor.fetchall()\n",
    "\n",
    "print(type(db_result))"
   ]
  },
  {
   "cell_type": "code",
   "execution_count": 27,
   "id": "cebc2565",
   "metadata": {},
   "outputs": [
    {
     "data": {
      "text/html": [
       "<div>\n",
       "<style scoped>\n",
       "    .dataframe tbody tr th:only-of-type {\n",
       "        vertical-align: middle;\n",
       "    }\n",
       "\n",
       "    .dataframe tbody tr th {\n",
       "        vertical-align: top;\n",
       "    }\n",
       "\n",
       "    .dataframe thead th {\n",
       "        text-align: right;\n",
       "    }\n",
       "</style>\n",
       "<table border=\"1\" class=\"dataframe\">\n",
       "  <thead>\n",
       "    <tr style=\"text-align: right;\">\n",
       "      <th></th>\n",
       "      <th>datetime</th>\n",
       "      <th>pred</th>\n",
       "      <th>actual</th>\n",
       "    </tr>\n",
       "  </thead>\n",
       "  <tbody>\n",
       "    <tr>\n",
       "      <th>0</th>\n",
       "      <td>2016년-01월-01일-1시</td>\n",
       "      <td>0.090907</td>\n",
       "      <td>0.009860</td>\n",
       "    </tr>\n",
       "    <tr>\n",
       "      <th>1</th>\n",
       "      <td>2016년-01월-01일-2시</td>\n",
       "      <td>0.066563</td>\n",
       "      <td>0.009512</td>\n",
       "    </tr>\n",
       "    <tr>\n",
       "      <th>2</th>\n",
       "      <td>2016년-01월-01일-3시</td>\n",
       "      <td>0.064022</td>\n",
       "      <td>0.025983</td>\n",
       "    </tr>\n",
       "    <tr>\n",
       "      <th>3</th>\n",
       "      <td>2016년-01월-01일-4시</td>\n",
       "      <td>0.105088</td>\n",
       "      <td>0.011252</td>\n",
       "    </tr>\n",
       "    <tr>\n",
       "      <th>4</th>\n",
       "      <td>2016년-01월-01일-5시</td>\n",
       "      <td>0.075418</td>\n",
       "      <td>0.017283</td>\n",
       "    </tr>\n",
       "    <tr>\n",
       "      <th>...</th>\n",
       "      <td>...</td>\n",
       "      <td>...</td>\n",
       "      <td>...</td>\n",
       "    </tr>\n",
       "    <tr>\n",
       "      <th>8755</th>\n",
       "      <td>2016년-12월-31일-20시</td>\n",
       "      <td>0.117454</td>\n",
       "      <td>0.008584</td>\n",
       "    </tr>\n",
       "    <tr>\n",
       "      <th>8756</th>\n",
       "      <td>2016년-12월-31일-21시</td>\n",
       "      <td>0.059186</td>\n",
       "      <td>0.046746</td>\n",
       "    </tr>\n",
       "    <tr>\n",
       "      <th>8757</th>\n",
       "      <td>2016년-12월-31일-22시</td>\n",
       "      <td>0.117434</td>\n",
       "      <td>0.061014</td>\n",
       "    </tr>\n",
       "    <tr>\n",
       "      <th>8758</th>\n",
       "      <td>2016년-12월-31일-23시</td>\n",
       "      <td>0.117481</td>\n",
       "      <td>0.036887</td>\n",
       "    </tr>\n",
       "    <tr>\n",
       "      <th>8759</th>\n",
       "      <td>2016년-12월-31일-24시</td>\n",
       "      <td>0.117416</td>\n",
       "      <td>0.016239</td>\n",
       "    </tr>\n",
       "  </tbody>\n",
       "</table>\n",
       "<p>8760 rows × 3 columns</p>\n",
       "</div>"
      ],
      "text/plain": [
       "               datetime      pred    actual\n",
       "0      2016년-01월-01일-1시  0.090907  0.009860\n",
       "1      2016년-01월-01일-2시  0.066563  0.009512\n",
       "2      2016년-01월-01일-3시  0.064022  0.025983\n",
       "3      2016년-01월-01일-4시  0.105088  0.011252\n",
       "4      2016년-01월-01일-5시  0.075418  0.017283\n",
       "...                 ...       ...       ...\n",
       "8755  2016년-12월-31일-20시  0.117454  0.008584\n",
       "8756  2016년-12월-31일-21시  0.059186  0.046746\n",
       "8757  2016년-12월-31일-22시  0.117434  0.061014\n",
       "8758  2016년-12월-31일-23시  0.117481  0.036887\n",
       "8759  2016년-12월-31일-24시  0.117416  0.016239\n",
       "\n",
       "[8760 rows x 3 columns]"
      ]
     },
     "execution_count": 27,
     "metadata": {},
     "output_type": "execute_result"
    }
   ],
   "source": [
    "import pandas as pd\n",
    "db_result_df=pd.DataFrame(db_result)\n",
    "db_result_df = db_result_df.drop([db_result_df.columns[0]], axis=1) # 중복 index열 삭제\n",
    "db_result_df"
   ]
  }
 ],
 "metadata": {
  "kernelspec": {
   "display_name": "Python 3 (ipykernel)",
   "language": "python",
   "name": "python3"
  },
  "language_info": {
   "codemirror_mode": {
    "name": "ipython",
    "version": 3
   },
   "file_extension": ".py",
   "mimetype": "text/x-python",
   "name": "python",
   "nbconvert_exporter": "python",
   "pygments_lexer": "ipython3",
   "version": "3.9.7"
  }
 },
 "nbformat": 4,
 "nbformat_minor": 5
}
