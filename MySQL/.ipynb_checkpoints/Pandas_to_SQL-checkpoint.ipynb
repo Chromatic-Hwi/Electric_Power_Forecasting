{
 "cells": [
  {
   "cell_type": "code",
   "execution_count": 33,
   "id": "baef400d",
   "metadata": {},
   "outputs": [
    {
     "data": {
      "text/html": [
       "<style>.container { width:80% !important; }</style>"
      ],
      "text/plain": [
       "<IPython.core.display.HTML object>"
      ]
     },
     "metadata": {},
     "output_type": "display_data"
    }
   ],
   "source": [
    "# 화면 가로 확장 코드 (기본 width 50%)\n",
    "from IPython.core.display import display, HTML\n",
    "display(HTML(\"<style>.container { width:80% !important; }</style>\"))"
   ]
  },
  {
   "cell_type": "markdown",
   "id": "19833ab5",
   "metadata": {},
   "source": [
    "### Database 생성"
   ]
  },
  {
   "cell_type": "code",
   "execution_count": 70,
   "id": "e5c0068f",
   "metadata": {},
   "outputs": [],
   "source": [
    "import pymysql\n",
    "\n",
    "db = pymysql.connect(host='<호스트 주소 입력>', user='<user 이름 입력>', password='<비밀번호>')\n",
    "cursor = db.cursor()\n",
    "\n",
    "try:\n",
    "    cursor.execute('create database <DB 이름 입력>;')\n",
    "    db.commit()\n",
    "    db.close()\n",
    "    print('Database has been created')\n",
    "    \n",
    "except:\n",
    "    print('Database already exsist!') # create if not exists를 이용할 수도 있지만 생성 여부 확인을 위해 예외처리로 나눔."
   ]
  },
  {
   "cell_type": "markdown",
   "id": "29ed9161",
   "metadata": {},
   "source": [
    "### Table 생성 및 csv 입력"
   ]
  },
  {
   "cell_type": "code",
   "execution_count": 72,
   "id": "97dfe836",
   "metadata": {},
   "outputs": [
    {
     "name": "stdout",
     "output_type": "stream",
     "text": [
      "Table already exists!\n"
     ]
    }
   ],
   "source": [
    "import pandas as pd\n",
    "\n",
    "from sqlalchemy import create_engine\n",
    "\n",
    "db = pymysql.connect(host='<호스트 주소>', user='<이름>', password='<비밀번호>')\n",
    "cursor = db.cursor()\n",
    "\n",
    "# csv파일 불러오기\n",
    "df = pd.read_csv('<csv 파일과 경로>', encoding = 'cp949')\n",
    "\n",
    "# sqlalchemy를 사용해 원하는 database에 csv파일 저장\n",
    "try:\n",
    "    engine = create_engine(\"mysql+pymysql://<user 이름>:\"+\"<비밀번호>\"+\n",
    "                           \"@<호스트주소>:<Port 번호>/<생성하고자 하는 Table 이름>?charset=utf8\", encoding = \"cp949\")\n",
    "    conn = engine.connect()\n",
    "    df.to_sql(name = \"<Table 하위 메뉴에서 생성할 이름>\", con = engine, index = False)\n",
    "    conn.close()\n",
    "    \n",
    "except ValueError:\n",
    "    print('Table already exists!')"
   ]
  }
 ],
 "metadata": {
  "kernelspec": {
   "display_name": "Python 3 (ipykernel)",
   "language": "python",
   "name": "python3"
  },
  "language_info": {
   "codemirror_mode": {
    "name": "ipython",
    "version": 3
   },
   "file_extension": ".py",
   "mimetype": "text/x-python",
   "name": "python",
   "nbconvert_exporter": "python",
   "pygments_lexer": "ipython3",
   "version": "3.9.7"
  }
 },
 "nbformat": 4,
 "nbformat_minor": 5
}
