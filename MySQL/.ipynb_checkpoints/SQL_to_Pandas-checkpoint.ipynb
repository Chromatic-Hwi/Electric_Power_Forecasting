{
 "cells": [
  {
   "cell_type": "markdown",
   "id": "7a7567b3",
   "metadata": {},
   "source": [
    "### DB 연동"
   ]
  },
  {
   "cell_type": "code",
   "execution_count": null,
   "id": "7a7e9474",
   "metadata": {},
   "outputs": [],
   "source": [
    "import pymysql\n",
    "\n",
    "db = pymysql.connect(user='<user 이름>', password='<비밀번호>', host='localhost', db='<DB 이름>', cursorclass=pymysql.cursors.DictCursor)\n"
   ]
  },
  {
   "cell_type": "code",
   "execution_count": null,
   "id": "4842cdd0",
   "metadata": {},
   "outputs": [],
   "source": [
    "cursor = db.cursor()\n",
    "\n",
    "query = \"select * from <Table 하위 df 객체 이름>\"\n",
    "cursor.execute(query)\n",
    "db_export = cursor.fetchall()"
   ]
  },
  {
   "cell_type": "markdown",
   "id": "ed02277f",
   "metadata": {},
   "source": [
    "### DataFrame 입력"
   ]
  },
  {
   "cell_type": "code",
   "execution_count": null,
   "id": "cebc2565",
   "metadata": {},
   "outputs": [],
   "source": [
    "import pandas as pd\n",
    "db_result_df=pd.DataFrame(db_export)\n",
    "#db_result_df = db_result_df.drop([db_result_df.columns[0]], axis=1) # 중복 index열 삭제\n",
    "db_result_df"
   ]
  }
 ],
 "metadata": {
  "kernelspec": {
   "display_name": "Python 3 (ipykernel)",
   "language": "python",
   "name": "python3"
  },
  "language_info": {
   "codemirror_mode": {
    "name": "ipython",
    "version": 3
   },
   "file_extension": ".py",
   "mimetype": "text/x-python",
   "name": "python",
   "nbconvert_exporter": "python",
   "pygments_lexer": "ipython3",
   "version": "3.9.7"
  }
 },
 "nbformat": 4,
 "nbformat_minor": 5
}
