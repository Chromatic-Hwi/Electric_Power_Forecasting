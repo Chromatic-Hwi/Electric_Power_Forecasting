{
 "cells": [
  {
   "cell_type": "code",
   "execution_count": 33,
   "id": "143857b3",
   "metadata": {},
   "outputs": [
    {
     "data": {
      "text/html": [
       "<style>.container { width:80% !important; }</style>"
      ],
      "text/plain": [
       "<IPython.core.display.HTML object>"
      ]
     },
     "metadata": {},
     "output_type": "display_data"
    }
   ],
   "source": [
    "# 화면 가로 확장 코드 (기본 width 50%)\n",
    "from IPython.core.display import display, HTML\n",
    "display(HTML(\"<style>.container { width:80% !important; }</style>\"))"
   ]
  },
  {
   "cell_type": "code",
   "execution_count": 49,
   "id": "b55b307f",
   "metadata": {},
   "outputs": [],
   "source": [
    "import pymysql\n",
    "\n",
    "db = pymysql.connect(host='127.19.12.23', user='Hwi', password='1223')\n",
    "cursor = db.cursor()\n",
    "\n",
    "try:\n",
    "    cursor.execute('create database combined_data;')\n",
    "    db.commit()\n",
    "    db.close()\n",
    "except:\n",
    "    print('Schema already exsist!') # create if not exists를 이용할 수도 있지만 생성 여부 확인을 위해 예외처리로 나눔."
   ]
  },
  {
   "cell_type": "code",
   "execution_count": 53,
   "id": "58aa6345",
   "metadata": {},
   "outputs": [],
   "source": [
    "db = pymysql.connect(host='127.19.12.23', user='Hwi', db='combined_data', password='1223')\n",
    "cursor = db.cursor()\n",
    "\n",
    "cursor.execute('create table table1(id char(4))')\n",
    "#cursor.execute('insert into new_table values(1,2,3)')\n",
    "db.commit()\n",
    "db.close()"
   ]
  }
 ],
 "metadata": {
  "kernelspec": {
   "display_name": "Python 3 (ipykernel)",
   "language": "python",
   "name": "python3"
  },
  "language_info": {
   "codemirror_mode": {
    "name": "ipython",
    "version": 3
   },
   "file_extension": ".py",
   "mimetype": "text/x-python",
   "name": "python",
   "nbconvert_exporter": "python",
   "pygments_lexer": "ipython3",
   "version": "3.9.7"
  }
 },
 "nbformat": 4,
 "nbformat_minor": 5
}
