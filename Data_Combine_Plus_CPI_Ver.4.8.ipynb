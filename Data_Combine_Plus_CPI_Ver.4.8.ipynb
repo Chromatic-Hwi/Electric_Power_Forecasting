{
 "cells": [
  {
   "cell_type": "code",
   "execution_count": null,
   "id": "dae53d08",
   "metadata": {},
   "outputs": [],
   "source": [
    "import os\n",
    "import pandas as pd\n",
    "import csv\n",
    "import time"
   ]
  },
  {
   "cell_type": "code",
   "execution_count": null,
   "id": "deff50b1",
   "metadata": {},
   "outputs": [],
   "source": [
    "# 화면 가로 확장 코드 (기본 width 50%)\n",
    "from IPython.core.display import display, HTML\n",
    "display(HTML(\"<style>.container { width:80% !important; }</style>\"))"
   ]
  },
  {
   "cell_type": "markdown",
   "id": "25391f17",
   "metadata": {},
   "source": [
    "### 전력+기온 결합 데이터 폴더 생성"
   ]
  },
  {
   "cell_type": "code",
   "execution_count": null,
   "id": "168f8dd4",
   "metadata": {},
   "outputs": [],
   "source": [
    "try:\n",
    "    os.mkdir('./Combined_Data')\n",
    "    for y in range(2013, 2017):\n",
    "        os.mkdir('./Combined_Data/'+str(y))\n",
    "    print('폴더 생성 완료.')\n",
    "except FileExistsError:\n",
    "    print('해당 폴더가 이미 존재합니다.\\n폴더를 확인해주세요.')"
   ]
  },
  {
   "cell_type": "markdown",
   "id": "ba32689f",
   "metadata": {},
   "source": [
    "### 데이터 결합 코드"
   ]
  },
  {
   "cell_type": "code",
   "execution_count": null,
   "id": "42fa654f",
   "metadata": {},
   "outputs": [],
   "source": [
    "print('------------------------------< Start Working!! >------------------------------\\n')\n",
    "\n",
    "month = {1:31, 2:28, 3:31, 4:30, 5:31, 6:30, 7:31, 8:31, 9:30, 10:31, 11:30, 12:31}\n",
    "\n",
    "for y in range(2013, 2017):\n",
    "    \n",
    "    for m in range(1,13):\n",
    "        csv_electric = pd.read_csv(\"./Electric_Data/Electirc_Data_CSV_FInal/\"+str(y)+\"/\"+str(y)+'_'+str(m)+'_'+\"House1_Ch1_Electric_Data_Final.csv\", encoding='cp949')\n",
    "        csv_weather = pd.read_csv(\"./Weather_Data/Weather_Data_24H_CSV/\"+str(y)+\"/\"+str(y)+'_'+str(m)+'_'+\"London_Temperature_24H.csv\", encoding='utf-8')\n",
    "        csv_CPI = pd.read_csv('./CPI.csv')\n",
    "        csv_electric['Temp']=csv_weather['Temp']\n",
    "        csv_electric['Humidity']=csv_weather['Humidity']\n",
    "        csv_electric['CPI']=''\n",
    "        date=str(y)+'_'+str(m)\n",
    "        \n",
    "        cpi=float(csv_CPI['CPI'].loc[csv_CPI['Date']==date])\n",
    "        \n",
    "        s = 0\n",
    "        for d in range(month[m]):\n",
    "            d=d+1 \n",
    "            \n",
    "            for n in range(s, s+24):\n",
    "                combine_list=[]\n",
    "                combine_list.append(csv_electric['DateTime'][n])\n",
    "                combine_list.append(csv_electric['Graph_Date'][n])\n",
    "                combine_list.append(csv_electric['Day'][n])\n",
    "                combine_list.append(csv_electric['Holiday'][n])\n",
    "                combine_list.append(csv_electric['Seq'][n])\n",
    "                combine_list.append(csv_electric['Watt'][n])\n",
    "                combine_list.append(csv_electric['Temp'][n])\n",
    "                combine_list.append(csv_electric['Humidity'][n])\n",
    "                combine_list.append(cpi)\n",
    "                with open(\"./Combined_Data/\"+str(y)+\"/\"+str(y)+'_'+str(m)+'_'+\"House1_Ch1_Combined_Data.csv\", 'a', newline='') as file:\n",
    "                                writer = csv.writer(file)\n",
    "                                writer.writerow(combine_list)\n",
    "            s=s+24\n",
    "            \n",
    "        csv_origin = pd.read_csv(\"./Combined_Data/\"+str(y)+\"/\"+str(y)+'_'+str(m)+'_'+\"House1_Ch1_Combined_Data.csv\", names = ['DateTime', 'Graph_Date', 'Day', 'Holiday', 'Seq', 'Watt', \"Temp('C)\", 'Humidity(%)', 'CPI'], header = None, encoding='cp949')\n",
    "        csv_origin.to_csv(\"./Combined_Data/\"+str(y)+\"/\"+str(y)+'_'+str(m)+'_'+\"House1_Ch1_Combined_Data.csv\", encoding='cp949')\n",
    "        \n",
    "print('\\n------------------------------< Job Done!! >------------------------------\\n')"
   ]
  },
  {
   "cell_type": "markdown",
   "id": "70b72a07",
   "metadata": {},
   "source": [
    "### 1년 단위 통합 CSV 저장"
   ]
  },
  {
   "cell_type": "code",
   "execution_count": null,
   "id": "70c007ee",
   "metadata": {},
   "outputs": [],
   "source": [
    "for y in range(2013, 2017):\n",
    "    folders = os.listdir('./Combined_Data/'+str(y)+'/')\n",
    "\n",
    "    df_year = pd.DataFrame()\n",
    "    for m in range(0,len(folders)):\n",
    "        m=m+1\n",
    "        file = './Combined_Data/'+str(y)+'/'+str(y)+'_'+str(m)+'_'+'House1_Ch1_Combined_Data.csv'\n",
    "        df_m = pd.read_csv(file, encoding='cp949')\n",
    "        df_year = pd.concat([df_year, df_m])\n",
    "        \n",
    "    df_year = df_year.drop([df_year.columns[0]], axis=1)\n",
    "    df_year = df_year.reset_index(drop=True)\n",
    "    df_year.to_csv(\"./Combined_Data/\"+str(y)+'_'+\"House1_Ch1_Combined_Data_Y.csv\", encoding='cp949')\n",
    "\n",
    "print('\\n------------------------------< Year Merge Done!! >------------------------------\\n')"
   ]
  },
  {
   "cell_type": "markdown",
   "id": "8ac70fc7",
   "metadata": {},
   "source": [
    "### 데이터 합본 저장"
   ]
  },
  {
   "cell_type": "markdown",
   "id": "f836f621",
   "metadata": {},
   "source": [
    "#### 3년치"
   ]
  },
  {
   "cell_type": "code",
   "execution_count": null,
   "id": "e5ce61b4",
   "metadata": {},
   "outputs": [],
   "source": [
    "df_3Y = pd.DataFrame()\n",
    "for y in range(2013, 2016):\n",
    "    file = './Combined_Data/'+str(y)+'_'+'House1_Ch1_Combined_Data_Y.csv'\n",
    "    df_y= pd.read_csv(file, encoding='cp949')\n",
    "    df_3Y = pd.concat([df_3Y, df_y])\n",
    "    \n",
    "df_3Y = df_3Y.drop([df_3Y.columns[0]], axis=1)\n",
    "df_3Y = df_3Y.reset_index(drop=True)\n",
    "df_3Y.to_csv(\"./Combined_Data/House1_Ch1_Combined_Data_13-15.csv\", encoding='cp949')"
   ]
  },
  {
   "cell_type": "code",
   "execution_count": null,
   "id": "d229761d",
   "metadata": {},
   "outputs": [],
   "source": [
    "Data_3Y = pd.read_csv('./Combined_Data/House1_Ch1_Combined_Data_13-15.csv', encoding='cp949')\n",
    "Data_3Y.info()"
   ]
  },
  {
   "cell_type": "markdown",
   "id": "ba90828a",
   "metadata": {},
   "source": [
    "#### 4년치"
   ]
  },
  {
   "cell_type": "code",
   "execution_count": null,
   "id": "2b08895e",
   "metadata": {},
   "outputs": [],
   "source": [
    "df_4Y = pd.DataFrame()\n",
    "for y in range(2013, 2017):\n",
    "    file = './Combined_Data/'+str(y)+'_'+'House1_Ch1_Combined_Data_Y.csv'\n",
    "    df_y= pd.read_csv(file, encoding='cp949')\n",
    "    df_4Y = pd.concat([df_4Y, df_y])\n",
    "    \n",
    "df_4Y = df_4Y.drop([df_4Y.columns[0]], axis=1)\n",
    "df_4Y = df_4Y.reset_index(drop=True)\n",
    "df_4Y.to_csv(\"./Combined_Data/House1_Ch1_Combined_Data_13-16.csv\", encoding='cp949')"
   ]
  },
  {
   "cell_type": "code",
   "execution_count": null,
   "id": "e05ed748",
   "metadata": {},
   "outputs": [],
   "source": [
    "Data_4Y = pd.read_csv('./Combined_Data/House1_Ch1_Combined_Data_13-16.csv', encoding='cp949')\n",
    "Data_4Y.insert(3,'Unix_Time','')\n",
    "\n",
    "for i in range(len(Data_4Y)):\n",
    "    Y=int(Data_4Y['Graph_Date'][i][:4])\n",
    "    M=int(Data_4Y['Graph_Date'][i][5:7])\n",
    "    D=int(Data_4Y['Graph_Date'][i][8:10])\n",
    "    date = datetime.datetime(Y, M, D)\n",
    "    unix=int(time.mktime(date.timetuple())/1000) # 시,분,초 정보는 0으로 일괄처리 되기 때문에 1000으로 나눠서 뒤 3자리수는 제거\n",
    "    Data_4Y['Unix_Time'][i]=unix"
   ]
  },
  {
   "cell_type": "code",
   "execution_count": null,
   "id": "9f322351",
   "metadata": {},
   "outputs": [],
   "source": [
    "Data_4Y.info()"
   ]
  },
  {
   "cell_type": "code",
   "execution_count": null,
   "id": "e9079d29",
   "metadata": {},
   "outputs": [],
   "source": [
    "Data_2013=pd.read_csv('./Combined_Data/2013_House1_Ch1_Combined_Data_Y.csv', encoding='cp949')\n",
    "Data_2014=pd.read_csv('./Combined_Data/2014_House1_Ch1_Combined_Data_Y.csv', encoding='cp949')\n",
    "Data_2015=pd.read_csv('./Combined_Data/2015_House1_Ch1_Combined_Data_Y.csv', encoding='cp949')\n",
    "Data_2016=pd.read_csv('./Combined_Data/2016_House1_Ch1_Combined_Data_Y.csv', encoding='cp949')"
   ]
  },
  {
   "cell_type": "markdown",
   "id": "85922a20",
   "metadata": {},
   "source": [
    "### 그래프 확인"
   ]
  },
  {
   "cell_type": "markdown",
   "id": "17e2f7ce",
   "metadata": {},
   "source": [
    "#### plt 그래프 함수"
   ]
  },
  {
   "cell_type": "code",
   "execution_count": null,
   "id": "ce7a2c3c",
   "metadata": {},
   "outputs": [],
   "source": [
    "def Watt_Graph(name, x, y, year):\n",
    "    font_head = {'color': 'k', 'weight': 'bold', 'size': 20}\n",
    "    font_body = {'color': 'k', 'weight': 'bold', 'size': 15}\n",
    "    plt.figure(figsize=(30,10))\n",
    "    plt.plot(x, y, '.-', linewidth=1, color='y')\n",
    "    plt.tick_params(axis='x', colors='k', size=10, labelsize=15)\n",
    "    plt.tick_params(axis='y', colors='k', size=10, labelsize=15)\n",
    "    plt.xlabel(\"Time\", labelpad=15, fontdict=font_body)\n",
    "    plt.ylabel('Watt', labelpad=15, fontdict=font_body)\n",
    "    plt.title(name, fontdict=font_head, pad=20)\n",
    "    plt.margins(x=0.02)\n",
    "\n",
    "    if year==1:\n",
    "        plt.xticks([0, 31, 59, 90, 120, 151, 181, 212, 243, 273, 304, 334], labels=['Jan', 'Feb', 'Mar', 'Apr', 'May', 'Jun', 'Jul', 'Aug', 'Sep', 'Oct', 'Nov', 'Dec'])\n",
    "    if year==3:\n",
    "        plt.xticks([0, 365, 730], labels=['2013', '2014', '2015'])\n",
    "        \n",
    "    plt.show"
   ]
  },
  {
   "cell_type": "code",
   "execution_count": null,
   "id": "8dd8dac2",
   "metadata": {},
   "outputs": [],
   "source": [
    "def Weather_Graph(name1, name2, x, y1, y2, year):\n",
    "    plt.figure(figsize=(30,20))\n",
    "    font_head = {'color': 'k', 'weight': 'bold', 'size': 20}\n",
    "    font_body = {'color': 'k', 'weight': 'bold', 'size': 15}\n",
    "\n",
    "    # 1번째 그래프\n",
    "    ax1 = plt.subplot(2, 1, 1)\n",
    "    ax1.spines['left'].set_color('#ff7f0e')\n",
    "    ax1.spines['left'].set_lw(2)\n",
    "    ax1.spines['bottom'].set_color('#ff7f0e')\n",
    "    ax1.spines['bottom'].set_lw(2)\n",
    "\n",
    "    ax1.tick_params(axis='x', colors='k', size=10, labelsize=15)\n",
    "    ax1.tick_params(axis='y', colors='k', size=10, labelsize=15)\n",
    "\n",
    "    plt.plot(x, y1, '.-', color='#ff7f0e', linewidth=1)\n",
    "    plt.title(name1, fontdict=font_head, pad=20)\n",
    "    plt.xticks(visible=False)\n",
    "    plt.ylabel(\"Temp('C)\",labelpad=15, fontdict=font_body)\n",
    "    \n",
    "    # 2번째 그래프\n",
    "    ax2 = plt.subplot(2, 1, 2, sharex=ax1)\n",
    "    ax2.spines['left'].set_color('royalblue')\n",
    "    ax2.spines['left'].set_lw(2)\n",
    "    ax2.spines['bottom'].set_color('royalblue')\n",
    "    ax2.spines['bottom'].set_lw(2)\n",
    "\n",
    "    ax2.tick_params(axis='x', colors='k', size=10, labelsize=15)\n",
    "    ax2.tick_params(axis='y', colors='k', size=10, labelsize=15)\n",
    "\n",
    "    plt.plot(x, y2, '.-', color='#1f77b4', linewidth=1)\n",
    "    plt.title(name2, fontdict=font_head, pad=20)\n",
    "    plt.xlabel('Time',labelpad=15, fontdict=font_body)\n",
    "    plt.ylabel('Humidity(%)',labelpad=15, fontdict=font_body)\n",
    "    \n",
    "    plt.margins(x=0.02)\n",
    "    \n",
    "    if year==1:\n",
    "        plt.xticks([0, 31, 59, 90, 120, 151, 181, 212, 243, 273, 304, 334], labels=['Jan', 'Feb', 'Mar', 'Apr', 'May', 'Jun', 'Jul', 'Aug', 'Sep', 'Oct', 'Nov', 'Dec'])\n",
    "    if year==3:\n",
    "        plt.xticks([0, 365, 730], labels=['2013', '2014', '2015'])\n",
    "\n",
    "    plt.show()"
   ]
  },
  {
   "cell_type": "code",
   "execution_count": null,
   "id": "15e8c3e9",
   "metadata": {},
   "outputs": [],
   "source": [
    "Watt_Graph(\"2013's Time-Watt Graph\", Data_2013['Graph_Date'], Data_2013['Watt'], 1)\n",
    "Weather_Graph(\"2013's Time-Temp Graph\", \"2013's Time-Humidity Graph\", Data_2013['Graph_Date'], Data_2013[\"Temp('C)\"], Data_2013['Humidity(%)'], 1)"
   ]
  },
  {
   "cell_type": "code",
   "execution_count": null,
   "id": "06c93bda",
   "metadata": {},
   "outputs": [],
   "source": [
    "Watt_Graph(\"2014's Time-Watt Graph\", Data_2014['Graph_Date'], Data_2014['Watt'], 1)\n",
    "Weather_Graph(\"2014's Time-Temp Graph\", \"2014's Time-Humidity Graph\", Data_2014['Graph_Date'], Data_2014[\"Temp('C)\"], Data_2014['Humidity(%)'], 1)"
   ]
  },
  {
   "cell_type": "code",
   "execution_count": null,
   "id": "0c011677",
   "metadata": {},
   "outputs": [],
   "source": [
    "Watt_Graph(\"2015's Time-Watt Graph\", Data_2015['Graph_Date'], Data_2015['Watt'], 1)\n",
    "Weather_Graph(\"2015's Time-Temp Graph\", \"2015's Time-Humidity Graph\", Data_2015['Graph_Date'], Data_2015[\"Temp('C)\"], Data_2015['Humidity(%)'], 1)"
   ]
  },
  {
   "cell_type": "code",
   "execution_count": null,
   "id": "9e38bea8",
   "metadata": {},
   "outputs": [],
   "source": [
    "Watt_Graph(\"13-15's Time-Watt Graph\", Data_3Y['Graph_Date'], Data_3Y['Watt'], 3)\n",
    "Weather_Graph(\"13-15's Time-Temp Graph\", \"13-15's Time-Humidity Graph\", Data_3Y['Graph_Date'], Data_3Y[\"Temp('C)\"], Data_3Y['Humidity(%)'], 3)"
   ]
  }
 ],
 "metadata": {
  "kernelspec": {
   "display_name": "Python 3 (ipykernel)",
   "language": "python",
   "name": "python3"
  },
  "language_info": {
   "codemirror_mode": {
    "name": "ipython",
    "version": 3
   },
   "file_extension": ".py",
   "mimetype": "text/x-python",
   "name": "python",
   "nbconvert_exporter": "python",
   "pygments_lexer": "ipython3",
   "version": "3.9.7"
  }
 },
 "nbformat": 4,
 "nbformat_minor": 5
}
