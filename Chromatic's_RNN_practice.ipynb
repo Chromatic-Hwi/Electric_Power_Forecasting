{
 "cells": [
  {
   "cell_type": "markdown",
   "id": "homeless-enemy",
   "metadata": {},
   "source": [
    "## 1. Module Import"
   ]
  },
  {
   "cell_type": "code",
   "execution_count": 22,
   "id": "following-qualification",
   "metadata": {},
   "outputs": [],
   "source": [
    "from keras.preprocessing import sequence\n",
    "from keras.models import Sequential\n",
    "from keras.layers import Dense, Dropout, Activation\n",
    "from keras.layers import Embedding\n",
    "from keras.layers import LSTM\n",
    "from keras.layers import Conv1D, MaxPooling1D\n",
    "from keras.datasets import imdb\n",
    "\n",
    "import numpy\n",
    "import tensorflow as tf\n",
    "import matplotlib.pyplot as plt"
   ]
  },
  {
   "cell_type": "markdown",
   "id": "synthetic-checklist",
   "metadata": {},
   "source": [
    "## 2. Data Input"
   ]
  },
  {
   "cell_type": "code",
   "execution_count": 23,
   "id": "actual-intake",
   "metadata": {},
   "outputs": [],
   "source": [
    "# seed 값 설정\n",
    "seed = 0\n",
    "numpy.random.seed(seed)\n",
    "tf.random.set_seed(3)\n",
    "\n",
    "# 학습셋과 테스트셋 \n",
    "(x_train, y_train), (x_test, y_test) = imdb.load_data(num_words=5000)\n",
    "\n",
    "# 전처리\n",
    "x_train = sequence.pad_sequences(x_train, maxlen=100)\n",
    "x_test = sequence.pad_sequences(x_test, maxlen=100)"
   ]
  },
  {
   "cell_type": "markdown",
   "id": "treated-equation",
   "metadata": {},
   "source": [
    "## 3. Model Settings"
   ]
  },
  {
   "cell_type": "code",
   "execution_count": 65,
   "id": "several-specialist",
   "metadata": {},
   "outputs": [
    {
     "name": "stdout",
     "output_type": "stream",
     "text": [
      "<<tanh model>>\n",
      "Model: \"sequential_23\"\n",
      "_________________________________________________________________\n",
      "Layer (type)                 Output Shape              Param #   \n",
      "=================================================================\n",
      "embedding_23 (Embedding)     (None, None, 100)         500000    \n",
      "_________________________________________________________________\n",
      "dropout_23 (Dropout)         (None, None, 100)         0         \n",
      "_________________________________________________________________\n",
      "conv1d_20 (Conv1D)           (None, None, 64)          32064     \n",
      "_________________________________________________________________\n",
      "max_pooling1d_19 (MaxPooling (None, None, 64)          0         \n",
      "_________________________________________________________________\n",
      "lstm_19 (LSTM)               (None, 55)                26400     \n",
      "_________________________________________________________________\n",
      "dense_19 (Dense)             (None, 1)                 56        \n",
      "_________________________________________________________________\n",
      "activation_19 (Activation)   (None, 1)                 0         \n",
      "=================================================================\n",
      "Total params: 558,520\n",
      "Trainable params: 558,520\n",
      "Non-trainable params: 0\n",
      "_________________________________________________________________\n"
     ]
    }
   ],
   "source": [
    "# tanh\n",
    "print('<<tanh model>>')\n",
    "model = Sequential()\n",
    "model.add(Embedding(5000, 100))  # 맨 첫층으로 데이터 전처리 과정을 통해 다음 층이 처리 가능한 형태로 변환.\n",
    "model.add(Dropout(0.5)) # 과적합을 피하기 위해 랜덤 노드를 꺼줌. 해당 코드는 50%의 노드를 끔.\n",
    "model.add(Conv1D(64, 5, padding='valid', activation='relu', strides=1))\n",
    "model.add(MaxPooling1D(pool_size=4)) # 1차원 컨볼루션층 추가 이후 맥스풀링을 이용해 특징(=최댓값) 출력\n",
    "model.add(LSTM(55)) # LSTM은 RNN에서 기억값에 대한 가중치를 제어\n",
    "model.add(Dense(1))\n",
    "model.add(Activation('sigmoid')) \n",
    "model.summary()\n",
    "\n",
    "# Compile\n",
    "model.compile(loss='binary_crossentropy',\n",
    "             optimizer='adam',\n",
    "             metrics=['accuracy'])"
   ]
  },
  {
   "cell_type": "markdown",
   "id": "numeric-lecture",
   "metadata": {},
   "source": [
    "## 4. Running"
   ]
  },
  {
   "cell_type": "code",
   "execution_count": 66,
   "id": "technological-seeking",
   "metadata": {},
   "outputs": [
    {
     "name": "stdout",
     "output_type": "stream",
     "text": [
      "Epoch 1/5\n",
      "250/250 [==============================] - 11s 43ms/step - loss: 0.4452 - accuracy: 0.7741 - val_loss: 0.3545 - val_accuracy: 0.8472\n",
      "Epoch 2/5\n",
      "250/250 [==============================] - 10s 41ms/step - loss: 0.2954 - accuracy: 0.8743 - val_loss: 0.3311 - val_accuracy: 0.8560\n",
      "Epoch 3/5\n",
      "250/250 [==============================] - 10s 41ms/step - loss: 0.2539 - accuracy: 0.8946 - val_loss: 0.3292 - val_accuracy: 0.8583\n",
      "Epoch 4/5\n",
      "250/250 [==============================] - 10s 41ms/step - loss: 0.2163 - accuracy: 0.9151 - val_loss: 0.3305 - val_accuracy: 0.8540\n",
      "Epoch 5/5\n",
      "250/250 [==============================] - 10s 41ms/step - loss: 0.1868 - accuracy: 0.9280 - val_loss: 0.3585 - val_accuracy: 0.8505\n",
      "782/782 [==============================] - 3s 3ms/step - loss: 0.3585 - accuracy: 0.8505\n",
      "\n",
      " Test Accuracy: 0.8505\n"
     ]
    }
   ],
   "source": [
    "# 모델 실행\n",
    "history = model.fit(x_train, y_train, batch_size=100, epochs=5, validation_data=(x_test, y_test))\n",
    "\n",
    "# 테스트 정확도 출력\n",
    "print(\"\\n Test Accuracy: %.4f\" % (model.evaluate(x_test, y_test)[1]))\n",
    "\n",
    "# 테스트셋 오차\n",
    "y_vloss = history.history['val_loss']\n",
    "\n",
    "# 학습셋 오차\n",
    "y_loss = history.history['loss']"
   ]
  },
  {
   "cell_type": "markdown",
   "id": "considered-karaoke",
   "metadata": {},
   "source": [
    "## 5. Result"
   ]
  },
  {
   "cell_type": "code",
   "execution_count": 67,
   "id": "moving-default",
   "metadata": {},
   "outputs": [
    {
     "data": {
      "image/png": "[encoded data removed]",
      "text/plain": [
       "<Figure size 432x288 with 1 Axes>"
      ]
     },
     "metadata": {
      "needs_background": "light"
     },
     "output_type": "display_data"
    },
    {
     "name": "stdout",
     "output_type": "stream",
     "text": [
      "782/782 [==============================] - 3s 3ms/step - loss: 0.3585 - accuracy: 0.8505\n",
      "\n",
      " Test Accuracy ===> 85.05%\n",
      "782/782 [==============================] - 3s 3ms/step - loss: 0.3585 - accuracy: 0.8505\n",
      "\n",
      " Test Accuracy ===> 85.05\n"
     ]
    }
   ],
   "source": [
    "# tanh\n",
    "# 그래프로 표현\n",
    "x_len = numpy.arange(len(y_loss))\n",
    "plt.plot(x_len, y_vloss, marker='.', c=\"red\", label='Testset_loss')\n",
    "plt.plot(x_len, y_loss, marker='.', c=\"blue\", label='Trainset_loss')\n",
    "\n",
    "# 그래프에 그리드를 주고 레이블을 표시\n",
    "plt.legend(loc='upper right')\n",
    "plt.grid()\n",
    "plt.xlabel('epoch')\n",
    "plt.ylabel('loss')\n",
    "plt.show()\n",
    "\n",
    "print(\"\\n Test Accuracy ===> {}%\" .format(round((model.evaluate(x_test, y_test)[1])*100,2)))\n",
    "print(\"\\n Test Accuracy ===> %.2f\" % ((model.evaluate(x_test, y_test)[1])*100))"
   ]
  }
 ],
 "metadata": {
  "kernelspec": {
   "display_name": "Python 3",
   "language": "python",
   "name": "python3"
  },
  "language_info": {
   "codemirror_mode": {
    "name": "ipython",
    "version": 3
   },
   "file_extension": ".py",
   "mimetype": "text/x-python",
   "name": "python",
   "nbconvert_exporter": "python",
   "pygments_lexer": "ipython3",
   "version": "3.8.8"
  }
 },
 "nbformat": 4,
 "nbformat_minor": 5
}
