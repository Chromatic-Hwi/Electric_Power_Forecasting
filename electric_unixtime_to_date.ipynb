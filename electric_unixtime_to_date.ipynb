{
 "cells": [
  {
   "cell_type": "code",
   "execution_count": 4,
   "id": "14765f93",
   "metadata": {},
   "outputs": [
    {
     "name": "stdout",
     "output_type": "stream",
     "text": [
      "house1 ch1 start to end\n",
      "2012-11-09 22:35:31\n",
      "2017-04-26 17:32:40\n"
     ]
    }
   ],
   "source": [
    "print('house1 ch1 start to end')\n",
    "\n",
    "from datetime import datetime\n",
    "ts = int('1352500531')\n",
    "\n",
    "print(datetime.utcfromtimestamp(ts).strftime('%Y-%m-%d %H:%M:%S'))\n",
    "\n",
    "\n",
    "from datetime import datetime\n",
    "ts = int('1493227960')\n",
    "\n",
    "print(datetime.utcfromtimestamp(ts).strftime('%Y-%m-%d %H:%M:%S'))"
   ]
  },
  {
   "cell_type": "code",
   "execution_count": 7,
   "id": "a0549474",
   "metadata": {},
   "outputs": [
    {
     "name": "stdout",
     "output_type": "stream",
     "text": [
      "house2 ch1 start to end\n",
      "2013-02-17 16:17:34\n",
      "2013-10-10 05:15:50\n"
     ]
    }
   ],
   "source": [
    "print('house2 ch1 start to end')\n",
    "\n",
    "from datetime import datetime\n",
    "ts = int('1361117854')\n",
    "\n",
    "print(datetime.utcfromtimestamp(ts).strftime('%Y-%m-%d %H:%M:%S'))\n",
    "\n",
    "\n",
    "from datetime import datetime\n",
    "ts = int('1381382150')\n",
    "\n",
    "print(datetime.utcfromtimestamp(ts).strftime('%Y-%m-%d %H:%M:%S'))"
   ]
  },
  {
   "cell_type": "code",
   "execution_count": 9,
   "id": "85b89f58",
   "metadata": {},
   "outputs": [
    {
     "name": "stdout",
     "output_type": "stream",
     "text": [
      "house3 ch1 start to end\n",
      "2013-02-27 20:35:14\n",
      "2013-04-08 05:14:53\n"
     ]
    }
   ],
   "source": [
    "print('house3 ch1 start to end')\n",
    "\n",
    "from datetime import datetime\n",
    "ts = int('1361997314')\n",
    "\n",
    "print(datetime.utcfromtimestamp(ts).strftime('%Y-%m-%d %H:%M:%S'))\n",
    "\n",
    "\n",
    "from datetime import datetime\n",
    "ts = int('1365398093')\n",
    "\n",
    "print(datetime.utcfromtimestamp(ts).strftime('%Y-%m-%d %H:%M:%S'))"
   ]
  },
  {
   "cell_type": "code",
   "execution_count": 11,
   "id": "a556c591",
   "metadata": {},
   "outputs": [
    {
     "name": "stdout",
     "output_type": "stream",
     "text": [
      "house4 ch1 start to end\n",
      "2013-03-09 14:40:07\n",
      "2013-10-01 05:15:07\n"
     ]
    }
   ],
   "source": [
    "print('house4 ch1 start to end')\n",
    "\n",
    "from datetime import datetime\n",
    "ts = int('1362840007')\n",
    "\n",
    "print(datetime.utcfromtimestamp(ts).strftime('%Y-%m-%d %H:%M:%S'))\n",
    "\n",
    "\n",
    "from datetime import datetime\n",
    "ts = int('1380604507')\n",
    "\n",
    "print(datetime.utcfromtimestamp(ts).strftime('%Y-%m-%d %H:%M:%S'))"
   ]
  },
  {
   "cell_type": "code",
   "execution_count": 14,
   "id": "8e1dfdc0",
   "metadata": {},
   "outputs": [
    {
     "name": "stdout",
     "output_type": "stream",
     "text": [
      "house5 ch1 start to end\n",
      "2014-06-29 16:23:48\n",
      "2014-11-13 17:52:24\n"
     ]
    }
   ],
   "source": [
    "print('house5 ch1 start to end')\n",
    "\n",
    "from datetime import datetime\n",
    "ts = int('1404059028')\n",
    "\n",
    "print(datetime.utcfromtimestamp(ts).strftime('%Y-%m-%d %H:%M:%S'))\n",
    "\n",
    "\n",
    "from datetime import datetime\n",
    "ts = int('1415901144')\n",
    "\n",
    "print(datetime.utcfromtimestamp(ts).strftime('%Y-%m-%d %H:%M:%S'))"
   ]
  },
  {
   "cell_type": "code",
   "execution_count": 16,
   "id": "cf1400f7",
   "metadata": {},
   "outputs": [
    {
     "name": "stdout",
     "output_type": "stream",
     "text": [
      "2012-11-09 22:28:15\n",
      "2012-11-09 22:28:21\n",
      "2012-11-09 22:28:27\n",
      "2012-11-09 22:28:33\n",
      "2012-11-09 22:28:40\n",
      "2012-11-09 22:28:52\n",
      "2012-11-09 22:28:58\n",
      "2012-11-09 22:29:04\n",
      "2012-11-09 22:29:10\n",
      "2012-11-09 22:29:16\n"
     ]
    }
   ],
   "source": [
    "from datetime import datetime\n",
    "ts = int('1352500095')\n",
    "\n",
    "print(datetime.utcfromtimestamp(ts).strftime('%Y-%m-%d %H:%M:%S'))\n",
    "\n",
    "from datetime import datetime\n",
    "ts = int('1352500101')\n",
    "\n",
    "print(datetime.utcfromtimestamp(ts).strftime('%Y-%m-%d %H:%M:%S'))\n",
    "\n",
    "from datetime import datetime\n",
    "ts = int('1352500107')\n",
    "\n",
    "print(datetime.utcfromtimestamp(ts).strftime('%Y-%m-%d %H:%M:%S'))\n",
    "\n",
    "from datetime import datetime\n",
    "ts = int('1352500113')\n",
    "\n",
    "print(datetime.utcfromtimestamp(ts).strftime('%Y-%m-%d %H:%M:%S'))\n",
    "\n",
    "from datetime import datetime\n",
    "ts = int('1352500120')\n",
    "\n",
    "print(datetime.utcfromtimestamp(ts).strftime('%Y-%m-%d %H:%M:%S'))\n",
    "\n",
    "from datetime import datetime\n",
    "ts = int('1352500132')\n",
    "\n",
    "print(datetime.utcfromtimestamp(ts).strftime('%Y-%m-%d %H:%M:%S'))\n",
    "\n",
    "from datetime import datetime\n",
    "ts = int('1352500138')\n",
    "\n",
    "print(datetime.utcfromtimestamp(ts).strftime('%Y-%m-%d %H:%M:%S'))\n",
    "\n",
    "from datetime import datetime\n",
    "ts = int('1352500144')\n",
    "\n",
    "print(datetime.utcfromtimestamp(ts).strftime('%Y-%m-%d %H:%M:%S'))\n",
    "\n",
    "from datetime import datetime\n",
    "ts = int('1352500150')\n",
    "\n",
    "print(datetime.utcfromtimestamp(ts).strftime('%Y-%m-%d %H:%M:%S'))\n",
    "\n",
    "from datetime import datetime\n",
    "ts = int('1352500156')\n",
    "\n",
    "print(datetime.utcfromtimestamp(ts).strftime('%Y-%m-%d %H:%M:%S'))"
   ]
  }
 ],
 "metadata": {
  "kernelspec": {
   "display_name": "Python 3 (ipykernel)",
   "language": "python",
   "name": "python3"
  },
  "language_info": {
   "codemirror_mode": {
    "name": "ipython",
    "version": 3
   },
   "file_extension": ".py",
   "mimetype": "text/x-python",
   "name": "python",
   "nbconvert_exporter": "python",
   "pygments_lexer": "ipython3",
   "version": "3.9.7"
  }
 },
 "nbformat": 4,
 "nbformat_minor": 5
}
