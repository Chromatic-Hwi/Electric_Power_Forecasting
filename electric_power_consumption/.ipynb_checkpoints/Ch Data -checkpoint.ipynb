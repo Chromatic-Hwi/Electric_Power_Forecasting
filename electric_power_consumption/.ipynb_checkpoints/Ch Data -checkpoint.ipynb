{
 "cells": [
  {
   "cell_type": "code",
   "execution_count": null,
   "id": "d22a0970",
   "metadata": {},
   "outputs": [],
   "source": [
    "import pandas as pd\n",
    "ch1 = pd.read_csv('./channel_1.dat', names=['Unix', 'Watt'],header=None, delimiter=\" \")\n",
    "print('Done!')"
   ]
  },
  {
   "cell_type": "code",
   "execution_count": null,
   "id": "d7d8f93b",
   "metadata": {
    "scrolled": true
   },
   "outputs": [],
   "source": [
    "ch1.info()"
   ]
  },
  {
   "cell_type": "code",
   "execution_count": null,
   "id": "ba63271c",
   "metadata": {},
   "outputs": [],
   "source": [
    "print(ch1[0:11])\n",
    "print('1번째')\n",
    "print(ch1[0:1])\n",
    "print()\n",
    "print('21837636번째')\n",
    "print(ch1[21837635:21837636])"
   ]
  },
  {
   "cell_type": "code",
   "execution_count": null,
   "id": "ca051fb6",
   "metadata": {},
   "outputs": [],
   "source": [
    "from datetime import datetime\n",
    "ch1_date = pd.DataFrame(ch1,columns = ['Unix', 'Date', 'Watt'])\n",
    "\n",
    "ch1_date['Date'] = pd.to_datetime(ch1['Unix'], unit='s')\n",
    "ch1_date.info()\n",
    "ch1_date.head(10)"
   ]
  },
  {
   "cell_type": "markdown",
   "id": "f7babe43",
   "metadata": {},
   "source": [
    "### 정상 구동 버전 반복을 위한 코드"
   ]
  },
  {
   "cell_type": "markdown",
   "id": "e05e5cd1",
   "metadata": {},
   "source": [
    "#### 정보확인을 위한 프린트문 다 지워볼것"
   ]
  },
  {
   "cell_type": "code",
   "execution_count": null,
   "id": "0cd1c57f",
   "metadata": {},
   "outputs": [],
   "source": [
    "import time\n",
    "import csv\n",
    "\n",
    "i = 431368\n",
    "\n",
    "while(i < 20284836):\n",
    "    list1 = ch1_date.loc[i].values.tolist()\n",
    "            \n",
    "    # Nested List 사용해서 시간 정보만 따로 추출\n",
    "    date = list1[1]\n",
    "    y1 = date.year\n",
    "    M1 = date.month\n",
    "    d1 = date.day\n",
    "    H1 = date.hour # 이 H가 있어야 밑에 있는 하루 단위 반복이 돌 변수가 됨.\n",
    "    \n",
    "    # 하루 단위 반복\n",
    "    while(H1 < 24):\n",
    "        watt_list=[]\n",
    "        \n",
    "        # h시와 h+1 시 사이 반복\n",
    "        while(h < h+1):\n",
    "            list2 = ch1_date.loc[i].values.tolist()\n",
    "            \n",
    "            date = list2[1]\n",
    "            watt = list2[2]\n",
    "            \n",
    "            y = date.year\n",
    "            M = date.month\n",
    "            d = date.day\n",
    "            h = date.hour\n",
    "            m = date.minute\n",
    "            s = date.second\n",
    "            \n",
    "            # 확인용 각 변수 출력\n",
    "            total_date = '{0}년 {1}월 {2}일 - {3}시 {4}분 {5}초'.format(y, M, d, h, m, s)\n",
    "            print(total_date)\n",
    "            print('d1 >>', d1, 'd >>', d)\n",
    "            print('칼럼 출력 >>', list2)\n",
    "\n",
    "            print()\n",
    "            \n",
    "            # '시'단위가 바뀌기 전에 값들만 저장 (ex. 1시일 경우 2시가 되기전 데이터들만 저장)\n",
    "            if(H1==h):\n",
    "                watt_list.append(watt) # 1시간 동안 6초 단위로 읽어오는 watt 값들 전부 추가\n",
    "                i = i+1\n",
    "                \n",
    "            elif (H1+1==h):\n",
    "                print('시 단위 변경! 루프 종료 및 맥스값 추출!')\n",
    "                print()\n",
    "                \n",
    "                print('========================================< 1시간치 끝!! >==================================================')\n",
    "                print()\n",
    "        \n",
    "                # 이 지점이 1시간 간격내에서 구해진 watt 값들 중 max를 뽑는 지점.\n",
    "                max_watt = max(watt_list)\n",
    "                print(h, '시까지의 최대값 >>', max_watt)\n",
    "                time.sleep(1)\n",
    "        \n",
    "                # 1시간 동안이니 해당 시각의 정보를 시 단위까지로 해서 새로 저장\n",
    "                hourly_date = '{0}년 {1}월 {2}일 - {3}시'.format(y, M, d, h)\n",
    "                hourly_list = []\n",
    "                hourly_list.append(hourly_date)\n",
    "                hourly_list.append(max_watt)\n",
    "\n",
    "                # 데이터 저장 \n",
    "                with open(\"./\"+str(y)+'_'+str(M)+'_'+\"House1_Ch1_Electric_Data.csv\", 'a', newline='') as file:\n",
    "                    writer = csv.writer(file)\n",
    "                    writer.writerow(hourly_list)       \n",
    "                print('csv 저장 완료!')\n",
    "        \n",
    "                H1 = H1+1 # 저장했으니 다음 시각으로 넘어가기 위한 +1\n",
    "                print('\\n'*4)\n",
    "    \n",
    "                break\n",
    "            \n",
    "            if(d1+1==d):\n",
    "                print('========================================< 1시간치 끝!! >==================================================')\n",
    "                print()\n",
    "                d=d-1\n",
    "                h=h+24\n",
    "        \n",
    "                # 이 지점이 1시간 간격내에서 구해진 watt 값들 중 max를 뽑는 지점.\n",
    "                max_watt = max(watt_list)\n",
    "                print(h, '시까지의 최대값 >>', max_watt)\n",
    "                time.sleep(1)\n",
    "        \n",
    "\n",
    "                # 1시간 동안이니 해당 시각의 정보를 시 단위까지로 해서 새로 저장\n",
    "                hourly_date = '{0}년 {1}월 {2}일 - {3}시'.format(y, M, d, h)\n",
    "                hourly_list = []\n",
    "                hourly_list.append(hourly_date)\n",
    "                hourly_list.append(max_watt)\n",
    "    \n",
    "                # 데이터 저장 \n",
    "                with open(\"./\"+str(y)+'_'+str(M)+'_'+\"House1_Ch1_Electric_Data.csv\", 'a', newline='') as file:\n",
    "                    writer = csv.writer(file)\n",
    "                    writer.writerow(hourly_list)       \n",
    "                print('csv 저장 완료!')\n",
    "        \n",
    "                H1 = H1+1 # 저장했으니 다음 시각으로 넘어가기 위한 +1\n",
    "                print('\\n'*4)\n",
    "                print('========================================< 하루 끝!! >==================================================')\n",
    "                print('\\n'*4)\n",
    "                break\n",
    "    \n",
    "        break\n",
    "            \n",
    "    # 하루단위 while 여기서 브레이크를 걸고 다음날로 넘어가도록 해야함.\n",
    "    \n",
    "# 전체 While문 종료 지점"
   ]
  },
  {
   "cell_type": "code",
   "execution_count": null,
   "id": "f3ccbdc2",
   "metadata": {},
   "outputs": [],
   "source": []
  }
 ],
 "metadata": {
  "kernelspec": {
   "display_name": "Python 3 (ipykernel)",
   "language": "python",
   "name": "python3"
  },
  "language_info": {
   "codemirror_mode": {
    "name": "ipython",
    "version": 3
   },
   "file_extension": ".py",
   "mimetype": "text/x-python",
   "name": "python",
   "nbconvert_exporter": "python",
   "pygments_lexer": "ipython3",
   "version": "3.9.7"
  }
 },
 "nbformat": 4,
 "nbformat_minor": 5
}
