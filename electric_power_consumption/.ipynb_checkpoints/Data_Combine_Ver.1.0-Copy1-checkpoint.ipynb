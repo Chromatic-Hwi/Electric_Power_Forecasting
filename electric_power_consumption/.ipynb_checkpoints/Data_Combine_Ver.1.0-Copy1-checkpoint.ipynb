{
 "cells": [
  {
   "cell_type": "code",
   "execution_count": 46,
   "id": "deff50b1",
   "metadata": {},
   "outputs": [
    {
     "data": {
      "text/html": [
       "<style>.container { width:80% !important; }</style>"
      ],
      "text/plain": [
       "<IPython.core.display.HTML object>"
      ]
     },
     "metadata": {},
     "output_type": "display_data"
    }
   ],
   "source": [
    "# 화면 가로 확장 코드 (기본 width 50%)\n",
    "from IPython.core.display import display, HTML\n",
    "display(HTML(\"<style>.container { width:80% !important; }</style>\"))"
   ]
  },
  {
   "cell_type": "code",
   "execution_count": 41,
   "id": "168f8dd4",
   "metadata": {},
   "outputs": [],
   "source": [
    "import os\n",
    "try:\n",
    "    os.mkdir('./Combined_Data')\n",
    "    for y in range(2013, 2017):\n",
    "        os.mkdir('./Combined_Data/'+str(y))\n",
    "except FileExistsError:\n",
    "    print('해당 폴더가 이미 존재합니다.\\n폴더를 확인해주세요.')"
   ]
  },
  {
   "cell_type": "code",
   "execution_count": 45,
   "id": "42fa654f",
   "metadata": {},
   "outputs": [
    {
     "name": "stdout",
     "output_type": "stream",
     "text": [
      "Start Working!!\n",
      "\n",
      "\n",
      "------------------------------< Job Done!! >------------------------------\n",
      "\n"
     ]
    }
   ],
   "source": [
    "import pandas as pd\n",
    "import csv\n",
    "print('------------------------------< Start Working!! >------------------------------\\n')\n",
    "\n",
    "month = {1:31, 2:28, 3:31, 4:30, 5:31, 6:30, 7:31, 8:31, 9:30, 10:31, 11:30, 12:31}\n",
    "\n",
    "for y in range(2013, 2017):\n",
    "    \n",
    "    for m in range(1,13):\n",
    "        csv_electric = pd.read_csv(\"./Electric_Data/Electirc_Data_CSV_FInal/\"+str(y)+\"/\"+str(y)+'_'+str(m)+'_'+\"House1_Ch1_Electric_Data_Final.csv\", encoding='cp949')\n",
    "        csv_weather = pd.read_csv(\"./Weather_Data/Weather_Data_24H_CSV/\"+str(y)+\"/\"+str(y)+'_'+str(m)+'_'+\"London_Temperature_24H.csv\", encoding='utf-8')\n",
    "        csv_electric[\"Temp\"]=csv_weather['Temp']\n",
    "        s = 0\n",
    "        for d in range(month[m]):\n",
    "            d=d+1 \n",
    "            \n",
    "            for n in range(s, s+24):\n",
    "                combine_list=[]\n",
    "                combine_list.append(csv_electric['DateTime'][n])\n",
    "                combine_list.append(csv_electric['Day'][n])\n",
    "                combine_list.append(csv_electric['Holiday'][n])\n",
    "                combine_list.append(csv_electric['Seq'][n])\n",
    "                combine_list.append(csv_electric['Watt'][n])\n",
    "                combine_list.append(csv_electric['Temp'][n])\n",
    "                with open(\"./Combined_Data/\"+str(y)+\"/\"+str(y)+'_'+str(m)+'_'+\"House1_Ch1_Combined_Data.csv\", 'a', newline='') as file:\n",
    "                                writer = csv.writer(file)\n",
    "                                writer.writerow(combine_list)\n",
    "            s=s+24\n",
    "            \n",
    "        csv_origin = pd.read_csv(\"./Combined_Data/\"+str(y)+\"/\"+str(y)+'_'+str(m)+'_'+\"House1_Ch1_Combined_Data.csv\", names = ['DateTime', 'Day', 'Holiday', 'Seq', 'Watt', 'Temp'], header = None, encoding='cp949')\n",
    "        csv_origin.to_csv(\"./Combined_Data/\"+str(y)+\"/\"+str(y)+'_'+str(m)+'_'+\"House1_Ch1_Combined_Data.csv\", encoding='cp949')\n",
    "        \n",
    "print('\\n------------------------------< Job Done!! >------------------------------\\n')"
   ]
  }
 ],
 "metadata": {
  "kernelspec": {
   "display_name": "Python 3 (ipykernel)",
   "language": "python",
   "name": "python3"
  },
  "language_info": {
   "codemirror_mode": {
    "name": "ipython",
    "version": 3
   },
   "file_extension": ".py",
   "mimetype": "text/x-python",
   "name": "python",
   "nbconvert_exporter": "python",
   "pygments_lexer": "ipython3",
   "version": "3.9.7"
  }
 },
 "nbformat": 4,
 "nbformat_minor": 5
}
