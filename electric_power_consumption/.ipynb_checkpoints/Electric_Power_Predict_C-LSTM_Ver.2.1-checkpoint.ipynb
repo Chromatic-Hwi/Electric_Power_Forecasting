{
 "cells": [
  {
   "cell_type": "markdown",
   "id": "49534bc4",
   "metadata": {},
   "source": [
    "# CNN+LSTM 전력 수요 예측 "
   ]
  },
  {
   "cell_type": "markdown",
   "id": "ea4a87c8",
   "metadata": {},
   "source": [
    "### <목차>"
   ]
  },
  {
   "cell_type": "code",
   "execution_count": null,
   "id": "218a078a",
   "metadata": {},
   "outputs": [],
   "source": []
  },
  {
   "cell_type": "markdown",
   "id": "79f886a9",
   "metadata": {},
   "source": [
    "### <화면 가로 확장>"
   ]
  },
  {
   "cell_type": "code",
   "execution_count": 1,
   "id": "01779336",
   "metadata": {},
   "outputs": [
    {
     "data": {
      "text/html": [
       "<style>.container { width:80% !important; }</style>"
      ],
      "text/plain": [
       "<IPython.core.display.HTML object>"
      ]
     },
     "metadata": {},
     "output_type": "display_data"
    }
   ],
   "source": [
    "# 화면 가로 확장 코드 (기본 width 50%)\n",
    "from IPython.core.display import display, HTML\n",
    "display(HTML(\"<style>.container { width:80% !important; }</style>\"))"
   ]
  },
  {
   "cell_type": "markdown",
   "id": "5914b761",
   "metadata": {},
   "source": [
    "### 1. 모듈 임포트"
   ]
  },
  {
   "cell_type": "code",
   "execution_count": 2,
   "id": "4fef1b48",
   "metadata": {},
   "outputs": [],
   "source": [
    "import numpy as np \n",
    "import pandas as pd \n",
    "import matplotlib.pyplot as plt\n",
    "from mpl_toolkits.mplot3d import Axes3D\n",
    "import seaborn as sns\n",
    "import tensorflow as tf\n",
    "import csv\n",
    "import os\n",
    "import datetime\n",
    "import time\n",
    "import scipy.stats as stats\n",
    "from sklearn.preprocessing import MinMaxScaler, RobustScaler\n",
    "from sklearn.model_selection import train_test_split\n",
    "\n",
    "from tensorflow.keras.models import Sequential\n",
    "from tensorflow.keras.layers import Dense, Dropout, Flatten, Conv1D, LSTM, Bidirectional\n",
    "from tensorflow.keras.callbacks import EarlyStopping, ModelCheckpoint\n",
    "from keras.layers.wrappers import TimeDistributed\n",
    "import keras"
   ]
  },
  {
   "cell_type": "markdown",
   "id": "f7f69a8e",
   "metadata": {},
   "source": [
    "### <GPU 확인>"
   ]
  },
  {
   "cell_type": "code",
   "execution_count": 3,
   "id": "b6295985",
   "metadata": {},
   "outputs": [
    {
     "data": {
      "text/plain": [
       "'/device:GPU:0'"
      ]
     },
     "execution_count": 3,
     "metadata": {},
     "output_type": "execute_result"
    }
   ],
   "source": [
    "tf.test.gpu_device_name()"
   ]
  },
  {
   "cell_type": "markdown",
   "id": "f9fc937e",
   "metadata": {},
   "source": [
    "### 데이터 로드"
   ]
  },
  {
   "cell_type": "code",
   "execution_count": 4,
   "id": "58c704f7",
   "metadata": {},
   "outputs": [
    {
     "name": "stdout",
     "output_type": "stream",
     "text": [
      "<class 'pandas.core.frame.DataFrame'>\n",
      "RangeIndex: 35040 entries, 0 to 35039\n",
      "Data columns (total 10 columns):\n",
      " #   Column       Non-Null Count  Dtype  \n",
      "---  ------       --------------  -----  \n",
      " 0   Unnamed: 0   35040 non-null  int64  \n",
      " 1   DateTime     35040 non-null  int64  \n",
      " 2   Graph_Date   35040 non-null  object \n",
      " 3   Day          35040 non-null  object \n",
      " 4   Holiday      35040 non-null  int64  \n",
      " 5   Seq          35040 non-null  int64  \n",
      " 6   Watt         35040 non-null  int64  \n",
      " 7   Temp('C)     35040 non-null  float64\n",
      " 8   Humidity(%)  35040 non-null  float64\n",
      " 9   CPI          35040 non-null  float64\n",
      "dtypes: float64(3), int64(5), object(2)\n",
      "memory usage: 2.7+ MB\n"
     ]
    }
   ],
   "source": [
    "Data_4Y = pd.read_csv('./Combined_Data/House1_Ch1_Combined_Data_13-16.csv', encoding='cp949')\n",
    "#Data_4Y.insert(3,'Unix_Time','')\n",
    "\n",
    "for i in range(len(Data_4Y)):\n",
    "    Y=int(Data_4Y['Graph_Date'][i][:4])\n",
    "    M=int(Data_4Y['Graph_Date'][i][5:7])\n",
    "    D=int(Data_4Y['Graph_Date'][i][8:10])\n",
    "    date = datetime.datetime(Y, M, D)\n",
    "    #unix=int(time.mktime(date.timetuple())/1000) # 시,분,초 정보는 0으로 일괄처리 되기 때문에 1000으로 나눠서 뒤 3자리수는 제거\n",
    "    #Data_4Y['Unix_Time'][i]=unix\n",
    "Data_4Y.info()"
   ]
  },
  {
   "cell_type": "code",
   "execution_count": 5,
   "id": "3d332de4",
   "metadata": {},
   "outputs": [
    {
     "data": {
      "text/html": [
       "<div>\n",
       "<style scoped>\n",
       "    .dataframe tbody tr th:only-of-type {\n",
       "        vertical-align: middle;\n",
       "    }\n",
       "\n",
       "    .dataframe tbody tr th {\n",
       "        vertical-align: top;\n",
       "    }\n",
       "\n",
       "    .dataframe thead th {\n",
       "        text-align: right;\n",
       "    }\n",
       "</style>\n",
       "<table border=\"1\" class=\"dataframe\">\n",
       "  <thead>\n",
       "    <tr style=\"text-align: right;\">\n",
       "      <th></th>\n",
       "      <th>Unnamed: 0</th>\n",
       "      <th>DateTime</th>\n",
       "      <th>Graph_Date</th>\n",
       "      <th>Day</th>\n",
       "      <th>Holiday</th>\n",
       "      <th>Seq</th>\n",
       "      <th>Watt</th>\n",
       "      <th>Temp('C)</th>\n",
       "      <th>Humidity(%)</th>\n",
       "      <th>CPI</th>\n",
       "    </tr>\n",
       "  </thead>\n",
       "  <tbody>\n",
       "    <tr>\n",
       "      <th>0</th>\n",
       "      <td>0</td>\n",
       "      <td>20130101</td>\n",
       "      <td>2013-01-01</td>\n",
       "      <td>화</td>\n",
       "      <td>1</td>\n",
       "      <td>0</td>\n",
       "      <td>2495</td>\n",
       "      <td>10.0</td>\n",
       "      <td>84.5</td>\n",
       "      <td>2.7</td>\n",
       "    </tr>\n",
       "    <tr>\n",
       "      <th>1</th>\n",
       "      <td>1</td>\n",
       "      <td>20130101</td>\n",
       "      <td>2013-01-01</td>\n",
       "      <td>화</td>\n",
       "      <td>1</td>\n",
       "      <td>1</td>\n",
       "      <td>2482</td>\n",
       "      <td>9.0</td>\n",
       "      <td>87.0</td>\n",
       "      <td>2.7</td>\n",
       "    </tr>\n",
       "    <tr>\n",
       "      <th>2</th>\n",
       "      <td>2</td>\n",
       "      <td>20130101</td>\n",
       "      <td>2013-01-01</td>\n",
       "      <td>화</td>\n",
       "      <td>1</td>\n",
       "      <td>2</td>\n",
       "      <td>2441</td>\n",
       "      <td>8.5</td>\n",
       "      <td>87.0</td>\n",
       "      <td>2.7</td>\n",
       "    </tr>\n",
       "    <tr>\n",
       "      <th>3</th>\n",
       "      <td>3</td>\n",
       "      <td>20130101</td>\n",
       "      <td>2013-01-01</td>\n",
       "      <td>화</td>\n",
       "      <td>1</td>\n",
       "      <td>3</td>\n",
       "      <td>265</td>\n",
       "      <td>8.0</td>\n",
       "      <td>81.0</td>\n",
       "      <td>2.7</td>\n",
       "    </tr>\n",
       "    <tr>\n",
       "      <th>4</th>\n",
       "      <td>4</td>\n",
       "      <td>20130101</td>\n",
       "      <td>2013-01-01</td>\n",
       "      <td>화</td>\n",
       "      <td>1</td>\n",
       "      <td>4</td>\n",
       "      <td>260</td>\n",
       "      <td>8.0</td>\n",
       "      <td>78.5</td>\n",
       "      <td>2.7</td>\n",
       "    </tr>\n",
       "    <tr>\n",
       "      <th>...</th>\n",
       "      <td>...</td>\n",
       "      <td>...</td>\n",
       "      <td>...</td>\n",
       "      <td>...</td>\n",
       "      <td>...</td>\n",
       "      <td>...</td>\n",
       "      <td>...</td>\n",
       "      <td>...</td>\n",
       "      <td>...</td>\n",
       "      <td>...</td>\n",
       "    </tr>\n",
       "    <tr>\n",
       "      <th>35035</th>\n",
       "      <td>35035</td>\n",
       "      <td>20161231</td>\n",
       "      <td>2016-12-31</td>\n",
       "      <td>토</td>\n",
       "      <td>1</td>\n",
       "      <td>19</td>\n",
       "      <td>380</td>\n",
       "      <td>9.0</td>\n",
       "      <td>84.5</td>\n",
       "      <td>1.6</td>\n",
       "    </tr>\n",
       "    <tr>\n",
       "      <th>35036</th>\n",
       "      <td>35036</td>\n",
       "      <td>20161231</td>\n",
       "      <td>2016-12-31</td>\n",
       "      <td>토</td>\n",
       "      <td>1</td>\n",
       "      <td>20</td>\n",
       "      <td>1743</td>\n",
       "      <td>9.0</td>\n",
       "      <td>82.0</td>\n",
       "      <td>1.6</td>\n",
       "    </tr>\n",
       "    <tr>\n",
       "      <th>35037</th>\n",
       "      <td>35037</td>\n",
       "      <td>20161231</td>\n",
       "      <td>2016-12-31</td>\n",
       "      <td>토</td>\n",
       "      <td>1</td>\n",
       "      <td>21</td>\n",
       "      <td>941</td>\n",
       "      <td>8.0</td>\n",
       "      <td>87.0</td>\n",
       "      <td>1.6</td>\n",
       "    </tr>\n",
       "    <tr>\n",
       "      <th>35038</th>\n",
       "      <td>35038</td>\n",
       "      <td>20161231</td>\n",
       "      <td>2016-12-31</td>\n",
       "      <td>토</td>\n",
       "      <td>1</td>\n",
       "      <td>22</td>\n",
       "      <td>597</td>\n",
       "      <td>8.0</td>\n",
       "      <td>87.0</td>\n",
       "      <td>1.6</td>\n",
       "    </tr>\n",
       "    <tr>\n",
       "      <th>35039</th>\n",
       "      <td>35039</td>\n",
       "      <td>20161231</td>\n",
       "      <td>2016-12-31</td>\n",
       "      <td>토</td>\n",
       "      <td>1</td>\n",
       "      <td>23</td>\n",
       "      <td>2147</td>\n",
       "      <td>8.0</td>\n",
       "      <td>90.0</td>\n",
       "      <td>1.6</td>\n",
       "    </tr>\n",
       "  </tbody>\n",
       "</table>\n",
       "<p>35040 rows × 10 columns</p>\n",
       "</div>"
      ],
      "text/plain": [
       "       Unnamed: 0  DateTime  Graph_Date Day  Holiday  Seq  Watt  Temp('C)  \\\n",
       "0               0  20130101  2013-01-01   화        1    0  2495      10.0   \n",
       "1               1  20130101  2013-01-01   화        1    1  2482       9.0   \n",
       "2               2  20130101  2013-01-01   화        1    2  2441       8.5   \n",
       "3               3  20130101  2013-01-01   화        1    3   265       8.0   \n",
       "4               4  20130101  2013-01-01   화        1    4   260       8.0   \n",
       "...           ...       ...         ...  ..      ...  ...   ...       ...   \n",
       "35035       35035  20161231  2016-12-31   토        1   19   380       9.0   \n",
       "35036       35036  20161231  2016-12-31   토        1   20  1743       9.0   \n",
       "35037       35037  20161231  2016-12-31   토        1   21   941       8.0   \n",
       "35038       35038  20161231  2016-12-31   토        1   22   597       8.0   \n",
       "35039       35039  20161231  2016-12-31   토        1   23  2147       8.0   \n",
       "\n",
       "       Humidity(%)  CPI  \n",
       "0             84.5  2.7  \n",
       "1             87.0  2.7  \n",
       "2             87.0  2.7  \n",
       "3             81.0  2.7  \n",
       "4             78.5  2.7  \n",
       "...            ...  ...  \n",
       "35035         84.5  1.6  \n",
       "35036         82.0  1.6  \n",
       "35037         87.0  1.6  \n",
       "35038         87.0  1.6  \n",
       "35039         90.0  1.6  \n",
       "\n",
       "[35040 rows x 10 columns]"
      ]
     },
     "execution_count": 5,
     "metadata": {},
     "output_type": "execute_result"
    }
   ],
   "source": [
    "Data_4Y"
   ]
  },
  {
   "cell_type": "markdown",
   "id": "1546eb9e",
   "metadata": {},
   "source": [
    "### 이상치 처리"
   ]
  },
  {
   "cell_type": "code",
   "execution_count": 6,
   "id": "9b7ce9b1",
   "metadata": {},
   "outputs": [],
   "source": [
    "def get_outlier(df=None, column=None, weight=None):\n",
    "    quantile_25 = np.percentile(df[column].values, 25)\n",
    "    quantile_50 = np.percentile(df[column].values, 50)\n",
    "    quantile_75 = np.percentile(df[column].values, 75)\n",
    "    \n",
    "    IQR = quantile_75 - quantile_25\n",
    "    IQR_weight = IQR * weight\n",
    "\n",
    "    lowest_val = quantile_25-IQR_weight\n",
    "    highest_val = quantile_75+IQR_weight\n",
    "    \n",
    "    outlier_index_low = df[column][df[column] < lowest_val].index\n",
    "    outlier_index_high = df[column][df[column] > highest_val].index\n",
    "    \n",
    "    return outlier_index_low, outlier_index_high, quantile_25, quantile_50, quantile_75, lowest_val, highest_val"
   ]
  },
  {
   "cell_type": "code",
   "execution_count": 7,
   "id": "650fa74f",
   "metadata": {},
   "outputs": [
    {
     "name": "stdout",
     "output_type": "stream",
     "text": [
      "Low Outlier ==>> Int64Index([], dtype='int64')\n",
      "\n",
      "High Outlier ==>> Int64Index([12007, 35025], dtype='int64')\n",
      "\n",
      "25% Value ==>> 292.0\n",
      "\n",
      "50% Value ==>> 506.0\n",
      "\n",
      "75% Value ==>> 2308.0\n",
      "\n",
      "Lowest Line ==>> -5756.0\n",
      "\n",
      "Highest Line ==>> 8356.0\n",
      "\n"
     ]
    }
   ],
   "source": [
    "WEIGHT=3\n",
    "Low_list=get_outlier(df=Data_4Y, column='Watt', weight=WEIGHT)[0]\n",
    "High_list=get_outlier(df=Data_4Y, column='Watt', weight=WEIGHT)[1]\n",
    "print('Low Outlier ==>> {}\\n'.format(Low_list))\n",
    "print('High Outlier ==>> {}\\n'.format(High_list))\n",
    "\n",
    "print('25% Value ==>> {}\\n'.format(get_outlier(df=Data_4Y, column='Watt', weight=WEIGHT)[2]))\n",
    "print('50% Value ==>> {}\\n'.format(get_outlier(df=Data_4Y, column='Watt', weight=WEIGHT)[3]))\n",
    "print('75% Value ==>> {}\\n'.format(get_outlier(df=Data_4Y, column='Watt', weight=WEIGHT)[4]))\n",
    "\n",
    "print('Lowest Line ==>> {}\\n'.format(get_outlier(df=Data_4Y, column='Watt', weight=WEIGHT)[5]))\n",
    "print('Highest Line ==>> {}\\n'.format(get_outlier(df=Data_4Y, column='Watt', weight=WEIGHT)[6]))"
   ]
  },
  {
   "cell_type": "code",
   "execution_count": 8,
   "id": "ff440f66",
   "metadata": {},
   "outputs": [
    {
     "name": "stderr",
     "output_type": "stream",
     "text": [
      "C:\\Users\\ADMINI~1\\AppData\\Local\\Temp/ipykernel_19524/4129400264.py:5: SettingWithCopyWarning: \n",
      "A value is trying to be set on a copy of a slice from a DataFrame\n",
      "\n",
      "See the caveats in the documentation: https://pandas.pydata.org/pandas-docs/stable/user_guide/indexing.html#returning-a-view-versus-a-copy\n",
      "  Data_4Y['Watt'][High_list[i]] = get_outlier(df=Data_4Y, column='Watt', weight=WEIGHT)[6]\n"
     ]
    }
   ],
   "source": [
    "for i in range(len(Low_list)):\n",
    "    Data_4Y['Watt'][Low_list[i]] = get_outlier(df=Data_4Y, column='Watt', weight=WEIGHT)[5]\n",
    "    \n",
    "for i in range(len(High_list)):\n",
    "    Data_4Y['Watt'][High_list[i]] = get_outlier(df=Data_4Y, column='Watt', weight=WEIGHT)[6]"
   ]
  },
  {
   "cell_type": "code",
   "execution_count": 9,
   "id": "df0ebba4",
   "metadata": {},
   "outputs": [
    {
     "name": "stdout",
     "output_type": "stream",
     "text": [
      "Quantity of Low Outlier ==>> 0\n",
      "\n",
      "Quantity of High Outlier ==>> 0\n",
      "\n"
     ]
    }
   ],
   "source": [
    "print('Quantity of Low Outlier ==>> {}\\n'.format(len(get_outlier(df=Data_4Y, column='Watt', weight=WEIGHT)[0])))\n",
    "print('Quantity of High Outlier ==>> {}\\n'.format(len(get_outlier(df=Data_4Y, column='Watt', weight=WEIGHT)[1])))"
   ]
  },
  {
   "cell_type": "markdown",
   "id": "621c6be7",
   "metadata": {},
   "source": [
    "### 연관성 검사 분석"
   ]
  },
  {
   "cell_type": "code",
   "execution_count": 30,
   "id": "bc6761e7",
   "metadata": {},
   "outputs": [
    {
     "name": "stdout",
     "output_type": "stream",
     "text": [
      "< Holiday - Watt >\n",
      "P-value >> 0.000\n",
      "Total P-value >> 0.0000000000054355459445414394615278649798\n",
      "\n",
      "< Temp - Humidity >\n",
      "P-value >> 0.000\n",
      "Total P-value >> 0.0000000000000000000000000000000000000000\n",
      "\n",
      "< Temp - Watt >\n",
      "P-value >> 0.170\n",
      "Total P-value >> 0.1699681549154083703978557196023757569492\n",
      "\n",
      "< Humidity - Watt >\n",
      "P-value >> 0.000\n",
      "Total P-value >> 0.0000000000000000000000000000000000000013\n",
      "\n",
      "< CPI - Watt >\n",
      "P-value >> 0.000\n",
      "Total P-value >> 0.0000000285045423061781565664257195131734\n",
      "\n"
     ]
    }
   ],
   "source": [
    "# 피어슨 stat을 이용하면 피어슨 상관계수와 p-value값이 출력되는데 상관계수는 양 or 음의 비례관계 정도를, p-value는 상관 정도를 보여준다. (0에 가까울수록 영향이 크다.)\n",
    "\n",
    "Correlation=stats.pearsonr(Data_4Y['Holiday'], Data_4Y['Watt'])\n",
    "print('< Holiday - Watt >')\n",
    "print('P-value >> %.3f' %Correlation[1])\n",
    "print('Total P-value >> %.40f\\n' %Correlation[1])\n",
    "\n",
    "Correlation=stats.pearsonr(Data_4Y[\"Temp('C)\"], Data_4Y['Humidity(%)'])\n",
    "print('< Temp - Humidity >')\n",
    "print('P-value >> %.3f' %Correlation[1])\n",
    "print('Total P-value >> %.40f\\n' %Correlation[1])\n",
    "\n",
    "Correlation=stats.pearsonr(Data_4Y[\"Temp('C)\"], Data_4Y['Watt'])\n",
    "print('< Temp - Watt >')\n",
    "print('P-value >> %.3f' %Correlation[1])\n",
    "print('Total P-value >> %.40f\\n' %Correlation[1])\n",
    "\n",
    "Correlation=stats.pearsonr(Data_4Y['Humidity(%)'], Data_4Y['Watt'])\n",
    "print('< Humidity - Watt >')\n",
    "print('P-value >> %.3f' %Correlation[1])\n",
    "print('Total P-value >> %.40f\\n' %Correlation[1])\n",
    "\n",
    "Correlation=stats.pearsonr(Data_4Y['CPI'], Data_4Y['Watt'])\n",
    "print('< CPI - Watt >')\n",
    "print('P-value >> %.3f' %Correlation[1])\n",
    "print('Total P-value >> %.40f\\n' %Correlation[1])"
   ]
  },
  {
   "cell_type": "markdown",
   "id": "3fb042ae",
   "metadata": {},
   "source": [
    "### 4. 데이터 정규화"
   ]
  },
  {
   "cell_type": "markdown",
   "id": "60c87e2c",
   "metadata": {},
   "source": [
    "#### Min-Max Scaling 이용, 4년치 학습 데이터 정규화"
   ]
  },
  {
   "cell_type": "code",
   "execution_count": 31,
   "id": "b72ea907",
   "metadata": {},
   "outputs": [
    {
     "data": {
      "text/html": [
       "<div>\n",
       "<style scoped>\n",
       "    .dataframe tbody tr th:only-of-type {\n",
       "        vertical-align: middle;\n",
       "    }\n",
       "\n",
       "    .dataframe tbody tr th {\n",
       "        vertical-align: top;\n",
       "    }\n",
       "\n",
       "    .dataframe thead th {\n",
       "        text-align: right;\n",
       "    }\n",
       "</style>\n",
       "<table border=\"1\" class=\"dataframe\">\n",
       "  <thead>\n",
       "    <tr style=\"text-align: right;\">\n",
       "      <th></th>\n",
       "      <th>Temp('C)</th>\n",
       "      <th>Humidity(%)</th>\n",
       "      <th>Holiday</th>\n",
       "      <th>Watt</th>\n",
       "    </tr>\n",
       "  </thead>\n",
       "  <tbody>\n",
       "    <tr>\n",
       "      <th>0</th>\n",
       "      <td>0.360000</td>\n",
       "      <td>0.812121</td>\n",
       "      <td>1.0</td>\n",
       "      <td>0.284284</td>\n",
       "    </tr>\n",
       "    <tr>\n",
       "      <th>1</th>\n",
       "      <td>0.333333</td>\n",
       "      <td>0.842424</td>\n",
       "      <td>1.0</td>\n",
       "      <td>0.282696</td>\n",
       "    </tr>\n",
       "    <tr>\n",
       "      <th>2</th>\n",
       "      <td>0.320000</td>\n",
       "      <td>0.842424</td>\n",
       "      <td>1.0</td>\n",
       "      <td>0.277690</td>\n",
       "    </tr>\n",
       "    <tr>\n",
       "      <th>3</th>\n",
       "      <td>0.306667</td>\n",
       "      <td>0.769697</td>\n",
       "      <td>1.0</td>\n",
       "      <td>0.011967</td>\n",
       "    </tr>\n",
       "    <tr>\n",
       "      <th>4</th>\n",
       "      <td>0.306667</td>\n",
       "      <td>0.739394</td>\n",
       "      <td>1.0</td>\n",
       "      <td>0.011357</td>\n",
       "    </tr>\n",
       "    <tr>\n",
       "      <th>...</th>\n",
       "      <td>...</td>\n",
       "      <td>...</td>\n",
       "      <td>...</td>\n",
       "      <td>...</td>\n",
       "    </tr>\n",
       "    <tr>\n",
       "      <th>35035</th>\n",
       "      <td>0.333333</td>\n",
       "      <td>0.812121</td>\n",
       "      <td>1.0</td>\n",
       "      <td>0.026011</td>\n",
       "    </tr>\n",
       "    <tr>\n",
       "      <th>35036</th>\n",
       "      <td>0.333333</td>\n",
       "      <td>0.781818</td>\n",
       "      <td>1.0</td>\n",
       "      <td>0.192453</td>\n",
       "    </tr>\n",
       "    <tr>\n",
       "      <th>35037</th>\n",
       "      <td>0.306667</td>\n",
       "      <td>0.842424</td>\n",
       "      <td>1.0</td>\n",
       "      <td>0.094517</td>\n",
       "    </tr>\n",
       "    <tr>\n",
       "      <th>35038</th>\n",
       "      <td>0.306667</td>\n",
       "      <td>0.842424</td>\n",
       "      <td>1.0</td>\n",
       "      <td>0.052509</td>\n",
       "    </tr>\n",
       "    <tr>\n",
       "      <th>35039</th>\n",
       "      <td>0.306667</td>\n",
       "      <td>0.878788</td>\n",
       "      <td>1.0</td>\n",
       "      <td>0.241788</td>\n",
       "    </tr>\n",
       "  </tbody>\n",
       "</table>\n",
       "<p>35040 rows × 4 columns</p>\n",
       "</div>"
      ],
      "text/plain": [
       "       Temp('C)  Humidity(%)  Holiday      Watt\n",
       "0      0.360000     0.812121      1.0  0.284284\n",
       "1      0.333333     0.842424      1.0  0.282696\n",
       "2      0.320000     0.842424      1.0  0.277690\n",
       "3      0.306667     0.769697      1.0  0.011967\n",
       "4      0.306667     0.739394      1.0  0.011357\n",
       "...         ...          ...      ...       ...\n",
       "35035  0.333333     0.812121      1.0  0.026011\n",
       "35036  0.333333     0.781818      1.0  0.192453\n",
       "35037  0.306667     0.842424      1.0  0.094517\n",
       "35038  0.306667     0.842424      1.0  0.052509\n",
       "35039  0.306667     0.878788      1.0  0.241788\n",
       "\n",
       "[35040 rows x 4 columns]"
      ]
     },
     "execution_count": 31,
     "metadata": {},
     "output_type": "execute_result"
    }
   ],
   "source": [
    "# 정규화 과정을 거쳐 데이터 범위를 원하는 범위로 제한. 그래프는 동일하나 손실 정도를 확인하기에 더 좋음.\n",
    "# 배치 정규화는 기울기 소멸 문제를 해결하기는 좋으나, RNN의 경우 계층별로 미니 정규화 적용이 필요해 모델이 복잡해지고 효율이 저하됨.\n",
    "Data_4Y.sort_index(ascending=False).reset_index(drop=True)\n",
    "\n",
    "scaler = MinMaxScaler()\n",
    "#scaler = RobustScaler()\n",
    "scale_cols = ['Holiday', 'Watt', \"Temp('C)\", 'Humidity(%)']\n",
    "Data_4Y_scaled = scaler.fit_transform(Data_4Y[scale_cols])\n",
    "Data_4Y_scaled = pd.DataFrame(Data_4Y_scaled)\n",
    "Data_4Y_scaled.columns = scale_cols\n",
    "\n",
    "#Data_4Y_scaled.insert(0, 'DateTime', Data_4Y['DateTime'])\n",
    "#Data_4Y_scaled.insert(1, 'Graph_Date', Data_4Y['Graph_Date'])\n",
    "Data_4Y_scaled=Data_4Y_scaled[[\"Temp('C)\", \"Humidity(%)\", \"Holiday\", \"Watt\"]]\n",
    "Data_4Y_scaled"
   ]
  },
  {
   "cell_type": "markdown",
   "id": "8395aaba",
   "metadata": {},
   "source": [
    "### 7. 데이터셋 편집"
   ]
  },
  {
   "cell_type": "code",
   "execution_count": 32,
   "id": "ee1957fe",
   "metadata": {},
   "outputs": [],
   "source": [
    "TEST_SIZE = 8760 #1년치를 테스트셋으로 사용\n",
    "WINDOW_SIZE = 1 #얼마 동안의 과거 기반의 데이터에 기반하여 다음날의 값을 예측할 것인지 설정. \n",
    "BATCH_SIZE = 128 #128\n",
    "VAL_DAYS = 8760"
   ]
  },
  {
   "cell_type": "code",
   "execution_count": 33,
   "id": "40fe2582",
   "metadata": {},
   "outputs": [],
   "source": [
    "# train과 test셋 분할\n",
    "learning = Data_4Y_scaled[:-TEST_SIZE] # 학습에 쓰이는 전체 데이터\n",
    "VAL_RATIO=VAL_DAYS/len(learning)\n",
    "VAL_SIZE = int(len(learning)*VAL_RATIO)\n",
    "train = learning[:-VAL_SIZE]\n",
    "val = learning[-VAL_SIZE:]\n",
    "test= Data_4Y_scaled[-TEST_SIZE:]"
   ]
  },
  {
   "cell_type": "code",
   "execution_count": 14,
   "id": "68b2123f",
   "metadata": {},
   "outputs": [],
   "source": [
    "\"\"\"\n",
    "feature_cols = ['Holiday', \"Temp('C)\", 'Humidity(%)']\n",
    "label_cols = ['Watt']\n",
    "\n",
    "train_feature = learning[feature_cols]\n",
    "train_label = learning[label_cols]\n",
    "\n",
    "x_train, x_valid, y_train, y_valid = train_test_split(train_feature, train_label, test_size=VAL_RATIO, shuffle=False, random_state=0)\n",
    "\"\"\""
   ]
  },
  {
   "cell_type": "code",
   "execution_count": 15,
   "id": "ed9c492e",
   "metadata": {},
   "outputs": [
    {
     "name": "stdout",
     "output_type": "stream",
     "text": [
      "Train set Shape>> (17520, 3) (17520, 1)\n",
      "Valid set Shape>> (8760, 3) (8760, 1)\n"
     ]
    }
   ],
   "source": [
    "#print(\"Train set Shape>>\", x_train.shape, y_train.shape)\n",
    "#print(\"Valid set Shape>>\", x_valid.shape, y_valid.shape)"
   ]
  },
  {
   "cell_type": "code",
   "execution_count": 35,
   "id": "37e55cc9",
   "metadata": {},
   "outputs": [],
   "source": [
    "x_test = test[feature_cols]\n",
    "y_test = test[label_cols]"
   ]
  },
  {
   "cell_type": "code",
   "execution_count": 36,
   "id": "1f0a8e8b",
   "metadata": {},
   "outputs": [],
   "source": [
    "def make_set(x, y, size):\n",
    "    x=x.values.tolist()\n",
    "    y=y.values.tolist()\n",
    "    x=np.array(x)\n",
    "    y=np.array(y)\n",
    "    x=x.reshape(x.shape[0], size, x.shape[1])\n",
    "    y=y.reshape(x.shape[0], size, y.shape[1])\n",
    "    return x, y"
   ]
  },
  {
   "cell_type": "code",
   "execution_count": 37,
   "id": "f943604b",
   "metadata": {},
   "outputs": [
    {
     "name": "stdout",
     "output_type": "stream",
     "text": [
      "(8760, 1, 3) (8760, 1, 1)\n"
     ]
    }
   ],
   "source": [
    "x_test, y_test = make_set(x_test, y_test, WINDOW_SIZE)\n",
    "print(x_test.shape, y_test.shape)"
   ]
  },
  {
   "cell_type": "code",
   "execution_count": 38,
   "id": "a2a07fbe",
   "metadata": {},
   "outputs": [],
   "source": [
    "def windowed_dataset(series, window_size, batch_size, shuffle):\n",
    "    series = tf.expand_dims(series, axis=-1)\n",
    "    ds = tf.data.Dataset.from_tensor_slices(series)\n",
    "    ds = ds.window(window_size + 1, shift=1, drop_remainder=True)\n",
    "    ds = ds.flat_map(lambda w: w.batch(window_size + 1))\n",
    "    if shuffle:\n",
    "        ds = ds.shuffle(1000)\n",
    "    ds = ds.map(lambda w: (w[:-1], w[-1]))\n",
    "    return ds.batch(batch_size).prefetch(1)"
   ]
  },
  {
   "cell_type": "code",
   "execution_count": 24,
   "id": "773e8648",
   "metadata": {},
   "outputs": [],
   "source": [
    "#이거이거 완전 값을 잘못 넣고 있었음 label값만 들어가는 구조니 당연히 데이터 입력 변화 결과 차이가 없지\n",
    "train_data = windowed_dataset(y_train, WINDOW_SIZE, BATCH_SIZE, True) \n",
    "valid_data = windowed_dataset(y_valid, WINDOW_SIZE, BATCH_SIZE, False)"
   ]
  },
  {
   "cell_type": "markdown",
   "id": "0249c42f",
   "metadata": {},
   "source": [
    "### 8. 딥러닝 모델"
   ]
  },
  {
   "cell_type": "code",
   "execution_count": null,
   "id": "04552117",
   "metadata": {
    "scrolled": true
   },
   "outputs": [],
   "source": [
    "LeakyReLU=tf.keras.layers.LeakyReLU(alpha=0.5)\n",
    "\"\"\"\n",
    "#Original\n",
    "model = Sequential([\n",
    "    Conv1D(filters=64, kernel_size=9, padding=\"causal\", activation='swish', input_shape=[WINDOW_SIZE, x_train.shape[1]]),\n",
    "    Bidirectional(LSTM(16, activation=\"tanh\", return_sequences=True), merge_mode='ave'),\n",
    "    TimeDistributed(Dense(16)),\n",
    "    Bidirectional(LSTM(16, activation=\"tanh\", return_sequences=False), merge_mode='ave'),\n",
    "    Dense(1, activation=\"tanh\")\n",
    "                    ])\n",
    "\"\"\"\n",
    "model = Sequential([\n",
    "    Conv1D(filters=64, kernel_size=3, padding=\"same\", activation='swish', input_shape=[WINDOW_SIZE, x_train.shape[2]]),\n",
    "    Bidirectional(LSTM(16, activation=\"tanh\", return_sequences=True), merge_mode='ave'),\n",
    "    #TimeDistributed(Dense(16)),\n",
    "    Bidirectional(LSTM(16, activation=\"tanh\", return_sequences=False), merge_mode='ave'),\n",
    "    Dense(1, activation=\"tanh\")\n",
    "                    ])\n",
    "\n",
    "model.summary()\n",
    "model.compile(loss='mean_absolute_error', optimizer='Nadam')"
   ]
  },
  {
   "cell_type": "markdown",
   "id": "cd6964ab",
   "metadata": {},
   "source": [
    "#### Plot model 저장"
   ]
  },
  {
   "cell_type": "code",
   "execution_count": null,
   "id": "82e93e66",
   "metadata": {},
   "outputs": [],
   "source": [
    "from keras.utils.vis_utils import plot_model\n",
    "import pydot\n",
    "import pydotplus\n",
    "import graphviz\n",
    "\n",
    "plot_model(model, to_file='./Result/CNN+LSTM/model.png')\n",
    "plot_model(model, to_file='./Result/CNN+LSTM/model_shapes.png', show_shapes=True)"
   ]
  },
  {
   "cell_type": "markdown",
   "id": "e4aa6030",
   "metadata": {},
   "source": [
    "#### 학습"
   ]
  },
  {
   "cell_type": "code",
   "execution_count": null,
   "id": "d18415fc",
   "metadata": {},
   "outputs": [],
   "source": [
    "early_stop = EarlyStopping(monitor='val_loss', patience=20)\n",
    "\n",
    "with tf.device('/GPU:0'):\n",
    "    model_path = 'model'\n",
    "    filename = os.path.join(model_path, 'tmp_checkpoint_CL.h5')\n",
    "    checkpoint = ModelCheckpoint(filename, monitor='val_loss', verbose=1, save_best_only=True, mode='auto')\n",
    "    history = model.fit(x_train, y_train, epochs=50, batch_size=BATCH_SIZE, validation_data=(x_valid, y_valid), callbacks=[checkpoint, early_stop])"
   ]
  },
  {
   "cell_type": "code",
   "execution_count": null,
   "id": "269d7721",
   "metadata": {},
   "outputs": [],
   "source": [
    "model.load_weights(filename)\n",
    "pred = model.predict(x_test)\n",
    "pred.shape"
   ]
  },
  {
   "cell_type": "markdown",
   "id": "3f70a61f",
   "metadata": {},
   "source": [
    "### 9. 결과 표시"
   ]
  },
  {
   "cell_type": "code",
   "execution_count": null,
   "id": "33bddf7a",
   "metadata": {},
   "outputs": [],
   "source": [
    "try:\n",
    "    os.mkdir('./Result')\n",
    "    print('폴더 생성 완료.')\n",
    "    \n",
    "except FileExistsError:\n",
    "    print('해당 폴더가 이미 존재합니다.')"
   ]
  },
  {
   "cell_type": "code",
   "execution_count": null,
   "id": "90879fb0",
   "metadata": {},
   "outputs": [],
   "source": [
    "try:\n",
    "    os.mkdir('./Result/CNN+LSTM')\n",
    "    os.mkdir('./Result/CNN+LSTM/Graph')\n",
    "    os.mkdir('./Result/CNN+LSTM/Data')\n",
    "    print('폴더 생성 완료.')\n",
    "    \n",
    "except FileExistsError:\n",
    "    print('해당 폴더가 이미 존재합니다.')"
   ]
  },
  {
   "cell_type": "code",
   "execution_count": null,
   "id": "e96d8ad2",
   "metadata": {},
   "outputs": [],
   "source": [
    "plt.figure(figsize=(16, 10))\n",
    "plt.title('Model Validation Loss', size='15')\n",
    "plt.xlabel('Epoch')\n",
    "plt.ylabel('Val_loss')\n",
    "plt.grid(True)\n",
    "plt.plot(history.history['val_loss'])\n",
    "plt.margins(x=0.02)\n",
    "plt.savefig('./Result/CNN+LSTM/Graph/Model_Valdation_Loss.png')\n",
    "plt.show"
   ]
  },
  {
   "cell_type": "code",
   "execution_count": null,
   "id": "774ae540",
   "metadata": {},
   "outputs": [],
   "source": [
    "plt.figure(figsize=(16, 10))\n",
    "plt.title('Model Loss Convergence Graph', size='15')\n",
    "y_tloss = history.history['loss']\n",
    "y_vloss = history.history['val_loss']\n",
    "x_len = np.arange(len(y_tloss))\n",
    "plt.xlabel('Epoch')\n",
    "plt.ylabel('Loss')\n",
    "plt.xticks(range(0,50), labels=range(1,51))\n",
    "\n",
    "plt.plot(x_len, y_tloss, \"o-\", c=\"blue\", markersize=3)\n",
    "plt.plot(x_len, y_vloss, \"o-\", c=\"red\", markersize=3)\n",
    "plt.margins(x=0.02)\n",
    "plt.legend(['Training loss', 'Validation loss'])\n",
    "plt.savefig('./Result/CNN+LSTM/Graph/Model_Loss_Convergence_Graph.png')\n",
    "plt.show"
   ]
  },
  {
   "cell_type": "code",
   "execution_count": null,
   "id": "2052fca8",
   "metadata": {},
   "outputs": [],
   "source": [
    "plt.figure(figsize=(300, 15))\n",
    "\n",
    "plt.tick_params(axis='x', colors='blue', size=15)\n",
    "plt.tick_params(axis='x', colors='blue', labelsize=12)\n",
    "plt.tick_params(axis='y', colors='blue', size=15)\n",
    "plt.tick_params(axis='y', colors='blue', labelsize=12)\n",
    "\n",
    "plt.plot(pred, label = 'Prediction',color='blue')\n",
    "\n",
    "plt.xticks([0, 31*24, 59*24, 90*24, 120*24, 151*24, 181*24, 212*24, 243*24, 273*24, 304*24, 334*24], \n",
    "           labels=['Jan', 'Feb', 'Mar', 'Apr', 'May', 'Jun', 'Jul', 'Aug', 'Sep', 'Oct', 'Nov', 'Dec'])\n",
    "plt.yticks([0, 0.111, 0.222, 0.333, 0.444, 0.555, 0.666, 0.777, 0.888, 1.0], \n",
    "           labels=['0', '1000 W', '2000 W', '3000 W', '4000 W', '5000 W', '6000 W', '7000 W', '8000 W','9000 W'])\n",
    "\n",
    "plt.margins(x=0.005)\n",
    "plt.savefig('./Result/CNN+LSTM/Graph/Prediction.png')\n",
    "plt.show()"
   ]
  },
  {
   "cell_type": "code",
   "execution_count": null,
   "id": "51a66e75",
   "metadata": {},
   "outputs": [],
   "source": [
    "plt.figure(figsize=(300, 15))\n",
    "\n",
    "plt.tick_params(axis='x', colors='darkorange', size=15)\n",
    "plt.tick_params(axis='x', colors='darkorange', labelsize=12)\n",
    "plt.tick_params(axis='y', colors='darkorange', size=15)\n",
    "plt.tick_params(axis='y', colors='darkorange', labelsize=12)\n",
    "\n",
    "#x=test['Graph_Date']\n",
    "\n",
    "plt.plot(test['Watt'], label = 'Actual', color='darkorange')\n",
    "\n",
    "#plt.xticks([0, 31*24, 59*24, 90*24, 120*24, 151*24, 181*24, 212*24, 243*24, 273*24, 304*24, 334*24], labels=['Jan', 'Feb', 'Mar', 'Apr', 'May', 'Jun', 'Jul', 'Aug', 'Sep', 'Oct', 'Nov', 'Dec'])\n",
    "plt.yticks([0, 0.111, 0.222, 0.333, 0.444, 0.555, 0.666, 0.777, 0.888, 1.0], \n",
    "           labels=['0', '1000 W', '2000 W', '3000 W', '4000 W', '5000 W', '6000 W', '7000 W', '8000 W','9000 W'])\n",
    "\n",
    "plt.margins(x=0.005)\n",
    "plt.savefig('./Result/CNN+LSTM/Graph/Actual.png')\n",
    "plt.show()"
   ]
  },
  {
   "cell_type": "code",
   "execution_count": null,
   "id": "fd15b506",
   "metadata": {
    "scrolled": true
   },
   "outputs": [],
   "source": [
    "fig = plt.figure(figsize=(300,15)) \n",
    "ax1 = fig.add_subplot() # subplot 그래프 생성\n",
    "ax1.tick_params(axis='y', size=20, labelsize=20) # y축 눈금 표기 설정\n",
    "plt.yticks([0, 0.111, 0.222, 0.333, 0.444, 0.555, 0.666, 0.777, 0.888, 1.0], \n",
    "           labels=['0', '1000 W', '2000 W', '3000 W', '4000 W', '5000 W', '6000 W', '7000 W', '8000 W','9000 W'])\n",
    "\n",
    "color1 = 'darkorange'\n",
    "ax1.plot(test['Watt'], color=color1)\n",
    "#ax1.set_ylabel('y', size=20)\n",
    "ax1.tick_params(axis='y')\n",
    "ax1.tick_params(axis='x', size=20, labelsize=20)\n",
    "ax1.margins(x=0.005)\n",
    "ax1.set_xticks([26280, 26280+31*24, 26280+59*24, 26280+90*24, 26280+120*24, 26280+151*24, 26280+181*24, 26280+212*24, 26280+243*24, 26280+273*24, 26280+304*24, 26280+334*24], \n",
    "           labels=['Jan', 'Feb', 'Mar', 'Apr', 'May', 'Jun', 'Jul', 'Aug', 'Sep', 'Oct', 'Nov', 'Dec']) # x1의 칸당 간격(=ticks) 설정\n",
    "ax1.legend(['Actual'], loc=1, bbox_to_anchor=(0.995, 1, 0, 0))\n",
    "\n",
    "color2 = 'blue'\n",
    "ax2 = ax1.twiny()\n",
    "ax2.plot(pred, color=color2)\n",
    "ax2.tick_params(axis='x', size=20, labelsize=20)\n",
    "ax2.margins(x=0.005)\n",
    "ax2.set_xticks([0, 31*24, 59*24, 90*24, 120*24, 151*24, 181*24, 212*24, 243*24, 273*24, 304*24, 334*24], \n",
    "           labels=['Jan', 'Feb', 'Mar', 'Apr', 'May', 'Jun', 'Jul', 'Aug', 'Sep', 'Oct', 'Nov', 'Dec']) # x1의 칸당 간격(=ticks) 설정\n",
    "ax2.legend(['Predict'], loc=1, bbox_to_anchor=(1, 1, 0, 0))\n",
    "\n",
    "plt.savefig('./Result/CNN+LSTM/Graph/Pred_with_Actual.png')\n",
    "plt.show()"
   ]
  },
  {
   "cell_type": "code",
   "execution_count": null,
   "id": "3c221bff",
   "metadata": {},
   "outputs": [],
   "source": [
    "# 월 단위 그래프 분할 표시 및 저장\n",
    "for m in range(1,13):\n",
    "    month = {0:0, 1:31, 2:28, 3:31, 4:30, 5:31, 6:30, 7:31, 8:31, 9:30, 10:31, 11:30, 12:31}\n",
    "    \n",
    "    start = {1:0, 2:744, 3:1416, 4:2160, 5:2880, 6:3624, 7:4344, 8:5088, 9:5832, 10:6552, 11:7296, 12:8016}\n",
    "    end = {1:744, 2:1416, 3:2160, 4:2880, 5:3624, 6:4344, 7:5088, 8:5832, 9:6552, 10:7296, 11:8016, 12:8760}\n",
    "        \n",
    "    ax2.set_title('Prediction & Actual Graph - month'+str(m), size='15')\n",
    "    \n",
    "    watt_list=test['Watt'].tolist()\n",
    "    \n",
    "    fig = plt.figure(figsize=(30,12)) \n",
    "    ax1 = fig.add_subplot() # subplot 그래프 생성\n",
    "    ax1.tick_params(axis='y', size=20, labelsize=20) # y축 눈금 표기 설정\n",
    "    ax1.set_yticks([0, 0.111, 0.222, 0.333, 0.444, 0.555, 0.666, 0.777, 0.888, 1.0], \n",
    "           labels=['0', '1000 W', '2000 W', '3000 W', '4000 W', '5000 W', '6000 W', '7000 W', '8000 W','9000 W'])\n",
    "    \n",
    "    # Actual\n",
    "    color1 = 'darkorange'\n",
    "    ax1.plot(watt_list[start[m]:end[m]], color=color1, marker='.')\n",
    "    ax1.tick_params(axis='x', size=20, labelsize=20)\n",
    "    ax1.margins(x=0.005)\n",
    "    ax1.legend(['Actual'], loc=1, bbox_to_anchor=(0.95, 1, 0, 0))\n",
    "    \n",
    "    # Predict\n",
    "    color2 = 'blue'\n",
    "    ax2 = ax1.twiny()\n",
    "    ax2.plot(pred[start[m]:end[m]], color=color2, marker='.')\n",
    "    ax2.tick_params(axis='x', size=20, labelsize=20)\n",
    "    ax2.xaxis.set_visible(False)\n",
    "    ax2.margins(x=0.005)\n",
    "    ax2.legend(['Predict'], loc=1, bbox_to_anchor=(1, 1, 0, 0))\n",
    "    \n",
    "    # 월별 xticks 설정 함수\n",
    "    def xticks_list (days):\n",
    "        xticks_list=[]\n",
    "        for x in range(0,days+1):\n",
    "            xticks_list.append(x*24)\n",
    "        return xticks_list\n",
    "    \n",
    "    # month labels 설정 함수\n",
    "    def month_labels (days):\n",
    "        month_labels=[]\n",
    "        for ml in range(1,days+1):\n",
    "            month_labels.append(ml)\n",
    "        month_labels.append('end') \n",
    "        return month_labels\n",
    "    \n",
    "    if (m==2):\n",
    "        ax1.set_xticks(xticks_list(28), labels=month_labels(28))\n",
    "\n",
    "    if (m==4 or m==6  or m==9 or m==11):\n",
    "        ax1.set_xticks(xticks_list(30), labels=month_labels(30))\n",
    "        \n",
    "    if (m==1 or m==3 or m==5 or m==7 or m==8 or m==10 or m==12):\n",
    "        ax1.set_xticks(xticks_list(31), labels=month_labels(31))\n",
    "        \n",
    "    ax1.set_yticks([0, 0.111, 0.222, 0.333, 0.444, 0.555, 0.666, 0.777, 0.888, 1.0], \n",
    "           labels=['0', '1000 W', '2000 W', '3000 W', '4000 W', '5000 W', '6000 W', '7000 W', '8000 W','9000 W'])\n",
    "    \n",
    "    plt.suptitle('Prediction_with_Actual_'+str(m),fontsize=20)\n",
    "    plt.grid(True)\n",
    "    plt.savefig('./Result/CNN+LSTM/Graph/Prediction_with_Actual_'+str(m)+'.png')\n",
    "    plt.show()"
   ]
  },
  {
   "cell_type": "markdown",
   "id": "f2f77043",
   "metadata": {},
   "source": [
    "#### 그래프 비교 결과"
   ]
  },
  {
   "cell_type": "code",
   "execution_count": null,
   "id": "a05fddf4",
   "metadata": {},
   "outputs": [],
   "source": [
    "import cv2\n",
    "from skimage.metrics import structural_similarity as ssim"
   ]
  },
  {
   "cell_type": "code",
   "execution_count": null,
   "id": "10777410",
   "metadata": {},
   "outputs": [],
   "source": [
    "# 유사도 측정을 위한 이미지 가공\n",
    "image1 = cv2.imread('./Result/CNN+LSTM/Graph/Prediction.png')\n",
    "image2 = cv2.imread('./Result/CNN+LSTM/Graph/Actual.png')\n",
    "\n",
    "tempDiff1 = cv2.subtract(image1, image2)\n",
    "\n",
    "gray1 = cv2.cvtColor(image1, cv2.COLOR_BGR2GRAY)\n",
    "gray2 = cv2.cvtColor(image2, cv2.COLOR_BGR2GRAY)"
   ]
  },
  {
   "cell_type": "code",
   "execution_count": null,
   "id": "ec1490fa",
   "metadata": {},
   "outputs": [],
   "source": [
    "# 차이 추출을 위한 뺄셈 과정\n",
    "pred_list=pred.tolist()\n",
    "actual_list=test['Watt'].tolist()"
   ]
  },
  {
   "cell_type": "code",
   "execution_count": null,
   "id": "a62529df",
   "metadata": {},
   "outputs": [],
   "source": [
    "(score, diff) = ssim(gray1, gray2, full=True)\n",
    "sim_score = round(score,5)*100\n",
    "\n",
    "print('그래프 유사도 ==>> %.3f %%' %sim_score)"
   ]
  },
  {
   "cell_type": "markdown",
   "id": "d56b11c1",
   "metadata": {},
   "source": [
    "#### 성능 측정 지표"
   ]
  },
  {
   "cell_type": "code",
   "execution_count": null,
   "id": "ba48dbc3",
   "metadata": {},
   "outputs": [],
   "source": [
    "true = test['Watt'].to_numpy()\n",
    "true = true.reshape(-1,1)"
   ]
  },
  {
   "cell_type": "code",
   "execution_count": null,
   "id": "f21915c7",
   "metadata": {},
   "outputs": [],
   "source": [
    "from sklearn.metrics import r2_score as r2\n",
    "from sklearn.metrics import mean_absolute_error as MAE\n",
    "from sklearn.metrics import mean_squared_error as MSE\n",
    "\n",
    "MAE = MAE(true, pred)\n",
    "RMSE = np.sqrt(MSE(true, pred))\n",
    "\n",
    "print('r2 >> %.4f' %r2(true, pred)) # 1에 가까워야 좋음\n",
    "print('MAE >> %.4f' %MAE) # 0에 가까워야 좋음\n",
    "print('RMSE >> %.4f' %RMSE) # 0에 가까워야 좋음"
   ]
  },
  {
   "cell_type": "code",
   "execution_count": null,
   "id": "afe21115",
   "metadata": {},
   "outputs": [],
   "source": [
    "MAE_pct = round(1-MAE, 5)*100\n",
    "RMSE_pct = round(1-RMSE, 5)*100\n",
    "print('MAE 측정 정확도 ==>> %.3f %%' %MAE_pct)\n",
    "print('RMSE 측정 정확도 ==>> %.3f %%' %RMSE_pct)"
   ]
  }
 ],
 "metadata": {
  "kernelspec": {
   "display_name": "Python 3 (ipykernel)",
   "language": "python",
   "name": "python3"
  },
  "language_info": {
   "codemirror_mode": {
    "name": "ipython",
    "version": 3
   },
   "file_extension": ".py",
   "mimetype": "text/x-python",
   "name": "python",
   "nbconvert_exporter": "python",
   "pygments_lexer": "ipython3",
   "version": "3.9.7"
  }
 },
 "nbformat": 4,
 "nbformat_minor": 5
}
