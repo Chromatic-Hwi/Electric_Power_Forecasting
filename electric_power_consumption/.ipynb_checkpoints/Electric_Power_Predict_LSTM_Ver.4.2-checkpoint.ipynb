{
 "cells": [
  {
   "cell_type": "markdown",
   "id": "79f886a9",
   "metadata": {},
   "source": [
    "### 화면 가로 확장"
   ]
  },
  {
   "cell_type": "code",
   "execution_count": null,
   "id": "01779336",
   "metadata": {},
   "outputs": [],
   "source": [
    "# 화면 가로 확장 코드 (기본 width 50%)\n",
    "from IPython.core.display import display, HTML\n",
    "display(HTML(\"<style>.container { width:80% !important; }</style>\"))"
   ]
  },
  {
   "cell_type": "markdown",
   "id": "5914b761",
   "metadata": {},
   "source": [
    "### 모듈 임포트"
   ]
  },
  {
   "cell_type": "code",
   "execution_count": null,
   "id": "4fef1b48",
   "metadata": {},
   "outputs": [],
   "source": [
    "import numpy as np \n",
    "import pandas as pd \n",
    "import matplotlib.pyplot as plt\n",
    "from mpl_toolkits.mplot3d import Axes3D\n",
    "import seaborn as sns\n",
    "import tensorflow as tf\n",
    "import csv\n",
    "import os\n",
    "import datetime"
   ]
  },
  {
   "cell_type": "markdown",
   "id": "89002b5e",
   "metadata": {},
   "source": [
    "### GPU 확인"
   ]
  },
  {
   "cell_type": "code",
   "execution_count": null,
   "id": "f9bc5d2b",
   "metadata": {},
   "outputs": [],
   "source": [
    "tf.test.gpu_device_name()"
   ]
  },
  {
   "cell_type": "markdown",
   "id": "697995d7",
   "metadata": {},
   "source": [
    "### 3년치 데이터 합본 저장, 확인"
   ]
  },
  {
   "cell_type": "code",
   "execution_count": null,
   "id": "d161094e",
   "metadata": {},
   "outputs": [],
   "source": [
    "df_3Y = pd.DataFrame()\n",
    "for y in range(2013, 2016):\n",
    "    file = './Combined_Data/'+str(y)+'_'+'House1_Ch1_Combined_Data_Y.csv'\n",
    "    df_y= pd.read_csv(file, encoding='cp949')\n",
    "    df_3Y = pd.concat([df_3Y, df_y])\n",
    "    \n",
    "df_3Y = df_3Y.drop([df_3Y.columns[0]], axis=1)\n",
    "df_3Y = df_3Y.reset_index(drop=True)\n",
    "df_3Y.to_csv(\"./Combined_Data/House1_Ch1_Combined_Data_13-15.csv\", encoding='cp949')"
   ]
  },
  {
   "cell_type": "code",
   "execution_count": null,
   "id": "58a3e584",
   "metadata": {},
   "outputs": [],
   "source": [
    "Data_3Y = pd.read_csv('./Combined_Data/House1_Ch1_Combined_Data_13-15.csv', encoding='cp949')\n",
    "Data_3Y.info()"
   ]
  },
  {
   "cell_type": "markdown",
   "id": "842146ce",
   "metadata": {},
   "source": [
    "### 4년치 데이터 합본 저장, 확인"
   ]
  },
  {
   "cell_type": "code",
   "execution_count": null,
   "id": "98ac9cfa",
   "metadata": {},
   "outputs": [],
   "source": [
    "df_4Y = pd.DataFrame()\n",
    "for y in range(2013, 2017):\n",
    "    file = './Combined_Data/'+str(y)+'_'+'House1_Ch1_Combined_Data_Y.csv'\n",
    "    df_y= pd.read_csv(file, encoding='cp949')\n",
    "    df_4Y = pd.concat([df_4Y, df_y])\n",
    "    \n",
    "df_4Y = df_4Y.drop([df_4Y.columns[0]], axis=1)\n",
    "df_4Y = df_4Y.reset_index(drop=True)\n",
    "df_4Y.to_csv(\"./Combined_Data/House1_Ch1_Combined_Data_13-16.csv\", encoding='cp949')"
   ]
  },
  {
   "cell_type": "code",
   "execution_count": null,
   "id": "a49a883c",
   "metadata": {},
   "outputs": [],
   "source": [
    "Data_4Y = pd.read_csv('./Combined_Data/House1_Ch1_Combined_Data_13-16.csv', encoding='cp949')\n",
    "Data_4Y.info()"
   ]
  },
  {
   "cell_type": "markdown",
   "id": "7999cf42",
   "metadata": {},
   "source": [
    "### 각 연도별 csv 데이터 로드"
   ]
  },
  {
   "cell_type": "code",
   "execution_count": null,
   "id": "19cb0e26",
   "metadata": {},
   "outputs": [],
   "source": [
    "Data_2013=pd.read_csv('./Combined_Data/2013_House1_Ch1_Combined_Data_Y.csv', encoding='cp949')\n",
    "Data_2014=pd.read_csv('./Combined_Data/2014_House1_Ch1_Combined_Data_Y.csv', encoding='cp949')\n",
    "Data_2015=pd.read_csv('./Combined_Data/2015_House1_Ch1_Combined_Data_Y.csv', encoding='cp949')\n",
    "Data_2016=pd.read_csv('./Combined_Data/2016_House1_Ch1_Combined_Data_Y.csv', encoding='cp949')"
   ]
  },
  {
   "cell_type": "markdown",
   "id": "783e69e9",
   "metadata": {},
   "source": [
    "### Plt 그래프 함수"
   ]
  },
  {
   "cell_type": "code",
   "execution_count": null,
   "id": "1105c343",
   "metadata": {},
   "outputs": [],
   "source": [
    "def Graph(name1, name2, year):\n",
    "    font_head = {'color': 'w', 'weight': 'bold', 'size': 20}\n",
    "    font_body = {'color': 'w', 'weight': 'bold', 'size': 15}\n",
    "\n",
    "    # 1번째 그래프\n",
    "    ax1 = plt.subplot(2, 1, 1)\n",
    "    ax1.spines['left'].set_color('yellow')\n",
    "    ax1.spines['left'].set_lw(2)\n",
    "    ax1.spines['bottom'].set_color('yellow')\n",
    "    ax1.spines['bottom'].set_lw(2)\n",
    "\n",
    "    ax1.tick_params(axis='x', colors='white', size=10)\n",
    "    ax1.tick_params(axis='x', colors='white', labelsize=15)\n",
    "    ax1.tick_params(axis='y', colors='white', size=10)\n",
    "    ax1.tick_params(axis='y', colors='white', labelsize=15)\n",
    "\n",
    "    plt.plot(x, y1, '.-', color='y', linewidth=1)\n",
    "    plt.title(name1, fontdict=font_head, pad=20)\n",
    "    plt.xticks(visible=False)\n",
    "    plt.ylabel('Watt',labelpad=15, fontdict=font_body)\n",
    "\n",
    "    # 2번째 그래프\n",
    "    ax2 = plt.subplot(2, 1, 2, sharex=ax1)\n",
    "    ax2.spines['left'].set_color('blue')\n",
    "    ax2.spines['left'].set_lw(2)\n",
    "    ax2.spines['bottom'].set_color('blue')\n",
    "    ax2.spines['bottom'].set_lw(2)\n",
    "\n",
    "    ax2.tick_params(axis='x', colors='white', size=10)\n",
    "    ax2.tick_params(axis='x', colors='white', labelsize=15)\n",
    "    ax2.tick_params(axis='y', colors='white', size=10)\n",
    "    ax2.tick_params(axis='y', colors='white', labelsize=15)\n",
    "\n",
    "    plt.plot(x, y2, '.-', color='b', linewidth=1)\n",
    "    plt.title(name2, fontdict=font_head, pad=20)\n",
    "    plt.xlabel('Time',labelpad=15, fontdict=font_body)\n",
    "    plt.ylabel('Temp',labelpad=15, fontdict=font_body)\n",
    "    \n",
    "    if year==1:\n",
    "        plt.xticks([0, 31, 59, 90, 120, 151, 181, 212, 243, 273, 304, 334], labels=['Jan', 'Feb', 'Mar', 'Apr', 'May', 'Jun', 'Jul', 'Aug', 'Sep', 'Oct', 'Nov', 'Dec'])\n",
    "    if year==3:\n",
    "        plt.xticks([0, 365, 730], labels=['2013', '2014', '2015'])\n",
    "\n",
    "    #plt.tight_layout()\n",
    "    plt.show()"
   ]
  },
  {
   "cell_type": "markdown",
   "id": "62741961",
   "metadata": {},
   "source": [
    "#### 1년치 그래프 확인"
   ]
  },
  {
   "cell_type": "markdown",
   "id": "75da8dcd",
   "metadata": {},
   "source": [
    "#### 2013"
   ]
  },
  {
   "cell_type": "code",
   "execution_count": null,
   "id": "7671a864",
   "metadata": {
    "scrolled": false
   },
   "outputs": [],
   "source": [
    "x = Data_2013['Graph_Date']\n",
    "y1 = Data_2013['Watt']\n",
    "y2 = Data_2013['Temp']\n",
    "\n",
    "plt.figure(figsize=(30,17))\n",
    "\n",
    "Graph(\"2013's Time-Watt Graph\", \"2013's Time-Temp Graph\", 1)"
   ]
  },
  {
   "cell_type": "markdown",
   "id": "1a5258cf",
   "metadata": {},
   "source": [
    "#### 2014"
   ]
  },
  {
   "cell_type": "code",
   "execution_count": null,
   "id": "5899dbfc",
   "metadata": {},
   "outputs": [],
   "source": [
    "x = Data_2014['Graph_Date']\n",
    "y1 = Data_2014['Watt']\n",
    "y2 = Data_2014['Temp']\n",
    "\n",
    "plt.figure(figsize=(30,17))\n",
    "\n",
    "Graph(\"2014's Time-Watt Graph\", \"2014's Time-Temp Graph\", 1)"
   ]
  },
  {
   "cell_type": "markdown",
   "id": "fa3d55a8",
   "metadata": {},
   "source": [
    "#### 2015"
   ]
  },
  {
   "cell_type": "code",
   "execution_count": null,
   "id": "4e168780",
   "metadata": {},
   "outputs": [],
   "source": [
    "x = Data_2015['Graph_Date']\n",
    "y1 = Data_2015['Watt']\n",
    "y2 = Data_2015['Temp']\n",
    "\n",
    "plt.figure(figsize=(30,17))\n",
    "\n",
    "Graph(\"2015's Time-Watt Graph\", \"2015's Time-Temp Graph\", 1)"
   ]
  },
  {
   "cell_type": "markdown",
   "id": "2cc96b63",
   "metadata": {},
   "source": [
    "#### 3년치 데이터 그래프 확인"
   ]
  },
  {
   "cell_type": "markdown",
   "id": "62720520",
   "metadata": {},
   "source": [
    "#### 2013-2015"
   ]
  },
  {
   "cell_type": "code",
   "execution_count": null,
   "id": "6f8fa7b6",
   "metadata": {},
   "outputs": [],
   "source": [
    "x = Data_3Y['Graph_Date']\n",
    "y1 = Data_3Y['Watt']\n",
    "y2 = Data_3Y['Temp']\n",
    "\n",
    "plt.figure(figsize=(40,17))\n",
    "\n",
    "Graph(\"13-15's Time-Watt Graph\",\"13-15's Time-Temp Graph\", 3)"
   ]
  },
  {
   "cell_type": "markdown",
   "id": "3fb042ae",
   "metadata": {},
   "source": [
    "### 데이터 정규화"
   ]
  },
  {
   "cell_type": "markdown",
   "id": "81ebc85b",
   "metadata": {},
   "source": [
    "#### Total Data Set 4년치 정규화"
   ]
  },
  {
   "cell_type": "markdown",
   "id": "60c87e2c",
   "metadata": {},
   "source": [
    "#### Min-Max Scaling"
   ]
  },
  {
   "cell_type": "code",
   "execution_count": null,
   "id": "b72ea907",
   "metadata": {},
   "outputs": [],
   "source": [
    "from sklearn.preprocessing import MinMaxScaler\n",
    "\n",
    "# 정규화 과정을 거쳐 데이터 범위를 원하는 범위로 제한. 그래프는 동일하나 손실 정도를 확인하기에 더 좋음.\n",
    "#배치 정규화는 기울기 소멸 문제를 해결하기는 좋으나, RNN의 경우 계층별로 미니 정규화 적용이 필요해 모델이 복잡해지고 효율이 저하됨.\n",
    "Data_4Y.sort_index(ascending=False).reset_index(drop=True)\n",
    "\n",
    "scaler = MinMaxScaler()\n",
    "scale_cols = ['Holiday', 'Watt', 'Temp']\n",
    "Data_4Y_scaled = scaler.fit_transform(Data_4Y[scale_cols])\n",
    "Data_4Y_scaled = pd.DataFrame(Data_4Y_scaled)\n",
    "Data_4Y_scaled.columns = scale_cols\n",
    "\n",
    "Data_4Y_scaled.insert(0, 'DateTime', Data_4Y['DateTime'])\n",
    "Data_4Y_scaled.insert(1, 'Graph_Date', Data_4Y['Graph_Date'])\n",
    "Data_4Y_scaled"
   ]
  },
  {
   "cell_type": "markdown",
   "id": "8395aaba",
   "metadata": {},
   "source": [
    "### 데이터셋 편집"
   ]
  },
  {
   "cell_type": "code",
   "execution_count": null,
   "id": "ee1957fe",
   "metadata": {},
   "outputs": [],
   "source": [
    "TEST_SIZE = 8760 # 1년치를 테스트셋으로 사용\n",
    "WINDOW_SIZE = 24 # 얼마 동안의 과거 기반의 데이터에 기반하여 다음날의 값을 예측할 것인지 설정. 여기서는 일주일 기준. 이 이후로 3개 더 있음.\n",
    "\n",
    "train = Data_4Y_scaled[:-TEST_SIZE]\n",
    "test= Data_4Y_scaled[-TEST_SIZE:]"
   ]
  },
  {
   "cell_type": "code",
   "execution_count": null,
   "id": "a34b027b",
   "metadata": {},
   "outputs": [],
   "source": [
    "def make_dataset(data, label, window_size=1):\n",
    "    feature_list = []\n",
    "    label_list = []\n",
    "    for i in range(len(data) - window_size):\n",
    "        feature_list.append(np.array(data.iloc[i:i+window_size]))\n",
    "        label_list.append(np.array(label.iloc[i+window_size]))\n",
    "    return np.array(feature_list), np.array(label_list)"
   ]
  },
  {
   "cell_type": "code",
   "execution_count": null,
   "id": "6e09e41e",
   "metadata": {},
   "outputs": [],
   "source": [
    "from sklearn.model_selection import train_test_split\n",
    "\n",
    "feature_cols = ['Holiday', 'Watt', 'Temp']\n",
    "label_cols = ['Watt']\n",
    "\n",
    "train_feature = train[feature_cols]\n",
    "train_label = train[label_cols]\n",
    "\n",
    "train_feature, train_label = make_dataset(train_feature, train_label, 1)# 여기서도 일자 설정\n",
    "\n",
    "x_train, x_valid, y_train, y_valid = train_test_split(train_feature, train_label, test_size=0.365)"
   ]
  },
  {
   "cell_type": "code",
   "execution_count": null,
   "id": "e22f6113",
   "metadata": {},
   "outputs": [],
   "source": [
    "print(' x_train >> {0}\\n x_valid >> {1}\\n y_train >> {2}\\n y_valid >> {3}'.format(x_train.shape, x_valid.shape, y_train.shape, y_valid.shape))"
   ]
  },
  {
   "cell_type": "code",
   "execution_count": null,
   "id": "56197785",
   "metadata": {},
   "outputs": [],
   "source": [
    "x_test = test[feature_cols]\n",
    "y_test = test[label_cols]"
   ]
  },
  {
   "cell_type": "code",
   "execution_count": null,
   "id": "4f849efc",
   "metadata": {},
   "outputs": [],
   "source": [
    "x_test, y_test = make_dataset(x_test, y_test, 1)\n",
    "x_test.shape, y_test.shape"
   ]
  },
  {
   "cell_type": "markdown",
   "id": "0249c42f",
   "metadata": {},
   "source": [
    "### 딥러닝 모델"
   ]
  },
  {
   "cell_type": "code",
   "execution_count": null,
   "id": "b7a50539",
   "metadata": {},
   "outputs": [],
   "source": [
    "from tensorflow.keras.models import Sequential\n",
    "from tensorflow.keras.layers import Dense\n",
    "from tensorflow.keras.callbacks import EarlyStopping, ModelCheckpoint\n",
    "from tensorflow.keras.layers import LSTM\n",
    "from tensorflow.keras.layers import Bidirectional\n",
    "\n",
    "tf.debugging.set_log_device_placement(True)\n",
    "\n",
    "with tf.device('/GPU:0'):\n",
    "    model = Sequential()\n",
    "    model.add(LSTM(512, activation='ReLU', input_shape=(train_feature.shape[1], train_feature.shape[2]), return_sequences=True))\n",
    "    model.add(Bidirectional(LSTM(256, activation='ReLU', return_sequences=True), merge_mode='concat'))\n",
    "    model.add(LSTM(256, activation='ReLU', return_sequences = True))\n",
    "    model.add(Bidirectional(LSTM(128, activation='ReLU', return_sequences=True), merge_mode='concat'))\n",
    "    model.add(LSTM(128, activation='ReLU', return_sequences = True))\n",
    "    model.add(Bidirectional(LSTM(64, activation='ReLU', return_sequences=True), merge_mode='concat'))\n",
    "    model.add(LSTM(64, activation='ReLU', return_sequences = True))\n",
    "    model.add(Bidirectional(LSTM(32, return_sequences=True), merge_mode='concat'))\n",
    "    model.add(LSTM(32, activation='ReLU', return_sequences = False))\n",
    "    model.add(Dense(1))\n",
    "    model.summary()"
   ]
  },
  {
   "cell_type": "code",
   "execution_count": null,
   "id": "74627584",
   "metadata": {},
   "outputs": [],
   "source": [
    "# 시간 표시, 측정용\n",
    "now = datetime.datetime.now() # 현재 시각\n",
    "TimeNow = now.strftime('%Y-%m-%d  %H:%M:%S') # 시작 시각 표시용."
   ]
  },
  {
   "cell_type": "code",
   "execution_count": null,
   "id": "bc5830fd",
   "metadata": {},
   "outputs": [],
   "source": [
    "import os\n",
    "\n",
    "with tf.device('/GPU:0'):\n",
    "    print('Start Time >>', TimeNow, '\\n')\n",
    "    now = datetime.datetime.now()\n",
    "    start = now\n",
    "\n",
    "    model.compile(loss='mean_squared_error', optimizer='Nadam', metrics=['acc'])\n",
    "    early_stop = EarlyStopping(monitor='val_loss', patience=7)\n",
    "\n",
    "    model_path = 'model'\n",
    "    filename = os.path.join(model_path, 'tmp_checkpoint.h5')\n",
    "    checkpoint = ModelCheckpoint(filename, monitor='val_loss', verbose=1, save_best_only=True, mode='auto')\n",
    "    history = model.fit(x_train, y_train, epochs=25, batch_size=32,validation_data=(x_valid, y_valid), callbacks=[early_stop, checkpoint])\n",
    "\n",
    "    now = datetime.datetime.now()\n",
    "    end = now\n",
    "    elapsed_time = end-start\n",
    "    elapsed_time = str(elapsed_time).split(\".\")\n",
    "    elapsed_time = elapsed_time[0]\n",
    "    print('소요시간 >> ', elapsed_time)"
   ]
  },
  {
   "cell_type": "code",
   "execution_count": null,
   "id": "269d7721",
   "metadata": {},
   "outputs": [],
   "source": [
    "model.load_weights(filename)\n",
    "pred = model.predict(x_test)\n",
    "\n",
    "pred.shape"
   ]
  },
  {
   "cell_type": "markdown",
   "id": "3f70a61f",
   "metadata": {},
   "source": [
    "### 결과 표시"
   ]
  },
  {
   "cell_type": "code",
   "execution_count": null,
   "id": "90879fb0",
   "metadata": {},
   "outputs": [],
   "source": [
    "try:\n",
    "    os.mkdir('./Result')\n",
    "    os.mkdir('./Result/Graph')\n",
    "    print('폴더 생성 완료.')\n",
    "except FileExistsError:\n",
    "    print('해당 폴더가 이미 존재합니다.')"
   ]
  },
  {
   "cell_type": "code",
   "execution_count": null,
   "id": "e96d8ad2",
   "metadata": {},
   "outputs": [],
   "source": [
    "plt.title('Model Validation Loss', size='15')\n",
    "plt.xlabel('Epoch')\n",
    "plt.ylabel('Val_loss')\n",
    "plt.grid(True)\n",
    "plt.plot(history.history['val_loss'])\n",
    "plt.savefig('./Result/Graph/Model_Valdation_Loss.png')\n",
    "plt.show"
   ]
  },
  {
   "cell_type": "code",
   "execution_count": null,
   "id": "2052fca8",
   "metadata": {},
   "outputs": [],
   "source": [
    "plt.figure(figsize=(300, 15))\n",
    "\n",
    "plt.tick_params(axis='x', colors='blue', size=15)\n",
    "plt.tick_params(axis='x', colors='blue', labelsize=12)\n",
    "plt.tick_params(axis='y', colors='blue', size=15)\n",
    "plt.tick_params(axis='y', colors='blue', labelsize=12)\n",
    "\n",
    "plt.plot(pred, label = 'Prediction',color='blue')\n",
    "\n",
    "plt.xticks([0, 31*24, 59*24, 90*24, 120*24, 151*24, 181*24, 212*24, 243*24, 273*24, 304*24, 334*24], \n",
    "           labels=['Jan', 'Feb', 'Mar', 'Apr', 'May', 'Jun', 'Jul', 'Aug', 'Sep', 'Oct', 'Nov', 'Dec'])\n",
    "plt.yticks([0, 0.2, 0.4, 0.6, 0.8, 1.0], labels=['0', '2000 W', '3500 W', '5500 W', '7000 W', '8500 W'])\n",
    "\n",
    "plt.margins(x=0.005)\n",
    "plt.savefig('./Result/Graph/Prediction.png')\n",
    "plt.show()"
   ]
  },
  {
   "cell_type": "code",
   "execution_count": null,
   "id": "51a66e75",
   "metadata": {},
   "outputs": [],
   "source": [
    "plt.figure(figsize=(300, 15))\n",
    "\n",
    "plt.tick_params(axis='x', colors='darkorange', size=15)\n",
    "plt.tick_params(axis='x', colors='darkorange', labelsize=12)\n",
    "plt.tick_params(axis='y', colors='darkorange', size=15)\n",
    "plt.tick_params(axis='y', colors='darkorange', labelsize=12)\n",
    "\n",
    "plt.plot(y_test, label = 'Actual', color='darkorange')\n",
    "\n",
    "plt.xticks([0, 31*24, 59*24, 90*24, 120*24, 151*24, 181*24, 212*24, 243*24, 273*24, 304*24, 334*24], \n",
    "           labels=['Jan', 'Feb', 'Mar', 'Apr', 'May', 'Jun', 'Jul', 'Aug', 'Sep', 'Oct', 'Nov', 'Dec'])\n",
    "plt.yticks([0, 0.2, 0.4, 0.6, 0.8, 1.0], labels=['0', '2000 W', '3500 W', '5500 W', '7000 W', '8500 W'])\n",
    "\n",
    "plt.margins(x=0.005)\n",
    "plt.savefig('./Result/Graph/Actual.png')\n",
    "plt.show()"
   ]
  },
  {
   "cell_type": "code",
   "execution_count": null,
   "id": "608e8bfa",
   "metadata": {},
   "outputs": [],
   "source": [
    "plt.figure(figsize=(300, 15))\n",
    "\n",
    "plt.tick_params(axis='x', colors='black', size=15)\n",
    "plt.tick_params(axis='x', colors='black', labelsize=12)\n",
    "plt.tick_params(axis='y', colors='black', size=15)\n",
    "plt.tick_params(axis='y', colors='black', labelsize=12)\n",
    "\n",
    "plt.plot(pred, label = 'Prediction',color='blue')\n",
    "plt.plot(y_test, label = 'Actual', color='darkorange')\n",
    "\n",
    "plt.xticks([0, 31*24, 59*24, 90*24, 120*24, 151*24, 181*24, 212*24, 243*24, 273*24, 304*24, 334*24], \n",
    "           labels=['Jan', 'Feb', 'Mar', 'Apr', 'May', 'Jun', 'Jul', 'Aug', 'Sep', 'Oct', 'Nov', 'Dec'])\n",
    "plt.yticks([0, 0.2, 0.4, 0.6, 0.8, 1.0], labels=['0', '2000 W', '3500 W', '5500 W', '7000 W', '8500 W'])\n",
    "plt.grid(True)\n",
    "plt.legend()\n",
    "plt.margins(x=0.005)\n",
    "plt.savefig('./Result/Graph/Pred_with_Actual.png')\n",
    "plt.show()"
   ]
  },
  {
   "cell_type": "code",
   "execution_count": null,
   "id": "b4b797df",
   "metadata": {},
   "outputs": [],
   "source": [
    "# 월 단위 그래프 분할 표시 및 저장\n",
    "for m in range(1,13):\n",
    "    month = {0:0, 1:31, 2:28, 3:31, 4:30, 5:31, 6:30, 7:31, 8:31, 9:30, 10:31, 11:30, 12:31}\n",
    "    start = {1:0, 2:744, 3:1416, 4:2160, 5:2880, 6:3624, 7:4344, 8:5088, 9:5832, 10:6552, 11:7296, 12:8016}\n",
    "    end = {1:743, 2:1415, 3:2159, 4:2879, 5:3623, 6:4343, 7:5087, 8:5831, 9:6551, 10:7295, 11:8015, 12:8759}\n",
    "    \n",
    "    plt.figure(figsize=(30, 15))\n",
    "    \n",
    "    plt.title('Prediction & Actual Graph - month'+str(m), size='15')\n",
    "    \n",
    "    plt.tick_params(axis='x', colors='black', size=10)\n",
    "    plt.tick_params(axis='x', colors='black', labelsize=12)\n",
    "    plt.tick_params(axis='y', colors='black', size=10)\n",
    "    plt.tick_params(axis='y', colors='black', labelsize=12)\n",
    "    \n",
    "    plt.plot(pred[start[m]:end[m]], label = 'Prediction',color='blue')\n",
    "    plt.plot(y_test[start[m]:end[m]], label = 'Actual', color='darkorange')\n",
    "    \n",
    "    xticks_list_28=[0, 24, 48, 72, 96, 120, 144, 168, 192, 216, 240, 264, 288, 312, 336, 360, 384, 408, 432, 456, 480, 504, 528, 552, 576, 600, 624, 648, 672]\n",
    "    xticks_list_30=[0, 24, 48, 72, 96, 120, 144, 168, 192, 216, 240, 264, 288, 312, 336, 360, 384, 408, 432, 456, 480, 504, 528, 552, 576, 600, 624, 648, 672, 696, 720]\n",
    "    xticks_list_31=[0, 24, 48, 72, 96, 120, 144, 168, 192, 216, 240, 264, 288, 312, 336, 360, 384, 408, 432, 456, 480, 504, 528, 552, 576, 600, 624, 648, 672, 696, 720, 744]\n",
    "    \n",
    "    if (m==1 or m==3 or m==5 or m==7 or m==8 or m==10 or m==12):\n",
    "        plt.xticks(xticks_list_31, labels=['1', '2', '3', '4', '5', '6', '7', '8', '9', '10', '11', '12', '13', '14', '15', \n",
    "                                           '16', '17', '18', '19', '20', '21', '22', '23', '24', '25', '26', '27', '27', '28', '29', '30', '31'])\n",
    "    if (m==4 or m==6  or m==9 or m==11):\n",
    "        plt.xticks(xticks_list_30, labels=['1', '2', '3', '4', '5', '6', '7', '8', '9', '10', '11', '12', '13', '14', '15', \n",
    "                                           '16', '17', '18', '19', '20', '21', '22', '23', '24', '25', '26', '27', '27', '28', '29', '30'])\n",
    "    if (m==2):\n",
    "        plt.xticks(xticks_list_28, labels=['1', '2', '3', '4', '5', '6', '7', '8', '9', '10', '11', '12', '13', '14', '15', \n",
    "                                           '16', '17', '18', '19', '20', '21', '22', '23', '24', '25', '26', '27', '27', '28'])\n",
    "        \n",
    "    plt.yticks([0, 0.2, 0.4, 0.6, 0.8, 1.0], labels=['0', '2000 W', '3500 W', '5500 W', '7000 W', '8500 W'])\n",
    "    \n",
    "    plt.grid(True)\n",
    "    plt.legend()\n",
    "    plt.margins(x=0.005)\n",
    "    plt.savefig('./Result/Graph/Prediction_with_Actual_'+str(m)+'.png') # 이름 각각!"
   ]
  },
  {
   "cell_type": "markdown",
   "id": "f2f77043",
   "metadata": {},
   "source": [
    "### 그래프 유사도 비교 결과"
   ]
  },
  {
   "cell_type": "code",
   "execution_count": null,
   "id": "a05fddf4",
   "metadata": {},
   "outputs": [],
   "source": [
    "import cv2\n",
    "from skimage.metrics import structural_similarity as ssim"
   ]
  },
  {
   "cell_type": "code",
   "execution_count": null,
   "id": "10777410",
   "metadata": {},
   "outputs": [],
   "source": [
    "# 유사도 측정을 위한 이미지 가공\n",
    "image1 = cv2.imread('./Result/Graph/Prediction.png')\n",
    "image2 = cv2.imread('./Result/Graph/Actual.png')\n",
    "\n",
    "tempDiff1 = cv2.subtract(image1, image2)\n",
    "\n",
    "gray1 = cv2.cvtColor(image1, cv2.COLOR_BGR2GRAY)\n",
    "gray2 = cv2.cvtColor(image2, cv2.COLOR_BGR2GRAY)"
   ]
  },
  {
   "cell_type": "code",
   "execution_count": null,
   "id": "ec1490fa",
   "metadata": {},
   "outputs": [],
   "source": [
    "# 차이 추출을 위한 뺄셈 과정\n",
    "pred_list=pred.tolist()\n",
    "actual_list=y_test.tolist()\n",
    "\n",
    "result_numbers=[]\n",
    "for minus in range(len(pred_list)):\n",
    "    result = abs(float(pred_list[minus][0]) - float(actual_list[minus][0]))\n",
    "    result_numbers.append(result)"
   ]
  },
  {
   "cell_type": "code",
   "execution_count": null,
   "id": "a62529df",
   "metadata": {},
   "outputs": [],
   "source": [
    "(score, diff) = ssim(gray1, gray2, full=True)\n",
    "sim_score = round(score,5)*100\n",
    "result_num_total = round(sum(result_numbers),3)\n",
    "final_score = (len(result_numbers) - result_num_total)/len(result_numbers)*100\n",
    "\n",
    "print('그래프 유사도 ==>> %.3f %%\\n' %sim_score)\n",
    "print('예측차 판별도 ==>> %.3f %%' %final_score)"
   ]
  },
  {
   "cell_type": "markdown",
   "id": "29569fd3",
   "metadata": {},
   "source": [
    "### 예측값과 실제값 csv 저장"
   ]
  },
  {
   "cell_type": "code",
   "execution_count": null,
   "id": "aa200761",
   "metadata": {},
   "outputs": [],
   "source": [
    "# 날짜 정보 생성\n",
    "month = {1:31, 2:28, 3:31, 4:30, 5:31, 6:30, 7:31, 8:31, 9:30, 10:31, 11:30, 12:31}\n",
    "datetime_list=[]\n",
    "\n",
    "for m in range(1, 13):\n",
    "    month = {1:31, 2:28, 3:31, 4:30, 5:31, 6:30, 7:31, 8:31, 9:30, 10:31, 11:30, 12:31}\n",
    "    for d in range(month[m]):\n",
    "        d=d+1\n",
    "        m=int(m)\n",
    "        d=int(d)\n",
    "        \n",
    "        if m<=9:\n",
    "            m='0'+str(m)\n",
    "        if d<=9:\n",
    "            d='0'+str(d)\n",
    "            for h in range(1,25):\n",
    "                elem = '2016'+'년-'+str(m)+'월-'+str(d)+'일-'+str(h)+'시'\n",
    "                datetime_list.append(elem)"
   ]
  },
  {
   "cell_type": "code",
   "execution_count": null,
   "id": "378d76b3",
   "metadata": {},
   "outputs": [],
   "source": [
    "# 넘파이 어레이를 데이터 프레임으로 변환\n",
    "pred_df = pd.DataFrame(pred)\n",
    "actual_df = pd.DataFrame(y_test)"
   ]
  },
  {
   "cell_type": "code",
   "execution_count": null,
   "id": "8dc8ff82",
   "metadata": {},
   "outputs": [],
   "source": [
    "df_for_chart = pd.DataFrame(columns=['datetime', 'pred', 'actual'])\n",
    "df_for_chart['datetime']=datetime_list\n",
    "df_for_chart['pred']=pred_df\n",
    "df_for_chart['actual']=actual_df\n",
    "df_for_chart.to_csv(\"./Result/Electric_Prediction_result_data_for_Chart.csv\", encoding='cp949')"
   ]
  },
  {
   "cell_type": "code",
   "execution_count": null,
   "id": "e0bcb8bb",
   "metadata": {},
   "outputs": [],
   "source": [
    "for m in range(1,13):\n",
    "    month = {0:0, 1:31, 2:28, 3:31, 4:30, 5:31, 6:30, 7:31, 8:31, 9:30, 10:31, 11:30, 12:31}\n",
    "    start = {1:0, 2:744, 3:1416, 4:2160, 5:2880, 6:3624, 7:4344, 8:5088, 9:5832, 10:6552, 11:7296, 12:8016}\n",
    "    end = {1:743, 2:1415, 3:2159, 4:2879, 5:3623, 6:4343, 7:5087, 8:5831, 9:6551, 10:7295, 11:8015, 12:8759}\n",
    "    \n",
    "    plt.plot(pred[start[m]:end[m]], label = 'Prediction',color='blue')\n",
    "    plt.plot(y_test[start[m]:end[m]], label = 'Actual', color='darkorange')\n",
    "    \n",
    "    xticks_list_28=[0, 24, 48, 72, 96, 120, 144, 168, 192, 216, 240, 264, 288, 312, 336, 360, 384, 408, 432, 456, 480, 504, 528, 552, 576, 600, 624, 648, 672]\n",
    "    xticks_list_30=[0, 24, 48, 72, 96, 120, 144, 168, 192, 216, 240, 264, 288, 312, 336, 360, 384, 408, 432, 456, 480, 504, 528, 552, 576, 600, 624, 648, 672, 696, 720]\n",
    "    xticks_list_31=[0, 24, 48, 72, 96, 120, 144, 168, 192, 216, 240, 264, 288, 312, 336, 360, 384, 408, 432, 456, 480, 504, 528, 552, 576, 600, 624, 648, 672, 696, 720, 744]\n",
    "    \n",
    "    df_for_chart = pd.DataFrame(columns=['datetime', 'pred', 'actual'])\n",
    "    df_for_chart['datetime']=datetime_list\n",
    "    df_for_chart['pred']=pred_df\n",
    "    df_for_chart['actual']=actual_df\n",
    "    df_for_chart.to_csv(\"./Result/Electric_Prediction_result_data_for_Chart.csv\", encoding='cp949')"
   ]
  }
 ],
 "metadata": {
  "kernelspec": {
   "display_name": "Python 3 (ipykernel)",
   "language": "python",
   "name": "python3"
  },
  "language_info": {
   "codemirror_mode": {
    "name": "ipython",
    "version": 3
   },
   "file_extension": ".py",
   "mimetype": "text/x-python",
   "name": "python",
   "nbconvert_exporter": "python",
   "pygments_lexer": "ipython3",
   "version": "3.9.7"
  }
 },
 "nbformat": 4,
 "nbformat_minor": 5
}
