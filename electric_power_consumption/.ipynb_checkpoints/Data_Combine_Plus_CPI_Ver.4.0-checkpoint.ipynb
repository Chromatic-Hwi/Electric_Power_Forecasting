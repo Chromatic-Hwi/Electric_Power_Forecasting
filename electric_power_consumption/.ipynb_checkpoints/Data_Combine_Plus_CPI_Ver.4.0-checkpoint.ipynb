{
 "cells": [
  {
   "cell_type": "code",
   "execution_count": 1,
   "id": "dae53d08",
   "metadata": {},
   "outputs": [],
   "source": [
    "import os\n",
    "import pandas as pd\n",
    "import csv"
   ]
  },
  {
   "cell_type": "code",
   "execution_count": 2,
   "id": "deff50b1",
   "metadata": {},
   "outputs": [
    {
     "data": {
      "text/html": [
       "<style>.container { width:80% !important; }</style>"
      ],
      "text/plain": [
       "<IPython.core.display.HTML object>"
      ]
     },
     "metadata": {},
     "output_type": "display_data"
    }
   ],
   "source": [
    "# 화면 가로 확장 코드 (기본 width 50%)\n",
    "from IPython.core.display import display, HTML\n",
    "display(HTML(\"<style>.container { width:80% !important; }</style>\"))"
   ]
  },
  {
   "cell_type": "markdown",
   "id": "25391f17",
   "metadata": {},
   "source": [
    "### 전력+기온 결합 데이터 폴더 생성"
   ]
  },
  {
   "cell_type": "code",
   "execution_count": 7,
   "id": "168f8dd4",
   "metadata": {},
   "outputs": [
    {
     "name": "stdout",
     "output_type": "stream",
     "text": [
      "폴더 생성 완료.\n"
     ]
    }
   ],
   "source": [
    "try:\n",
    "    os.mkdir('./Combined_Data')\n",
    "    for y in range(2013, 2017):\n",
    "        os.mkdir('./Combined_Data/'+str(y))\n",
    "    print('폴더 생성 완료.')\n",
    "except FileExistsError:\n",
    "    print('해당 폴더가 이미 존재합니다.\\n폴더를 확인해주세요.')"
   ]
  },
  {
   "cell_type": "markdown",
   "id": "ba32689f",
   "metadata": {},
   "source": [
    "### 데이터 결합 코드"
   ]
  },
  {
   "cell_type": "code",
   "execution_count": 8,
   "id": "42fa654f",
   "metadata": {},
   "outputs": [
    {
     "name": "stdout",
     "output_type": "stream",
     "text": [
      "------------------------------< Start Working!! >------------------------------\n",
      "\n",
      "\n",
      "------------------------------< Job Done!! >------------------------------\n",
      "\n"
     ]
    }
   ],
   "source": [
    "print('------------------------------< Start Working!! >------------------------------\\n')\n",
    "\n",
    "month = {1:31, 2:28, 3:31, 4:30, 5:31, 6:30, 7:31, 8:31, 9:30, 10:31, 11:30, 12:31}\n",
    "\n",
    "for y in range(2013, 2017):\n",
    "    \n",
    "    for m in range(1,13):\n",
    "        csv_electric = pd.read_csv(\"./Electric_Data/Electirc_Data_CSV_FInal/\"+str(y)+\"/\"+str(y)+'_'+str(m)+'_'+\"House1_Ch1_Electric_Data_Final.csv\", encoding='cp949')\n",
    "        csv_weather = pd.read_csv(\"./Weather_Data/Weather_Data_24H_CSV/\"+str(y)+\"/\"+str(y)+'_'+str(m)+'_'+\"London_Temperature_24H.csv\", encoding='utf-8')\n",
    "        csv_CPI = pd.read_csv('./CPI.csv')\n",
    "        csv_electric['Temp']=csv_weather['Temp']\n",
    "        csv_electric['Humidity']=csv_weather['Humidity']\n",
    "        csv_electric['CPI']=''\n",
    "        date=str(y)+'_'+str(m)\n",
    "        \n",
    "        cpi=float(csv_CPI['CPI'].loc[csv_CPI['Date']==date])\n",
    "        \n",
    "        s = 0\n",
    "        for d in range(month[m]):\n",
    "            d=d+1 \n",
    "            \n",
    "            for n in range(s, s+24):\n",
    "                combine_list=[]\n",
    "                combine_list.append(csv_electric['DateTime'][n])\n",
    "                combine_list.append(csv_electric['Graph_Date'][n])\n",
    "                combine_list.append(csv_electric['Day'][n])\n",
    "                combine_list.append(csv_electric['Holiday'][n])\n",
    "                combine_list.append(csv_electric['Seq'][n])\n",
    "                combine_list.append(csv_electric['Watt'][n])\n",
    "                combine_list.append(csv_electric['Temp'][n])\n",
    "                combine_list.append(csv_electric['Humidity'][n])\n",
    "                combine_list.append(cpi)\n",
    "                with open(\"./Combined_Data/\"+str(y)+\"/\"+str(y)+'_'+str(m)+'_'+\"House1_Ch1_Combined_Data.csv\", 'a', newline='') as file:\n",
    "                                writer = csv.writer(file)\n",
    "                                writer.writerow(combine_list)\n",
    "            s=s+24\n",
    "            \n",
    "        csv_origin = pd.read_csv(\"./Combined_Data/\"+str(y)+\"/\"+str(y)+'_'+str(m)+'_'+\"House1_Ch1_Combined_Data.csv\", names = ['DateTime', 'Graph_Date', 'Day', 'Holiday', 'Seq', 'Watt', \"Temp('C)\", 'Humidity(%)', 'CPI'], header = None, encoding='cp949')\n",
    "        csv_origin.to_csv(\"./Combined_Data/\"+str(y)+\"/\"+str(y)+'_'+str(m)+'_'+\"House1_Ch1_Combined_Data.csv\", encoding='cp949')\n",
    "        \n",
    "print('\\n------------------------------< Job Done!! >------------------------------\\n')"
   ]
  },
  {
   "cell_type": "markdown",
   "id": "70b72a07",
   "metadata": {},
   "source": [
    "### 1년 단위 통합 CSV 저장"
   ]
  },
  {
   "cell_type": "code",
   "execution_count": 9,
   "id": "70c007ee",
   "metadata": {},
   "outputs": [
    {
     "name": "stdout",
     "output_type": "stream",
     "text": [
      "\n",
      "------------------------------< Year Merge Done!! >------------------------------\n",
      "\n"
     ]
    }
   ],
   "source": [
    "for y in range(2013, 2017):\n",
    "    folders = os.listdir('./Combined_Data/'+str(y)+'/')\n",
    "\n",
    "    df_year = pd.DataFrame()\n",
    "    for m in range(0,len(folders)):\n",
    "        m=m+1\n",
    "        file = './Combined_Data/'+str(y)+'/'+str(y)+'_'+str(m)+'_'+'House1_Ch1_Combined_Data.csv'\n",
    "        df_m = pd.read_csv(file, encoding='cp949')\n",
    "        df_year = pd.concat([df_year, df_m])\n",
    "        \n",
    "    df_year = df_year.drop([df_year.columns[0]], axis=1)\n",
    "    df_year = df_year.reset_index(drop=True)\n",
    "    df_year.to_csv(\"./Combined_Data/\"+str(y)+'_'+\"House1_Ch1_Combined_Data_Y.csv\", encoding='cp949')\n",
    "\n",
    "print('\\n------------------------------< Year Merge Done!! >------------------------------\\n')"
   ]
  }
 ],
 "metadata": {
  "kernelspec": {
   "display_name": "Python 3 (ipykernel)",
   "language": "python",
   "name": "python3"
  },
  "language_info": {
   "codemirror_mode": {
    "name": "ipython",
    "version": 3
   },
   "file_extension": ".py",
   "mimetype": "text/x-python",
   "name": "python",
   "nbconvert_exporter": "python",
   "pygments_lexer": "ipython3",
   "version": "3.9.7"
  }
 },
 "nbformat": 4,
 "nbformat_minor": 5
}
