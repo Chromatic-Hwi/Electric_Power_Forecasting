{
 "cells": [
  {
   "cell_type": "code",
   "execution_count": 1,
   "id": "46320a04",
   "metadata": {},
   "outputs": [
    {
     "data": {
      "text/html": [
       "<style>.container { width:80% !important; }</style>"
      ],
      "text/plain": [
       "<IPython.core.display.HTML object>"
      ]
     },
     "metadata": {},
     "output_type": "display_data"
    }
   ],
   "source": [
    "# 화면 가로 확장 코드 (기본 width 50%)\n",
    "from IPython.core.display import display, HTML\n",
    "display(HTML(\"<style>.container { width:80% !important; }</style>\"))"
   ]
  },
  {
   "cell_type": "code",
   "execution_count": 44,
   "id": "3ee79117",
   "metadata": {},
   "outputs": [
    {
     "name": "stdout",
     "output_type": "stream",
     "text": [
      "2 13\n",
      "3 0\n",
      "4 Data no exist\n",
      "5 0\n",
      "6 1\n",
      "7 2\n",
      "8 0\n",
      "9 3\n",
      "10 1\n",
      "11 0\n",
      "12 181\n",
      "13 1\n",
      "14 Null\n",
      "15 Null\n",
      "16 0\n",
      "17 0\n",
      "18 11\n",
      "19 1\n",
      "20 Data no exist\n",
      "21 Null\n",
      "22 Null\n",
      "23 Data no exist\n",
      "24 Null\n",
      "25 0\n",
      "26 0\n",
      "27 0\n",
      "28 1\n",
      "29 0\n",
      "30 Data no exist\n",
      "31 Data no exist\n",
      "32 1\n",
      "33 0\n",
      "34 Null\n",
      "35 Null\n",
      "36 Null\n",
      "37 1\n",
      "38 Data no exist\n",
      "39 Null\n",
      "40 377\n",
      "41 Null\n",
      "42 3\n",
      "43 16\n",
      "44 1\n",
      "45 1\n",
      "46 0\n",
      "47 Data no exist\n",
      "48 0\n",
      "49 24\n",
      "50 Null\n",
      "51 Null\n",
      "52 Null\n",
      "53 Null\n"
     ]
    }
   ],
   "source": [
    "import pandas as pd\n",
    "total_sum=0\n",
    "for ch in range(2, 54):\n",
    "    try:\n",
    "        data1 = pd.read_csv(\"./Electric_Data/Full_House/Ch\"+str(ch)+\"_Electirc_Data_CSV/2016_6_House1_Ch\"+str(ch)+\"_Electric_Data.csv\", encoding='cp949')\n",
    "        data1_str = data1.iloc[0, 1]\n",
    "        try:\n",
    "            data1_int = int(data1_str)\n",
    "            print(ch, data1_int)\n",
    "        except ValueError:\n",
    "            print(ch, 'Null')\n",
    "            pass\n",
    "    except FileNotFoundError:\n",
    "        print(ch, 'Data no exist')\n",
    "        pass\n",
    "    \n",
    "    total_sum=total_sum+data1_int\n"
   ]
  },
  {
   "cell_type": "code",
   "execution_count": 45,
   "id": "f40d5868",
   "metadata": {},
   "outputs": [
    {
     "name": "stdout",
     "output_type": "stream",
     "text": [
      "1121\n"
     ]
    }
   ],
   "source": [
    "print(total_sum)"
   ]
  },
  {
   "cell_type": "code",
   "execution_count": null,
   "id": "00667bab",
   "metadata": {},
   "outputs": [],
   "source": []
  }
 ],
 "metadata": {
  "kernelspec": {
   "display_name": "Python 3",
   "language": "python",
   "name": "python3"
  },
  "language_info": {
   "codemirror_mode": {
    "name": "ipython",
    "version": 3
   },
   "file_extension": ".py",
   "mimetype": "text/x-python",
   "name": "python",
   "nbconvert_exporter": "python",
   "pygments_lexer": "ipython3",
   "version": "3.8.8"
  }
 },
 "nbformat": 4,
 "nbformat_minor": 5
}
