{
 "cells": [
  {
   "cell_type": "code",
   "execution_count": 1,
   "id": "4da791f3",
   "metadata": {},
   "outputs": [],
   "source": [
    "import os\n",
    "import pandas as pd\n",
    "import csv"
   ]
  },
  {
   "cell_type": "code",
   "execution_count": 2,
   "id": "a2f2f33e",
   "metadata": {},
   "outputs": [
    {
     "data": {
      "text/html": [
       "<style>.container { width:80% !important; }</style>"
      ],
      "text/plain": [
       "<IPython.core.display.HTML object>"
      ]
     },
     "metadata": {},
     "output_type": "display_data"
    }
   ],
   "source": [
    "# 화면 가로 확장 코드 (기본 width 50%)\n",
    "from IPython.core.display import display, HTML\n",
    "display(HTML(\"<style>.container { width:80% !important; }</style>\"))"
   ]
  },
  {
   "cell_type": "code",
   "execution_count": 7,
   "id": "e2082bf7",
   "metadata": {},
   "outputs": [
    {
     "name": "stdout",
     "output_type": "stream",
     "text": [
      "폴더 생성 완료.\n"
     ]
    }
   ],
   "source": [
    "try:\n",
    "    os.mkdir('./Result/Web_Data')\n",
    "    os.mkdir('./Result/Web_Data/LSTM')\n",
    "    os.mkdir('./Result/Web_Data/CNN+LSTM')\n",
    "    print('폴더 생성 완료.')\n",
    "    \n",
    "except FileExistsError:\n",
    "    print('해당 폴더가 이미 존재합니다.\\n폴더를 확인해주세요.')"
   ]
  },
  {
   "cell_type": "code",
   "execution_count": 8,
   "id": "ff56405c",
   "metadata": {},
   "outputs": [
    {
     "name": "stderr",
     "output_type": "stream",
     "text": [
      "C:\\Users\\82108\\AppData\\Local\\Temp/ipykernel_20036/1993316012.py:26: SettingWithCopyWarning: \n",
      "A value is trying to be set on a copy of a slice from a DataFrame\n",
      "\n",
      "See the caveats in the documentation: https://pandas.pydata.org/pandas-docs/stable/user_guide/indexing.html#returning-a-view-versus-a-copy\n",
      "  df_m1['datetime'][start]=ymdH\n",
      "C:\\Users\\82108\\AppData\\Local\\Temp/ipykernel_20036/1993316012.py:54: SettingWithCopyWarning: \n",
      "A value is trying to be set on a copy of a slice from a DataFrame\n",
      "\n",
      "See the caveats in the documentation: https://pandas.pydata.org/pandas-docs/stable/user_guide/indexing.html#returning-a-view-versus-a-copy\n",
      "  df_m2['datetime'][start]=ymdH\n"
     ]
    },
    {
     "name": "stdout",
     "output_type": "stream",
     "text": [
      "Job Done!!\n"
     ]
    }
   ],
   "source": [
    "month = {1:31, 2:28, 3:31, 4:30, 5:31, 6:30, 7:31, 8:31, 9:30, 10:31, 11:30, 12:31}\n",
    "\n",
    "# LSTM\n",
    "for M in range(1,13):\n",
    "    if M<=9:\n",
    "        mn=str(M)\n",
    "        mn='0'+mn\n",
    "    else:\n",
    "        mn=M\n",
    "        \n",
    "    file1 = './Result/LSTM/Data/Electric_Prediction_result_data_for_Chart_'+str(mn)+'.csv'\n",
    "    df_m1 = pd.read_csv(file1, encoding='cp949')\n",
    "    df_m1 = df_m1.drop([df_m1.columns[0]], axis=1)\n",
    "    \n",
    "    start=0\n",
    "    for D in range(month[M]):\n",
    "        for H in range(24):\n",
    "            y = df_m1['datetime'][start][0:4]\n",
    "            m = df_m1['datetime'][start][6:8]\n",
    "            d = df_m1['datetime'][start][10:12]\n",
    "            if H<=9:\n",
    "                HH='0'+str(H)\n",
    "            else:\n",
    "                HH=str(H)\n",
    "            ymdH=str(y)+'-'+str(m)+'-'+str(d)+' '+HH+':'+'00'\n",
    "            df_m1['datetime'][start]=ymdH\n",
    "            start+=1\n",
    "\n",
    "    df_m1.to_csv('./Result/Web_Data/LSTM/'+str(M)+'m.csv', header=False, encoding='cp949')\n",
    "    \n",
    "# CNN + LSTM\n",
    "for M in range(1,13):\n",
    "    if M<=9:\n",
    "        mn=str(M)\n",
    "        mn='0'+mn\n",
    "    else:\n",
    "        mn=str(M)\n",
    "    \n",
    "    file2 = './Result/CNN+LSTM/Data/Electric_Prediction_result_data_for_Chart_'+str(mn)+'.csv'\n",
    "    df_m2 = pd.read_csv(file2, encoding='cp949')\n",
    "    df_m2 = df_m2.drop([df_m2.columns[0]], axis=1)\n",
    "    \n",
    "    start=0\n",
    "    for D in range(month[M]):\n",
    "        for H in range(24):\n",
    "            y = df_m2['datetime'][start][0:4]\n",
    "            m = df_m2['datetime'][start][6:8]\n",
    "            d = df_m2['datetime'][start][10:12]\n",
    "            if H<=9:\n",
    "                HH='0'+str(H)\n",
    "            else:\n",
    "                HH=str(H)\n",
    "            ymdH=str(y)+'-'+str(m)+'-'+str(d)+' '+HH+':'+'00'\n",
    "            df_m2['datetime'][start]=ymdH\n",
    "            start+=1\n",
    "    \n",
    "    df_m2.to_csv('./Result/Web_Data/CNN+LSTM/'+str(M)+'m.csv', header=False, encoding='cp949')\n",
    "\n",
    "print('Job Done!!')"
   ]
  },
  {
   "cell_type": "code",
   "execution_count": 9,
   "id": "91998c62",
   "metadata": {},
   "outputs": [
    {
     "name": "stderr",
     "output_type": "stream",
     "text": [
      "C:\\Users\\82108\\AppData\\Local\\Temp/ipykernel_20036/3731545971.py:17: SettingWithCopyWarning: \n",
      "A value is trying to be set on a copy of a slice from a DataFrame\n",
      "\n",
      "See the caveats in the documentation: https://pandas.pydata.org/pandas-docs/stable/user_guide/indexing.html#returning-a-view-versus-a-copy\n",
      "  df_m1['datetime'][start]=ymdH\n",
      "C:\\Users\\82108\\AppData\\Local\\Temp/ipykernel_20036/3731545971.py:41: SettingWithCopyWarning: \n",
      "A value is trying to be set on a copy of a slice from a DataFrame\n",
      "\n",
      "See the caveats in the documentation: https://pandas.pydata.org/pandas-docs/stable/user_guide/indexing.html#returning-a-view-versus-a-copy\n",
      "  df_m2['datetime'][start]=ymdH\n"
     ]
    },
    {
     "name": "stdout",
     "output_type": "stream",
     "text": [
      "Job Done!!\n"
     ]
    }
   ],
   "source": [
    "file1 = './Result/LSTM/Data/Electric_Prediction_result_data_for_Chart_Year.csv'\n",
    "df_m1 = pd.read_csv(file1, encoding='cp949')\n",
    "df_m1 = df_m1.drop([df_m1.columns[0]], axis=1)\n",
    "\n",
    "start=0\n",
    "for D in range(len(df_m1)):\n",
    "    for H in range(24):\n",
    "        try:\n",
    "            y = df_m1['datetime'][start][0:4]\n",
    "            m = df_m1['datetime'][start][6:8]\n",
    "            d = df_m1['datetime'][start][10:12]\n",
    "            if H<=9:\n",
    "                HH='0'+str(H)\n",
    "            else:\n",
    "                HH=str(H)\n",
    "            ymdH=str(y)+'-'+str(m)+'-'+str(d)+' '+HH+':'+'00'\n",
    "            df_m1['datetime'][start]=ymdH\n",
    "            start+=1\n",
    "        except KeyError:\n",
    "            pass\n",
    "\n",
    "df_m1.to_csv('./Result/Web_Data/LSTM/LSTM_Year.csv', header=False, encoding='cp949')\n",
    "    \n",
    "\n",
    "file2 = './Result/CNN+LSTM/Data/Electric_Prediction_result_data_for_Chart_Year.csv'\n",
    "df_m2 = pd.read_csv(file2, encoding='cp949')\n",
    "df_m2 = df_m2.drop([df_m2.columns[0]], axis=1)\n",
    "\n",
    "start=0\n",
    "for D in range(len(df_m2)):\n",
    "    for H in range(24):\n",
    "        try:\n",
    "            y = df_m2['datetime'][start][0:4]\n",
    "            m = df_m2['datetime'][start][6:8]\n",
    "            d = df_m2['datetime'][start][10:12]\n",
    "            if H<=9:\n",
    "                HH='0'+str(H)\n",
    "            else:\n",
    "                HH=str(H)\n",
    "            ymdH=str(y)+'-'+str(m)+'-'+str(d)+' '+HH+':'+'00'\n",
    "            df_m2['datetime'][start]=ymdH\n",
    "            start+=1\n",
    "        except KeyError:\n",
    "            pass\n",
    "\n",
    "df_m2.to_csv('./Result/Web_Data/CNN+LSTM/CNN_LSTM_Year.csv', header=False, encoding='cp949')\n",
    "\n",
    "print('Job Done!!')"
   ]
  }
 ],
 "metadata": {
  "kernelspec": {
   "display_name": "Python 3 (ipykernel)",
   "language": "python",
   "name": "python3"
  },
  "language_info": {
   "codemirror_mode": {
    "name": "ipython",
    "version": 3
   },
   "file_extension": ".py",
   "mimetype": "text/x-python",
   "name": "python",
   "nbconvert_exporter": "python",
   "pygments_lexer": "ipython3",
   "version": "3.9.7"
  }
 },
 "nbformat": 4,
 "nbformat_minor": 5
}
