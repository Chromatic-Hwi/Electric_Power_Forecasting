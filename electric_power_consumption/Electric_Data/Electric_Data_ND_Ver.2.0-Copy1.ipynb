{
 "cells": [
  {
   "cell_type": "code",
   "execution_count": 18,
   "id": "3d4067e2",
   "metadata": {},
   "outputs": [
    {
     "data": {
      "text/html": [
       "<style>.container { width:70% !important; }</style>"
      ],
      "text/plain": [
       "<IPython.core.display.HTML object>"
      ]
     },
     "metadata": {},
     "output_type": "display_data"
    }
   ],
   "source": [
    "# 화면 가로 확장 코드 (기본 width 50%)\n",
    "from IPython.core.display import display, HTML\n",
    "display(HTML(\"<style>.container { width:70% !important; }</style>\"))"
   ]
  },
  {
   "cell_type": "code",
   "execution_count": 16,
   "id": "d834806c",
   "metadata": {},
   "outputs": [],
   "source": [
    "import os\n",
    "try:\n",
    "    os.mkdir('./Electirc_Data_CSV_Null_Disposed')\n",
    "except FileExistsError:\n",
    "    print('해당 폴더가 이미 존재합니다.\\n폴더를 확인해주세요.')"
   ]
  },
  {
   "cell_type": "code",
   "execution_count": null,
   "id": "b898dec2",
   "metadata": {},
   "outputs": [],
   "source": [
    "for y in range(2013, 2017):\n",
    "    \n",
    "    for m in range(1,13):\n",
    "        csv_for_days = pd.read_csv(\"./Electirc_Data_CSV_Null_Disposed/\"+str(y)+'_'+str(m)+'_'+\"House1_Ch1_Electric_Data_ND.csv\", names = ['DateTime', 'Days', 'Holiday', 'Seq', 'Watt'], header = None, encoding='cp949')\n",
    "        s = 0\n",
    "        \n",
    "        for d in range(month[m]):\n",
    "            d=d+1 \n",
    "            \n",
    "            for n in range(s, s+24):\n",
    "                \n",
    "            s=s+24\n",
    "            \n",
    "\n",
    "                #csv_origin.to_csv(\"./Electirc_Data_CSV_Null_Disposed/\"+str(y)+'_'+str(m)+'_'+\"House1_Ch1_Electric_Data_ND.csv\")\n",
    "                \n",
    "print('\\n'*9,'------------------------------< Job Done!! >------------------------------')"
   ]
  },
  {
   "cell_type": "code",
   "execution_count": 3,
   "id": "8b174775",
   "metadata": {},
   "outputs": [
    {
     "data": {
      "text/plain": [
       "'화'"
      ]
     },
     "execution_count": 3,
     "metadata": {},
     "output_type": "execute_result"
    }
   ],
   "source": [
    "import datetime\n",
    "\n",
    "def get_days(yyyy, mm, dd):\n",
    "    days = ['월', '화', '수', '목', '금', '토', '일']\n",
    "    return days[datetime.date(yyyy, mm, dd).weekday()]\n",
    "\n",
    "yyyy=2013\n",
    "mm=1\n",
    "dd=1\n",
    "\n",
    "get_days(yyyy,mm,dd)"
   ]
  },
  {
   "cell_type": "code",
   "execution_count": 69,
   "id": "a47d03cc",
   "metadata": {},
   "outputs": [
    {
     "name": "stdout",
     "output_type": "stream",
     "text": [
      "<class 'pandas.core.frame.DataFrame'>\n",
      "RangeIndex: 720 entries, 0 to 719\n",
      "Data columns (total 5 columns):\n",
      " #   Column    Non-Null Count  Dtype  \n",
      "---  ------    --------------  -----  \n",
      " 0   DateTime  720 non-null    object \n",
      " 1   Days      0 non-null      float64\n",
      " 2   Holiday   0 non-null      float64\n",
      " 3   Seq       720 non-null    int64  \n",
      " 4   Watt      720 non-null    int64  \n",
      "dtypes: float64(2), int64(2), object(1)\n",
      "memory usage: 28.2+ KB\n",
      "\n"
     ]
    },
    {
     "data": {
      "text/plain": [
       "'금'"
      ]
     },
     "execution_count": 69,
     "metadata": {},
     "output_type": "execute_result"
    }
   ],
   "source": [
    "import pandas as pd\n",
    "import numpy as np\n",
    "y=2013\n",
    "m=11\n",
    "csv_for_days = pd.read_csv(\"./Electirc_Data_CSV_Null_Disposed/\"+str(y)+'_'+str(m)+'_'+\"House1_Ch1_Electric_Data_ND.csv\", encoding='utf-8')\n",
    "csv_for_days['Days']=np.NaN\n",
    "csv_for_days['Holiday']=np.NaN\n",
    "csv_for_days = csv_for_days[['DateTime', 'Days', 'Holiday', 'Seq', 'Watt']]\n",
    "csv_for_days.info()\n",
    "csv_for_days.head(48)\n",
    "print()\n",
    "time=csv_for_days['DateTime'][:1][0]\n",
    "time2 = time.split()\n",
    "yyyy=int(time2[0][:-1])\n",
    "mm=int(time2[1][:-1])\n",
    "dd=int(time2[2][:-1])\n",
    "get_days(yyyy,mm,dd)"
   ]
  }
 ],
 "metadata": {
  "kernelspec": {
   "display_name": "Python 3 (ipykernel)",
   "language": "python",
   "name": "python3"
  },
  "language_info": {
   "codemirror_mode": {
    "name": "ipython",
    "version": 3
   },
   "file_extension": ".py",
   "mimetype": "text/x-python",
   "name": "python",
   "nbconvert_exporter": "python",
   "pygments_lexer": "ipython3",
   "version": "3.9.7"
  }
 },
 "nbformat": 4,
 "nbformat_minor": 5
}
