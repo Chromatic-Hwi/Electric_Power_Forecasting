{
 "cells": [
  {
   "cell_type": "code",
   "execution_count": 67,
   "id": "3d4067e2",
   "metadata": {},
   "outputs": [
    {
     "data": {
      "text/html": [
       "<style>.container { width:70% !important; }</style>"
      ],
      "text/plain": [
       "<IPython.core.display.HTML object>"
      ]
     },
     "metadata": {},
     "output_type": "display_data"
    }
   ],
   "source": [
    "# 화면 가로 확장 코드 (기본 width 50%)\n",
    "from IPython.core.display import display, HTML\n",
    "display(HTML(\"<style>.container { width:70% !important; }</style>\"))"
   ]
  },
  {
   "cell_type": "code",
   "execution_count": 68,
   "id": "d834806c",
   "metadata": {},
   "outputs": [],
   "source": [
    "import os\n",
    "try:\n",
    "    os.mkdir('./Electirc_Data_CSV_Null_Disposed')\n",
    "except FileExistsError:\n",
    "    print('해당 폴더가 이미 존재합니다.\\n폴더를 확인해주세요.')"
   ]
  },
  {
   "cell_type": "code",
   "execution_count": 73,
   "id": "a996070a",
   "metadata": {},
   "outputs": [
    {
     "name": "stdout",
     "output_type": "stream",
     "text": [
      "2495\n",
      "2482\n",
      "2441\n",
      "265\n",
      "260\n",
      "260\n",
      "326\n",
      "372\n",
      "4444\n",
      "2691\n",
      "2558\n",
      "779\n",
      "2961\n",
      "529\n",
      "3032\n",
      "2869\n",
      "354\n",
      "2297\n",
      "2184\n",
      "2981\n",
      "729\n",
      "2122\n",
      "543\n",
      "572\n",
      "\n",
      "['2013년 1월 1일 - 0시', '2013년 1월 1일 - 1시', '2013년 1월 1일 - 2시', '2013년 1월 1일 - 3시', '2013년 1월 1일 - 4시', '2013년 1월 1일 - 5시', '2013년 1월 1일 - 6시', '2013년 1월 1일 - 7시', '2013년 1월 1일 - 8시', '2013년 1월 1일 - 9시', '2013년 1월 1일 - 10시', '2013년 1월 1일 - 11시', '2013년 1월 1일 - 12시', '2013년 1월 1일 - 13시', '2013년 1월 1일 - 14시', '2013년 1월 1일 - 15시', '2013년 1월 1일 - 16시', '2013년 1월 1일 - 17시', '2013년 1월 1일 - 18시', '2013년 1월 1일 - 19시', '2013년 1월 1일 - 20시', '2013년 1월 1일 - 21시', '2013년 1월 1일 - 22시', '2013년 1월 1일 - 23시']\n",
      "\n",
      "['2495', '2482', '2441', '265', '260', '260', '326', '372', '4444', '2691', '2558', '779', '2961', '529', '3032', '2869', '354', '2297', '2184', '2981', '729', '2122', '543', '572']\n",
      "\n",
      "정상일\n",
      "\n",
      "\n",
      "\n",
      "\n",
      "\n",
      "1913\n",
      "240\n",
      "231\n",
      "307\n",
      "328\n",
      "238\n",
      "1080\n",
      "345\n",
      "2728\n",
      "551\n",
      "569\n",
      "3304\n",
      "2945\n",
      "2911\n",
      "3145\n",
      "1109\n",
      "3083\n",
      "726\n",
      "2214\n",
      "778\n",
      "951\n",
      "917\n",
      "710\n",
      "326\n",
      "\n",
      "['2013년 1월 2일 - 0시', '2013년 1월 2일 - 1시', '2013년 1월 2일 - 2시', '2013년 1월 2일 - 3시', '2013년 1월 2일 - 4시', '2013년 1월 2일 - 5시', '2013년 1월 2일 - 6시', '2013년 1월 2일 - 7시', '2013년 1월 2일 - 8시', '2013년 1월 2일 - 9시', '2013년 1월 2일 - 10시', '2013년 1월 2일 - 11시', '2013년 1월 2일 - 12시', '2013년 1월 2일 - 13시', '2013년 1월 2일 - 14시', '2013년 1월 2일 - 15시', '2013년 1월 2일 - 16시', '2013년 1월 2일 - 17시', '2013년 1월 2일 - 18시', '2013년 1월 2일 - 19시', '2013년 1월 2일 - 20시', '2013년 1월 2일 - 21시', '2013년 1월 2일 - 22시', '2013년 1월 2일 - 23시']\n",
      "\n",
      "['1913', '240', '231', '307', '328', '238', '1080', '345', '2728', '551', '569', '3304', '2945', '2911', '3145', '1109', '3083', '726', '2214', '778', '951', '917', '710', '326']\n",
      "\n",
      "정상일\n",
      "\n",
      "\n",
      "\n",
      "\n",
      "\n"
     ]
    },
    {
     "ename": "KeyboardInterrupt",
     "evalue": "",
     "output_type": "error",
     "traceback": [
      "\u001b[1;31m---------------------------------------------------------------------------\u001b[0m",
      "\u001b[1;31mKeyboardInterrupt\u001b[0m                         Traceback (most recent call last)",
      "\u001b[1;32m~\\AppData\\Local\\Temp/ipykernel_3388/3488883084.py\u001b[0m in \u001b[0;36m<module>\u001b[1;34m\u001b[0m\n\u001b[0;32m     43\u001b[0m                 \"\"\"\n\u001b[0;32m     44\u001b[0m             \u001b[0mprint\u001b[0m\u001b[1;33m(\u001b[0m\u001b[1;34m'\\n'\u001b[0m\u001b[1;33m*\u001b[0m\u001b[1;36m4\u001b[0m\u001b[1;33m)\u001b[0m\u001b[1;33m\u001b[0m\u001b[1;33m\u001b[0m\u001b[0m\n\u001b[1;32m---> 45\u001b[1;33m             \u001b[0mtime\u001b[0m\u001b[1;33m.\u001b[0m\u001b[0msleep\u001b[0m\u001b[1;33m(\u001b[0m\u001b[1;36m3\u001b[0m\u001b[1;33m)\u001b[0m\u001b[1;33m\u001b[0m\u001b[1;33m\u001b[0m\u001b[0m\n\u001b[0m\u001b[0;32m     46\u001b[0m \u001b[1;33m\u001b[0m\u001b[0m\n",
      "\u001b[1;31mKeyboardInterrupt\u001b[0m: "
     ]
    }
   ],
   "source": [
    "import csv\n",
    "import pandas as pd\n",
    "import time\n",
    "\n",
    "month = {1:31, 2:28, 3:31, 4:30, 5:31, 6:30, 7:31, 8:31, 9:30, 10:31, 11:30, 12:31}\n",
    "\n",
    "for y in range(2013, 2017):\n",
    "    \n",
    "    for m in range(1,13):\n",
    "        csv_origin = pd.read_csv(\"./Electirc_Data_CSV/\"+str(y)+'_'+str(m)+'_'+\"House1_Ch1_Electric_Data.csv\", \n",
    "                  names = ['Time', 'Watt'], \n",
    "                  header = None, encoding='cp949')\n",
    "        s = 0\n",
    "        for d in range(month[m]):\n",
    "            one_day_list_p1=[]\n",
    "            one_day_list_d1=[]\n",
    "            one_day_list_p2=[]\n",
    "            one_day_list_d2=[]\n",
    "\n",
    "            for n in range(s, s+24):\n",
    "                date = csv_origin['Time'][n]\n",
    "                power = csv_origin['Watt'][n]\n",
    "                one_day_list_d1.append(date)\n",
    "                one_day_list_p1.append(power)\n",
    "                one_day_list_d2.append(date)\n",
    "                one_day_list_p2.append(power)\n",
    "                print(power)\n",
    "            print() \n",
    "            print(one_day_list_d2)\n",
    "            print()\n",
    "            print(one_day_list_p2)\n",
    "            print()\n",
    "            s=s+24\n",
    "            \n",
    "            \n",
    "            if 'Null' in one_day_list_p2:\n",
    "                print('결손치 존재')\n",
    "                \n",
    "                \"\"\"\n",
    "                중간에 결손치가 존재하면 전날의 기록 리스트에서 값을 불러와 채우려고 원데이 리스트를 두개 만들었는데 위에처럼 똑같이 추가하면 안됨.\n",
    "                전날 데이터를 저장할 방법이 없음.\n",
    "                생각해보니 문제가 생겼을때 꼭 전날 데이터를 가져올 필요가 없네! 다음날걸 가져오면 되지! \n",
    "                그런데 다음날도 쭉 Null이면..?-> 아 밀리고 밀려서 해결되려나??\n",
    "                \"\"\"\n",
    "                \n",
    "            else:\n",
    "                print('정상일')\n",
    "                \"\"\"\n",
    "                for nn in range(24):\n",
    "                with open(\"./Electirc_Data_CSV_Null_Disposed\"+str(y)+'_'+str(M)+'_'+\"House1_Ch1_Electric_Data_ND.csv\", 'a', newline='') as file:\n",
    "                            writer = csv.writer(file)\n",
    "                            writer.writerow(???)\n",
    "                \"\"\"\n",
    "            print('\\n'*4)\n",
    "            time.sleep(3)\n",
    "            "
   ]
  }
 ],
 "metadata": {
  "kernelspec": {
   "display_name": "Python 3 (ipykernel)",
   "language": "python",
   "name": "python3"
  },
  "language_info": {
   "codemirror_mode": {
    "name": "ipython",
    "version": 3
   },
   "file_extension": ".py",
   "mimetype": "text/x-python",
   "name": "python",
   "nbconvert_exporter": "python",
   "pygments_lexer": "ipython3",
   "version": "3.9.7"
  }
 },
 "nbformat": 4,
 "nbformat_minor": 5
}
