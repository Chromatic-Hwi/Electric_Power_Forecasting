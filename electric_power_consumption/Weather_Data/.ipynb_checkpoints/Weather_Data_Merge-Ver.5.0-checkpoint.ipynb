{
 "cells": [
  {
   "cell_type": "markdown",
   "id": "79db435a",
   "metadata": {},
   "source": [
    "##  기상 데이터 시간 및 평균값 정리"
   ]
  },
  {
   "cell_type": "markdown",
   "id": "4309c7bb",
   "metadata": {},
   "source": [
    "### 화면 가로 확장"
   ]
  },
  {
   "cell_type": "code",
   "execution_count": 1,
   "id": "5806396d",
   "metadata": {},
   "outputs": [
    {
     "name": "stderr",
     "output_type": "stream",
     "text": [
      "C:\\Users\\Hwi\\AppData\\Local\\Temp\\ipykernel_9976\\2983124805.py:2: DeprecationWarning: Importing display from IPython.core.display is deprecated since IPython 7.14, please import from IPython display\n",
      "  from IPython.core.display import display, HTML\n"
     ]
    },
    {
     "data": {
      "text/html": [
       "<style>.container { width:60% !important; }</style>"
      ],
      "text/plain": [
       "<IPython.core.display.HTML object>"
      ]
     },
     "metadata": {},
     "output_type": "display_data"
    }
   ],
   "source": [
    "# 화면 가로 확장 코드 (기본 width 50%)\n",
    "from IPython.core.display import display, HTML\n",
    "display(HTML(\"<style>.container { width:60% !important; }</style>\"))"
   ]
  },
  {
   "cell_type": "markdown",
   "id": "c73df720",
   "metadata": {},
   "source": [
    "### 데이터 저장을 위한 폴더 생성"
   ]
  },
  {
   "cell_type": "code",
   "execution_count": 2,
   "id": "699cefec",
   "metadata": {},
   "outputs": [
    {
     "name": "stdout",
     "output_type": "stream",
     "text": [
      "폴더 생성 완료.\n"
     ]
    }
   ],
   "source": [
    "import os\n",
    "try:\n",
    "    os.mkdir('./Weather_Data_24H_CSV')\n",
    "    for y in range(2013, 2017):\n",
    "        os.mkdir('./Weather_Data_24H_CSV/'+str(y))\n",
    "    print('폴더 생성 완료.')\n",
    "except FileExistsError:\n",
    "    print('해당 폴더가 이미 존재합니다.\\n폴더를 확인해주세요.')"
   ]
  },
  {
   "cell_type": "code",
   "execution_count": 3,
   "id": "0ed15ee2",
   "metadata": {},
   "outputs": [
    {
     "name": "stdout",
     "output_type": "stream",
     "text": [
      "Start Working!!\n",
      "Job Done!!\n"
     ]
    }
   ],
   "source": [
    "import csv\n",
    "import pandas as pd\n",
    "\n",
    "print('Start Working!!')\n",
    "\n",
    "month = {1:31, 2:28, 3:31, 4:30, 5:31, 6:30, 7:31, 8:31, 9:30, 10:31, 11:30, 12:31}\n",
    "\n",
    "for y in range(2013, 2017):\n",
    "    for m in range(1,13):\n",
    "        # 예로 1월은 31일 까지이지만 range에서는 0~30으로 출력. 하지만 반복이 31번이 되기만 하면 무관\n",
    "        s=0\n",
    "        for d in range(month[m]):\n",
    "            D = d+1\n",
    "            csv_origin = pd.read_csv(\"./Weather_Data_CSV/\"+str(y)+'_'+str(m)+'_'+\"London_Temperature.csv\", \n",
    "                      names = ['Year', 'Month', 'Day', 'Time', 'Seq', 'Temp', \"'C\", 'Humidity', '%'], \n",
    "                      header = None, encoding='cp949')\n",
    "            \n",
    "            NN=0\n",
    "            \n",
    "            for N in range(s, s+47, 2):\n",
    "                csv_s1 = csv_origin.loc[[int(s)], :]\n",
    "                csv_s2 = csv_origin.loc[[int(s+1)], :]\n",
    "                Temp_AVG = (int(csv_s1['Temp']) + int(csv_s2['Temp'])) / 2\n",
    "                Humi_AVG = (int(csv_s1['Humidity']) + int(csv_s2['Humidity'])) / 2\n",
    "                YMD = '{}-{}-{}'.format(y,m,D)\n",
    "                New_list=[YMD, NN, float(Temp_AVG), \"'C\", float(Humi_AVG), '%']\n",
    "                \n",
    "                with open(\"./Weather_Data_24H_CSV/\"+str(y)+'/'+str(y)+'_'+str(m)+'_'+\"London_Temperature_24H.csv\", \n",
    "                          'a', newline='') as file:\n",
    "                    writer = csv.writer(file)\n",
    "                    writer.writerow(New_list)\n",
    "                s=s+2\n",
    "                NN=NN+1\n",
    "        m=m+1\n",
    "    y=y+1\n",
    "    \n",
    "\n",
    "# 컬럼만 추가하는 작업\n",
    "for y in range(2013, 2017):\n",
    "    for m in range(1,13):\n",
    "        csv_column = pd.read_csv(\"./Weather_Data_24H_CSV/\"+str(y)+'/'+str(y)+'_'+str(m)+'_'+\"London_Temperature_24H.csv\", \n",
    "                                 names = ['DateTime', 'Seq', 'Temp', \"'C\", 'Humidity', '%'], \n",
    "                                 header = None, encoding='cp949')\n",
    "        \n",
    "        csv_column.to_csv(\"./Weather_Data_24H_CSV/\"+str(y)+'/'+str(y)+'_'+str(m)+'_'+\"London_Temperature_24H.csv\")\n",
    "    \n",
    "print('Job Done!!')"
   ]
  }
 ],
 "metadata": {
  "kernelspec": {
   "display_name": "Python 3 (ipykernel)",
   "language": "python",
   "name": "python3"
  },
  "language_info": {
   "codemirror_mode": {
    "name": "ipython",
    "version": 3
   },
   "file_extension": ".py",
   "mimetype": "text/x-python",
   "name": "python",
   "nbconvert_exporter": "python",
   "pygments_lexer": "ipython3",
   "version": "3.9.12"
  }
 },
 "nbformat": 4,
 "nbformat_minor": 5
}
