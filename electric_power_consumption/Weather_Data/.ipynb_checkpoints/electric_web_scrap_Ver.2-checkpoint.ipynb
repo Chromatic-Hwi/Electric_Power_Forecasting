{
 "cells": [
  {
   "cell_type": "markdown",
   "id": "79db435a",
   "metadata": {},
   "source": [
    "##  자동 기상 스크래핑"
   ]
  },
  {
   "cell_type": "markdown",
   "id": "da528201",
   "metadata": {},
   "source": [
    "#### ※ 웹 크롤링 및 스크래핑, csv 저장이 동시에 이뤄지기 때문에 작업 중지를 방지하기 위해 단독 실행을 추천합니다."
   ]
  },
  {
   "cell_type": "markdown",
   "id": "b577f122",
   "metadata": {},
   "source": [
    "### Chromedriver"
   ]
  },
  {
   "cell_type": "code",
   "execution_count": null,
   "id": "177c026a",
   "metadata": {},
   "outputs": [],
   "source": [
    "\"\"\"\n",
    "크롬 드라이버는 사용자의 크롬 버전에 맞게 드라이버를 다운로드 받아 스크래핑 코드와 같은 폴더에 넣어주시면 됩니다. \n",
    "\n",
    "크롬 브라우저의 버전은 우측 상단 더보기란 -> 도움말 -> Chrome 정보 를 선택하면 확인할 수 있습니다.\n",
    "\n",
    "https://chromedriver.chromium.org/downloads 에 가시면 버전에 맞는 크롬 드라이버를 찾아서 다운로드할 수 있습니다.\n",
    "\"\"\""
   ]
  },
  {
   "cell_type": "markdown",
   "id": "88d94b4a",
   "metadata": {},
   "source": [
    "### Install Selenium"
   ]
  },
  {
   "cell_type": "code",
   "execution_count": 1,
   "id": "ce25fe17",
   "metadata": {},
   "outputs": [
    {
     "name": "stdout",
     "output_type": "stream",
     "text": [
      "Collecting selenium\n",
      "  Downloading selenium-4.1.0-py3-none-any.whl (958 kB)\n",
      "Collecting trio-websocket~=0.9\n",
      "  Downloading trio_websocket-0.9.2-py3-none-any.whl (16 kB)\n",
      "Collecting trio~=0.17\n",
      "  Downloading trio-0.19.0-py3-none-any.whl (356 kB)\n",
      "Requirement already satisfied: urllib3[secure]~=1.26 in c:\\programdata\\anaconda3\\lib\\site-packages (from selenium) (1.26.7)\n",
      "Requirement already satisfied: sniffio in c:\\programdata\\anaconda3\\lib\\site-packages (from trio~=0.17->selenium) (1.2.0)\n",
      "Collecting outcome\n",
      "  Downloading outcome-1.1.0-py2.py3-none-any.whl (9.7 kB)\n",
      "Requirement already satisfied: sortedcontainers in c:\\programdata\\anaconda3\\lib\\site-packages (from trio~=0.17->selenium) (2.4.0)\n",
      "Requirement already satisfied: attrs>=19.2.0 in c:\\programdata\\anaconda3\\lib\\site-packages (from trio~=0.17->selenium) (21.2.0)\n",
      "Requirement already satisfied: idna in c:\\programdata\\anaconda3\\lib\\site-packages (from trio~=0.17->selenium) (3.2)\n",
      "Requirement already satisfied: cffi>=1.14 in c:\\programdata\\anaconda3\\lib\\site-packages (from trio~=0.17->selenium) (1.14.6)\n",
      "Requirement already satisfied: async-generator>=1.9 in c:\\programdata\\anaconda3\\lib\\site-packages (from trio~=0.17->selenium) (1.10)\n",
      "Collecting wsproto>=0.14\n",
      "  Downloading wsproto-1.0.0-py3-none-any.whl (24 kB)\n",
      "Requirement already satisfied: pyOpenSSL>=0.14 in c:\\programdata\\anaconda3\\lib\\site-packages (from urllib3[secure]~=1.26->selenium) (21.0.0)\n",
      "Requirement already satisfied: cryptography>=1.3.4 in c:\\programdata\\anaconda3\\lib\\site-packages (from urllib3[secure]~=1.26->selenium) (3.4.8)\n",
      "Requirement already satisfied: certifi in c:\\programdata\\anaconda3\\lib\\site-packages (from urllib3[secure]~=1.26->selenium) (2021.10.8)\n",
      "Requirement already satisfied: pycparser in c:\\programdata\\anaconda3\\lib\\site-packages (from cffi>=1.14->trio~=0.17->selenium) (2.20)\n",
      "Requirement already satisfied: six>=1.5.2 in c:\\programdata\\anaconda3\\lib\\site-packages (from pyOpenSSL>=0.14->urllib3[secure]~=1.26->selenium) (1.15.0)\n",
      "Collecting h11<1,>=0.9.0\n",
      "  Downloading h11-0.12.0-py3-none-any.whl (54 kB)\n",
      "Installing collected packages: outcome, h11, wsproto, trio, trio-websocket, selenium\n",
      "Successfully installed h11-0.12.0 outcome-1.1.0 selenium-4.1.0 trio-0.19.0 trio-websocket-0.9.2 wsproto-1.0.0\n"
     ]
    }
   ],
   "source": [
    "!pip3 install selenium"
   ]
  },
  {
   "cell_type": "markdown",
   "id": "4309c7bb",
   "metadata": {},
   "source": [
    "### 화면 가로 확장"
   ]
  },
  {
   "cell_type": "code",
   "execution_count": 4,
   "id": "5806396d",
   "metadata": {},
   "outputs": [
    {
     "data": {
      "text/html": [
       "<style>.container { width:70% !important; }</style>"
      ],
      "text/plain": [
       "<IPython.core.display.HTML object>"
      ]
     },
     "metadata": {},
     "output_type": "display_data"
    }
   ],
   "source": [
    "# 화면 가로 확장 코드 (기본 width 50%)\n",
    "from IPython.core.display import display, HTML\n",
    "display(HTML(\"<style>.container { width:70% !important; }</style>\"))"
   ]
  },
  {
   "cell_type": "markdown",
   "id": "c73df720",
   "metadata": {},
   "source": [
    "### 데이터 저장을 위한 폴더 생성"
   ]
  },
  {
   "cell_type": "code",
   "execution_count": 8,
   "id": "699cefec",
   "metadata": {},
   "outputs": [],
   "source": [
    "import os\n",
    "try:\n",
    "    os.mkdir('./Weather_Data_CSV')\n",
    "except FileExistsError:\n",
    "    print('해당 폴더가 이미 존재합니다.\\n폴더를 확인해주세요.')"
   ]
  },
  {
   "cell_type": "markdown",
   "id": "087f64ee",
   "metadata": {},
   "source": [
    "### 정상 시각 일치를 위한 시각과 48개의 순번 Dict"
   ]
  },
  {
   "cell_type": "code",
   "execution_count": 1,
   "id": "2fc6ccf9",
   "metadata": {},
   "outputs": [
    {
     "name": "stdout",
     "output_type": "stream",
     "text": [
      "{1: '11:50 PM', 2: '12:20 AM', 3: '12:50 AM', 4: '1:20 AM', 5: '1:50 AM', 6: '2:20 AM', 7: '2:50 AM', 8: '3:20 AM', 9: '3:50 AM', 10: '4:20 AM', 11: '4:50 AM', 12: '5:20 AM', 13: '5:50 AM', 14: '6:20 AM', 15: '6:50 AM', 16: '7:20 AM', 17: '7:50 AM', 18: '8:20 AM', 19: '8:50 AM', 20: '9:20 AM', 21: '9:50 AM', 22: '10:20 AM', 23: '10:50 AM', 24: '11:20 AM', 25: '11:50 AM', 26: '12:20 PM', 27: '12:50 PM', 28: '1:20 PM', 29: '1:50 PM', 30: '2:20 PM', 31: '2:50 PM', 32: '3:20 PM', 33: '3:50 PM', 34: '4:20 PM', 35: '4:50 PM', 36: '5:20 PM', 37: '5:50 PM', 38: '6:20 PM', 39: '6:50 PM', 40: '7:20 PM', 41: '7:50 PM', 42: '8:20 PM', 43: '8:50 PM', 44: '9:20 PM', 45: '9:50 PM', 46: '10:20 PM', 47: '10:50 PM', 48: '11:20 PM'}\n",
      "\n"
     ]
    }
   ],
   "source": [
    "# 11:20 PM부터 데이터가 존재하는 날을 위한 시간 순차 번호\n",
    "clk_11_48 = {'11:50 PM':1, '12:20 AM':2, '12:50 AM':3, '1:20 AM':4, '1:50 AM':5, '2:20 AM':6,\n",
    "         '2:50 AM':7, '3:20 AM':8, '3:50 AM':9, '4:20 AM':10, '4:50 AM':11, '5:20 AM':12,\n",
    "         '5:50 AM':13, '6:20 AM':14, '6:50 AM':15, '7:20 AM':16, '7:50 AM':17, '8:20 AM':18,\n",
    "         '8:50 AM':19, '9:20 AM':20, '9:50 AM':21, '10:20 AM':22, '10:50 AM':23, '11:20 AM':24,\n",
    "         '11:50 AM':25, '12:20 PM':26, '12:50 PM':27, '1:20 PM':28, '1:50 PM':29, '2:20 PM':30,\n",
    "         '2:50 PM':31, '3:20 PM':32, '3:50 PM':33, '4:20 PM':34, '4:50 PM':35, '5:20 PM':36,\n",
    "         '5:50 PM':37, '6:20 PM':38, '6:50 PM':39, '7:20 PM':40, '7:50 PM':41, '8:20 PM':42,\n",
    "         '8:50 PM':43, '9:20 PM':44, '9:50 PM':45, '10:20 PM':46, '10:50 PM':47, '11:20 PM':48}\n",
    "\n",
    "# reversed\n",
    "re_clk_11_48 = dict(map(reversed, clk_11_48.items()))\n",
    "print(re_clk_11_48)\n",
    "print()"
   ]
  },
  {
   "cell_type": "markdown",
   "id": "b44160c6",
   "metadata": {},
   "source": [
    "### 월 마다 다른 일수 반영, 48분할 하루의 온도를 스크래핑, 결측값 정상 입력 함수"
   ]
  },
  {
   "cell_type": "code",
   "execution_count": 7,
   "id": "a5305246",
   "metadata": {},
   "outputs": [],
   "source": [
    "def Monthly_Temp(YYYY, MM):\n",
    "    driver.implicitly_wait(10)\n",
    "    YYYY = y\n",
    "    MM = m\n",
    "\n",
    "    # 각 달마다 일수가 다르고 하루 단위로 동작되는 코드는 중복되는 내용이 많기 때문에 간소화를 위해 월 Dict 이용\n",
    "    month = {1:31, 2:28, 3:31, 4:30, 5:31, 6:30, 7:31, 8:31, 9:30, 10:31, 11:30, 12:31}\n",
    "    d=13\n",
    "    \n",
    "    while(d<month[m]):\n",
    "        d=d+1\n",
    "        print('====================< %d일 >=========================' %d)\n",
    "        print()\n",
    "        driver.get('https://www.wunderground.com/history/daily/gb/london/EGLC/date/'+str(y)+'-'+str(m)+'-'+str(d))\n",
    "        driver.implicitly_wait(10)\n",
    "        time.sleep(3)\n",
    "                \n",
    "        h = 1 # 여기서는 하루를 30분 단위로 쪼갠 온도 개수, 데이터의 개수를 h로 설정해서 반복시켰는데, 48이 안되는 경우도 있음.\n",
    "        h2 = 1\n",
    "        \n",
    "        clk = driver.find_element(By.XPATH,'//*[@id=\"inner-content\"]/div[2]/div[1]/div[5]/div[1]/div/lib-city-history-observation/div/div[2]/table/tbody/tr['+str(h2)+']/td[1]/span')\n",
    "        clk_str = clk.text\n",
    "        clk_str.split()\n",
    "\n",
    "\n",
    "        \n",
    "        # 11:50 PM 이전 시각부터 시작하는 경우\n",
    "        if(int(clk_11_48[clk_str])>=42 and int(clk_11_48[clk_str])!=48):\n",
    "            print('<11:50 PM 에서 시작하지 않은 경우>')\n",
    "            while(h2 < 49):\n",
    "                clk = driver.find_element(By.XPATH,'//*[@id=\"inner-content\"]/div[2]/div[1]/div[5]/div[1]/div/lib-city-history-observation/div/div[2]/table/tbody/tr['+str(h2)+']/td[1]/span')\n",
    "                clk_str = clk.text\n",
    "                clk_str.split()\n",
    "\n",
    "                if(clk_str == '11:50 PM'):\n",
    "                    h3 = 1\n",
    "                    while (h3 < 49):\n",
    "                        try:\n",
    "                            clk2 = driver.find_element(By.XPATH,'//*[@id=\"inner-content\"]/div[2]/div[1]/div[5]/div[1]/div/lib-city-history-observation/div/div[2]/table/tbody/tr['+str(h2)+']/td[1]/span')\n",
    "                            clk_str2 = clk2.text\n",
    "                            clk_str2.split()\n",
    "                            \n",
    "                            # 이 if문 진입전에는 h3 = 1로 고정된 상태.\n",
    "                            if(h3==clk_11_48[clk_str2]):\n",
    "                                date_list = [int(y), int(m), int(d)] # 연,월,일 정보로 구성된 날짜 리스트 생성\n",
    "                                date_list.append(clk_str2) # 날짜 리스트에 해당 시각 원소 추가\n",
    "                                date_list.append(int(h3)) # 해당 시각이 그날 48개로 분할된 시간 중 몇번째인지 원소 추가\n",
    "                                temp = driver.find_element(By.XPATH,'//*[@id=\"inner-content\"]/div[2]/div[1]/div[5]/div[1]/div/lib-city-history-observation/div/div[2]/table/tbody/tr['+str(h2)+']/td[2]')\n",
    "                                temp_str = temp.text # 스크래핑한 xpath의 온도를 str로 변경\n",
    "                                temp_list = date_list \n",
    "                                temp_list.append(temp_str) # 날짜+시각 리스트에 온도 원소 추가\n",
    "                                time.sleep(0.02)\n",
    "                                print(temp_list) # 확인용 print\n",
    "                                # 시간 루프 종료 지점\n",
    "\n",
    "                                # csv 추가 및 저장\n",
    "                                with open(\"./Weather_Data_CSV/\"+str(y)+'_'+str(m)+'_'+\"London_Temperature.csv\", 'a', newline='') as file:\n",
    "                                    writer = csv.writer(file)\n",
    "                                    writer.writerow(temp_list)\n",
    "                                print('h >>', str(h), 'h2 >>', str(h2), 'h3 >>', str(h3))\n",
    "                                print()\n",
    "                                h2 = h2+1\n",
    "                                h3 = h3+1\n",
    "\n",
    "                            else:\n",
    "                                date_list = [int(y), int(m), int(d)]\n",
    "                                print('결손 데이터 칸의 정상 시각 >>',re_clk_11_48[h])\n",
    "                                # 11:50 이전에 시작했는데 11:50 PM 시각 데이터도 없는 경우는 처리 방법 미해결.\n",
    "                                print('사이트에서 스크래핑한 시각 >>', clk_str2)\n",
    "                                date_list.append(re_clk_11_48[h])\n",
    "                                date_list.append(int(h3))\n",
    "                                na_list = date_list\n",
    "                                na_list.append(temp_str) # 직전 시각의 온도를 그대로 입력\n",
    "                                print(na_list)\n",
    "                                h3 = h3+1\n",
    "\n",
    "                                with open(\"./Weather_Data_CSV/\"+str(y)+'_'+str(m)+'_'+\"London_Temperature.csv\", 'a', newline='') as file:\n",
    "                                    writer = csv.writer(file)\n",
    "                                    writer.writerow(na_list)\n",
    "                                print('h >>', str(h), 'h2 >>', str(h2), 'h3 >>', str(h3))        \n",
    "                                print() \n",
    "                            h = h+1 \n",
    "\n",
    "                        except NoSuchElementException:\n",
    "                            if(h<49):\n",
    "                                # 맨 마지막에 데이터가 없어 조기 종료 되버리는 경우\n",
    "                                date_list = [int(y), int(m), int(d)]\n",
    "                                print('결손 데이터 칸의 정상 시각 >>',re_clk_11_48[h]) \n",
    "                                print('사이트에서 스크래핑한 시각 >>', clk_str)\n",
    "                                date_list.append(re_clk_11_48[h])\n",
    "                                date_list.append(int(h))\n",
    "                                na_list = date_list\n",
    "                                na_list.append(temp_str)\n",
    "                                print(na_list)\n",
    "\n",
    "                                with open(\"./Weather_Data_CSV/\"+str(y)+'_'+str(m)+'_'+\"London_Temperature.csv\", 'a', newline='') as file:\n",
    "                                    writer = csv.writer(file)\n",
    "                                    writer.writerow(na_list)\n",
    "                                    print('h >>', str(h), 'h2 >>', str(h2))        \n",
    "                                    print() \n",
    "                                h = h+1\n",
    "                            else:\n",
    "                                break\n",
    "                    break\n",
    "                    \n",
    "                else:\n",
    "                    h2=h2+1 \n",
    "\n",
    "\n",
    "                    \n",
    "        # 11:50 PM 데이터부터 시작하는 경우\n",
    "        else:\n",
    "            while (h2 < 49):\n",
    "                try:    \n",
    "                    clk = driver.find_element(By.XPATH,'//*[@id=\"inner-content\"]/div[2]/div[1]/div[5]/div[1]/div/lib-city-history-observation/div/div[2]/table/tbody/tr['+str(h2)+']/td[1]/span')\n",
    "                    clk_str = clk.text\n",
    "                    clk_str.split()\n",
    "\n",
    "                    \n",
    "                    if(h==clk_11_48[clk_str]):\n",
    "                        date_list = [int(y), int(m), int(d)] # 연,월,일 정보로 구성된 날짜 리스트 생성\n",
    "                        date_list.append(clk_str) # 날짜 리스트에 해당 시각 원소 추가\n",
    "                        date_list.append(int(h)) # 해당 시각이 그날 48개로 분할된 시간 중 몇번째인지 원소 추가\n",
    "                        temp = driver.find_element(By.XPATH,'//*[@id=\"inner-content\"]/div[2]/div[1]/div[5]/div[1]/div/lib-city-history-observation/div/div[2]/table/tbody/tr['+str(h2)+']/td[2]')\n",
    "                        temp_str = temp.text # 스크래핑한 xpath의 온도를 str로 변경\n",
    "                        temp_list = date_list \n",
    "                        temp_list.append(temp_str) # 날짜+시각 리스트에 온도 원소 추가\n",
    "                        time.sleep(0.02)\n",
    "                        print(temp_list) # 확인용 print\n",
    "                        # 시간 루프 종료 지점\n",
    "                            \n",
    "                        # csv 추가 및 저장\n",
    "                        with open(\"./Weather_Data_CSV/\"+str(y)+'_'+str(m)+'_'+\"London_Temperature.csv\", 'a', newline='') as file:\n",
    "                            writer = csv.writer(file)\n",
    "                            writer.writerow(temp_list)\n",
    "                        print('h >>', str(h), 'h2 >>', str(h2))\n",
    "                        print()\n",
    "                        h2 = h2+1\n",
    "                    \n",
    "                    else:\n",
    "                        date_list = [int(y), int(m), int(d)]\n",
    "                        print('결손 데이터 칸의 정상 시각 >>',re_clk_11_48[h])\n",
    "                        print('사이트에서 스크래핑한 시각 >>', clk_str)\n",
    "                        date_list.append(re_clk_11_48[h])\n",
    "                        date_list.append(int(h))\n",
    "                        na_list = date_list\n",
    "                        na_list.append(temp_str) # 직전 시각의 온도를 그대로 입력\n",
    "                        print(na_list)\n",
    "                            \n",
    "                        with open(\"./Weather_Data_CSV/\"+str(y)+'_'+str(m)+'_'+\"London_Temperature.csv\", 'a', newline='') as file:\n",
    "                            writer = csv.writer(file)\n",
    "                            writer.writerow(na_list)\n",
    "                        print('h >>', str(h), 'h2 >>', str(h2))        \n",
    "                        print() \n",
    "                    h = h+1\n",
    "                    \n",
    "                except NoSuchElementException:\n",
    "                    if(h<49):\n",
    "                        # 맨 마지막에 데이터가 없어 조기 종료 되버리는 경우\n",
    "                        date_list = [int(y), int(m), int(d)]\n",
    "                        print('결손 데이터 칸의 정상 시각 >>',re_clk_11_48[h])\n",
    "                        print('사이트에서 스크래핑한 시각 >>', clk_str)\n",
    "                        date_list.append(re_clk_11_48[h])\n",
    "                        date_list.append(int(h))\n",
    "                        na_list = date_list\n",
    "                        na_list.append(temp_str)\n",
    "                        print(na_list)\n",
    "                            \n",
    "                        with open(\"./Weather_Data_CSV/\"+str(y)+'_'+str(m)+'_'+\"London_Temperature.csv\", 'a', newline='') as file:\n",
    "                            writer = csv.writer(file)\n",
    "                            writer.writerow(na_list)\n",
    "                            print('h >>', str(h), 'h2 >>', str(h2))        \n",
    "                            print() \n",
    "                        h = h+1\n",
    "                        \n",
    "                    else:\n",
    "                        break\n",
    "                        \n",
    "                        \n",
    "                        \n",
    "        print('< Day End >')\n",
    "        print('\\n'*4)  \n",
    "            \n",
    "\n"
   ]
  },
  {
   "cell_type": "markdown",
   "id": "8d0a6f7f",
   "metadata": {},
   "source": [
    "#### 2013~2016년의 기상 데이터를 수집하는 전체 코드"
   ]
  },
  {
   "cell_type": "code",
   "execution_count": 8,
   "id": "fdb4c0f8",
   "metadata": {
    "scrolled": true
   },
   "outputs": [
    {
     "name": "stderr",
     "output_type": "stream",
     "text": [
      "C:\\Users\\Hwi\\AppData\\Local\\Temp/ipykernel_10416/2948034973.py:16: DeprecationWarning: executable_path has been deprecated, please pass in a Service object\n",
      "  driver = webdriver.Chrome(path)\n"
     ]
    },
    {
     "name": "stdout",
     "output_type": "stream",
     "text": [
      "====================< 2013년 >===================================\n",
      "====================< 5월 >==============================\n",
      "====================< 14일 >=========================\n",
      "\n",
      "<11:50 PM 에서 시작하지 않은 경우>\n"
     ]
    },
    {
     "ename": "NoSuchElementException",
     "evalue": "Message: no such element: Unable to locate element: {\"method\":\"xpath\",\"selector\":\"//*[@id=\"inner-content\"]/div[2]/div[1]/div[5]/div[1]/div/lib-city-history-observation/div/div[2]/table/tbody/tr[48]/td[1]/span\"}\n  (Session info: chrome=97.0.4692.99)\nStacktrace:\nBacktrace:\n\tOrdinal0 [0x00E8FDC3+2555331]\n\tOrdinal0 [0x00E277F1+2127857]\n\tOrdinal0 [0x00D22E08+1060360]\n\tOrdinal0 [0x00D4E49E+1238174]\n\tOrdinal0 [0x00D4E69B+1238683]\n\tOrdinal0 [0x00D79252+1413714]\n\tOrdinal0 [0x00D67B54+1342292]\n\tOrdinal0 [0x00D775FA+1406458]\n\tOrdinal0 [0x00D67976+1341814]\n\tOrdinal0 [0x00D436B6+1193654]\n\tOrdinal0 [0x00D44546+1197382]\n\tGetHandleVerifier [0x01029622+1619522]\n\tGetHandleVerifier [0x010D882C+2336844]\n\tGetHandleVerifier [0x00F223E1+541697]\n\tGetHandleVerifier [0x00F21443+537699]\n\tOrdinal0 [0x00E2D18E+2150798]\n\tOrdinal0 [0x00E31518+2168088]\n\tOrdinal0 [0x00E31660+2168416]\n\tOrdinal0 [0x00E3B330+2208560]\n\tBaseThreadInitThunk [0x7762FA29+25]\n\tRtlGetAppContainerNamedObjectPath [0x77EB7A9E+286]\n\tRtlGetAppContainerNamedObjectPath [0x77EB7A6E+238]\n",
     "output_type": "error",
     "traceback": [
      "\u001b[1;31m---------------------------------------------------------------------------\u001b[0m",
      "\u001b[1;31mNoSuchElementException\u001b[0m                    Traceback (most recent call last)",
      "\u001b[1;32m~\\AppData\\Local\\Temp/ipykernel_10416/2948034973.py\u001b[0m in \u001b[0;36m<module>\u001b[1;34m\u001b[0m\n\u001b[0;32m     42\u001b[0m \u001b[1;33m\u001b[0m\u001b[0m\n\u001b[0;32m     43\u001b[0m         \u001b[1;31m# DD\u001b[0m\u001b[1;33m\u001b[0m\u001b[1;33m\u001b[0m\u001b[0m\n\u001b[1;32m---> 44\u001b[1;33m         \u001b[0mMonthly_Temp\u001b[0m\u001b[1;33m(\u001b[0m\u001b[0my\u001b[0m\u001b[1;33m,\u001b[0m \u001b[0mm\u001b[0m\u001b[1;33m)\u001b[0m\u001b[1;33m\u001b[0m\u001b[1;33m\u001b[0m\u001b[0m\n\u001b[0m\u001b[0;32m     45\u001b[0m \u001b[1;33m\u001b[0m\u001b[0m\n\u001b[0;32m     46\u001b[0m         \u001b[0mm\u001b[0m\u001b[1;33m=\u001b[0m\u001b[0mm\u001b[0m\u001b[1;33m+\u001b[0m\u001b[1;36m1\u001b[0m\u001b[1;33m\u001b[0m\u001b[1;33m\u001b[0m\u001b[0m\n",
      "\u001b[1;32m~\\AppData\\Local\\Temp/ipykernel_10416/699773969.py\u001b[0m in \u001b[0;36mMonthly_Temp\u001b[1;34m(YYYY, MM)\u001b[0m\n\u001b[0;32m     29\u001b[0m             \u001b[0mprint\u001b[0m\u001b[1;33m(\u001b[0m\u001b[1;34m'<11:50 PM 에서 시작하지 않은 경우>'\u001b[0m\u001b[1;33m)\u001b[0m\u001b[1;33m\u001b[0m\u001b[1;33m\u001b[0m\u001b[0m\n\u001b[0;32m     30\u001b[0m             \u001b[1;32mwhile\u001b[0m\u001b[1;33m(\u001b[0m\u001b[0mh2\u001b[0m \u001b[1;33m<\u001b[0m \u001b[1;36m49\u001b[0m\u001b[1;33m)\u001b[0m\u001b[1;33m:\u001b[0m\u001b[1;33m\u001b[0m\u001b[1;33m\u001b[0m\u001b[0m\n\u001b[1;32m---> 31\u001b[1;33m                 \u001b[0mclk\u001b[0m \u001b[1;33m=\u001b[0m \u001b[0mdriver\u001b[0m\u001b[1;33m.\u001b[0m\u001b[0mfind_element\u001b[0m\u001b[1;33m(\u001b[0m\u001b[0mBy\u001b[0m\u001b[1;33m.\u001b[0m\u001b[0mXPATH\u001b[0m\u001b[1;33m,\u001b[0m\u001b[1;34m'//*[@id=\"inner-content\"]/div[2]/div[1]/div[5]/div[1]/div/lib-city-history-observation/div/div[2]/table/tbody/tr['\u001b[0m\u001b[1;33m+\u001b[0m\u001b[0mstr\u001b[0m\u001b[1;33m(\u001b[0m\u001b[0mh2\u001b[0m\u001b[1;33m)\u001b[0m\u001b[1;33m+\u001b[0m\u001b[1;34m']/td[1]/span'\u001b[0m\u001b[1;33m)\u001b[0m\u001b[1;33m\u001b[0m\u001b[1;33m\u001b[0m\u001b[0m\n\u001b[0m\u001b[0;32m     32\u001b[0m                 \u001b[0mclk_str\u001b[0m \u001b[1;33m=\u001b[0m \u001b[0mclk\u001b[0m\u001b[1;33m.\u001b[0m\u001b[0mtext\u001b[0m\u001b[1;33m\u001b[0m\u001b[1;33m\u001b[0m\u001b[0m\n\u001b[0;32m     33\u001b[0m                 \u001b[0mclk_str\u001b[0m\u001b[1;33m.\u001b[0m\u001b[0msplit\u001b[0m\u001b[1;33m(\u001b[0m\u001b[1;33m)\u001b[0m\u001b[1;33m\u001b[0m\u001b[1;33m\u001b[0m\u001b[0m\n",
      "\u001b[1;32m~\\anaconda3\\lib\\site-packages\\selenium\\webdriver\\remote\\webdriver.py\u001b[0m in \u001b[0;36mfind_element\u001b[1;34m(self, by, value)\u001b[0m\n\u001b[0;32m   1242\u001b[0m             \u001b[0mvalue\u001b[0m \u001b[1;33m=\u001b[0m \u001b[1;34m'[name=\"%s\"]'\u001b[0m \u001b[1;33m%\u001b[0m \u001b[0mvalue\u001b[0m\u001b[1;33m\u001b[0m\u001b[1;33m\u001b[0m\u001b[0m\n\u001b[0;32m   1243\u001b[0m \u001b[1;33m\u001b[0m\u001b[0m\n\u001b[1;32m-> 1244\u001b[1;33m         return self.execute(Command.FIND_ELEMENT, {\n\u001b[0m\u001b[0;32m   1245\u001b[0m             \u001b[1;34m'using'\u001b[0m\u001b[1;33m:\u001b[0m \u001b[0mby\u001b[0m\u001b[1;33m,\u001b[0m\u001b[1;33m\u001b[0m\u001b[1;33m\u001b[0m\u001b[0m\n\u001b[0;32m   1246\u001b[0m             'value': value})['value']\n",
      "\u001b[1;32m~\\anaconda3\\lib\\site-packages\\selenium\\webdriver\\remote\\webdriver.py\u001b[0m in \u001b[0;36mexecute\u001b[1;34m(self, driver_command, params)\u001b[0m\n\u001b[0;32m    422\u001b[0m         \u001b[0mresponse\u001b[0m \u001b[1;33m=\u001b[0m \u001b[0mself\u001b[0m\u001b[1;33m.\u001b[0m\u001b[0mcommand_executor\u001b[0m\u001b[1;33m.\u001b[0m\u001b[0mexecute\u001b[0m\u001b[1;33m(\u001b[0m\u001b[0mdriver_command\u001b[0m\u001b[1;33m,\u001b[0m \u001b[0mparams\u001b[0m\u001b[1;33m)\u001b[0m\u001b[1;33m\u001b[0m\u001b[1;33m\u001b[0m\u001b[0m\n\u001b[0;32m    423\u001b[0m         \u001b[1;32mif\u001b[0m \u001b[0mresponse\u001b[0m\u001b[1;33m:\u001b[0m\u001b[1;33m\u001b[0m\u001b[1;33m\u001b[0m\u001b[0m\n\u001b[1;32m--> 424\u001b[1;33m             \u001b[0mself\u001b[0m\u001b[1;33m.\u001b[0m\u001b[0merror_handler\u001b[0m\u001b[1;33m.\u001b[0m\u001b[0mcheck_response\u001b[0m\u001b[1;33m(\u001b[0m\u001b[0mresponse\u001b[0m\u001b[1;33m)\u001b[0m\u001b[1;33m\u001b[0m\u001b[1;33m\u001b[0m\u001b[0m\n\u001b[0m\u001b[0;32m    425\u001b[0m             response['value'] = self._unwrap_value(\n\u001b[0;32m    426\u001b[0m                 response.get('value', None))\n",
      "\u001b[1;32m~\\anaconda3\\lib\\site-packages\\selenium\\webdriver\\remote\\errorhandler.py\u001b[0m in \u001b[0;36mcheck_response\u001b[1;34m(self, response)\u001b[0m\n\u001b[0;32m    245\u001b[0m                 \u001b[0malert_text\u001b[0m \u001b[1;33m=\u001b[0m \u001b[0mvalue\u001b[0m\u001b[1;33m[\u001b[0m\u001b[1;34m'alert'\u001b[0m\u001b[1;33m]\u001b[0m\u001b[1;33m.\u001b[0m\u001b[0mget\u001b[0m\u001b[1;33m(\u001b[0m\u001b[1;34m'text'\u001b[0m\u001b[1;33m)\u001b[0m\u001b[1;33m\u001b[0m\u001b[1;33m\u001b[0m\u001b[0m\n\u001b[0;32m    246\u001b[0m             \u001b[1;32mraise\u001b[0m \u001b[0mexception_class\u001b[0m\u001b[1;33m(\u001b[0m\u001b[0mmessage\u001b[0m\u001b[1;33m,\u001b[0m \u001b[0mscreen\u001b[0m\u001b[1;33m,\u001b[0m \u001b[0mstacktrace\u001b[0m\u001b[1;33m,\u001b[0m \u001b[0malert_text\u001b[0m\u001b[1;33m)\u001b[0m  \u001b[1;31m# type: ignore[call-arg]  # mypy is not smart enough here\u001b[0m\u001b[1;33m\u001b[0m\u001b[1;33m\u001b[0m\u001b[0m\n\u001b[1;32m--> 247\u001b[1;33m         \u001b[1;32mraise\u001b[0m \u001b[0mexception_class\u001b[0m\u001b[1;33m(\u001b[0m\u001b[0mmessage\u001b[0m\u001b[1;33m,\u001b[0m \u001b[0mscreen\u001b[0m\u001b[1;33m,\u001b[0m \u001b[0mstacktrace\u001b[0m\u001b[1;33m)\u001b[0m\u001b[1;33m\u001b[0m\u001b[1;33m\u001b[0m\u001b[0m\n\u001b[0m\u001b[0;32m    248\u001b[0m \u001b[1;33m\u001b[0m\u001b[0m\n\u001b[0;32m    249\u001b[0m     \u001b[1;32mdef\u001b[0m \u001b[0m_value_or_default\u001b[0m\u001b[1;33m(\u001b[0m\u001b[0mself\u001b[0m\u001b[1;33m,\u001b[0m \u001b[0mobj\u001b[0m\u001b[1;33m:\u001b[0m \u001b[0mMapping\u001b[0m\u001b[1;33m[\u001b[0m\u001b[0m_KT\u001b[0m\u001b[1;33m,\u001b[0m \u001b[0m_VT\u001b[0m\u001b[1;33m]\u001b[0m\u001b[1;33m,\u001b[0m \u001b[0mkey\u001b[0m\u001b[1;33m:\u001b[0m \u001b[0m_KT\u001b[0m\u001b[1;33m,\u001b[0m \u001b[0mdefault\u001b[0m\u001b[1;33m:\u001b[0m \u001b[0m_VT\u001b[0m\u001b[1;33m)\u001b[0m \u001b[1;33m->\u001b[0m \u001b[0m_VT\u001b[0m\u001b[1;33m:\u001b[0m\u001b[1;33m\u001b[0m\u001b[1;33m\u001b[0m\u001b[0m\n",
      "\u001b[1;31mNoSuchElementException\u001b[0m: Message: no such element: Unable to locate element: {\"method\":\"xpath\",\"selector\":\"//*[@id=\"inner-content\"]/div[2]/div[1]/div[5]/div[1]/div/lib-city-history-observation/div/div[2]/table/tbody/tr[48]/td[1]/span\"}\n  (Session info: chrome=97.0.4692.99)\nStacktrace:\nBacktrace:\n\tOrdinal0 [0x00E8FDC3+2555331]\n\tOrdinal0 [0x00E277F1+2127857]\n\tOrdinal0 [0x00D22E08+1060360]\n\tOrdinal0 [0x00D4E49E+1238174]\n\tOrdinal0 [0x00D4E69B+1238683]\n\tOrdinal0 [0x00D79252+1413714]\n\tOrdinal0 [0x00D67B54+1342292]\n\tOrdinal0 [0x00D775FA+1406458]\n\tOrdinal0 [0x00D67976+1341814]\n\tOrdinal0 [0x00D436B6+1193654]\n\tOrdinal0 [0x00D44546+1197382]\n\tGetHandleVerifier [0x01029622+1619522]\n\tGetHandleVerifier [0x010D882C+2336844]\n\tGetHandleVerifier [0x00F223E1+541697]\n\tGetHandleVerifier [0x00F21443+537699]\n\tOrdinal0 [0x00E2D18E+2150798]\n\tOrdinal0 [0x00E31518+2168088]\n\tOrdinal0 [0x00E31660+2168416]\n\tOrdinal0 [0x00E3B330+2208560]\n\tBaseThreadInitThunk [0x7762FA29+25]\n\tRtlGetAppContainerNamedObjectPath [0x77EB7A9E+286]\n\tRtlGetAppContainerNamedObjectPath [0x77EB7A6E+238]\n"
     ]
    }
   ],
   "source": [
    "# 데이터 저장을 위한 csv \n",
    "import csv\n",
    "\n",
    "# Selenium : \n",
    "from selenium import webdriver\n",
    "from selenium.webdriver.common.by import By\n",
    "from selenium.webdriver.common.keys import Keys\n",
    "\n",
    "# 에러 예외처리를 위해 해당 예외를 먼저 임포트해줌.\n",
    "from selenium.common.exceptions import NoSuchElementException\n",
    "\n",
    "# 정상작동을 위해서 중간 시간 정보 호출 사이에 강제 딜레이를 잠깐 넣어줌.\n",
    "import time\n",
    "\n",
    "path = \"./chromedriver.exe\"\n",
    "driver = webdriver.Chrome(path)\n",
    "driver.implicitly_wait(10)\n",
    "\n",
    "# 기상포털 주소 1차 접속. 데이터가 충분히 표시된 2021년 1월 1일을 시작 화면으로 설정\n",
    "driver.get('https://www.wunderground.com/history/daily/gb/london/EGLC/date/2021-1-1')\n",
    "time.sleep(1)\n",
    "\n",
    "# 온도 표기 선택창 클릭\n",
    "driver.find_element(By.XPATH, '//*[@id=\"wuSettings\"]/i').click()\n",
    "time.sleep(1)\n",
    "\n",
    "# 섭씨 선택\n",
    "driver.find_element(By.XPATH, '//*[@id=\"wuSettings-quick\"]/div/a[2]').click()\n",
    "time.sleep(1)\n",
    "\n",
    "# YYYY\n",
    "# offset 2012\n",
    "y = 2013\n",
    "while(y<2016):\n",
    "    print('====================< %d년 >===================================' %y)\n",
    "    \n",
    "    # MM\n",
    "    m = 5\n",
    "    while(m<12):\n",
    "        \n",
    "        print('====================< %d월 >==============================' %m)\n",
    "        \n",
    "        # DD\n",
    "        Monthly_Temp(y, m)\n",
    "                \n",
    "        m=m+1              \n",
    "        print()\n",
    "    print('\\n')\n",
    "    \n",
    "    \"\"\"\n",
    "    여기서 당해의 1년 csv 데이터 합본 생성 (2013, 2014, 2015, 2016)\n",
    "    2013_1_London_Temperature 파일 이름에서\n",
    "    2013_m_London_Temperature 로 해서 m이 1~12 범위 내에서 반복 결합 되도록\n",
    "    파일이름은 2013_Unit_London_Temperature\n",
    "    \"\"\"\n",
    "    y=y+1\n",
    "\n",
    "print('스크래핑 종료.')\n",
    "driver.quit()"
   ]
  },
  {
   "cell_type": "markdown",
   "id": "984fd917",
   "metadata": {},
   "source": [
    "#### 1년 기준 12달치 통합 저장 코드"
   ]
  },
  {
   "cell_type": "code",
   "execution_count": null,
   "id": "6f587afb",
   "metadata": {},
   "outputs": [],
   "source": [
    "# 보류"
   ]
  }
 ],
 "metadata": {
  "kernelspec": {
   "display_name": "Python 3 (ipykernel)",
   "language": "python",
   "name": "python3"
  },
  "language_info": {
   "codemirror_mode": {
    "name": "ipython",
    "version": 3
   },
   "file_extension": ".py",
   "mimetype": "text/x-python",
   "name": "python",
   "nbconvert_exporter": "python",
   "pygments_lexer": "ipython3",
   "version": "3.9.7"
  }
 },
 "nbformat": 4,
 "nbformat_minor": 5
}
