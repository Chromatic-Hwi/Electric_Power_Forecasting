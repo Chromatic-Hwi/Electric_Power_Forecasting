{
 "cells": [
  {
   "cell_type": "markdown",
   "id": "79db435a",
   "metadata": {},
   "source": [
    "##  기상 데이터 시간 및 평균값 정리"
   ]
  },
  {
   "cell_type": "markdown",
   "id": "4309c7bb",
   "metadata": {},
   "source": [
    "### 화면 가로 확장"
   ]
  },
  {
   "cell_type": "code",
   "execution_count": 22,
   "id": "5806396d",
   "metadata": {},
   "outputs": [
    {
     "data": {
      "text/html": [
       "<style>.container { width:70% !important; }</style>"
      ],
      "text/plain": [
       "<IPython.core.display.HTML object>"
      ]
     },
     "metadata": {},
     "output_type": "display_data"
    }
   ],
   "source": [
    "# 화면 가로 확장 코드 (기본 width 50%)\n",
    "from IPython.core.display import display, HTML\n",
    "display(HTML(\"<style>.container { width:70% !important; }</style>\"))"
   ]
  },
  {
   "cell_type": "markdown",
   "id": "c73df720",
   "metadata": {},
   "source": [
    "### 데이터 저장을 위한 폴더 생성"
   ]
  },
  {
   "cell_type": "code",
   "execution_count": 6,
   "id": "699cefec",
   "metadata": {},
   "outputs": [],
   "source": [
    "import os\n",
    "try:\n",
    "    os.mkdir('./Weather_Data_24H_CSV')\n",
    "except FileExistsError:\n",
    "    print('해당 폴더가 이미 존재합니다.\\n폴더를 확인해주세요.')"
   ]
  },
  {
   "cell_type": "code",
   "execution_count": 7,
   "id": "4618cc51",
   "metadata": {},
   "outputs": [
    {
     "name": "stdout",
     "output_type": "stream",
     "text": [
      "1 ~ 2 < 0 >\n",
      "3 ~ 4 < 1 >\n",
      "5 ~ 6 < 2 >\n",
      "7 ~ 8 < 3 >\n",
      "9 ~ 10 < 4 >\n",
      "11 ~ 12 < 5 >\n",
      "13 ~ 14 < 6 >\n",
      "15 ~ 16 < 7 >\n",
      "17 ~ 18 < 8 >\n",
      "19 ~ 20 < 9 >\n",
      "21 ~ 22 < 10 >\n",
      "23 ~ 24 < 11 >\n",
      "25 ~ 26 < 12 >\n",
      "27 ~ 28 < 13 >\n",
      "29 ~ 30 < 14 >\n",
      "31 ~ 32 < 15 >\n",
      "33 ~ 34 < 16 >\n",
      "35 ~ 36 < 17 >\n",
      "37 ~ 38 < 18 >\n",
      "39 ~ 40 < 19 >\n",
      "41 ~ 42 < 20 >\n",
      "43 ~ 44 < 21 >\n",
      "45 ~ 46 < 22 >\n",
      "47 ~ 48 < 23 >\n"
     ]
    }
   ],
   "source": [
    "NN = 0\n",
    "for N in range(1, 48, 2):\n",
    "    print(N, '~', N+1, '<', NN, '>')\n",
    "    NN=NN+1"
   ]
  },
  {
   "cell_type": "code",
   "execution_count": 48,
   "id": "80bcef8e",
   "metadata": {},
   "outputs": [
    {
     "data": {
      "text/plain": [
       "10.0"
      ]
     },
     "execution_count": 48,
     "metadata": {},
     "output_type": "execute_result"
    }
   ],
   "source": [
    "import pandas as pd\n",
    "y = 2013\n",
    "m = 1\n",
    "N = 0\n",
    "csv = pd.read_csv(\"./Weather_Data_CSV/\"+str(y)+'_'+str(m)+'_'+\"London_Temperature.csv\", \n",
    "                  names = ['Year', 'Month', 'Day', 'Time', 'Seq', 'Temp', '°C'], \n",
    "                  header = None, encoding='cp949')\n",
    "csv_s1 = csv.loc[[int(N)], :]\n",
    "csv_s2 = csv.loc[[int(N+1)], :]\n",
    "(int(csv_s1['Temp']) + int(csv_s2['Temp']))/2"
   ]
  },
  {
   "cell_type": "code",
   "execution_count": null,
   "id": "0ed15ee2",
   "metadata": {},
   "outputs": [],
   "source": [
    "import csv\n",
    "import pandas as pd\n",
    "\n",
    "month = {1:31, 2:28, 3:31, 4:30, 5:31, 6:30, 7:31, 8:31, 9:30, 10:31, 11:30, 12:31}\n",
    "\n",
    "for y in range(2013, 2017):\n",
    "    for m in range(1,13):\n",
    "        # 1월을 예로 1일~31일이지만 반복만 31번 이뤄지면 되기 떄문에 0~31로 카운트해도 무관\n",
    "        for d in range(month[m]):\n",
    "            csv = pd.read_csv(\"./Weather_Data_CSV/\"+str(y)+'_'+str(m)+'_'+\"London_Temperature.csv\", \n",
    "                      names = ['Year', 'Month', 'Day', 'Time', 'Seq', 'Temp', '°C'], \n",
    "                      header = None, encoding='cp949')\n",
    "            \n",
    "            NN=0\n",
    "            for N in range(1, 48, 2):\n",
    "                csv_s1 = csv.loc[[int(N)], :]\n",
    "                csv_s2 = csv.loc[[int(N+1)], :]\n",
    "                Temp_AVG = (int(csv_s1['Temp']) + int(csv_s2['Temp'])) / 2\n",
    "            \n",
    "        \n",
    "        \n",
    "        \"\"\"\n",
    "        with open(\"./Weather_Data_24H_CSV/\"+str(y)+'_'+str(m)+'_'+\"London_Temperature_24H.csv\", 'a', newline='') as file:\n",
    "        writer = csv.writer(file)\n",
    "        writer.writerow(hourly_list)       \n",
    "        \"\"\"\n",
    "        m=m+1\n",
    "    y=y+1\n",
    "        \n"
   ]
  }
 ],
 "metadata": {
  "kernelspec": {
   "display_name": "Python 3 (ipykernel)",
   "language": "python",
   "name": "python3"
  },
  "language_info": {
   "codemirror_mode": {
    "name": "ipython",
    "version": 3
   },
   "file_extension": ".py",
   "mimetype": "text/x-python",
   "name": "python",
   "nbconvert_exporter": "python",
   "pygments_lexer": "ipython3",
   "version": "3.9.7"
  }
 },
 "nbformat": 4,
 "nbformat_minor": 5
}
