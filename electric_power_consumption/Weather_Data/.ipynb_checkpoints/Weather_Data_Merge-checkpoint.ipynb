{
 "cells": [
  {
   "cell_type": "markdown",
   "id": "79db435a",
   "metadata": {},
   "source": [
    "##  기상 데이터 시간 및 평균값 정리"
   ]
  },
  {
   "cell_type": "markdown",
   "id": "4309c7bb",
   "metadata": {},
   "source": [
    "### 화면 가로 확장"
   ]
  },
  {
   "cell_type": "code",
   "execution_count": 22,
   "id": "5806396d",
   "metadata": {},
   "outputs": [
    {
     "data": {
      "text/html": [
       "<style>.container { width:70% !important; }</style>"
      ],
      "text/plain": [
       "<IPython.core.display.HTML object>"
      ]
     },
     "metadata": {},
     "output_type": "display_data"
    }
   ],
   "source": [
    "# 화면 가로 확장 코드 (기본 width 50%)\n",
    "from IPython.core.display import display, HTML\n",
    "display(HTML(\"<style>.container { width:70% !important; }</style>\"))"
   ]
  },
  {
   "cell_type": "markdown",
   "id": "c73df720",
   "metadata": {},
   "source": [
    "### 데이터 저장을 위한 폴더 생성"
   ]
  },
  {
   "cell_type": "code",
   "execution_count": 54,
   "id": "699cefec",
   "metadata": {},
   "outputs": [],
   "source": [
    "import os\n",
    "try:\n",
    "    os.mkdir('./Weather_Data_24H_CSV')\n",
    "except FileExistsError:\n",
    "    print('해당 폴더가 이미 존재합니다.\\n폴더를 확인해주세요.')"
   ]
  },
  {
   "cell_type": "code",
   "execution_count": 7,
   "id": "c5de3e15",
   "metadata": {},
   "outputs": [
    {
     "name": "stdout",
     "output_type": "stream",
     "text": [
      "1 ~ 2 < 0 >\n",
      "3 ~ 4 < 1 >\n",
      "5 ~ 6 < 2 >\n",
      "7 ~ 8 < 3 >\n",
      "9 ~ 10 < 4 >\n",
      "11 ~ 12 < 5 >\n",
      "13 ~ 14 < 6 >\n",
      "15 ~ 16 < 7 >\n",
      "17 ~ 18 < 8 >\n",
      "19 ~ 20 < 9 >\n",
      "21 ~ 22 < 10 >\n",
      "23 ~ 24 < 11 >\n",
      "25 ~ 26 < 12 >\n",
      "27 ~ 28 < 13 >\n",
      "29 ~ 30 < 14 >\n",
      "31 ~ 32 < 15 >\n",
      "33 ~ 34 < 16 >\n",
      "35 ~ 36 < 17 >\n",
      "37 ~ 38 < 18 >\n",
      "39 ~ 40 < 19 >\n",
      "41 ~ 42 < 20 >\n",
      "43 ~ 44 < 21 >\n",
      "45 ~ 46 < 22 >\n",
      "47 ~ 48 < 23 >\n"
     ]
    }
   ],
   "source": [
    "NN = 0\n",
    "for N in range(1, 48, 2):\n",
    "    print(N, '~', N+1, '<', NN, '>')\n",
    "    NN=NN+1"
   ]
  },
  {
   "cell_type": "code",
   "execution_count": 75,
   "id": "0ed15ee2",
   "metadata": {},
   "outputs": [
    {
     "name": "stdout",
     "output_type": "stream",
     "text": [
      "[2013, 1, 1, 0, 10.0, '℃']\n"
     ]
    },
    {
     "ename": "AttributeError",
     "evalue": "'DataFrame' object has no attribute 'writer'",
     "output_type": "error",
     "traceback": [
      "\u001b[1;31m---------------------------------------------------------------------------\u001b[0m",
      "\u001b[1;31mAttributeError\u001b[0m                            Traceback (most recent call last)",
      "\u001b[1;32m~\\AppData\\Local\\Temp/ipykernel_11672/3938780298.py\u001b[0m in \u001b[0;36m<module>\u001b[1;34m\u001b[0m\n\u001b[0;32m     21\u001b[0m                 \u001b[0mprint\u001b[0m\u001b[1;33m(\u001b[0m\u001b[0mNew_list\u001b[0m\u001b[1;33m)\u001b[0m\u001b[1;33m\u001b[0m\u001b[1;33m\u001b[0m\u001b[0m\n\u001b[0;32m     22\u001b[0m                 \u001b[1;32mwith\u001b[0m \u001b[0mopen\u001b[0m\u001b[1;33m(\u001b[0m\u001b[1;34m\"./Weather_Data_24H_CSV/\"\u001b[0m\u001b[1;33m+\u001b[0m\u001b[0mstr\u001b[0m\u001b[1;33m(\u001b[0m\u001b[0my\u001b[0m\u001b[1;33m)\u001b[0m\u001b[1;33m+\u001b[0m\u001b[1;34m'_'\u001b[0m\u001b[1;33m+\u001b[0m\u001b[0mstr\u001b[0m\u001b[1;33m(\u001b[0m\u001b[0mm\u001b[0m\u001b[1;33m)\u001b[0m\u001b[1;33m+\u001b[0m\u001b[1;34m'_'\u001b[0m\u001b[1;33m+\u001b[0m\u001b[1;34m\"London_Temperature_24H.csv\"\u001b[0m\u001b[1;33m,\u001b[0m \u001b[1;34m'a'\u001b[0m\u001b[1;33m,\u001b[0m \u001b[0mnewline\u001b[0m\u001b[1;33m=\u001b[0m\u001b[1;34m''\u001b[0m\u001b[1;33m)\u001b[0m \u001b[1;32mas\u001b[0m \u001b[0mfile\u001b[0m\u001b[1;33m:\u001b[0m\u001b[1;33m\u001b[0m\u001b[1;33m\u001b[0m\u001b[0m\n\u001b[1;32m---> 23\u001b[1;33m                     \u001b[0mwriter\u001b[0m \u001b[1;33m=\u001b[0m \u001b[0mcsv\u001b[0m\u001b[1;33m.\u001b[0m\u001b[0mwriter\u001b[0m\u001b[1;33m(\u001b[0m\u001b[0mfile\u001b[0m\u001b[1;33m)\u001b[0m\u001b[1;33m\u001b[0m\u001b[1;33m\u001b[0m\u001b[0m\n\u001b[0m\u001b[0;32m     24\u001b[0m                     \u001b[0mwriter\u001b[0m\u001b[1;33m.\u001b[0m\u001b[0mwriterow\u001b[0m\u001b[1;33m(\u001b[0m\u001b[0mNew_list\u001b[0m\u001b[1;33m)\u001b[0m\u001b[1;33m\u001b[0m\u001b[1;33m\u001b[0m\u001b[0m\n\u001b[0;32m     25\u001b[0m \u001b[1;33m\u001b[0m\u001b[0m\n",
      "\u001b[1;32m~\\anaconda3\\lib\\site-packages\\pandas\\core\\generic.py\u001b[0m in \u001b[0;36m__getattr__\u001b[1;34m(self, name)\u001b[0m\n\u001b[0;32m   5485\u001b[0m         ):\n\u001b[0;32m   5486\u001b[0m             \u001b[1;32mreturn\u001b[0m \u001b[0mself\u001b[0m\u001b[1;33m[\u001b[0m\u001b[0mname\u001b[0m\u001b[1;33m]\u001b[0m\u001b[1;33m\u001b[0m\u001b[1;33m\u001b[0m\u001b[0m\n\u001b[1;32m-> 5487\u001b[1;33m         \u001b[1;32mreturn\u001b[0m \u001b[0mobject\u001b[0m\u001b[1;33m.\u001b[0m\u001b[0m__getattribute__\u001b[0m\u001b[1;33m(\u001b[0m\u001b[0mself\u001b[0m\u001b[1;33m,\u001b[0m \u001b[0mname\u001b[0m\u001b[1;33m)\u001b[0m\u001b[1;33m\u001b[0m\u001b[1;33m\u001b[0m\u001b[0m\n\u001b[0m\u001b[0;32m   5488\u001b[0m \u001b[1;33m\u001b[0m\u001b[0m\n\u001b[0;32m   5489\u001b[0m     \u001b[1;32mdef\u001b[0m \u001b[0m__setattr__\u001b[0m\u001b[1;33m(\u001b[0m\u001b[0mself\u001b[0m\u001b[1;33m,\u001b[0m \u001b[0mname\u001b[0m\u001b[1;33m:\u001b[0m \u001b[0mstr\u001b[0m\u001b[1;33m,\u001b[0m \u001b[0mvalue\u001b[0m\u001b[1;33m)\u001b[0m \u001b[1;33m->\u001b[0m \u001b[1;32mNone\u001b[0m\u001b[1;33m:\u001b[0m\u001b[1;33m\u001b[0m\u001b[1;33m\u001b[0m\u001b[0m\n",
      "\u001b[1;31mAttributeError\u001b[0m: 'DataFrame' object has no attribute 'writer'"
     ]
    }
   ],
   "source": [
    "import csv\n",
    "import pandas as pd\n",
    "\n",
    "month = {1:31, 2:28, 3:31, 4:30, 5:31, 6:30, 7:31, 8:31, 9:30, 10:31, 11:30, 12:31}\n",
    "\n",
    "for y in range(2013, 2017):\n",
    "    for m in range(1,13):\n",
    "        # 예로 1월은 31일 까지이지만 range에서는 0~30으로 출력. 하지만 반복이 31번이 되기만 하면 무관\n",
    "        for d in range(month[m]):\n",
    "            D = d+1\n",
    "            csv = pd.read_csv(\"./Weather_Data_CSV/\"+str(y)+'_'+str(m)+'_'+\"London_Temperature.csv\", \n",
    "                      names = ['Year', 'Month', 'Day', 'Time', 'Seq', 'Temp', '°C'], \n",
    "                      header = None, encoding='cp949')\n",
    "            \n",
    "            NN=0\n",
    "            for N in range(0, 47, 2):\n",
    "                csv_s1 = csv.loc[[int(N)], :]\n",
    "                csv_s2 = csv.loc[[int(N+1)], :]\n",
    "                Temp_AVG = (int(csv_s1['Temp']) + int(csv_s2['Temp'])) / 2\n",
    "                New_list=[int(y), int(m), int(D), int(NN), float(Temp_AVG), '℃']\n",
    "                print(New_list)\n",
    "                \n",
    "                with open(\"./Weather_Data_24H_CSV/\"+str(y)+'_'+str(m)+'_'+\"London_Temperature_24H.csv\", 'a', newline='') as file:\n",
    "                    writer = csv.writer(file)\n",
    "                    writer.writerow(New_list)\n",
    "                \n",
    "                NN=NN+1\n",
    "                \n",
    "        m=m+1\n",
    "    y=y+1\n",
    "        \n"
   ]
  },
  {
   "cell_type": "code",
   "execution_count": null,
   "id": "8500e243",
   "metadata": {},
   "outputs": [],
   "source": [
    "\"\"\"\n",
    "여기서 13년 ~ 16년, 1월 ~ 12월 반복하는 것을 이용해서 \n",
    "컬럼명만 붙히는 코드를 따로 스크래핑 코드에 추가해도 좋을것 같음.\n",
    "\"\"\""
   ]
  }
 ],
 "metadata": {
  "kernelspec": {
   "display_name": "Python 3 (ipykernel)",
   "language": "python",
   "name": "python3"
  },
  "language_info": {
   "codemirror_mode": {
    "name": "ipython",
    "version": 3
   },
   "file_extension": ".py",
   "mimetype": "text/x-python",
   "name": "python",
   "nbconvert_exporter": "python",
   "pygments_lexer": "ipython3",
   "version": "3.9.7"
  }
 },
 "nbformat": 4,
 "nbformat_minor": 5
}
