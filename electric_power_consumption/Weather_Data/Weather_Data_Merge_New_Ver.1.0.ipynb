{
 "cells": [
  {
   "cell_type": "markdown",
   "id": "79db435a",
   "metadata": {},
   "source": [
    "##  기상 데이터 시간 및 평균값 정리"
   ]
  },
  {
   "cell_type": "markdown",
   "id": "4309c7bb",
   "metadata": {},
   "source": [
    "### 화면 가로 확장"
   ]
  },
  {
   "cell_type": "code",
   "execution_count": 17,
   "id": "5806396d",
   "metadata": {},
   "outputs": [
    {
     "data": {
      "text/html": [
       "<style>.container { width:70% !important; }</style>"
      ],
      "text/plain": [
       "<IPython.core.display.HTML object>"
      ]
     },
     "metadata": {},
     "output_type": "display_data"
    }
   ],
   "source": [
    "# 화면 가로 확장 코드 (기본 width 50%)\n",
    "from IPython.core.display import display, HTML\n",
    "display(HTML(\"<style>.container { width:70% !important; }</style>\"))"
   ]
  },
  {
   "cell_type": "markdown",
   "id": "c73df720",
   "metadata": {},
   "source": [
    "### 데이터 저장을 위한 폴더 생성"
   ]
  },
  {
   "cell_type": "code",
   "execution_count": 124,
   "id": "698a84cb",
   "metadata": {},
   "outputs": [
    {
     "name": "stdout",
     "output_type": "stream",
     "text": [
      "폴더 생성 완료.\n"
     ]
    }
   ],
   "source": [
    "import os\n",
    "try:\n",
    "    os.mkdir('./Weather_Data_1minute_CSV')\n",
    "    for y in range(2013, 2017):\n",
    "        os.mkdir('./Weather_Data_1minute_CSV/'+str(y))\n",
    "    print('폴더 생성 완료.')\n",
    "except FileExistsError:\n",
    "    print('해당 폴더가 이미 존재합니다.\\n폴더를 확인해주세요.')"
   ]
  },
  {
   "cell_type": "code",
   "execution_count": 125,
   "id": "374560f9",
   "metadata": {},
   "outputs": [
    {
     "data": {
      "text/plain": [
       "'\\n하루 기준 30분 단위 48개로 나뉘어져 있으니\\n데이터간 차를 30개의 칸으로 분할, 차이는 두 값의 차이를 30으로 나눠서 차례로 입력\\n두 데이터 사이에는 29개의 데이터를 삽입해야 하며 양쪽 데이터는 1분은 +ㅁ*1, 2분은 +ㅁ*2, 3분은 +ㅁ*3....식\\n'"
      ]
     },
     "execution_count": 125,
     "metadata": {},
     "output_type": "execute_result"
    }
   ],
   "source": [
    "\"\"\"\n",
    "하루 기준 30분 단위 48개로 나뉘어져 있으니\n",
    "데이터간 차를 30개의 칸으로 분할, 차이는 두 값의 차이를 30으로 나눠서 차례로 입력\n",
    "두 데이터 사이에는 29개의 데이터를 삽입해야 하며 양쪽 데이터는 1분은 +ㅁ*1, 2분은 +ㅁ*2, 3분은 +ㅁ*3....식\n",
    "\"\"\""
   ]
  },
  {
   "cell_type": "code",
   "execution_count": 126,
   "id": "e2ba735f",
   "metadata": {},
   "outputs": [
    {
     "name": "stdout",
     "output_type": "stream",
     "text": [
      "20\n"
     ]
    }
   ],
   "source": [
    "T=csv_origin.loc[[1], :][\"Time\"].values[0]\n",
    "print(T[-5:-3])"
   ]
  },
  {
   "cell_type": "code",
   "execution_count": 127,
   "id": "b5206267",
   "metadata": {},
   "outputs": [
    {
     "name": "stdout",
     "output_type": "stream",
     "text": [
      "Start Working!!\n",
      "Job Done!!\n"
     ]
    }
   ],
   "source": [
    "##### import csv\n",
    "import pandas as pd\n",
    "import sys\n",
    "\n",
    "print('Start Working!!')\n",
    "\n",
    "month = {1:31, 2:28, 3:31, 4:30, 5:31, 6:30, 7:31, 8:31, 9:30, 10:31, 11:30, 12:31}\n",
    "\n",
    "for y in range(2013, 2017):\n",
    "    for m in range(1,13):\n",
    "        # 예로 1월은 31일 까지이지만 range에서는 0~30으로 출력. 하지만 반복이 31번이 되기만 하면 무관\n",
    "        \n",
    "        for d in range(month[m]):\n",
    "            \n",
    "            D=d+1\n",
    "            csv_origin = pd.read_csv(\"./Weather_Data_CSV/\"+str(y)+'_'+str(m)+'_'+\"London_Temperature.csv\", \n",
    "                      names = ['Year', 'Month', 'Day', 'Time', 'Seq', 'Temp', \"'C\", 'Humidity', '%'], \n",
    "                      header = None, encoding='cp949')\n",
    "            \n",
    "            N=0\n",
    "            Day_list=[]\n",
    "            s=0\n",
    "            for s in range(s, s+48):\n",
    "                Time=str(csv_origin.loc[[s], :][\"Time\"].values[0])                \n",
    "                csv_s1 = csv_origin.loc[[int(s)], :]\n",
    "                csv_s2 = csv_origin.loc[[int(s+1)], :]\n",
    "                Temp_Start=int(csv_s1['Temp'])\n",
    "                Humi_Start=int(csv_s1['Humidity'])\n",
    "                Temp_End=int(csv_s2['Temp'])\n",
    "                Humi_End=int(csv_s2['Humidity'])\n",
    "                Temp_1 = (Temp_End-Temp_Start) / 30\n",
    "                Humi_1 = (Humi_End-Humi_Start) / 30\n",
    "                YMD = '{}-{}-{}'.format(y,m,D)\n",
    "\n",
    "                if Time[-5:-3]==\"50\":\n",
    "                    for n in range(0,30):\n",
    "                        Hour_list=[]\n",
    "                        if n==29:\n",
    "                            Hour_list=[YMD, Time, n, float(Temp_End), \"'C\", float(Humi_End), \"%\"]\n",
    "                        else:\n",
    "                            Hour_list=[YMD, Time, n, round(float(Temp_Start+Temp_1*n),3), \"'C\", round(float(Humi_Start+Humi_1*n),3), \"%\"]\n",
    "                        Day_list.append(Hour_list)\n",
    "                        N+=1\n",
    "                        \n",
    "                if Time[-5:-3]==\"20\":\n",
    "                    for n in range(30,60):\n",
    "                        Hour_list=[]\n",
    "                        if n==59:\n",
    "                            Hour_list=[YMD, Time, n, float(Temp_End), \"'C\", float(Humi_End), \"%\"]\n",
    "                        else:\n",
    "                            Hour_list=[YMD, Time, n, round(float(Temp_Start+Temp_1*n),3), \"'C\", round(float(Humi_Start+Humi_1*n),3), \"%\"]\n",
    "                        Day_list.append(Hour_list)\n",
    "                        N+=1\n",
    "\n",
    "            for elem in Day_list:\n",
    "                with open(\"./Weather_Data_1minute_CSV/\"+str(y)+'/'+str(y)+'_'+str(m)+'_'+\"London_Temperature_1minute.csv\", \n",
    "                          'a', newline='') as file:\n",
    "                        writer = csv.writer(file)\n",
    "                        writer.writerow(elem)\n",
    "    \n",
    "\n",
    "# 컬럼만 추가하는 작업\n",
    "for y in range(2013, 2017):\n",
    "    for m in range(1,13):\n",
    "        csv_column = pd.read_csv(\"./Weather_Data_1minute_CSV/\"+str(y)+'/'+str(y)+'_'+str(m)+'_'+\"London_Temperature_1minute.csv\", \n",
    "                                 names = ['DateTime', 'Origin-Time', \"Minute\", 'Temp', \"'C\", 'Humidity', '%'], \n",
    "                                 header = None, encoding='cp949')\n",
    "        \n",
    "        csv_column.to_csv(\"./Weather_Data_1minute_CSV/\"+str(y)+'/'+str(y)+'_'+str(m)+'_'+\"London_Temperature_1minute.csv\")\n",
    "    \n",
    "print('Job Done!!')"
   ]
  }
 ],
 "metadata": {
  "kernelspec": {
   "display_name": "Python 3 (ipykernel)",
   "language": "python",
   "name": "python3"
  },
  "language_info": {
   "codemirror_mode": {
    "name": "ipython",
    "version": 3
   },
   "file_extension": ".py",
   "mimetype": "text/x-python",
   "name": "python",
   "nbconvert_exporter": "python",
   "pygments_lexer": "ipython3",
   "version": "3.9.7"
  }
 },
 "nbformat": 4,
 "nbformat_minor": 5
}
