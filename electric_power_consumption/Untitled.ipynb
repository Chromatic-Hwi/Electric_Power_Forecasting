{
 "cells": [
  {
   "cell_type": "code",
   "execution_count": 7,
   "id": "34465001",
   "metadata": {},
   "outputs": [],
   "source": [
    "f = open('./Electric_DB_info.txt', 'r')\n",
    "lines = f.readlines()\n",
    "Electric_DB_info=[]\n",
    "for line in lines:\n",
    "    line = line.strip()\n",
    "    Electric_DB_info.append(line)\n",
    "f.close()"
   ]
  },
  {
   "cell_type": "code",
   "execution_count": 10,
   "id": "9315b58e",
   "metadata": {},
   "outputs": [
    {
     "data": {
      "text/plain": [
       "['Hwi', '1223', 'localhost', '127.19.12.23', 'combined_data']"
      ]
     },
     "execution_count": 10,
     "metadata": {},
     "output_type": "execute_result"
    }
   ],
   "source": [
    "Electric_DB_info"
   ]
  }
 ],
 "metadata": {
  "kernelspec": {
   "display_name": "Python 3 (ipykernel)",
   "language": "python",
   "name": "python3"
  },
  "language_info": {
   "codemirror_mode": {
    "name": "ipython",
    "version": 3
   },
   "file_extension": ".py",
   "mimetype": "text/x-python",
   "name": "python",
   "nbconvert_exporter": "python",
   "pygments_lexer": "ipython3",
   "version": "3.9.7"
  }
 },
 "nbformat": 4,
 "nbformat_minor": 5
}
