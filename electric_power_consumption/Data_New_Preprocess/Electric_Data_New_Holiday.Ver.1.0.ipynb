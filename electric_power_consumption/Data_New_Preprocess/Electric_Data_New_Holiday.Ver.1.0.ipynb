{
 "cells": [
  {
   "cell_type": "code",
   "execution_count": 1,
   "id": "3d4067e2",
   "metadata": {},
   "outputs": [
    {
     "data": {
      "text/html": [
       "<style>.container { width:70% !important; }</style>"
      ],
      "text/plain": [
       "<IPython.core.display.HTML object>"
      ]
     },
     "metadata": {},
     "output_type": "display_data"
    }
   ],
   "source": [
    "# 화면 가로 확장 코드 (기본 width 50%)\n",
    "from IPython.core.display import display, HTML\n",
    "display(HTML(\"<style>.container { width:70% !important; }</style>\"))"
   ]
  },
  {
   "cell_type": "code",
   "execution_count": 2,
   "id": "d834806c",
   "metadata": {},
   "outputs": [
    {
     "name": "stdout",
     "output_type": "stream",
     "text": [
      "해당 폴더가 이미 존재합니다.\n",
      "폴더를 확인해주세요.\n"
     ]
    }
   ],
   "source": [
    "import os\n",
    "try:\n",
    "    os.mkdir('./New_Electirc_Data_CSV_Holiday')\n",
    "    print('폴더 생성 완료.')\n",
    "except FileExistsError:\n",
    "    print('해당 폴더가 이미 존재합니다.\\n폴더를 확인해주세요.')"
   ]
  },
  {
   "cell_type": "code",
   "execution_count": 11,
   "id": "3048cc68",
   "metadata": {},
   "outputs": [
    {
     "name": "stdout",
     "output_type": "stream",
     "text": [
      "시작\n",
      "\n",
      "\n",
      "\n",
      "\n",
      "\n",
      " ------------------------------< 휴일 처리 끝!! >------------------------------\n",
      "\n"
     ]
    }
   ],
   "source": [
    "import datetime\n",
    "import pandas as pd\n",
    "import numpy as np\n",
    "import csv\n",
    "\n",
    "def get_days(yyyy, mm, dd):\n",
    "    days = ['월', '화', '수', '목', '금', '토', '일']\n",
    "    return days[datetime.date(yyyy, mm, dd).weekday()]\n",
    "\n",
    "\"\"\"\n",
    "영국의 휴일로는 공통휴일로 선정.\n",
    "새해 첫날, 성 금요일(=부활절 이틀 전 금요일), 노동절 휴일(5월 첫 월요일), 춘계 휴일(5월의 마지막 월요일), 크리스마스, 박싱데이(12/26)들과 대체휴일\n",
    "\"\"\"\n",
    "\n",
    "holidays = ['2013-01-01', '2013-03-29', '2013-05-06', '2013-05-27', '2013-12-25', '2013-12-26',\n",
    "           '2014-01-01', '2014-04-18', '2014-05-05', '2014-05-26', '2014-12-25', '2014-12-26',\n",
    "           '2015-01-01', '2015-04-03', '2015-05-04', '2015-05-25', '2015-12-25', '2015-12-26', '2015-12-28',\n",
    "           '2016-01-01', '2016-03-25', '2016-05-02', '2016-05-30', '2016-12-25', '2016-12-26', '2016-12-27']\n",
    "\n",
    "month = {1:31, 2:28, 3:31, 4:30, 5:31, 6:30, 7:31, 8:31, 9:30, 10:31, 11:30, 12:31}\n",
    "day=''\n",
    "holiday=''\n",
    "\n",
    "print(\"시작\\n\")\n",
    "\n",
    "for y in range(2013, 2017):\n",
    "    for m in range(1,13):\n",
    "        CSV_NEW = pd.read_csv(\"./New_Electirc_Data_CSV/\"+str(y)+'_'+str(m)+\"_House1_Ch1_Electric_Data_NEW.csv\", \n",
    "                              names = [\"Date\", \"Hour\", \"Minute\", \"Watt\"], encoding='cp949')\n",
    "        s = 0\n",
    "        \n",
    "        for d in range(month[m]):\n",
    "            dd=d+1\n",
    "            yyyy=y\n",
    "            mm=m\n",
    "            \n",
    "            if mm<=9:\n",
    "                mm=str(mm)\n",
    "                mm='0'+mm\n",
    "                \n",
    "            if dd<=9:\n",
    "                dd=str(dd)\n",
    "                dd='0'+dd\n",
    "            \n",
    "            ymd_for_graph = '{}-{}-{}'.format(yyyy,mm,dd) # 연속적인 그래프를 위한 새 변수\n",
    "            mm=int(mm)\n",
    "            dd=int(dd)\n",
    "            day = get_days(yyyy, mm, dd) # 요일 변수\n",
    "            \n",
    "            holiday='1' if ymd_for_graph in holidays or day=='토' or day=='일' else '0'\n",
    "                \n",
    "            for n in range(s, s+1440):\n",
    "                new_list=[]\n",
    "                new_list.append(ymd_for_graph)\n",
    "                \n",
    "                Hour=int(CSV_NEW[\"Hour\"][n])\n",
    "                Minute=int(CSV_NEW[\"Minute\"][n])\n",
    "                \n",
    "                if Hour<=9:\n",
    "                    Hour2=str(Hour)\n",
    "                    Hour2=\"0\"+Hour2\n",
    "                if Hour>9:\n",
    "                    Hour2=str(Hour)\n",
    "                if Minute<=9:\n",
    "                    Minute2=str(Minute)\n",
    "                    Minute2=\"0\"+Minute2\n",
    "                if Minute>9:\n",
    "                    Minute2=str(Minute)\n",
    "                Time=\"[ \"+Hour2+\":\"+Minute2+\" ]\"\n",
    "\n",
    "                new_list.append(Time)\n",
    "                new_list.append(holiday)\n",
    "                new_list.append(CSV_NEW[\"Watt\"][n])\n",
    "\n",
    "                with open(\"./New_Electirc_Data_CSV_Holiday/\"+str(y)+'_'+str(m)+\"_House1_Ch1_Electric_Data_NEW_Holiday.csv\", 'a', newline='') as file:\n",
    "                            writer = csv.writer(file)\n",
    "                            writer.writerow(new_list)\n",
    "                                \n",
    "            s=s+1440\n",
    "            \n",
    "print('\\n'*4,'------------------------------< 휴일 처리 끝!! >------------------------------\\n')  "
   ]
  },
  {
   "cell_type": "code",
   "execution_count": 13,
   "id": "163df607",
   "metadata": {},
   "outputs": [
    {
     "name": "stdout",
     "output_type": "stream",
     "text": [
      "\n",
      "------------------------------< Job Done!! >------------------------------\n",
      "\n"
     ]
    }
   ],
   "source": [
    "# 컬럼명 지정 작업\n",
    "for y in range(2013, 2017):\n",
    "    for m in range(1,13):\n",
    "        csv_origin = pd.read_csv(\"./New_Electirc_Data_CSV_Holiday/\"+str(y)+'_'+str(m)+\"_House1_Ch1_Electric_Data_NEW_Holiday.csv\", names = [\"Year-Month-Date\", \"Time\", \"Holiday\", \"Watt\"], header = None, encoding='cp949')\n",
    "        csv_origin.to_csv(\"./New_Electirc_Data_CSV_Holiday/\"+str(y)+'_'+str(m)+\"_House1_Ch1_Electric_Data_NEW_Holiday.csv\", encoding='euc-kr')\n",
    "\n",
    "            \n",
    "print('\\n------------------------------< Job Done!! >------------------------------\\n')"
   ]
  }
 ],
 "metadata": {
  "kernelspec": {
   "display_name": "Python 3 (ipykernel)",
   "language": "python",
   "name": "python3"
  },
  "language_info": {
   "codemirror_mode": {
    "name": "ipython",
    "version": 3
   },
   "file_extension": ".py",
   "mimetype": "text/x-python",
   "name": "python",
   "nbconvert_exporter": "python",
   "pygments_lexer": "ipython3",
   "version": "3.9.7"
  }
 },
 "nbformat": 4,
 "nbformat_minor": 5
}
