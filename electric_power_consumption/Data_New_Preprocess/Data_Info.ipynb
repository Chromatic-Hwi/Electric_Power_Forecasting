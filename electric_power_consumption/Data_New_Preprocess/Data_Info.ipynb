{
 "cells": [
  {
   "cell_type": "code",
   "execution_count": 10,
   "id": "4a29dec6",
   "metadata": {},
   "outputs": [],
   "source": [
    "import numpy as np \n",
    "import pandas as pd \n",
    "import csv\n",
    "from scipy.stats import mode"
   ]
  },
  {
   "cell_type": "code",
   "execution_count": 3,
   "id": "44e5f8bb",
   "metadata": {},
   "outputs": [
    {
     "name": "stdout",
     "output_type": "stream",
     "text": [
      "<class 'pandas.core.frame.DataFrame'>\n",
      "RangeIndex: 2102400 entries, 0 to 2102399\n",
      "Data columns (total 8 columns):\n",
      " #   Column           Dtype  \n",
      "---  ------           -----  \n",
      " 0   Unnamed: 0       int64  \n",
      " 1   Year-Month-Date  object \n",
      " 2   Time             object \n",
      " 3   Holiday          int64  \n",
      " 4   Watt             float64\n",
      " 5   Temp('C)         float64\n",
      " 6   Humidity(%)      float64\n",
      " 7   CPI              float64\n",
      "dtypes: float64(4), int64(2), object(2)\n",
      "memory usage: 128.3+ MB\n"
     ]
    }
   ],
   "source": [
    "Data_4Y_Edited = pd.read_csv('./Combined_Data_New/House1_Ch1_Combined_Data_New_13-16_Outlier_Edited.csv', encoding='cp949')\n",
    "Data_4Y_Edited.info()"
   ]
  },
  {
   "cell_type": "code",
   "execution_count": 14,
   "id": "71f1c817",
   "metadata": {},
   "outputs": [
    {
     "name": "stdout",
     "output_type": "stream",
     "text": [
      "min >> 17.0\n",
      "max >> 100.0\n",
      "중간값 >> 76.0\n",
      "분산 >> 210.96976465448768\n",
      "표준편차 >> 14.52479826553497\n"
     ]
    }
   ],
   "source": [
    "data=Data_4Y_Edited[\"Humidity(%)\"]\n",
    "print(\"min >>\", np.min(data))\n",
    "print(\"max >>\", np.max(data))\n",
    "print(\"중간값 >>\", np.median(data))\n",
    "print(\"분산 >>\", np.var(data))\n",
    "print(\"표준편차 >>\", np.std(data))"
   ]
  }
 ],
 "metadata": {
  "kernelspec": {
   "display_name": "Python 3 (ipykernel)",
   "language": "python",
   "name": "python3"
  },
  "language_info": {
   "codemirror_mode": {
    "name": "ipython",
    "version": 3
   },
   "file_extension": ".py",
   "mimetype": "text/x-python",
   "name": "python",
   "nbconvert_exporter": "python",
   "pygments_lexer": "ipython3",
   "version": "3.9.7"
  }
 },
 "nbformat": 4,
 "nbformat_minor": 5
}
