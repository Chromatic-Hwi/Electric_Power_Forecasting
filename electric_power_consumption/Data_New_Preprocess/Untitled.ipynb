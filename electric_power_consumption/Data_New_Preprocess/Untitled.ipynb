{
 "cells": [
  {
   "cell_type": "code",
   "execution_count": 1,
   "id": "c2570827",
   "metadata": {},
   "outputs": [],
   "source": [
    "import numpy as np"
   ]
  },
  {
   "cell_type": "code",
   "execution_count": 2,
   "id": "074fe52b",
   "metadata": {},
   "outputs": [],
   "source": [
    "list_24=[]\n",
    "for h in range(24):\n",
    "    list_24.append(34560*5+1440*h)"
   ]
  },
  {
   "cell_type": "code",
   "execution_count": 4,
   "id": "de7d64a7",
   "metadata": {},
   "outputs": [
    {
     "name": "stdout",
     "output_type": "stream",
     "text": [
      "[172800, 174240, 175680, 177120, 178560, 180000, 181440, 182880, 184320, 185760, 187200, 188640, 190080, 191520, 192960, 194400, 195840, 197280, 198720, 200160, 201600, 203040, 204480, 205920]\n"
     ]
    }
   ],
   "source": [
    "print(list_24)"
   ]
  },
  {
   "cell_type": "code",
   "execution_count": 10,
   "id": "ad18fbda",
   "metadata": {},
   "outputs": [
    {
     "name": "stdout",
     "output_type": "stream",
     "text": [
      "[ 0  1  2  3  4  5  6  7  8  9 10 11 12 13 14 15 16 17 18 19 20 21 22 23]\n"
     ]
    }
   ],
   "source": [
    "print(np.arange(24))"
   ]
  }
 ],
 "metadata": {
  "kernelspec": {
   "display_name": "Python 3 (ipykernel)",
   "language": "python",
   "name": "python3"
  },
  "language_info": {
   "codemirror_mode": {
    "name": "ipython",
    "version": 3
   },
   "file_extension": ".py",
   "mimetype": "text/x-python",
   "name": "python",
   "nbconvert_exporter": "python",
   "pygments_lexer": "ipython3",
   "version": "3.9.7"
  }
 },
 "nbformat": 4,
 "nbformat_minor": 5
}
