{
 "cells": [
  {
   "cell_type": "markdown",
   "id": "49534bc4",
   "metadata": {},
   "source": [
    "# CNN+LSTM 전력 수요 예측 "
   ]
  },
  {
   "cell_type": "markdown",
   "id": "ea4a87c8",
   "metadata": {},
   "source": [
    "### <목차>"
   ]
  },
  {
   "cell_type": "markdown",
   "id": "79f886a9",
   "metadata": {},
   "source": [
    "### <화면 가로 확장>"
   ]
  },
  {
   "cell_type": "code",
   "execution_count": 1,
   "id": "01779336",
   "metadata": {},
   "outputs": [
    {
     "name": "stderr",
     "output_type": "stream",
     "text": [
      "C:\\Users\\82108\\AppData\\Local\\Temp\\ipykernel_4472\\1221844311.py:2: DeprecationWarning: Importing display from IPython.core.display is deprecated since IPython 7.14, please import from IPython display\n",
      "  from IPython.core.display import display, HTML\n"
     ]
    },
    {
     "data": {
      "text/html": [
       "<style>.container { width:80% !important; }</style>"
      ],
      "text/plain": [
       "<IPython.core.display.HTML object>"
      ]
     },
     "metadata": {},
     "output_type": "display_data"
    }
   ],
   "source": [
    "# 화면 가로 확장 코드 (기본 width 50%)\n",
    "from IPython.core.display import display, HTML\n",
    "display(HTML(\"<style>.container { width:80% !important; }</style>\"))"
   ]
  },
  {
   "cell_type": "markdown",
   "id": "5914b761",
   "metadata": {},
   "source": [
    "### 1. 모듈 임포트"
   ]
  },
  {
   "cell_type": "code",
   "execution_count": 2,
   "id": "4fef1b48",
   "metadata": {},
   "outputs": [],
   "source": [
    "import numpy as np \n",
    "import pandas as pd \n",
    "import matplotlib.pyplot as plt\n",
    "from mpl_toolkits.mplot3d import Axes3D\n",
    "import seaborn as sns\n",
    "import tensorflow as tf\n",
    "import csv\n",
    "import os\n",
    "import datetime\n",
    "import time\n",
    "import scipy.stats as stats\n",
    "from sklearn.preprocessing import MinMaxScaler, RobustScaler, PowerTransformer, QuantileTransformer\n",
    "from sklearn.model_selection import train_test_split\n",
    "from scipy.stats import norm\n",
    "\n",
    "from tensorflow.keras.models import Sequential\n",
    "from tensorflow.keras.layers import Dense, Dropout, Flatten, Conv1D, LSTM, Bidirectional, MaxPooling1D\n",
    "from tensorflow.keras.callbacks import EarlyStopping, ModelCheckpoint\n",
    "from keras.layers.wrappers import TimeDistributed\n",
    "import keras\n",
    "import h5py\n",
    "\n",
    "from keras.utils.vis_utils import plot_model\n",
    "import pydot\n",
    "import pydotplus\n",
    "import graphviz\n",
    "\n",
    "from sklearn.metrics import r2_score as r2\n",
    "from sklearn.metrics import mean_absolute_error as MAE\n",
    "from sklearn.metrics import mean_squared_error as MSE"
   ]
  },
  {
   "cell_type": "code",
   "execution_count": 3,
   "id": "655f07c6",
   "metadata": {},
   "outputs": [
    {
     "name": "stdout",
     "output_type": "stream",
     "text": [
      "해당 폴더가 이미 존재합니다.\n"
     ]
    }
   ],
   "source": [
    "try:\n",
    "    os.mkdir('./Result')\n",
    "    print('폴더 생성 완료.')\n",
    "    \n",
    "except FileExistsError:\n",
    "    print('해당 폴더가 이미 존재합니다.')"
   ]
  },
  {
   "cell_type": "markdown",
   "id": "f7f69a8e",
   "metadata": {},
   "source": [
    "### <GPU 확인>"
   ]
  },
  {
   "cell_type": "code",
   "execution_count": 4,
   "id": "b6295985",
   "metadata": {},
   "outputs": [
    {
     "data": {
      "text/plain": [
       "'/device:GPU:0'"
      ]
     },
     "execution_count": 4,
     "metadata": {},
     "output_type": "execute_result"
    }
   ],
   "source": [
    "tf.test.gpu_device_name()"
   ]
  },
  {
   "cell_type": "markdown",
   "id": "5f097d82",
   "metadata": {},
   "source": [
    "### Data Import"
   ]
  },
  {
   "cell_type": "code",
   "execution_count": 5,
   "id": "35a93136",
   "metadata": {},
   "outputs": [],
   "source": [
    "Data_13=pd.read_csv('./Combined_Data_New/2013_House1_Ch1_Combined_Data_New_Y.csv', encoding='cp949')\n",
    "Data_14=pd.read_csv('./Combined_Data_New/2014_House1_Ch1_Combined_Data_New_Y.csv', encoding='cp949')\n",
    "Data_15=pd.read_csv('./Combined_Data_New/2015_House1_Ch1_Combined_Data_New_Y.csv', encoding='cp949')\n",
    "Data_16=pd.read_csv('./Combined_Data_New/2016_House1_Ch1_Combined_Data_New_Y.csv', encoding='cp949')"
   ]
  },
  {
   "cell_type": "code",
   "execution_count": 8,
   "id": "70dbc043",
   "metadata": {},
   "outputs": [
    {
     "name": "stdout",
     "output_type": "stream",
     "text": [
      "<class 'pandas.core.frame.DataFrame'>\n",
      "RangeIndex: 2102400 entries, 0 to 2102399\n",
      "Data columns (total 8 columns):\n",
      " #   Column           Dtype  \n",
      "---  ------           -----  \n",
      " 0   Unnamed: 0       int64  \n",
      " 1   Year-Month-Date  object \n",
      " 2   Time             object \n",
      " 3   Holiday          int64  \n",
      " 4   Watt             int64  \n",
      " 5   Temp('C)         float64\n",
      " 6   Humidity(%)      float64\n",
      " 7   CPI              float64\n",
      "dtypes: float64(3), int64(3), object(2)\n",
      "memory usage: 128.3+ MB\n"
     ]
    }
   ],
   "source": [
    "Data_4Y = pd.read_csv('./Combined_Data_New/House1_Ch1_Combined_Data_New_13-16.csv', encoding='cp949')\n",
    "Data_4Y.info()"
   ]
  },
  {
   "cell_type": "code",
   "execution_count": 6,
   "id": "dbf891ec",
   "metadata": {},
   "outputs": [],
   "source": [
    "def get_list_outlier(df=None, column=None, low=None, high=None):\n",
    "    outlier_index_low = df[column][df[column] < low].index\n",
    "    outlier_index_high = df[column][df[column] > high].index\n",
    "    \n",
    "    return outlier_index_low, outlier_index_high"
   ]
  },
  {
   "cell_type": "code",
   "execution_count": 38,
   "id": "314bf9c3",
   "metadata": {},
   "outputs": [
    {
     "name": "stdout",
     "output_type": "stream",
     "text": [
      "2178.75 6536.25 6536.25\n"
     ]
    }
   ],
   "source": [
    "one=(max(Data_4Y[\"Watt\"])-min(Data_4Y[\"Watt\"]))/100\n",
    "Low_one=one*25\n",
    "High_one=one*75\n",
    "print(Low_one, High_one, (High_one-Low_one)*1.5)"
   ]
  },
  {
   "cell_type": "code",
   "execution_count": 23,
   "id": "e26492c9",
   "metadata": {},
   "outputs": [
    {
     "name": "stdout",
     "output_type": "stream",
     "text": [
      "High List >> 3 9 12\n"
     ]
    }
   ],
   "source": [
    "High_list_13=get_list_outlier(df=Data_13, column=\"Watt\", low=Low_one, high=High_one)[1]\n",
    "High_list_14=get_list_outlier(df=Data_14, column=\"Watt\", low=Low_one, high=High_one)[1]\n",
    "High_list_15=get_list_outlier(df=Data_15, column=\"Watt\", low=Low_one, high=High_one)[1]\n",
    "print(\"High List >>\", len(High_list_13), len(High_list_14), len(High_list_15))"
   ]
  },
  {
   "cell_type": "code",
   "execution_count": 24,
   "id": "c7d14393",
   "metadata": {},
   "outputs": [
    {
     "name": "stderr",
     "output_type": "stream",
     "text": [
      "C:\\Users\\82108\\AppData\\Local\\Temp\\ipykernel_4472\\3943759054.py:2: SettingWithCopyWarning: \n",
      "A value is trying to be set on a copy of a slice from a DataFrame\n",
      "\n",
      "See the caveats in the documentation: https://pandas.pydata.org/pandas-docs/stable/user_guide/indexing.html#returning-a-view-versus-a-copy\n",
      "  Data_13[\"Watt\"][i:i+1] = High_one\n",
      "C:\\Users\\82108\\AppData\\Local\\Temp\\ipykernel_4472\\3943759054.py:4: SettingWithCopyWarning: \n",
      "A value is trying to be set on a copy of a slice from a DataFrame\n",
      "\n",
      "See the caveats in the documentation: https://pandas.pydata.org/pandas-docs/stable/user_guide/indexing.html#returning-a-view-versus-a-copy\n",
      "  Data_14[\"Watt\"][i:i+1] = High_one\n",
      "C:\\Users\\82108\\AppData\\Local\\Temp\\ipykernel_4472\\3943759054.py:6: SettingWithCopyWarning: \n",
      "A value is trying to be set on a copy of a slice from a DataFrame\n",
      "\n",
      "See the caveats in the documentation: https://pandas.pydata.org/pandas-docs/stable/user_guide/indexing.html#returning-a-view-versus-a-copy\n",
      "  Data_15[\"Watt\"][i:i+1] = High_one\n"
     ]
    }
   ],
   "source": [
    "for i in High_list_13:\n",
    "    Data_13[\"Watt\"][i:i+1] = High_one\n",
    "for i in High_list_14:\n",
    "    Data_14[\"Watt\"][i:i+1] = High_one\n",
    "for i in High_list_15:\n",
    "    Data_15[\"Watt\"][i:i+1] = High_one"
   ]
  },
  {
   "cell_type": "code",
   "execution_count": 25,
   "id": "ca5c4440",
   "metadata": {},
   "outputs": [
    {
     "name": "stdout",
     "output_type": "stream",
     "text": [
      "0 0 0\n"
     ]
    }
   ],
   "source": [
    "High_list_13=get_list_outlier(df=Data_13, column=\"Watt\", low=Low_one, high=High_one)[1]\n",
    "High_list_14=get_list_outlier(df=Data_14, column=\"Watt\", low=Low_one, high=High_one)[1]\n",
    "High_list_15=get_list_outlier(df=Data_15, column=\"Watt\", low=Low_one, high=High_one)[1]\n",
    "print(len(High_list_13), len(High_list_14), len(High_list_15))"
   ]
  },
  {
   "cell_type": "code",
   "execution_count": 26,
   "id": "6622c7bd",
   "metadata": {},
   "outputs": [
    {
     "name": "stdout",
     "output_type": "stream",
     "text": [
      "Done!\n"
     ]
    }
   ],
   "source": [
    "\"\"\"\n",
    "df_4Y = pd.DataFrame()\n",
    "df_4Y = pd.concat([df_4Y, Data_13])\n",
    "df_4Y = pd.concat([df_4Y, Data_14])\n",
    "df_4Y = pd.concat([df_4Y, Data_15])\n",
    "df_4Y = pd.concat([df_4Y, Data_16])\n",
    "    \n",
    "df_4Y = df_4Y.drop([df_4Y.columns[0]], axis=1)\n",
    "df_4Y = df_4Y.reset_index(drop=True)\n",
    "df_4Y.to_csv(\"./Combined_Data_New/House1_Ch1_Combined_Data_New_13-16_Outlier_Edited_3.csv\", encoding='cp949')\n",
    "print(\"Done!\")\n",
    "\"\"\""
   ]
  },
  {
   "cell_type": "code",
   "execution_count": 27,
   "id": "7d96445b",
   "metadata": {
    "scrolled": false
   },
   "outputs": [
    {
     "name": "stdout",
     "output_type": "stream",
     "text": [
      "<class 'pandas.core.frame.DataFrame'>\n",
      "RangeIndex: 2102400 entries, 0 to 2102399\n",
      "Data columns (total 8 columns):\n",
      " #   Column           Dtype  \n",
      "---  ------           -----  \n",
      " 0   Unnamed: 0       int64  \n",
      " 1   Year-Month-Date  object \n",
      " 2   Time             object \n",
      " 3   Holiday          int64  \n",
      " 4   Watt             float64\n",
      " 5   Temp('C)         float64\n",
      " 6   Humidity(%)      float64\n",
      " 7   CPI              float64\n",
      "dtypes: float64(4), int64(2), object(2)\n",
      "memory usage: 128.3+ MB\n"
     ]
    }
   ],
   "source": [
    "Data_4Y_Edited = pd.read_csv('./Combined_Data_New/House1_Ch1_Combined_Data_New_13-16_Outlier_Edited_3.csv', encoding='cp949')\n",
    "Data_4Y_Edited.info()"
   ]
  },
  {
   "cell_type": "markdown",
   "id": "67233eb6",
   "metadata": {},
   "source": [
    "#### Graph"
   ]
  },
  {
   "cell_type": "code",
   "execution_count": 11,
   "id": "c9f71714",
   "metadata": {},
   "outputs": [],
   "source": [
    "#SimpleGraph(\"1Day Electric Power Data Outlier handled Graph\", Data_4Y_Edited[\"Watt\"][5760:7200], \"Watt\", \"1Day_Outlier_Edited_Data_Watt\")"
   ]
  },
  {
   "cell_type": "markdown",
   "id": "3fb042ae",
   "metadata": {},
   "source": [
    "### 4. 데이터 정규화"
   ]
  },
  {
   "cell_type": "markdown",
   "id": "60c87e2c",
   "metadata": {},
   "source": [
    "#### Min-Max Scaling 이용, 4년치 학습 데이터 정규화"
   ]
  },
  {
   "cell_type": "code",
   "execution_count": 12,
   "id": "2f4d7505",
   "metadata": {},
   "outputs": [
    {
     "data": {
      "text/plain": [
       "'\\n<StandardScaler>\\nfrom sklearn.preprocessing import StandardScaler\\n평균 0, 분산1 로 조정\\n가우시안 분포된 선형 데이터나 SVM에 사용\\n\\n<RobustScaler>\\nfrom sklearn.preprocessing import RobustScaler\\n평균과 분산 대신 중간값과 사분위 값을 사용.\\n이상치에 Robustic한 반응을 보임.\\n\\n<MinMaxScaler>\\n모든 값을 0~1 사이로 정규화\\n원데이터 분포를 유지하면서 정규화하는 방법\\n가우시안 분포를 띄지 않는 데이터에 사용\\n\\n<Normalizer>\\nfrom sklearn.preprocessing import Normalizer\\n특성 벡터의 모든 길이가 1이 되도록 조정, \\n특성 벡터의 길이보다는 데이터의 방향이나 각도가 중요할 경우 사용\\n\\n<QuantileTransformer>\\nfrom sklearn.preprocessing import QuantileTransformer\\n1000개의 분위를 사용하여 데이터를 균등분포 시킴.\\nRobustic한 특성을 지니며, 데이터들은 0~1 사이로 압축됨.\\n\\n<PowerTransformer>\\nfrom sklearn.preprocessing import PowerTransformer\\n데이터의 특성별로 정규분포 형태에 가깝도록 변환\\n'"
      ]
     },
     "execution_count": 12,
     "metadata": {},
     "output_type": "execute_result"
    }
   ],
   "source": [
    "\"\"\"\n",
    "<StandardScaler>\n",
    "from sklearn.preprocessing import StandardScaler\n",
    "평균 0, 분산1 로 조정\n",
    "가우시안 분포된 선형 데이터나 SVM에 사용\n",
    "\n",
    "<RobustScaler>\n",
    "from sklearn.preprocessing import RobustScaler\n",
    "평균과 분산 대신 중간값과 사분위 값을 사용.\n",
    "이상치에 Robustic한 반응을 보임.\n",
    "\n",
    "<MinMaxScaler>\n",
    "모든 값을 0~1 사이로 정규화\n",
    "원데이터 분포를 유지하면서 정규화하는 방법\n",
    "가우시안 분포를 띄지 않는 데이터에 사용\n",
    "\n",
    "<Normalizer>\n",
    "from sklearn.preprocessing import Normalizer\n",
    "특성 벡터의 모든 길이가 1이 되도록 조정, \n",
    "특성 벡터의 길이보다는 데이터의 방향이나 각도가 중요할 경우 사용\n",
    "\n",
    "<QuantileTransformer>\n",
    "from sklearn.preprocessing import QuantileTransformer\n",
    "1000개의 분위를 사용하여 데이터를 균등분포 시킴.\n",
    "Robustic한 특성을 지니며, 데이터들은 0~1 사이로 압축됨.\n",
    "\n",
    "<PowerTransformer>\n",
    "from sklearn.preprocessing import PowerTransformer\n",
    "데이터의 특성별로 정규분포 형태에 가깝도록 변환\n",
    "\"\"\""
   ]
  },
  {
   "cell_type": "code",
   "execution_count": 28,
   "id": "b72ea907",
   "metadata": {},
   "outputs": [
    {
     "name": "stdout",
     "output_type": "stream",
     "text": [
      "<class 'pandas.core.frame.DataFrame'>\n",
      "RangeIndex: 2102400 entries, 0 to 2102399\n",
      "Data columns (total 2 columns):\n",
      " #   Column  Dtype  \n",
      "---  ------  -----  \n",
      " 0   Watt    float64\n",
      " 1   Watt2   float64\n",
      "dtypes: float64(2)\n",
      "memory usage: 32.1 MB\n"
     ]
    }
   ],
   "source": [
    "# 정규화 과정을 거쳐 데이터 범위를 원하는 범위로 제한. 그래프는 동일하나 손실 정도를 확인하기에 더 좋음.\n",
    "# 배치 정규화는 기울기 소멸 문제를 해결하기는 좋으나, RNN의 경우 계층별로 미니 정규화 적용이 필요해 모델이 복잡해지고 효율이 저하됨.\n",
    "Data_4Y_Edited.sort_index(ascending=False).reset_index(drop=True)\n",
    "from sklearn.preprocessing import PowerTransformer, QuantileTransformer, StandardScaler\n",
    "scaler=QuantileTransformer()\n",
    "Scaler_Name=str(scaler)[:-2]\n",
    "\n",
    "#scale_cols = [\"Holiday\", \"Watt\", \"Temp('C)\", \"Humidity(%)\", \"CPI\"]\n",
    "Data_4Y_Edited.insert(2, \"Watt2\", Data_4Y_Edited[\"Watt\"])\n",
    "scale_cols = [\"Watt\", \"Watt2\"]\n",
    "Data_4Y_scaled = scaler.fit_transform(Data_4Y_Edited[scale_cols])\n",
    "Data_4Y_scaled = pd.DataFrame(Data_4Y_scaled)\n",
    "Data_4Y_scaled.columns = scale_cols\n",
    "\n",
    "#Data_4Y_scaled=Data_4Y_scaled[[\"Watt\", \"Watt2\"]]\n",
    "Data_4Y_scaled.info()"
   ]
  },
  {
   "cell_type": "code",
   "execution_count": 29,
   "id": "8d750419",
   "metadata": {},
   "outputs": [],
   "source": [
    "scaler1=QuantileTransformer()\n",
    "Data_4Y_Edited[\"Watt\"]=scaler1.fit_transform(Data_4Y_Edited[\"Watt\"].values.reshape(-1,1))"
   ]
  },
  {
   "cell_type": "markdown",
   "id": "92f6c8ab",
   "metadata": {},
   "source": [
    "#### 정규분포 시각화"
   ]
  },
  {
   "cell_type": "code",
   "execution_count": 30,
   "id": "f707bb12",
   "metadata": {},
   "outputs": [
    {
     "data": {
      "image/png": "[encoded data removed]",
      "text/plain": [
       "<Figure size 1440x864 with 1 Axes>"
      ]
     },
     "metadata": {
      "needs_background": "light"
     },
     "output_type": "display_data"
    }
   ],
   "source": [
    "plt.figure(figsize=(20,12))\n",
    "plt.grid()\n",
    "#plt.title(\"Normal Distribution\", fontsize=40)\n",
    "plt.tick_params(axis='x', size=15)\n",
    "plt.tick_params(axis='x', labelsize=35)\n",
    "plt.tick_params(axis='y', size=15)\n",
    "plt.tick_params(axis='y', labelsize=35)\n",
    "#plt.plot(np.sort(Data_4Y_scaled[\"Humidity(%)\"]), norm.pdf(np.sort(Data_4Y_scaled[\"Humidity(%)\"]), np.mean(Data_4Y_scaled[\"Humidity(%)\"]), np.std(Data_4Y_scaled[\"Humidity(%)\"])), label=\"Humidity\", linewidth=3)\n",
    "plt.plot(np.sort(Data_4Y_scaled[\"Watt\"]), norm.pdf(np.sort(Data_4Y_scaled[\"Watt\"]), np.mean(Data_4Y_scaled[\"Watt\"]), np.std(Data_4Y_scaled[\"Watt\"])), \n",
    "         label=\"Watt\", linewidth=3)\n",
    "#plt.plot(np.sort(Data_4Y_scaled[\"Temp('C)\"]), norm.pdf(np.sort(Data_4Y_scaled[\"Temp('C)\"]), np.mean(Data_4Y_scaled[\"Temp('C)\"]), np.std(Data_4Y_scaled[\"Temp('C)\"])), label=\"Temp\", linewidth=3)\n",
    "plt.legend(fontsize=30)\n",
    "plt.margins(x=0.02)\n",
    "if Scaler_Name==\"RobustScaler\":\n",
    "    print(Scaler_Name)\n",
    "    plt.xlim([-5.2, 7.6])\n",
    "elif Scaler_Name==\"PowerTransformer\":\n",
    "    plt.xlim([-2.5, 2.5])\n",
    "plt.savefig(\"./Result/Data_Normal_Distribution_\"+Scaler_Name+\".png\")\n",
    "plt.show()   "
   ]
  },
  {
   "cell_type": "markdown",
   "id": "d15c0e24",
   "metadata": {},
   "source": [
    "#### 전력 데이터 변화폭 재확인"
   ]
  },
  {
   "cell_type": "code",
   "execution_count": 34,
   "id": "b5245e06",
   "metadata": {},
   "outputs": [
    {
     "data": {
      "image/png": "[encoded data removed]",
      "text/plain": [
       "<Figure size 2160x720 with 1 Axes>"
      ]
     },
     "metadata": {
      "needs_background": "light"
     },
     "output_type": "display_data"
    }
   ],
   "source": [
    "plt.figure(figsize=(30,10))\n",
    "plt.grid()\n",
    "plt.margins(x=0.02)\n",
    "plt.plot(Data_4Y_scaled[\"Watt\"])\n",
    "#plt.plot(inverse_scaled_data)\n",
    "plt.show()"
   ]
  },
  {
   "cell_type": "markdown",
   "id": "8395aaba",
   "metadata": {},
   "source": [
    "### 7. 데이터셋 편집"
   ]
  },
  {
   "cell_type": "code",
   "execution_count": 31,
   "id": "ee1957fe",
   "metadata": {},
   "outputs": [],
   "source": [
    "TEST_SIZE = 1*60*24*365 #1년치를 테스트셋으로 사용\n",
    "WINDOW_SIZE = 5 #얼마 동안의 과거 기반의 데이터로 다음값을 예측할 것인지 설정. \n",
    "BATCH_SIZE = 64\n",
    "VAL_DAYS = 525600"
   ]
  },
  {
   "cell_type": "code",
   "execution_count": 32,
   "id": "daed2aa0",
   "metadata": {},
   "outputs": [
    {
     "name": "stdout",
     "output_type": "stream",
     "text": [
      "1051200 525600 525600\n"
     ]
    }
   ],
   "source": [
    "# train과 test셋 분할\n",
    "learning = Data_4Y_scaled[:-TEST_SIZE] # 학습에 쓰이는 전체 데이터\n",
    "VAL_RATIO=VAL_DAYS/len(learning)\n",
    "VAL_SIZE = int(len(learning)*VAL_RATIO)\n",
    "TRAIN = learning[:-VAL_SIZE]\n",
    "VAL = learning[-VAL_SIZE:]\n",
    "TEST = Data_4Y_scaled[-TEST_SIZE:]\n",
    "print(len(TRAIN), len(VAL), len(TEST))"
   ]
  },
  {
   "cell_type": "code",
   "execution_count": 33,
   "id": "d9811185",
   "metadata": {},
   "outputs": [],
   "source": [
    "def windowed_dataset(series, window_size, batch_size, shuffle):\n",
    "    series = tf.expand_dims(series, axis=-1)\n",
    "    ds = tf.data.Dataset.from_tensor_slices(series)\n",
    "    ds = ds.window(window_size + 1, shift=1, drop_remainder=True)\n",
    "    ds = ds.flat_map(lambda w: w.batch(window_size + 1))\n",
    "    if shuffle:\n",
    "        ds = ds.shuffle(1000)\n",
    "    ds = ds.map(lambda w: (w[:-1], w[-1]))\n",
    "    return ds.batch(batch_size).prefetch(1)"
   ]
  },
  {
   "cell_type": "code",
   "execution_count": 34,
   "id": "4c77a916",
   "metadata": {},
   "outputs": [],
   "source": [
    "train_data = windowed_dataset(TRAIN, WINDOW_SIZE, BATCH_SIZE, False) \n",
    "valid_data = windowed_dataset(VAL, WINDOW_SIZE, BATCH_SIZE, False)\n",
    "test_data = windowed_dataset(TEST, WINDOW_SIZE, BATCH_SIZE, False)"
   ]
  },
  {
   "cell_type": "markdown",
   "id": "0249c42f",
   "metadata": {},
   "source": [
    "### 8. 딥러닝 모델"
   ]
  },
  {
   "cell_type": "code",
   "execution_count": 35,
   "id": "04552117",
   "metadata": {
    "scrolled": false
   },
   "outputs": [
    {
     "name": "stdout",
     "output_type": "stream",
     "text": [
      "WARNING:tensorflow:Layer lstm will not use cuDNN kernels since it doesn't meet the criteria. It will use a generic GPU kernel as fallback when running on GPU.\n",
      "WARNING:tensorflow:Layer lstm will not use cuDNN kernels since it doesn't meet the criteria. It will use a generic GPU kernel as fallback when running on GPU.\n",
      "WARNING:tensorflow:Layer lstm will not use cuDNN kernels since it doesn't meet the criteria. It will use a generic GPU kernel as fallback when running on GPU.\n",
      "WARNING:tensorflow:Layer lstm_1 will not use cuDNN kernels since it doesn't meet the criteria. It will use a generic GPU kernel as fallback when running on GPU.\n",
      "WARNING:tensorflow:Layer lstm_1 will not use cuDNN kernels since it doesn't meet the criteria. It will use a generic GPU kernel as fallback when running on GPU.\n",
      "WARNING:tensorflow:Layer lstm_1 will not use cuDNN kernels since it doesn't meet the criteria. It will use a generic GPU kernel as fallback when running on GPU.\n",
      "WARNING:tensorflow:Layer lstm_2 will not use cuDNN kernels since it doesn't meet the criteria. It will use a generic GPU kernel as fallback when running on GPU.\n",
      "WARNING:tensorflow:Layer lstm_2 will not use cuDNN kernels since it doesn't meet the criteria. It will use a generic GPU kernel as fallback when running on GPU.\n",
      "WARNING:tensorflow:Layer lstm_2 will not use cuDNN kernels since it doesn't meet the criteria. It will use a generic GPU kernel as fallback when running on GPU.\n",
      "\n",
      "\n",
      "\n",
      "\n",
      "\n",
      "Model: \"sequential\"\n",
      "_________________________________________________________________\n",
      " Layer (type)                Output Shape              Param #   \n",
      "=================================================================\n",
      " conv1d (Conv1D)             (None, 5, 8)              72        \n",
      "                                                                 \n",
      " max_pooling1d (MaxPooling1D  (None, 5, 8)             0         \n",
      " )                                                               \n",
      "                                                                 \n",
      " conv1d_1 (Conv1D)           (None, 5, 8)              264       \n",
      "                                                                 \n",
      " max_pooling1d_1 (MaxPooling  (None, 5, 8)             0         \n",
      " 1D)                                                             \n",
      "                                                                 \n",
      " bidirectional (Bidirectiona  (None, 5, 4)             416       \n",
      " l)                                                              \n",
      "                                                                 \n",
      " time_distributed (TimeDistr  (None, 5, 8)             40        \n",
      " ibuted)                                                         \n",
      "                                                                 \n",
      " bidirectional_1 (Bidirectio  (None, 5, 4)             416       \n",
      " nal)                                                            \n",
      "                                                                 \n",
      " time_distributed_1 (TimeDis  (None, 5, 4)             20        \n",
      " tributed)                                                       \n",
      "                                                                 \n",
      " bidirectional_2 (Bidirectio  (None, 2)                112       \n",
      " nal)                                                            \n",
      "                                                                 \n",
      " dense_2 (Dense)             (None, 1)                 3         \n",
      "                                                                 \n",
      "=================================================================\n",
      "Total params: 1,343\n",
      "Trainable params: 1,343\n",
      "Non-trainable params: 0\n",
      "_________________________________________________________________\n"
     ]
    }
   ],
   "source": [
    "LeakyReLU=tf.keras.layers.LeakyReLU(alpha=0.3)\n",
    "\n",
    "model = Sequential([\n",
    "    Conv1D(filters=8, kernel_size=4, padding=\"causal\", activation=LeakyReLU, input_shape=[WINDOW_SIZE, TRAIN.shape[1]]),\n",
    "    MaxPooling1D(pool_size=2, strides=1, padding=\"same\"),\n",
    "    Conv1D(filters=8, kernel_size=4, padding=\"causal\", activation=LeakyReLU),\n",
    "    MaxPooling1D(pool_size=2, strides=1, padding=\"same\"),\n",
    "    Bidirectional(LSTM(4, activation=LeakyReLU, return_sequences=True), merge_mode=\"sum\"),\n",
    "    TimeDistributed(Dense(8)),\n",
    "    Bidirectional(LSTM(4, activation=LeakyReLU, return_sequences=True), merge_mode=\"sum\"),\n",
    "    TimeDistributed(Dense(4)),\n",
    "    Bidirectional(LSTM(2, activation=LeakyReLU, return_sequences=False), merge_mode=\"sum\"),\n",
    "    Dense(1)\n",
    "                    ])\n",
    "\n",
    "\n",
    "Nadam = tf.keras.optimizers.Nadam(learning_rate=0.0003)\n",
    "model.compile(loss='mean_absolute_error', optimizer=Nadam)\n",
    "print('\\n'*4)\n",
    "model.summary()"
   ]
  },
  {
   "cell_type": "markdown",
   "id": "cd6964ab",
   "metadata": {},
   "source": [
    "#### Plot model 저장"
   ]
  },
  {
   "cell_type": "code",
   "execution_count": 36,
   "id": "82e93e66",
   "metadata": {},
   "outputs": [
    {
     "name": "stdout",
     "output_type": "stream",
     "text": [
      "('You must install pydot (`pip install pydot`) and install graphviz (see instructions at https://graphviz.gitlab.io/download/) ', 'for plot_model/model_to_dot to work.')\n",
      "('You must install pydot (`pip install pydot`) and install graphviz (see instructions at https://graphviz.gitlab.io/download/) ', 'for plot_model/model_to_dot to work.')\n"
     ]
    }
   ],
   "source": [
    "plot_model(model, to_file='./Result/CNN+LSTM/model.png')\n",
    "plot_model(model, to_file='./Result/CNN+LSTM/model_shapes.png', show_shapes=True)"
   ]
  },
  {
   "cell_type": "markdown",
   "id": "e4aa6030",
   "metadata": {},
   "source": [
    "#### 학습"
   ]
  },
  {
   "cell_type": "code",
   "execution_count": 37,
   "id": "d18415fc",
   "metadata": {},
   "outputs": [
    {
     "name": "stdout",
     "output_type": "stream",
     "text": [
      "Epoch 1/50\n",
      "  16425/Unknown - 2679s 162ms/step - loss: 0.0332\n",
      "Epoch 00001: val_loss improved from inf to 0.02707, saving model to model\\tmp_checkpoint_main.h5\n",
      "16425/16425 [==============================] - 2874s 174ms/step - loss: 0.0332 - val_loss: 0.0271\n",
      "Epoch 2/50\n",
      "15882/16425 [============================>.] - ETA: 1:25 - loss: 0.0284"
     ]
    },
    {
     "ename": "KeyboardInterrupt",
     "evalue": "",
     "output_type": "error",
     "traceback": [
      "\u001b[1;31m---------------------------------------------------------------------------\u001b[0m",
      "\u001b[1;31mKeyboardInterrupt\u001b[0m                         Traceback (most recent call last)",
      "Input \u001b[1;32mIn [37]\u001b[0m, in \u001b[0;36m<cell line: 4>\u001b[1;34m()\u001b[0m\n\u001b[0;32m      6\u001b[0m     filename \u001b[38;5;241m=\u001b[39m os\u001b[38;5;241m.\u001b[39mpath\u001b[38;5;241m.\u001b[39mjoin(model_path, \u001b[38;5;124m\"\u001b[39m\u001b[38;5;124mtmp_checkpoint_main.h5\u001b[39m\u001b[38;5;124m\"\u001b[39m)\n\u001b[0;32m      7\u001b[0m     checkpoint \u001b[38;5;241m=\u001b[39m ModelCheckpoint(filename, monitor\u001b[38;5;241m=\u001b[39m\u001b[38;5;124m'\u001b[39m\u001b[38;5;124mval_loss\u001b[39m\u001b[38;5;124m'\u001b[39m, verbose\u001b[38;5;241m=\u001b[39m\u001b[38;5;241m1\u001b[39m, save_best_only\u001b[38;5;241m=\u001b[39m\u001b[38;5;28;01mTrue\u001b[39;00m, mode\u001b[38;5;241m=\u001b[39m\u001b[38;5;124m'\u001b[39m\u001b[38;5;124mauto\u001b[39m\u001b[38;5;124m'\u001b[39m)\n\u001b[1;32m----> 8\u001b[0m     history \u001b[38;5;241m=\u001b[39m \u001b[43mmodel\u001b[49m\u001b[38;5;241;43m.\u001b[39;49m\u001b[43mfit\u001b[49m\u001b[43m(\u001b[49m\u001b[43mtrain_data\u001b[49m\u001b[43m,\u001b[49m\u001b[43m \u001b[49m\u001b[43mepochs\u001b[49m\u001b[38;5;241;43m=\u001b[39;49m\u001b[38;5;241;43m50\u001b[39;49m\u001b[43m,\u001b[49m\u001b[43m \u001b[49m\u001b[43mbatch_size\u001b[49m\u001b[38;5;241;43m=\u001b[39;49m\u001b[43mBATCH_SIZE\u001b[49m\u001b[43m,\u001b[49m\u001b[43m \u001b[49m\u001b[43mvalidation_data\u001b[49m\u001b[38;5;241;43m=\u001b[39;49m\u001b[43m(\u001b[49m\u001b[43mvalid_data\u001b[49m\u001b[43m)\u001b[49m\u001b[43m,\u001b[49m\u001b[43m \u001b[49m\u001b[43mcallbacks\u001b[49m\u001b[38;5;241;43m=\u001b[39;49m\u001b[43m[\u001b[49m\u001b[43mcheckpoint\u001b[49m\u001b[43m,\u001b[49m\u001b[43m \u001b[49m\u001b[43mearly_stop\u001b[49m\u001b[43m]\u001b[49m\u001b[43m)\u001b[49m\n\u001b[0;32m     10\u001b[0m model\u001b[38;5;241m.\u001b[39mload_weights(filename)\n\u001b[0;32m     11\u001b[0m pred \u001b[38;5;241m=\u001b[39m model\u001b[38;5;241m.\u001b[39mpredict(test_data)\n",
      "File \u001b[1;32m~\\AppData\\Roaming\\Python\\Python39\\site-packages\\keras\\utils\\traceback_utils.py:64\u001b[0m, in \u001b[0;36mfilter_traceback.<locals>.error_handler\u001b[1;34m(*args, **kwargs)\u001b[0m\n\u001b[0;32m     62\u001b[0m filtered_tb \u001b[38;5;241m=\u001b[39m \u001b[38;5;28;01mNone\u001b[39;00m\n\u001b[0;32m     63\u001b[0m \u001b[38;5;28;01mtry\u001b[39;00m:\n\u001b[1;32m---> 64\u001b[0m   \u001b[38;5;28;01mreturn\u001b[39;00m fn(\u001b[38;5;241m*\u001b[39margs, \u001b[38;5;241m*\u001b[39m\u001b[38;5;241m*\u001b[39mkwargs)\n\u001b[0;32m     65\u001b[0m \u001b[38;5;28;01mexcept\u001b[39;00m \u001b[38;5;167;01mException\u001b[39;00m \u001b[38;5;28;01mas\u001b[39;00m e:  \u001b[38;5;66;03m# pylint: disable=broad-except\u001b[39;00m\n\u001b[0;32m     66\u001b[0m   filtered_tb \u001b[38;5;241m=\u001b[39m _process_traceback_frames(e\u001b[38;5;241m.\u001b[39m__traceback__)\n",
      "File \u001b[1;32m~\\AppData\\Roaming\\Python\\Python39\\site-packages\\keras\\engine\\training.py:1216\u001b[0m, in \u001b[0;36mModel.fit\u001b[1;34m(self, x, y, batch_size, epochs, verbose, callbacks, validation_split, validation_data, shuffle, class_weight, sample_weight, initial_epoch, steps_per_epoch, validation_steps, validation_batch_size, validation_freq, max_queue_size, workers, use_multiprocessing)\u001b[0m\n\u001b[0;32m   1209\u001b[0m \u001b[38;5;28;01mwith\u001b[39;00m tf\u001b[38;5;241m.\u001b[39mprofiler\u001b[38;5;241m.\u001b[39mexperimental\u001b[38;5;241m.\u001b[39mTrace(\n\u001b[0;32m   1210\u001b[0m     \u001b[38;5;124m'\u001b[39m\u001b[38;5;124mtrain\u001b[39m\u001b[38;5;124m'\u001b[39m,\n\u001b[0;32m   1211\u001b[0m     epoch_num\u001b[38;5;241m=\u001b[39mepoch,\n\u001b[0;32m   1212\u001b[0m     step_num\u001b[38;5;241m=\u001b[39mstep,\n\u001b[0;32m   1213\u001b[0m     batch_size\u001b[38;5;241m=\u001b[39mbatch_size,\n\u001b[0;32m   1214\u001b[0m     _r\u001b[38;5;241m=\u001b[39m\u001b[38;5;241m1\u001b[39m):\n\u001b[0;32m   1215\u001b[0m   callbacks\u001b[38;5;241m.\u001b[39mon_train_batch_begin(step)\n\u001b[1;32m-> 1216\u001b[0m   tmp_logs \u001b[38;5;241m=\u001b[39m \u001b[38;5;28;43mself\u001b[39;49m\u001b[38;5;241;43m.\u001b[39;49m\u001b[43mtrain_function\u001b[49m\u001b[43m(\u001b[49m\u001b[43miterator\u001b[49m\u001b[43m)\u001b[49m\n\u001b[0;32m   1217\u001b[0m   \u001b[38;5;28;01mif\u001b[39;00m data_handler\u001b[38;5;241m.\u001b[39mshould_sync:\n\u001b[0;32m   1218\u001b[0m     context\u001b[38;5;241m.\u001b[39masync_wait()\n",
      "File \u001b[1;32m~\\AppData\\Roaming\\Python\\Python39\\site-packages\\tensorflow\\python\\util\\traceback_utils.py:150\u001b[0m, in \u001b[0;36mfilter_traceback.<locals>.error_handler\u001b[1;34m(*args, **kwargs)\u001b[0m\n\u001b[0;32m    148\u001b[0m filtered_tb \u001b[38;5;241m=\u001b[39m \u001b[38;5;28;01mNone\u001b[39;00m\n\u001b[0;32m    149\u001b[0m \u001b[38;5;28;01mtry\u001b[39;00m:\n\u001b[1;32m--> 150\u001b[0m   \u001b[38;5;28;01mreturn\u001b[39;00m fn(\u001b[38;5;241m*\u001b[39margs, \u001b[38;5;241m*\u001b[39m\u001b[38;5;241m*\u001b[39mkwargs)\n\u001b[0;32m    151\u001b[0m \u001b[38;5;28;01mexcept\u001b[39;00m \u001b[38;5;167;01mException\u001b[39;00m \u001b[38;5;28;01mas\u001b[39;00m e:\n\u001b[0;32m    152\u001b[0m   filtered_tb \u001b[38;5;241m=\u001b[39m _process_traceback_frames(e\u001b[38;5;241m.\u001b[39m__traceback__)\n",
      "File \u001b[1;32m~\\AppData\\Roaming\\Python\\Python39\\site-packages\\tensorflow\\python\\eager\\def_function.py:910\u001b[0m, in \u001b[0;36mFunction.__call__\u001b[1;34m(self, *args, **kwds)\u001b[0m\n\u001b[0;32m    907\u001b[0m compiler \u001b[38;5;241m=\u001b[39m \u001b[38;5;124m\"\u001b[39m\u001b[38;5;124mxla\u001b[39m\u001b[38;5;124m\"\u001b[39m \u001b[38;5;28;01mif\u001b[39;00m \u001b[38;5;28mself\u001b[39m\u001b[38;5;241m.\u001b[39m_jit_compile \u001b[38;5;28;01melse\u001b[39;00m \u001b[38;5;124m\"\u001b[39m\u001b[38;5;124mnonXla\u001b[39m\u001b[38;5;124m\"\u001b[39m\n\u001b[0;32m    909\u001b[0m \u001b[38;5;28;01mwith\u001b[39;00m OptionalXlaContext(\u001b[38;5;28mself\u001b[39m\u001b[38;5;241m.\u001b[39m_jit_compile):\n\u001b[1;32m--> 910\u001b[0m   result \u001b[38;5;241m=\u001b[39m \u001b[38;5;28mself\u001b[39m\u001b[38;5;241m.\u001b[39m_call(\u001b[38;5;241m*\u001b[39margs, \u001b[38;5;241m*\u001b[39m\u001b[38;5;241m*\u001b[39mkwds)\n\u001b[0;32m    912\u001b[0m new_tracing_count \u001b[38;5;241m=\u001b[39m \u001b[38;5;28mself\u001b[39m\u001b[38;5;241m.\u001b[39mexperimental_get_tracing_count()\n\u001b[0;32m    913\u001b[0m without_tracing \u001b[38;5;241m=\u001b[39m (tracing_count \u001b[38;5;241m==\u001b[39m new_tracing_count)\n",
      "File \u001b[1;32m~\\AppData\\Roaming\\Python\\Python39\\site-packages\\tensorflow\\python\\eager\\def_function.py:942\u001b[0m, in \u001b[0;36mFunction._call\u001b[1;34m(self, *args, **kwds)\u001b[0m\n\u001b[0;32m    939\u001b[0m   \u001b[38;5;28mself\u001b[39m\u001b[38;5;241m.\u001b[39m_lock\u001b[38;5;241m.\u001b[39mrelease()\n\u001b[0;32m    940\u001b[0m   \u001b[38;5;66;03m# In this case we have created variables on the first call, so we run the\u001b[39;00m\n\u001b[0;32m    941\u001b[0m   \u001b[38;5;66;03m# defunned version which is guaranteed to never create variables.\u001b[39;00m\n\u001b[1;32m--> 942\u001b[0m   \u001b[38;5;28;01mreturn\u001b[39;00m \u001b[38;5;28mself\u001b[39m\u001b[38;5;241m.\u001b[39m_stateless_fn(\u001b[38;5;241m*\u001b[39margs, \u001b[38;5;241m*\u001b[39m\u001b[38;5;241m*\u001b[39mkwds)  \u001b[38;5;66;03m# pylint: disable=not-callable\u001b[39;00m\n\u001b[0;32m    943\u001b[0m \u001b[38;5;28;01melif\u001b[39;00m \u001b[38;5;28mself\u001b[39m\u001b[38;5;241m.\u001b[39m_stateful_fn \u001b[38;5;129;01mis\u001b[39;00m \u001b[38;5;129;01mnot\u001b[39;00m \u001b[38;5;28;01mNone\u001b[39;00m:\n\u001b[0;32m    944\u001b[0m   \u001b[38;5;66;03m# Release the lock early so that multiple threads can perform the call\u001b[39;00m\n\u001b[0;32m    945\u001b[0m   \u001b[38;5;66;03m# in parallel.\u001b[39;00m\n\u001b[0;32m    946\u001b[0m   \u001b[38;5;28mself\u001b[39m\u001b[38;5;241m.\u001b[39m_lock\u001b[38;5;241m.\u001b[39mrelease()\n",
      "File \u001b[1;32m~\\AppData\\Roaming\\Python\\Python39\\site-packages\\tensorflow\\python\\eager\\function.py:3130\u001b[0m, in \u001b[0;36mFunction.__call__\u001b[1;34m(self, *args, **kwargs)\u001b[0m\n\u001b[0;32m   3127\u001b[0m \u001b[38;5;28;01mwith\u001b[39;00m \u001b[38;5;28mself\u001b[39m\u001b[38;5;241m.\u001b[39m_lock:\n\u001b[0;32m   3128\u001b[0m   (graph_function,\n\u001b[0;32m   3129\u001b[0m    filtered_flat_args) \u001b[38;5;241m=\u001b[39m \u001b[38;5;28mself\u001b[39m\u001b[38;5;241m.\u001b[39m_maybe_define_function(args, kwargs)\n\u001b[1;32m-> 3130\u001b[0m \u001b[38;5;28;01mreturn\u001b[39;00m \u001b[43mgraph_function\u001b[49m\u001b[38;5;241;43m.\u001b[39;49m\u001b[43m_call_flat\u001b[49m\u001b[43m(\u001b[49m\n\u001b[0;32m   3131\u001b[0m \u001b[43m    \u001b[49m\u001b[43mfiltered_flat_args\u001b[49m\u001b[43m,\u001b[49m\u001b[43m \u001b[49m\u001b[43mcaptured_inputs\u001b[49m\u001b[38;5;241;43m=\u001b[39;49m\u001b[43mgraph_function\u001b[49m\u001b[38;5;241;43m.\u001b[39;49m\u001b[43mcaptured_inputs\u001b[49m\u001b[43m)\u001b[49m\n",
      "File \u001b[1;32m~\\AppData\\Roaming\\Python\\Python39\\site-packages\\tensorflow\\python\\eager\\function.py:1959\u001b[0m, in \u001b[0;36mConcreteFunction._call_flat\u001b[1;34m(self, args, captured_inputs, cancellation_manager)\u001b[0m\n\u001b[0;32m   1955\u001b[0m possible_gradient_type \u001b[38;5;241m=\u001b[39m gradients_util\u001b[38;5;241m.\u001b[39mPossibleTapeGradientTypes(args)\n\u001b[0;32m   1956\u001b[0m \u001b[38;5;28;01mif\u001b[39;00m (possible_gradient_type \u001b[38;5;241m==\u001b[39m gradients_util\u001b[38;5;241m.\u001b[39mPOSSIBLE_GRADIENT_TYPES_NONE\n\u001b[0;32m   1957\u001b[0m     \u001b[38;5;129;01mand\u001b[39;00m executing_eagerly):\n\u001b[0;32m   1958\u001b[0m   \u001b[38;5;66;03m# No tape is watching; skip to running the function.\u001b[39;00m\n\u001b[1;32m-> 1959\u001b[0m   \u001b[38;5;28;01mreturn\u001b[39;00m \u001b[38;5;28mself\u001b[39m\u001b[38;5;241m.\u001b[39m_build_call_outputs(\u001b[38;5;28;43mself\u001b[39;49m\u001b[38;5;241;43m.\u001b[39;49m\u001b[43m_inference_function\u001b[49m\u001b[38;5;241;43m.\u001b[39;49m\u001b[43mcall\u001b[49m\u001b[43m(\u001b[49m\n\u001b[0;32m   1960\u001b[0m \u001b[43m      \u001b[49m\u001b[43mctx\u001b[49m\u001b[43m,\u001b[49m\u001b[43m \u001b[49m\u001b[43margs\u001b[49m\u001b[43m,\u001b[49m\u001b[43m \u001b[49m\u001b[43mcancellation_manager\u001b[49m\u001b[38;5;241;43m=\u001b[39;49m\u001b[43mcancellation_manager\u001b[49m\u001b[43m)\u001b[49m)\n\u001b[0;32m   1961\u001b[0m forward_backward \u001b[38;5;241m=\u001b[39m \u001b[38;5;28mself\u001b[39m\u001b[38;5;241m.\u001b[39m_select_forward_and_backward_functions(\n\u001b[0;32m   1962\u001b[0m     args,\n\u001b[0;32m   1963\u001b[0m     possible_gradient_type,\n\u001b[0;32m   1964\u001b[0m     executing_eagerly)\n\u001b[0;32m   1965\u001b[0m forward_function, args_with_tangents \u001b[38;5;241m=\u001b[39m forward_backward\u001b[38;5;241m.\u001b[39mforward()\n",
      "File \u001b[1;32m~\\AppData\\Roaming\\Python\\Python39\\site-packages\\tensorflow\\python\\eager\\function.py:598\u001b[0m, in \u001b[0;36m_EagerDefinedFunction.call\u001b[1;34m(self, ctx, args, cancellation_manager)\u001b[0m\n\u001b[0;32m    596\u001b[0m \u001b[38;5;28;01mwith\u001b[39;00m _InterpolateFunctionError(\u001b[38;5;28mself\u001b[39m):\n\u001b[0;32m    597\u001b[0m   \u001b[38;5;28;01mif\u001b[39;00m cancellation_manager \u001b[38;5;129;01mis\u001b[39;00m \u001b[38;5;28;01mNone\u001b[39;00m:\n\u001b[1;32m--> 598\u001b[0m     outputs \u001b[38;5;241m=\u001b[39m \u001b[43mexecute\u001b[49m\u001b[38;5;241;43m.\u001b[39;49m\u001b[43mexecute\u001b[49m\u001b[43m(\u001b[49m\n\u001b[0;32m    599\u001b[0m \u001b[43m        \u001b[49m\u001b[38;5;28;43mstr\u001b[39;49m\u001b[43m(\u001b[49m\u001b[38;5;28;43mself\u001b[39;49m\u001b[38;5;241;43m.\u001b[39;49m\u001b[43msignature\u001b[49m\u001b[38;5;241;43m.\u001b[39;49m\u001b[43mname\u001b[49m\u001b[43m)\u001b[49m\u001b[43m,\u001b[49m\n\u001b[0;32m    600\u001b[0m \u001b[43m        \u001b[49m\u001b[43mnum_outputs\u001b[49m\u001b[38;5;241;43m=\u001b[39;49m\u001b[38;5;28;43mself\u001b[39;49m\u001b[38;5;241;43m.\u001b[39;49m\u001b[43m_num_outputs\u001b[49m\u001b[43m,\u001b[49m\n\u001b[0;32m    601\u001b[0m \u001b[43m        \u001b[49m\u001b[43minputs\u001b[49m\u001b[38;5;241;43m=\u001b[39;49m\u001b[43margs\u001b[49m\u001b[43m,\u001b[49m\n\u001b[0;32m    602\u001b[0m \u001b[43m        \u001b[49m\u001b[43mattrs\u001b[49m\u001b[38;5;241;43m=\u001b[39;49m\u001b[43mattrs\u001b[49m\u001b[43m,\u001b[49m\n\u001b[0;32m    603\u001b[0m \u001b[43m        \u001b[49m\u001b[43mctx\u001b[49m\u001b[38;5;241;43m=\u001b[39;49m\u001b[43mctx\u001b[49m\u001b[43m)\u001b[49m\n\u001b[0;32m    604\u001b[0m   \u001b[38;5;28;01melse\u001b[39;00m:\n\u001b[0;32m    605\u001b[0m     outputs \u001b[38;5;241m=\u001b[39m execute\u001b[38;5;241m.\u001b[39mexecute_with_cancellation(\n\u001b[0;32m    606\u001b[0m         \u001b[38;5;28mstr\u001b[39m(\u001b[38;5;28mself\u001b[39m\u001b[38;5;241m.\u001b[39msignature\u001b[38;5;241m.\u001b[39mname),\n\u001b[0;32m    607\u001b[0m         num_outputs\u001b[38;5;241m=\u001b[39m\u001b[38;5;28mself\u001b[39m\u001b[38;5;241m.\u001b[39m_num_outputs,\n\u001b[1;32m   (...)\u001b[0m\n\u001b[0;32m    610\u001b[0m         ctx\u001b[38;5;241m=\u001b[39mctx,\n\u001b[0;32m    611\u001b[0m         cancellation_manager\u001b[38;5;241m=\u001b[39mcancellation_manager)\n",
      "File \u001b[1;32m~\\AppData\\Roaming\\Python\\Python39\\site-packages\\tensorflow\\python\\eager\\execute.py:58\u001b[0m, in \u001b[0;36mquick_execute\u001b[1;34m(op_name, num_outputs, inputs, attrs, ctx, name)\u001b[0m\n\u001b[0;32m     56\u001b[0m \u001b[38;5;28;01mtry\u001b[39;00m:\n\u001b[0;32m     57\u001b[0m   ctx\u001b[38;5;241m.\u001b[39mensure_initialized()\n\u001b[1;32m---> 58\u001b[0m   tensors \u001b[38;5;241m=\u001b[39m \u001b[43mpywrap_tfe\u001b[49m\u001b[38;5;241;43m.\u001b[39;49m\u001b[43mTFE_Py_Execute\u001b[49m\u001b[43m(\u001b[49m\u001b[43mctx\u001b[49m\u001b[38;5;241;43m.\u001b[39;49m\u001b[43m_handle\u001b[49m\u001b[43m,\u001b[49m\u001b[43m \u001b[49m\u001b[43mdevice_name\u001b[49m\u001b[43m,\u001b[49m\u001b[43m \u001b[49m\u001b[43mop_name\u001b[49m\u001b[43m,\u001b[49m\n\u001b[0;32m     59\u001b[0m \u001b[43m                                      \u001b[49m\u001b[43minputs\u001b[49m\u001b[43m,\u001b[49m\u001b[43m \u001b[49m\u001b[43mattrs\u001b[49m\u001b[43m,\u001b[49m\u001b[43m \u001b[49m\u001b[43mnum_outputs\u001b[49m\u001b[43m)\u001b[49m\n\u001b[0;32m     60\u001b[0m \u001b[38;5;28;01mexcept\u001b[39;00m core\u001b[38;5;241m.\u001b[39m_NotOkStatusException \u001b[38;5;28;01mas\u001b[39;00m e:\n\u001b[0;32m     61\u001b[0m   \u001b[38;5;28;01mif\u001b[39;00m name \u001b[38;5;129;01mis\u001b[39;00m \u001b[38;5;129;01mnot\u001b[39;00m \u001b[38;5;28;01mNone\u001b[39;00m:\n",
      "\u001b[1;31mKeyboardInterrupt\u001b[0m: "
     ]
    }
   ],
   "source": [
    "start=datetime.datetime.now()\n",
    "early_stop = EarlyStopping(monitor='val_loss', patience=10)\n",
    "\n",
    "with tf.device('/GPU:0'):\n",
    "    model_path = 'model'\n",
    "    filename = os.path.join(model_path, \"tmp_checkpoint_main.h5\")\n",
    "    checkpoint = ModelCheckpoint(filename, monitor='val_loss', verbose=1, save_best_only=True, mode='auto')\n",
    "    history = model.fit(train_data, epochs=50, batch_size=BATCH_SIZE, validation_data=(valid_data), callbacks=[checkpoint, early_stop])\n",
    "\n",
    "model.load_weights(filename)\n",
    "pred = model.predict(test_data)\n",
    "pred.shape\n",
    "end=datetime.datetime.now()\n",
    "print(\"\\n소요시간 >>\", end-start)"
   ]
  },
  {
   "cell_type": "code",
   "execution_count": null,
   "id": "269d7721",
   "metadata": {},
   "outputs": [],
   "source": [
    "model.load_weights(filename)\n",
    "pred = model.predict(test_data)\n",
    "pred.shape"
   ]
  },
  {
   "cell_type": "markdown",
   "id": "3f70a61f",
   "metadata": {},
   "source": [
    "### 9. 결과 표시"
   ]
  },
  {
   "cell_type": "code",
   "execution_count": null,
   "id": "90879fb0",
   "metadata": {},
   "outputs": [],
   "source": [
    "try:\n",
    "    os.mkdir('./Result/CNN+LSTM')\n",
    "    os.mkdir('./Result/CNN+LSTM/Graph')\n",
    "    os.mkdir('./Result/CNN+LSTM/Data')\n",
    "    print('폴더 생성 완료.')\n",
    "    \n",
    "except FileExistsError:\n",
    "    print('해당 폴더가 이미 존재합니다.')"
   ]
  },
  {
   "cell_type": "code",
   "execution_count": null,
   "id": "e96d8ad2",
   "metadata": {},
   "outputs": [],
   "source": [
    "plt.figure(figsize=(20, 12))\n",
    "plt.title('Model Validation Loss', fontsize=40)\n",
    "plt.tick_params(axis='x', size=15)\n",
    "plt.tick_params(axis='x', labelsize=30)\n",
    "plt.tick_params(axis='y', size=15)\n",
    "plt.tick_params(axis='y', labelsize=30)\n",
    "#plt.xticks(range(0,len(history.history['val_loss'])), labels=range(1,len(history.history['val_loss'])+1))\n",
    "plt.xlabel('[Epoch]', size=30)\n",
    "plt.ylabel('[Val_loss]', size=30)\n",
    "plt.grid(True)\n",
    "plt.plot(history.history['val_loss'])\n",
    "plt.margins(x=0.02)\n",
    "plt.savefig(\"./Result/CNN+LSTM/Graph/Model_Valdation_Loss_\"+Scaler_Name+\".png\")\n",
    "plt.show"
   ]
  },
  {
   "cell_type": "code",
   "execution_count": null,
   "id": "774ae540",
   "metadata": {},
   "outputs": [],
   "source": [
    "plt.figure(figsize=(20, 12))\n",
    "#plt.title('Model Loss Convergence Graph - '+Scaler_Name, fontsize=40)\n",
    "plt.tick_params(axis='x', size=15)\n",
    "plt.tick_params(axis='x', labelsize=35)\n",
    "plt.tick_params(axis='y', size=15)\n",
    "plt.tick_params(axis='y', labelsize=35)\n",
    "#plt.xticks(range(0,len(history.history['val_loss'])), labels=range(1,len(history.history['val_loss'])+1))\n",
    "y_tloss = history.history['loss']\n",
    "y_vloss = history.history['val_loss']\n",
    "x_len = np.arange(len(y_tloss))\n",
    "plt.xlabel('[Epoch]', size=35)\n",
    "plt.ylabel('[Loss=MAE]', size=35)\n",
    "plt.grid(True)\n",
    "plt.plot(x_len, y_tloss, \"o-\", c=\"blue\", markersize=3)\n",
    "plt.plot(x_len, y_vloss, \"o-\", c=\"red\", markersize=3)\n",
    "plt.margins(x=0.02)\n",
    "plt.legend(['Training loss', 'Validation loss'], fontsize=30)\n",
    "plt.savefig(\"./Result/CNN+LSTM/Graph/Model_Loss_Convergence_Graph_\"+Scaler_Name+\".png\")\n",
    "plt.show"
   ]
  },
  {
   "cell_type": "code",
   "execution_count": null,
   "id": "f8937abd",
   "metadata": {},
   "outputs": [],
   "source": [
    "Inversed_pred = scaler1.inverse_transform(np.array(pred).reshape(-1,1))\n",
    "Inversed_true = scaler1.inverse_transform(np.array(TEST['Watt'][:-WINDOW_SIZE]).reshape(-1,1))"
   ]
  },
  {
   "cell_type": "code",
   "execution_count": null,
   "id": "2052fca8",
   "metadata": {},
   "outputs": [],
   "source": [
    "plt.figure(figsize=(300, 15))\n",
    "\n",
    "plt.tick_params(axis='x', size=20)\n",
    "plt.tick_params(axis='x', labelsize=30)\n",
    "plt.tick_params(axis='y', size=20)\n",
    "plt.tick_params(axis='y', labelsize=30)\n",
    "\n",
    "plt.plot(Inversed_pred, label = 'Prediction',color='blue')\n",
    "\n",
    "plt.xticks([0, 31*24*60, 59*24*60, 90*24*60, 120*24*60, 151*24*60, 181*24*60, 212*24*60, 243*24*60, 273*24*60, 304*24*60, 334*24*60], \n",
    "           labels=['Jan', 'Feb', 'Mar', 'Apr', 'May', 'Jun', 'Jul', 'Aug', 'Sep', 'Oct', 'Nov', 'Dec'])\n",
    "\n",
    "plt.yticks(range(0,10000,1000), \n",
    "               labels=['0', '1000 W', '2000 W', '3000 W', '4000 W', '5000 W', '6000 W', '7000 W', '8000 W', '9000 W'])\n",
    "\n",
    "plt.margins(x=0.005)\n",
    "#plt.savefig('./Result/CNN+LSTM/Graph/Prediction.png')\n",
    "plt.show()"
   ]
  },
  {
   "cell_type": "code",
   "execution_count": null,
   "id": "51a66e75",
   "metadata": {},
   "outputs": [],
   "source": [
    "plt.figure(figsize=(300, 15))\n",
    "\n",
    "plt.tick_params(axis='x', size=20)\n",
    "plt.tick_params(axis='x', labelsize=30)\n",
    "plt.tick_params(axis='y', size=20)\n",
    "plt.tick_params(axis='y', labelsize=30)\n",
    "\n",
    "plt.plot(Inversed_true, label = 'Actual', color='darkorange')\n",
    "\n",
    "plt.xticks([0, 31*24*60, 59*24*60, 90*24*60, 120*24*60, 151*24*60, 181*24*60, 212*24*60, 243*24*60, 273*24*60, 304*24*60, 334*24*60], \n",
    "           labels=['Jan', 'Feb', 'Mar', 'Apr', 'May', 'Jun', 'Jul', 'Aug', 'Sep', 'Oct', 'Nov', 'Dec'])\n",
    "plt.yticks(range(0,10000,1000), \n",
    "               labels=['0', '1000 W', '2000 W', '3000 W', '4000 W', '5000 W', '6000 W', '7000 W', '8000 W', '9000 W'])\n",
    "\n",
    "plt.margins(x=0.005)\n",
    "#plt.savefig('./Result/CNN+LSTM/Graph/Actual.png')\n",
    "plt.show()"
   ]
  },
  {
   "cell_type": "code",
   "execution_count": null,
   "id": "2e53c275",
   "metadata": {},
   "outputs": [],
   "source": [
    "plt.figure(figsize=(300, 15))\n",
    "plt.title('Electric power predict with actual graph', fontsize=40)\n",
    "plt.tick_params(axis='x', size=15)\n",
    "plt.tick_params(axis='x', labelsize=30)\n",
    "plt.tick_params(axis='y', size=15)\n",
    "plt.tick_params(axis='y', labelsize=30)\n",
    "\n",
    "x_len = np.arange(len(pred))\n",
    "\n",
    "plt.xticks([0, 1440*31, 1440*59, 1440*90, 1440*120, 1440*151, 1440*181, 1440*212, 1440*243, 1440*273, 1440*304, 1440*334], labels=range(1, 13))\n",
    "plt.yticks(range(0,10000,1000), labels=['0', '1000 W', '2000 W', '3000 W', '4000 W', '5000 W', '6000 W', '7000 W', '8000 W', '9000 W'])\n",
    "plt.xlabel('[Month]', size=30)\n",
    "plt.ylabel('[Watt]', size=30)\n",
    "\n",
    "plt.plot(x_len, Inversed_true, \"-\", c=\"blue\", markersize=3)\n",
    "plt.plot(x_len, Inversed_pred, \"-\", c=\"darkorange\", markersize=3)\n",
    "\n",
    "\n",
    "plt.margins(x=0.002)\n",
    "plt.legend(['Actual', 'Predict'], fontsize=30, loc=1, bbox_to_anchor=(0.994, 1, 0, 0))\n",
    "plt.savefig(\"./Result/CNN+LSTM/Graph/Predict_With_Actual_Graph_\"+Scaler_Name+\".png\")\n",
    "plt.show"
   ]
  },
  {
   "cell_type": "code",
   "execution_count": null,
   "id": "d30f3ce8",
   "metadata": {},
   "outputs": [],
   "source": [
    "plt.figure(figsize=(20, 12))\n",
    "#plt.title('Electric power predict graph - '+Scaler_Name, fontsize=40)\n",
    "plt.tick_params(axis='x', size=15)\n",
    "plt.tick_params(axis='x', labelsize=35)\n",
    "plt.tick_params(axis='y', size=15)\n",
    "plt.tick_params(axis='y', labelsize=35)\n",
    "\n",
    "x_len = np.arange(len(pred[0:1440*7]))\n",
    "\n",
    "plt.xticks(range(0,len(pred[0:1440*7]), 1440), labels=range(1, 8))\n",
    "plt.yticks(range(0,10000,1000), labels=['0', '1000 W', '2000 W', '3000 W', '4000 W', '5000 W', '6000 W', '7000 W', '8000 W', '9000 W'])\n",
    "\n",
    "plt.xlabel('[Days]', size=35)\n",
    "plt.ylabel('[Watt]', size=35)\n",
    "\n",
    "plt.plot(x_len, Inversed_true[WINDOW_SIZE:1440*7+WINDOW_SIZE], \"-\", c=\"darkorange\", markersize=3)\n",
    "plt.plot(x_len, Inversed_pred[0:1440*7], \"-\", c=\"blue\", markersize=3)\n",
    "\n",
    "plt.grid(True)\n",
    "#plt.margins(x=0.02)\n",
    "plt.legend(['Actual', 'Predict'], fontsize=30)\n",
    "plt.savefig(\"./Result/CNN+LSTM/Graph/Predict_With_Actual_Graph_Week_\"+Scaler_Name+\".png\")\n",
    "plt.show"
   ]
  },
  {
   "cell_type": "markdown",
   "id": "df0d75fa",
   "metadata": {},
   "source": [
    "### 정규화 상태의 수치 결과\n",
    "#### #역정규화를 한 상태로 비교하면 성능평가지표에서 간편하게 비교가 불가능."
   ]
  },
  {
   "cell_type": "code",
   "execution_count": null,
   "id": "10ace690",
   "metadata": {},
   "outputs": [],
   "source": [
    "def mae(y_true, predictions):\n",
    "    y_true, predictions = np.array(y_true), np.array(predictions)\n",
    "    return np.mean(np.abs(y_true - predictions))\n",
    "\n",
    "def smape(y_test, y_pred):\n",
    "    y_test, y_pred = np.array(y_test), np.array(y_pred)\n",
    "    return np.mean((np.abs(y_test-y_pred))/(np.abs(y_test)+np.abs(y_pred)))*100/2"
   ]
  },
  {
   "cell_type": "code",
   "execution_count": null,
   "id": "73a297e3",
   "metadata": {},
   "outputs": [],
   "source": [
    "true = TEST['Watt2'][:-WINDOW_SIZE].to_numpy()\n",
    "true = true.reshape(-1,1)\n",
    "\n",
    "RMSE = np.sqrt(MSE(true, pred))"
   ]
  },
  {
   "cell_type": "code",
   "execution_count": null,
   "id": "6cba7716",
   "metadata": {},
   "outputs": [],
   "source": [
    "print('r2 >> %.4f' %r2(true, pred)) # 1에 가까워야 좋음\n",
    "print('MAE >> %.4f' %mae(true, pred)) # 0에 가까워야 좋음\n",
    "print('RMSE >> %.4f' %RMSE) # 0에 가까워야 좋음\n",
    "print('SMAPE >> %.4f' %smape(true, pred)) # 0에 가까워야 좋음"
   ]
  }
 ],
 "metadata": {
  "kernelspec": {
   "display_name": "Python 3 (ipykernel)",
   "language": "python",
   "name": "python3"
  },
  "language_info": {
   "codemirror_mode": {
    "name": "ipython",
    "version": 3
   },
   "file_extension": ".py",
   "mimetype": "text/x-python",
   "name": "python",
   "nbconvert_exporter": "python",
   "pygments_lexer": "ipython3",
   "version": "3.9.12"
  }
 },
 "nbformat": 4,
 "nbformat_minor": 5
}
