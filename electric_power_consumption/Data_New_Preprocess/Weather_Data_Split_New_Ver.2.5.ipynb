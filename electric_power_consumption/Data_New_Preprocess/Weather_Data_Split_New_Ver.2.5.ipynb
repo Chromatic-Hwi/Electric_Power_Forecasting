{
 "cells": [
  {
   "cell_type": "markdown",
   "id": "79db435a",
   "metadata": {},
   "source": [
    "##  기상 데이터 시간 및 평균값 정리"
   ]
  },
  {
   "cell_type": "markdown",
   "id": "4309c7bb",
   "metadata": {},
   "source": [
    "### 화면 가로 확장"
   ]
  },
  {
   "cell_type": "code",
   "execution_count": 1,
   "id": "5806396d",
   "metadata": {},
   "outputs": [
    {
     "data": {
      "text/html": [
       "<style>.container { width:70% !important; }</style>"
      ],
      "text/plain": [
       "<IPython.core.display.HTML object>"
      ]
     },
     "metadata": {},
     "output_type": "display_data"
    }
   ],
   "source": [
    "# 화면 가로 확장 코드 (기본 width 50%)\n",
    "from IPython.core.display import display, HTML\n",
    "display(HTML(\"<style>.container { width:70% !important; }</style>\"))"
   ]
  },
  {
   "cell_type": "markdown",
   "id": "c73df720",
   "metadata": {},
   "source": [
    "### 데이터 저장을 위한 폴더 생성"
   ]
  },
  {
   "cell_type": "code",
   "execution_count": 2,
   "id": "698a84cb",
   "metadata": {},
   "outputs": [
    {
     "name": "stdout",
     "output_type": "stream",
     "text": [
      "해당 폴더가 이미 존재합니다.\n",
      "폴더를 확인해주세요.\n"
     ]
    }
   ],
   "source": [
    "import os\n",
    "try:\n",
    "    os.mkdir('./Weather_Data_1minute_CSV')\n",
    "    print('폴더 생성 완료.')\n",
    "except FileExistsError:\n",
    "    print('해당 폴더가 이미 존재합니다.\\n폴더를 확인해주세요.')"
   ]
  },
  {
   "cell_type": "code",
   "execution_count": null,
   "id": "b5206267",
   "metadata": {
    "scrolled": true
   },
   "outputs": [
    {
     "name": "stdout",
     "output_type": "stream",
     "text": [
      "Start Working!!\n"
     ]
    }
   ],
   "source": [
    "import csv\n",
    "import pandas as pd\n",
    "import sys\n",
    "\n",
    "print('Start Working!!')\n",
    "\n",
    "month = {1:31, 2:28, 3:31, 4:30, 5:31, 6:30, 7:31, 8:31, 9:30, 10:31, 11:30, 12:31}\n",
    "\n",
    "for y in range(2013, 2017):\n",
    "    for m in range(1,13):\n",
    "        # 예로 1월은 31일 까지이지만 range에서는 0~30으로 출력. 하지만 반복이 31번이 되기만 하면 무관\n",
    "        \n",
    "        s=0\n",
    "        N=0\n",
    "        for d in range(month[m]):\n",
    "            D=d+1\n",
    "            csv_origin = pd.read_csv(\"../Weather_Data/Weather_Data_CSV/\"+str(y)+'_'+str(m)+'_'+\"London_Temperature.csv\", \n",
    "                      names = ['Year', 'Month', 'Day', 'Time', 'Seq', 'Temp', \"'C\", 'Humidity', '%'], \n",
    "                      header = None, encoding='cp949')\n",
    "    \n",
    "            Day_list=[]\n",
    "            for _ in range(s, s+48):\n",
    "                Time=str(csv_origin.loc[[N], :][\"Time\"].values[0])                \n",
    "                try:\n",
    "                    csv_s1 = csv_origin.loc[[int(N)], :]\n",
    "                    csv_s2 = csv_origin.loc[[int(N+1)], :]\n",
    "                except KeyError:\n",
    "                    csv_s1 = csv_origin.loc[[int(N-1)], :]\n",
    "                    csv_s2 = csv_origin.loc[[int(N)], :]\n",
    "                    \n",
    "                Temp_Start=int(csv_s1['Temp'])\n",
    "                Humi_Start=int(csv_s1['Humidity'])\n",
    "                Temp_End=int(csv_s2['Temp'])\n",
    "                Humi_End=int(csv_s2['Humidity'])\n",
    "                \n",
    "                Temp_1 = (Temp_End-Temp_Start) / 30\n",
    "                Humi_1 = (Humi_End-Humi_Start) / 30\n",
    "                YMD = '{}-{}-{}'.format(y,m,D)\n",
    "                \n",
    "                Multiple_Num=0\n",
    "                if Time[-5:-3]==\"50\":\n",
    "                    #print(Temp_Start, Temp_End, \"|\", Humi_Start, Humi_End)\n",
    "                    for n in range(0,30):\n",
    "                        Hour_list=[]\n",
    "                        if n==29:\n",
    "                            Hour_list=[YMD, Time, n, float(Temp_End), \"'C\", float(Humi_End), \"%\"]\n",
    "                        else:\n",
    "                            Hour_list=[YMD, Time, n, round(float(Temp_Start+Temp_1*Multiple_Num),3), \"'C\", round(float(Humi_Start+Humi_1*Multiple_Num),3), \"%\"]\n",
    "                        Day_list.append(Hour_list)\n",
    "                        Multiple_Num+=1\n",
    "                        #print(Hour_list)\n",
    "                    #print()\n",
    "                    \n",
    "                if Time[-5:-3]==\"20\":\n",
    "                    #print(Temp_Start, Temp_End, \"|\", Humi_Start, Humi_End)\n",
    "                    for n in range(30,60):\n",
    "                        Hour_list=[]\n",
    "                        if n==59:\n",
    "                            Hour_list=[YMD, Time, n, float(Temp_End), \"'C\", float(Humi_End), \"%\"]\n",
    "                        else:\n",
    "                            Hour_list=[YMD, Time, n, round(float(Temp_Start+Temp_1*Multiple_Num),3), \"'C\", round(float(Humi_Start+Humi_1*Multiple_Num),3), \"%\"]\n",
    "                        Day_list.append(Hour_list)\n",
    "                        Multiple_Num+=1\n",
    "                        #print(Hour_list)\n",
    "                    #print()\n",
    "                N+=1\n",
    "\n",
    "            for elem in Day_list:\n",
    "                with open(\"./Weather_Data_1minute_CSV/\"+str(y)+'_'+str(m)+'_'+\"London_Temperature_1minute.csv\", \n",
    "                          'a', newline='') as file:\n",
    "                        writer = csv.writer(file)\n",
    "                        writer.writerow(elem)"
   ]
  },
  {
   "cell_type": "code",
   "execution_count": null,
   "id": "9fae0389",
   "metadata": {},
   "outputs": [],
   "source": [
    "# 컬럼만 추가하는 작업\n",
    "for y in range(2013, 2017):\n",
    "    for m in range(1,13):\n",
    "        csv_column = pd.read_csv(\"./Weather_Data_1minute_CSV/\"+str(y)+'_'+str(m)+'_'+\"London_Temperature_1minute.csv\", \n",
    "                                 names = ['DateTime', 'Origin-Time', \"Minute\", 'Temp', \"'C\", 'Humidity', '%'], \n",
    "                                 header = None, encoding='cp949')\n",
    "        \n",
    "        csv_column.to_csv(\"./Weather_Data_1minute_CSV/\"+str(y)+'_'+str(m)+'_'+\"London_Temperature_1minute.csv\")\n",
    "    \n",
    "print('Job Done!!')"
   ]
  }
 ],
 "metadata": {
  "kernelspec": {
   "display_name": "Python 3 (ipykernel)",
   "language": "python",
   "name": "python3"
  },
  "language_info": {
   "codemirror_mode": {
    "name": "ipython",
    "version": 3
   },
   "file_extension": ".py",
   "mimetype": "text/x-python",
   "name": "python",
   "nbconvert_exporter": "python",
   "pygments_lexer": "ipython3",
   "version": "3.9.7"
  }
 },
 "nbformat": 4,
 "nbformat_minor": 5
}
