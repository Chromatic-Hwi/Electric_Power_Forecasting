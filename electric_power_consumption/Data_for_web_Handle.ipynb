{
 "cells": [
  {
   "cell_type": "code",
   "execution_count": 1,
   "id": "4da791f3",
   "metadata": {},
   "outputs": [],
   "source": [
    "import os\n",
    "import pandas as pd\n",
    "import csv"
   ]
  },
  {
   "cell_type": "code",
   "execution_count": 2,
   "id": "a2f2f33e",
   "metadata": {},
   "outputs": [
    {
     "data": {
      "text/html": [
       "<style>.container { width:80% !important; }</style>"
      ],
      "text/plain": [
       "<IPython.core.display.HTML object>"
      ]
     },
     "metadata": {},
     "output_type": "display_data"
    }
   ],
   "source": [
    "# 화면 가로 확장 코드 (기본 width 50%)\n",
    "from IPython.core.display import display, HTML\n",
    "display(HTML(\"<style>.container { width:80% !important; }</style>\"))"
   ]
  },
  {
   "cell_type": "code",
   "execution_count": 3,
   "id": "e2082bf7",
   "metadata": {},
   "outputs": [
    {
     "name": "stdout",
     "output_type": "stream",
     "text": [
      "폴더 생성 완료.\n"
     ]
    }
   ],
   "source": [
    "try:\n",
    "    os.mkdir('./Result/Web_Data')\n",
    "    os.mkdir('./Result/Web_Data/LSTM')\n",
    "    os.mkdir('./Result/Web_Data/CNN+LSTM')\n",
    "    print('폴더 생성 완료.')\n",
    "    \n",
    "except FileExistsError:\n",
    "    print('해당 폴더가 이미 존재합니다.\\n폴더를 확인해주세요.')"
   ]
  },
  {
   "cell_type": "code",
   "execution_count": 4,
   "id": "ff56405c",
   "metadata": {},
   "outputs": [
    {
     "name": "stdout",
     "output_type": "stream",
     "text": [
      "Job Done!!\n"
     ]
    }
   ],
   "source": [
    "# LSTM\n",
    "for m in range(1,13):\n",
    "    if m<=9:\n",
    "        mn=str(m)\n",
    "        mn='0'+mn\n",
    "    else:\n",
    "        mn=m\n",
    "    file1 = './Result/LSTM/Data/Electric_Prediction_result_data_for_Chart_'+str(mn)+'.csv'\n",
    "    df_m1 = pd.read_csv(file1, encoding='cp949')\n",
    "    df_m1 = df_m1.drop([df_m1.columns[0]], axis=1)\n",
    "    df_m1.to_csv('./Result/Web_Data/LSTM/'+str(m)+'m.csv', header=False, encoding='cp949')\n",
    "    \n",
    "# CNN + LSTM\n",
    "for m in range(1,13):\n",
    "    if m<=9:\n",
    "        mn=str(m)\n",
    "        mn='0'+mn\n",
    "    else:\n",
    "        mn=m\n",
    "    \n",
    "    file2 = './Result/CNN+LSTM/Data/Electric_Prediction_result_data_for_Chart_'+str(mn)+'.csv'\n",
    "    df_m2 = pd.read_csv(file2, encoding='cp949')\n",
    "    df_m2 = df_m2.drop([df_m2.columns[0]], axis=1)\n",
    "    df_m2.to_csv('./Result/Web_Data/CNN+LSTM/'+str(m)+'m.csv', header=False, encoding='cp949')\n",
    "\n",
    "print('Job Done!!')"
   ]
  }
 ],
 "metadata": {
  "kernelspec": {
   "display_name": "Python 3 (ipykernel)",
   "language": "python",
   "name": "python3"
  },
  "language_info": {
   "codemirror_mode": {
    "name": "ipython",
    "version": 3
   },
   "file_extension": ".py",
   "mimetype": "text/x-python",
   "name": "python",
   "nbconvert_exporter": "python",
   "pygments_lexer": "ipython3",
   "version": "3.9.7"
  }
 },
 "nbformat": 4,
 "nbformat_minor": 5
}
