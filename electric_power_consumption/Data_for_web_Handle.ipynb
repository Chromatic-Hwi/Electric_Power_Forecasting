{
 "cells": [
  {
   "cell_type": "code",
   "execution_count": 6,
   "id": "4da791f3",
   "metadata": {},
   "outputs": [],
   "source": [
    "import os\n",
    "import pandas as pd\n",
    "import csv"
   ]
  },
  {
   "cell_type": "code",
   "execution_count": 2,
   "id": "a2f2f33e",
   "metadata": {},
   "outputs": [
    {
     "data": {
      "text/html": [
       "<style>.container { width:80% !important; }</style>"
      ],
      "text/plain": [
       "<IPython.core.display.HTML object>"
      ]
     },
     "metadata": {},
     "output_type": "display_data"
    }
   ],
   "source": [
    "# 화면 가로 확장 코드 (기본 width 50%)\n",
    "from IPython.core.display import display, HTML\n",
    "display(HTML(\"<style>.container { width:80% !important; }</style>\"))"
   ]
  },
  {
   "cell_type": "code",
   "execution_count": 5,
   "id": "e2082bf7",
   "metadata": {},
   "outputs": [
    {
     "name": "stdout",
     "output_type": "stream",
     "text": [
      "해당 폴더가 이미 존재합니다.\n",
      "폴더를 확인해주세요.\n"
     ]
    }
   ],
   "source": [
    "try:\n",
    "    os.mkdir('./Result/Web_Data')\n",
    "    os.mkdir('./Result/Web_Data/LSTM')\n",
    "    os.mkdir('./Result/Web_Data/CNN+LSTM')\n",
    "    print('폴더 생성 완료.')\n",
    "    \n",
    "except FileExistsError:\n",
    "    print('해당 폴더가 이미 존재합니다.\\n폴더를 확인해주세요.')"
   ]
  },
  {
   "cell_type": "code",
   "execution_count": 7,
   "id": "27d45585",
   "metadata": {},
   "outputs": [],
   "source": [
    "mn=12\n",
    "file1 = './Result/LSTM/Data/Electric_Prediction_result_data_for_Chart_'+str(mn)+'.csv'\n",
    "df_m1 = pd.read_csv(file1, encoding='cp949')"
   ]
  },
  {
   "cell_type": "code",
   "execution_count": 16,
   "id": "00c074fa",
   "metadata": {},
   "outputs": [
    {
     "data": {
      "text/plain": [
       "'2016년-12월-01일-1시'"
      ]
     },
     "execution_count": 16,
     "metadata": {},
     "output_type": "execute_result"
    }
   ],
   "source": [
    "df_m1['datetime'][0]"
   ]
  },
  {
   "cell_type": "code",
   "execution_count": 18,
   "id": "d2ada5da",
   "metadata": {},
   "outputs": [
    {
     "name": "stdout",
     "output_type": "stream",
     "text": [
      "2016 12 01\n"
     ]
    }
   ],
   "source": [
    "y = df_m1['datetime'][0][0:4]\n",
    "m = df_m1['datetime'][0][6:8]\n",
    "d = df_m1['datetime'][0][10:12]\n",
    "print(y, m, d)"
   ]
  },
  {
   "cell_type": "code",
   "execution_count": null,
   "id": "b68d0b67",
   "metadata": {},
   "outputs": [],
   "source": [
    "month = {1:31, 2:28, 3:31, 4:30, 5:31, 6:30, 7:31, 8:31, 9:30, 10:31, 11:30, 12:31}\n",
    "\n",
    "for D in range(month[m]):\n",
    "    for H in range(1, 25):\n",
    "        "
   ]
  },
  {
   "cell_type": "code",
   "execution_count": 4,
   "id": "ff56405c",
   "metadata": {},
   "outputs": [
    {
     "name": "stdout",
     "output_type": "stream",
     "text": [
      "Job Done!!\n"
     ]
    }
   ],
   "source": [
    "# LSTM\n",
    "for m in range(1,13):\n",
    "    if m<=9:\n",
    "        mn=str(m)\n",
    "        mn='0'+mn\n",
    "    else:\n",
    "        mn=m\n",
    "        \n",
    "    file1 = './Result/LSTM/Data/Electric_Prediction_result_data_for_Chart_'+str(mn)+'.csv'\n",
    "    df_m1 = pd.read_csv(file1, encoding='cp949')\n",
    "    df_m1 = df_m1.drop([df_m1.columns[0]], axis=1)\n",
    "    df_m1.to_csv('./Result/Web_Data/LSTM/'+str(m)+'m.csv', header=False, encoding='cp949')\n",
    "    \n",
    "# CNN + LSTM\n",
    "for m in range(1,13):\n",
    "    if m<=9:\n",
    "        mn=str(m)\n",
    "        mn='0'+mn\n",
    "    else:\n",
    "        mn=m\n",
    "    \n",
    "    file2 = './Result/CNN+LSTM/Data/Electric_Prediction_result_data_for_Chart_'+str(mn)+'.csv'\n",
    "    df_m2 = pd.read_csv(file2, encoding='cp949')\n",
    "    df_m2 = df_m2.drop([df_m2.columns[0]], axis=1)\n",
    "    df_m2.to_csv('./Result/Web_Data/CNN+LSTM/'+str(m)+'m.csv', header=False, encoding='cp949')\n",
    "\n",
    "print('Job Done!!')"
   ]
  }
 ],
 "metadata": {
  "kernelspec": {
   "display_name": "Python 3 (ipykernel)",
   "language": "python",
   "name": "python3"
  },
  "language_info": {
   "codemirror_mode": {
    "name": "ipython",
    "version": 3
   },
   "file_extension": ".py",
   "mimetype": "text/x-python",
   "name": "python",
   "nbconvert_exporter": "python",
   "pygments_lexer": "ipython3",
   "version": "3.9.7"
  }
 },
 "nbformat": 4,
 "nbformat_minor": 5
}
