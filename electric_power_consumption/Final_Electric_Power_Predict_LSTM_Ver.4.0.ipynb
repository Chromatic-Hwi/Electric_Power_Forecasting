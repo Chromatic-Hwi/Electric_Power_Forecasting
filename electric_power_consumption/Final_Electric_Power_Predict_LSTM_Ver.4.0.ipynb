{
 "cells": [
  {
   "cell_type": "markdown",
   "id": "49534bc4",
   "metadata": {},
   "source": [
    "# LSTM 전력 수요 예측 "
   ]
  },
  {
   "cell_type": "markdown",
   "id": "ea4a87c8",
   "metadata": {},
   "source": [
    "### 목차"
   ]
  },
  {
   "cell_type": "code",
   "execution_count": null,
   "id": "626d35d1",
   "metadata": {},
   "outputs": [],
   "source": [
    "\"\"\"\n",
    "1. 모듈 임포트\n",
    "\n",
    "2. Data Export 함수 정의\n",
    "\n",
    "3. 그래프 확인\n",
    "    -각 연도별 데이터 export\n",
    "    -plt 그래프 함수\n",
    "    -2013\n",
    "    -2014\n",
    "    -2015\n",
    "    -3년치 데이터 export\n",
    "    -2013-2015\n",
    "\n",
    "4. 데이터 정규화 \n",
    "    -4년치 데이터 export\n",
    "    -Min-Max Scaling 이용, 4년치 학습 데이터 정규화\n",
    "\n",
    "5. 데이터 연관성 분석\n",
    "\n",
    "6. 이상치 처리\n",
    "    -이상치 확인 함수 생성\n",
    "    -분위별 이상치 1차 검색\n",
    "    -이상치 치환\n",
    "    -처리 후 잔여 개수 확인\n",
    "\n",
    "7. 데이터셋 편집\n",
    "\n",
    "8. 딥러닝 모델\n",
    "\n",
    "9. 결과 표시\n",
    "    -그래프 표시\n",
    "    -그래프 비교 결과\n",
    "    -성능 측정 지표\n",
    "\n",
    "10. 예측값과 실제값 결과 csv 파일 저장\n",
    "    -1년 단위 저장\n",
    "    -DB Import\n",
    "    -1달 단위 저장, Import\n",
    "    -일주일 단위 저장\n",
    "\"\"\""
   ]
  },
  {
   "cell_type": "markdown",
   "id": "79f886a9",
   "metadata": {},
   "source": [
    "### <화면 가로 확장>"
   ]
  },
  {
   "cell_type": "code",
   "execution_count": 1,
   "id": "01779336",
   "metadata": {},
   "outputs": [
    {
     "data": {
      "text/html": [
       "<style>.container { width:80% !important; }</style>"
      ],
      "text/plain": [
       "<IPython.core.display.HTML object>"
      ]
     },
     "metadata": {},
     "output_type": "display_data"
    }
   ],
   "source": [
    "# 화면 가로 확장 코드 (기본 width 50%)\n",
    "from IPython.core.display import display, HTML\n",
    "display(HTML(\"<style>.container { width:80% !important; }</style>\"))"
   ]
  },
  {
   "cell_type": "markdown",
   "id": "5914b761",
   "metadata": {},
   "source": [
    "### 1. 모듈 임포트"
   ]
  },
  {
   "cell_type": "code",
   "execution_count": null,
   "id": "4fef1b48",
   "metadata": {},
   "outputs": [],
   "source": [
    "import numpy as np \n",
    "import pandas as pd \n",
    "import matplotlib.pyplot as plt\n",
    "from mpl_toolkits.mplot3d import Axes3D\n",
    "import seaborn as sns\n",
    "import tensorflow as tf\n",
    "import csv\n",
    "import os\n",
    "import datetime\n",
    "import pymysql\n",
    "from sqlalchemy import create_engine"
   ]
  },
  {
   "cell_type": "markdown",
   "id": "f0fe3687",
   "metadata": {},
   "source": [
    "### < DB Key File Read >"
   ]
  },
  {
   "cell_type": "code",
   "execution_count": null,
   "id": "91d6dbb0",
   "metadata": {},
   "outputs": [],
   "source": [
    "f = open('./Electric_DB_info.txt', 'r')\n",
    "lines = f.readlines()\n",
    "Electric_DB_info=[]\n",
    "for line in lines:\n",
    "    line = line.strip()\n",
    "    Electric_DB_info.append(line)\n",
    "f.close()\n",
    "\n",
    "User=Electric_DB_info[0]\n",
    "PW=Electric_DB_info[1]\n",
    "Export_Host=Electric_DB_info[2]\n",
    "Import_Host=Electric_DB_info[3]\n",
    "Port=Electric_DB_info[4]\n",
    "DB=Electric_DB_info[5]"
   ]
  },
  {
   "cell_type": "markdown",
   "id": "639b4065",
   "metadata": {},
   "source": [
    "### <GPU 확인>"
   ]
  },
  {
   "cell_type": "code",
   "execution_count": null,
   "id": "d65105dc",
   "metadata": {},
   "outputs": [],
   "source": [
    "tf.test.gpu_device_name()"
   ]
  },
  {
   "cell_type": "markdown",
   "id": "60a86db2",
   "metadata": {},
   "source": [
    "### 2. Data Export 함수 정의"
   ]
  },
  {
   "cell_type": "code",
   "execution_count": null,
   "id": "c915e92d",
   "metadata": {},
   "outputs": [],
   "source": [
    "def Data_Export(year):\n",
    "    db = pymysql.connect(user=User, password=PW, host=Export_Host, db=DB, cursorclass=pymysql.cursors.DictCursor)\n",
    "\n",
    "    cursor = db.cursor()\n",
    "    if (year==2013 or year==2014 or year==2015 or year==2016):\n",
    "        query = \"SELECT * FROM \"+str(year)+\"_house1_ch1_combined_data\"\n",
    "        cursor.execute(query)\n",
    "        db_export = cursor.fetchall()\n",
    "\n",
    "        db_exported = pd.DataFrame(db_export)\n",
    "        db_exported = db_exported.drop([db_exported.columns[0]], axis=1) # 중복 index열 삭제\n",
    "        db_exported\n",
    "\n",
    "    if (year=='3Y' or year=='4Y'):\n",
    "        query = \"SELECT * FROM combined_data_\"+str(year)\n",
    "        cursor.execute(query)\n",
    "        db_export = cursor.fetchall()\n",
    "\n",
    "        db_exported = pd.DataFrame(db_export)\n",
    "        db_exported = db_exported.drop([db_exported.columns[0]], axis=1) # 중복 index열 삭제\n",
    "        db_exported\n",
    "        \n",
    "    else:\n",
    "        db_exported=='No Data exist for your input.'\n",
    "        \n",
    "    return db_exported"
   ]
  },
  {
   "cell_type": "markdown",
   "id": "1e775fbc",
   "metadata": {},
   "source": [
    "### 3. 그래프 확인"
   ]
  },
  {
   "cell_type": "markdown",
   "id": "7999cf42",
   "metadata": {},
   "source": [
    "#### Yeary DB data export"
   ]
  },
  {
   "cell_type": "code",
   "execution_count": null,
   "id": "19cb0e26",
   "metadata": {},
   "outputs": [],
   "source": [
    "Data_2013=Data_Export(2013)\n",
    "Data_2014=Data_Export(2014)\n",
    "Data_2015=Data_Export(2015)\n",
    "Data_2016=Data_Export(2016)"
   ]
  },
  {
   "cell_type": "markdown",
   "id": "783e69e9",
   "metadata": {},
   "source": [
    "#### Plt 그래프 함수"
   ]
  },
  {
   "cell_type": "code",
   "execution_count": null,
   "id": "0ff91b93",
   "metadata": {},
   "outputs": [],
   "source": [
    "def Watt_Graph(name, x, y, year):\n",
    "    font_head = {'color': 'k', 'weight': 'bold', 'size': 20}\n",
    "    font_body = {'color': 'k', 'weight': 'bold', 'size': 15}\n",
    "    plt.figure(figsize=(30,10))\n",
    "    plt.plot(x, y, '.-', linewidth=1, color='y')\n",
    "    plt.tick_params(axis='x', colors='k', size=10, labelsize=15)\n",
    "    plt.tick_params(axis='y', colors='k', size=10, labelsize=15)\n",
    "    plt.xlabel(\"Time\", labelpad=15, fontdict=font_body)\n",
    "    plt.ylabel('Watt', labelpad=15, fontdict=font_body)\n",
    "    plt.title(name, fontdict=font_head, pad=20)\n",
    "    plt.margins(x=0.02)\n",
    "\n",
    "    if year==1:\n",
    "        plt.xticks([0, 31, 59, 90, 120, 151, 181, 212, 243, 273, 304, 334], labels=['Jan', 'Feb', 'Mar', 'Apr', 'May', 'Jun', 'Jul', 'Aug', 'Sep', 'Oct', 'Nov', 'Dec'])\n",
    "    if year==3:\n",
    "        plt.xticks([0, 365, 730], labels=['2013', '2014', '2015'])\n",
    "        \n",
    "    plt.show"
   ]
  },
  {
   "cell_type": "code",
   "execution_count": null,
   "id": "1105c343",
   "metadata": {},
   "outputs": [],
   "source": [
    "def Weather_Graph(name1, name2, x, y1, y2, year):\n",
    "    plt.figure(figsize=(30,20))\n",
    "    font_head = {'color': 'k', 'weight': 'bold', 'size': 20}\n",
    "    font_body = {'color': 'k', 'weight': 'bold', 'size': 15}\n",
    "\n",
    "    # 1번째 그래프\n",
    "    ax1 = plt.subplot(2, 1, 1)\n",
    "    ax1.spines['left'].set_color('#ff7f0e')\n",
    "    ax1.spines['left'].set_lw(2)\n",
    "    ax1.spines['bottom'].set_color('#ff7f0e')\n",
    "    ax1.spines['bottom'].set_lw(2)\n",
    "\n",
    "    ax1.tick_params(axis='x', colors='k', size=10, labelsize=15)\n",
    "    ax1.tick_params(axis='y', colors='k', size=10, labelsize=15)\n",
    "\n",
    "    plt.plot(x, y1, '.-', color='#ff7f0e', linewidth=1)\n",
    "    plt.title(name1, fontdict=font_head, pad=20)\n",
    "    plt.xticks(visible=False)\n",
    "    plt.ylabel(\"Temp('C)\",labelpad=15, fontdict=font_body)\n",
    "    \n",
    "    # 2번째 그래프\n",
    "    ax2 = plt.subplot(2, 1, 2, sharex=ax1)\n",
    "    ax2.spines['left'].set_color('royalblue')\n",
    "    ax2.spines['left'].set_lw(2)\n",
    "    ax2.spines['bottom'].set_color('royalblue')\n",
    "    ax2.spines['bottom'].set_lw(2)\n",
    "\n",
    "    ax2.tick_params(axis='x', colors='k', size=10, labelsize=15)\n",
    "    ax2.tick_params(axis='y', colors='k', size=10, labelsize=15)\n",
    "\n",
    "    plt.plot(x, y2, '.-', color='#1f77b4', linewidth=1)\n",
    "    plt.title(name2, fontdict=font_head, pad=20)\n",
    "    plt.xlabel('Time',labelpad=15, fontdict=font_body)\n",
    "    plt.ylabel('Humidity(%)',labelpad=15, fontdict=font_body)\n",
    "    \n",
    "    plt.margins(x=0.02)\n",
    "    \n",
    "    if year==1:\n",
    "        plt.xticks([0, 31, 59, 90, 120, 151, 181, 212, 243, 273, 304, 334], labels=['Jan', 'Feb', 'Mar', 'Apr', 'May', 'Jun', 'Jul', 'Aug', 'Sep', 'Oct', 'Nov', 'Dec'])\n",
    "    if year==3:\n",
    "        plt.xticks([0, 365, 730], labels=['2013', '2014', '2015'])\n",
    "\n",
    "    plt.show()"
   ]
  },
  {
   "cell_type": "markdown",
   "id": "62741961",
   "metadata": {},
   "source": [
    "#### 1년치 그래프 확인"
   ]
  },
  {
   "cell_type": "markdown",
   "id": "75da8dcd",
   "metadata": {},
   "source": [
    "#### 2013"
   ]
  },
  {
   "cell_type": "code",
   "execution_count": null,
   "id": "7671a864",
   "metadata": {
    "scrolled": false
   },
   "outputs": [],
   "source": [
    "Watt_Graph(\"2013's Time-Watt Graph\", Data_2013['Graph_Date'], Data_2013['Watt'], 1)\n",
    "Weather_Graph(\"2013's Time-Temp Graph\", \"2013's Time-Humidity Graph\", Data_2013['Graph_Date'], Data_2013[\"Temp('C)\"], Data_2013['Humidity(%)'], 1)"
   ]
  },
  {
   "cell_type": "markdown",
   "id": "1a5258cf",
   "metadata": {},
   "source": [
    "#### 2014"
   ]
  },
  {
   "cell_type": "code",
   "execution_count": null,
   "id": "5899dbfc",
   "metadata": {},
   "outputs": [],
   "source": [
    "Watt_Graph(\"2014's Time-Watt Graph\", Data_2014['Graph_Date'], Data_2014['Watt'], 1)\n",
    "Weather_Graph(\"2014's Time-Temp Graph\", \"2014's Time-Humidity Graph\", Data_2014['Graph_Date'], Data_2014[\"Temp('C)\"], Data_2014['Humidity(%)'], 1)"
   ]
  },
  {
   "cell_type": "markdown",
   "id": "fa3d55a8",
   "metadata": {},
   "source": [
    "#### 2015"
   ]
  },
  {
   "cell_type": "code",
   "execution_count": null,
   "id": "4e168780",
   "metadata": {},
   "outputs": [],
   "source": [
    "Watt_Graph(\"2015's Time-Watt Graph\", Data_2015['Graph_Date'], Data_2015['Watt'], 1)\n",
    "Weather_Graph(\"2015's Time-Temp Graph\", \"2015's Time-Humidity Graph\", Data_2015['Graph_Date'], Data_2015[\"Temp('C)\"], Data_2015['Humidity(%)'], 1)"
   ]
  },
  {
   "cell_type": "markdown",
   "id": "2cc96b63",
   "metadata": {},
   "source": [
    "#### 3년치 데이터 그래프 확인"
   ]
  },
  {
   "cell_type": "code",
   "execution_count": null,
   "id": "684ef0c7",
   "metadata": {},
   "outputs": [],
   "source": [
    "Data_3Y=Data_Export('3Y')"
   ]
  },
  {
   "cell_type": "markdown",
   "id": "62720520",
   "metadata": {},
   "source": [
    "#### 2013-2015"
   ]
  },
  {
   "cell_type": "code",
   "execution_count": null,
   "id": "6f8fa7b6",
   "metadata": {},
   "outputs": [],
   "source": [
    "Watt_Graph(\"13-15's Time-Watt Graph\", Data_3Y['Graph_Date'], Data_3Y['Watt'], 3)\n",
    "Weather_Graph(\"13-15's Time-Temp Graph\", \"13-15's Time-Humidity Graph\", Data_3Y['Graph_Date'], Data_3Y[\"Temp('C)\"], Data_3Y['Humidity(%)'], 3)"
   ]
  },
  {
   "cell_type": "markdown",
   "id": "3fb042ae",
   "metadata": {},
   "source": [
    "### 4. 데이터 정규화"
   ]
  },
  {
   "cell_type": "code",
   "execution_count": null,
   "id": "ba46286f",
   "metadata": {},
   "outputs": [],
   "source": [
    "Data_4Y=Data_Export('4Y')"
   ]
  },
  {
   "cell_type": "markdown",
   "id": "60c87e2c",
   "metadata": {},
   "source": [
    "#### Min-Max Scaling 이용, 4년치 학습 데이터 정규화"
   ]
  },
  {
   "cell_type": "code",
   "execution_count": null,
   "id": "2ec2c4d9",
   "metadata": {},
   "outputs": [],
   "source": [
    "from sklearn.preprocessing import MinMaxScaler\n",
    "\n",
    "# 정규화 과정을 거쳐 데이터 범위를 원하는 범위로 제한. 그래프는 동일하나 손실 정도를 확인하기에 더 좋음.\n",
    "# 배치 정규화는 기울기 소멸 문제를 해결하기는 좋으나, RNN의 경우 계층별로 미니 정규화 적용이 필요해 모델이 복잡해지고 효율이 저하됨.\n",
    "Data_4Y.sort_index(ascending=False).reset_index(drop=True)\n",
    "\n",
    "scaler = MinMaxScaler()\n",
    "scale_cols = ['Holiday', 'Watt', \"Temp('C)\", 'Humidity(%)', 'CPI']\n",
    "Data_4Y_scaled = scaler.fit_transform(Data_4Y[scale_cols])\n",
    "Data_4Y_scaled = pd.DataFrame(Data_4Y_scaled)\n",
    "Data_4Y_scaled.columns = scale_cols\n",
    "\n",
    "Data_4Y_scaled.insert(0, 'DateTime', Data_4Y['DateTime'])\n",
    "Data_4Y_scaled.insert(1, 'Graph_Date', Data_4Y['Graph_Date'])\n",
    "Data_4Y_scaled"
   ]
  },
  {
   "cell_type": "markdown",
   "id": "88477722",
   "metadata": {},
   "source": [
    "### 5. 데이터 연관성 분석"
   ]
  },
  {
   "cell_type": "code",
   "execution_count": null,
   "id": "38e5c5fb",
   "metadata": {},
   "outputs": [],
   "source": [
    "import scipy.stats as stats\n",
    "\n",
    "# 피어슨 stat을 이용하면 피어슨 상관계수와 p-value값이 출력되는데 상관계수는 양 or 음의 비례관계 정도를, p-value는 상관 정도를 보여준다. (0에 가까울수록 영향이 크다.)\n",
    "\n",
    "Correlation=stats.pearsonr(Data_4Y_scaled['Holiday'], Data_4Y_scaled['Watt'])\n",
    "print('< Holiday - Watt >')\n",
    "print('P-value ==>> %.3f\\n' %Correlation[1])\n",
    "\n",
    "Correlation=stats.pearsonr(Data_4Y_scaled[\"Temp('C)\"], Data_4Y_scaled['Humidity(%)'])\n",
    "print('< Temp - Humidity >')\n",
    "print('P-value ==>> %.3f\\n' %Correlation[1])\n",
    "\n",
    "Correlation=stats.pearsonr(Data_4Y_scaled[\"Temp('C)\"], Data_4Y_scaled['Watt'])\n",
    "print('< Temp - Watt >')\n",
    "print('P-value ==>> %.3f\\n' %Correlation[1])\n",
    "\n",
    "Correlation=stats.pearsonr(Data_4Y_scaled['Humidity(%)'], Data_4Y_scaled['Watt'])\n",
    "print('< Humidity - Watt >')\n",
    "print('P-value ==>> %.3f\\n' %Correlation[1])\n",
    "\n",
    "Correlation=stats.pearsonr(Data_4Y_scaled['CPI'], Data_4Y_scaled['Watt'])\n",
    "print('< CPI - Watt >')\n",
    "print('P-value ==>> %.3f\\n' %Correlation[1])"
   ]
  },
  {
   "cell_type": "markdown",
   "id": "097b89a7",
   "metadata": {},
   "source": [
    "### 6. 이상치 처리"
   ]
  },
  {
   "cell_type": "markdown",
   "id": "0462c163",
   "metadata": {},
   "source": [
    "#### 이상치 확인 함수 생성"
   ]
  },
  {
   "cell_type": "code",
   "execution_count": null,
   "id": "25f92552",
   "metadata": {},
   "outputs": [],
   "source": [
    "def get_outlier(df=None, column=None, weight=1.5):\n",
    "    quantile_25 = np.percentile(df[column].values, 25)\n",
    "    quantile_50 = np.percentile(df[column].values, 50)\n",
    "    quantile_75 = np.percentile(df[column].values, 75)\n",
    "    \n",
    "    IQR = quantile_75 - quantile_25\n",
    "    IQR_weight = IQR * weight\n",
    "    \n",
    "    lowest_val = quantile_25-IQR_weight\n",
    "    highest_val = quantile_75+IQR_weight\n",
    "    \n",
    "    outlier_index_low = df[column][df[column] < lowest_val].index\n",
    "    outlier_index_high = df[column][df[column] > highest_val].index\n",
    "    \n",
    "    return outlier_index_low, outlier_index_high, quantile_25, quantile_50, quantile_75"
   ]
  },
  {
   "cell_type": "markdown",
   "id": "6efdefc0",
   "metadata": {},
   "source": [
    "#### 분위별 이상치 1차 검색"
   ]
  },
  {
   "cell_type": "code",
   "execution_count": null,
   "id": "ea9010c1",
   "metadata": {},
   "outputs": [],
   "source": [
    "print('Low Outlier ==>> {}\\n'.format(get_outlier(df=Data_4Y_scaled, column='Watt', weight=1.5)[0]))\n",
    "print('High Outlier ==>> {}\\n'.format(get_outlier(df=Data_4Y_scaled, column='Watt', weight=1.5)[1]))\n",
    "\n",
    "print('25% Value ==>> {}\\n'.format(get_outlier(df=Data_4Y_scaled, column='Watt', weight=1.5)[2]))\n",
    "print('50% Value ==>> {}\\n'.format(get_outlier(df=Data_4Y_scaled, column='Watt', weight=1.5)[3]))\n",
    "print('75% Value ==>> {}'.format(get_outlier(df=Data_4Y_scaled, column='Watt', weight=1.5)[4]))"
   ]
  },
  {
   "cell_type": "markdown",
   "id": "567d06ff",
   "metadata": {},
   "source": [
    "#### 이상치 치환"
   ]
  },
  {
   "cell_type": "code",
   "execution_count": null,
   "id": "c95db0ad",
   "metadata": {},
   "outputs": [],
   "source": [
    "high_val = get_outlier(df=Data_4Y_scaled, column='Watt', weight=1.5)[1].values.tolist()\n",
    "\n",
    "for l in range(len(high_val)):\n",
    "    Data_4Y_scaled['Watt'][high_val[l]] = get_outlier(df=Data_4Y_scaled, column='Watt', weight=1.5)[4]"
   ]
  },
  {
   "cell_type": "markdown",
   "id": "fad6a440",
   "metadata": {},
   "source": [
    "#### 이상치 처리 후 잔여 개수 확인"
   ]
  },
  {
   "cell_type": "code",
   "execution_count": null,
   "id": "19d9db24",
   "metadata": {},
   "outputs": [],
   "source": [
    "print('Quantity of Low Outlier ==>> {}\\n'.format(len(get_outlier(df=Data_4Y_scaled, column='Watt', weight=1.5)[0])))\n",
    "print('Quantity of High Outlier ==>> {}\\n'.format(len(get_outlier(df=Data_4Y_scaled, column='Watt', weight=1.5)[1])))"
   ]
  },
  {
   "cell_type": "markdown",
   "id": "8395aaba",
   "metadata": {},
   "source": [
    "### 7. 데이터셋 편집"
   ]
  },
  {
   "cell_type": "code",
   "execution_count": null,
   "id": "ee1957fe",
   "metadata": {},
   "outputs": [],
   "source": [
    "TEST_SIZE = 8760 # 1년치를 테스트셋으로 사용\n",
    "WINDOW_SIZE = 1 # 얼마 동안의 과거 기반의 데이터에 기반하여 다음날의 값을 예측할 것인지 설정. 1=1시간을 의미\n",
    "\n",
    "train = Data_4Y_scaled[:-TEST_SIZE]\n",
    "test= Data_4Y_scaled[-TEST_SIZE:]"
   ]
  },
  {
   "cell_type": "code",
   "execution_count": null,
   "id": "a34b027b",
   "metadata": {},
   "outputs": [],
   "source": [
    "def make_dataset(data, label, window_size=1):\n",
    "    feature_list = []\n",
    "    label_list = []\n",
    "    for i in range(len(data) - window_size):\n",
    "        feature_list.append(np.array(data.iloc[i:i+window_size]))\n",
    "        label_list.append(np.array(label.iloc[i+window_size]))\n",
    "    return np.array(feature_list), np.array(label_list)"
   ]
  },
  {
   "cell_type": "code",
   "execution_count": null,
   "id": "6e09e41e",
   "metadata": {},
   "outputs": [],
   "source": [
    "from sklearn.model_selection import train_test_split\n",
    "\n",
    "feature_cols = ['Holiday', 'Watt', \"Temp('C)\", 'Humidity(%)', 'CPI']\n",
    "label_cols = ['Watt']\n",
    "\n",
    "train_feature = train[feature_cols]\n",
    "train_label = train[label_cols]\n",
    "\n",
    "train_feature, train_label = make_dataset(train_feature, train_label, 1)# 여기서도 일자 설정\n",
    "\n",
    "x_train, x_valid, y_train, y_valid = train_test_split(train_feature, train_label, test_size=0.2, shuffle=False)"
   ]
  },
  {
   "cell_type": "code",
   "execution_count": null,
   "id": "e22f6113",
   "metadata": {},
   "outputs": [],
   "source": [
    "print(' x_train >> {0}\\n x_valid >> {1}\\n y_train >> {2}\\n y_valid >> {3}'.format(x_train.shape, x_valid.shape, y_train.shape, y_valid.shape))"
   ]
  },
  {
   "cell_type": "code",
   "execution_count": null,
   "id": "56197785",
   "metadata": {},
   "outputs": [],
   "source": [
    "x_test = test[feature_cols]\n",
    "y_test = test[label_cols]"
   ]
  },
  {
   "cell_type": "code",
   "execution_count": null,
   "id": "990e9e08",
   "metadata": {},
   "outputs": [],
   "source": [
    "def make_testset(x, y, size):\n",
    "    x=x.values.tolist()\n",
    "    y=y.values.tolist()\n",
    "    x=np.array(x)\n",
    "    y=np.array(y)\n",
    "    x=x.reshape(len(x), size, x.shape[1])\n",
    "    y=y.reshape(len(y), y.shape[1])\n",
    "    return x, y"
   ]
  },
  {
   "cell_type": "code",
   "execution_count": null,
   "id": "7631da9d",
   "metadata": {},
   "outputs": [],
   "source": [
    "x_test, y_test = make_testset(x_test, y_test, 1)"
   ]
  },
  {
   "cell_type": "markdown",
   "id": "0249c42f",
   "metadata": {},
   "source": [
    "### 8. 딥러닝 모델"
   ]
  },
  {
   "cell_type": "code",
   "execution_count": null,
   "id": "b7a50539",
   "metadata": {},
   "outputs": [],
   "source": [
    "from tensorflow.keras.models import Sequential\n",
    "from tensorflow.keras.layers import Dense\n",
    "from tensorflow.keras.callbacks import EarlyStopping, ModelCheckpoint\n",
    "from tensorflow.keras.layers import LSTM\n",
    "from tensorflow.keras.layers import Bidirectional\n",
    "from keras.layers import TimeDistributed\n",
    "import keras\n",
    "\n",
    "tf.debugging.set_log_device_placement(True)\n",
    "\n",
    "with tf.device('/GPU:0'):\n",
    "    model = Sequential()\n",
    "    model.add(TimeDistributed(Dense(32), input_shape=(train_feature.shape[1], train_feature.shape[2])))\n",
    "    model.add(LSTM(256, activation='ReLU', input_shape=(train_feature.shape[1], train_feature.shape[2]), return_sequences=True))\n",
    "    model.add(Bidirectional(LSTM(128, activation='ReLU', return_sequences=True), merge_mode='concat'))\n",
    "    model.add(LSTM(128, activation='ReLU', return_sequences = True))\n",
    "    model.add(Bidirectional(LSTM(64, activation='ReLU', return_sequences=True), merge_mode='concat'))\n",
    "    model.add(LSTM(64, activation='ReLU', return_sequences = True))\n",
    "    model.add(Bidirectional(LSTM(32, activation='ReLU', return_sequences=True), merge_mode='concat'))\n",
    "    model.add(LSTM(32, activation='ReLU', return_sequences = False))\n",
    "    model.add(Dense(1, activation = 'sigmoid'))\n",
    "    model.summary()"
   ]
  },
  {
   "cell_type": "markdown",
   "id": "db73e97d",
   "metadata": {},
   "source": [
    "#### Plot model 저장"
   ]
  },
  {
   "cell_type": "code",
   "execution_count": null,
   "id": "4b30e1b8",
   "metadata": {},
   "outputs": [],
   "source": [
    "from keras.utils.vis_utils import plot_model\n",
    "import pydot\n",
    "import pydotplus\n",
    "import graphviz\n",
    "\n",
    "plot_model(model, to_file='./Result/LSTM/model.png')\n",
    "plot_model(model, to_file='./Result/LSTM/model_shapes.png', show_shapes=True)"
   ]
  },
  {
   "cell_type": "markdown",
   "id": "7c534320",
   "metadata": {},
   "source": [
    "#### 학습"
   ]
  },
  {
   "cell_type": "code",
   "execution_count": null,
   "id": "bc5830fd",
   "metadata": {},
   "outputs": [],
   "source": [
    "import os\n",
    "\n",
    "# 시간 표시, 측정용\n",
    "now = datetime.datetime.now() # 현재 시각\n",
    "TimeNow = now.strftime('%Y-%m-%d  %H:%M:%S') # 시작 시각 표시용.\n",
    "\n",
    "with tf.device('/GPU:0'):\n",
    "    print('Start Time >>', TimeNow, '\\n')\n",
    "    now = datetime.datetime.now()\n",
    "    start = now\n",
    "\n",
    "    model.compile(loss='mean_squared_error', optimizer='Nadam', metrics=['mse'])\n",
    "    early_stop = EarlyStopping(monitor='val_loss', patience=20)\n",
    "\n",
    "    model_path = 'model'\n",
    "    filename = os.path.join(model_path, 'tmp_checkpoint_L.h5')\n",
    "    checkpoint = ModelCheckpoint(filename, monitor='val_loss', verbose=1, save_best_only=True, mode='auto')\n",
    "    history = model.fit(x_train, y_train, epochs=80, batch_size=32,validation_data=(x_valid, y_valid), callbacks=[early_stop, checkpoint])\n",
    "\n",
    "    now = datetime.datetime.now()\n",
    "    end = now\n",
    "    elapsed_time = end-start\n",
    "    elapsed_time = str(elapsed_time).split(\".\")\n",
    "    elapsed_time = elapsed_time[0]\n",
    "    print('소요시간 >> ', elapsed_time)"
   ]
  },
  {
   "cell_type": "code",
   "execution_count": null,
   "id": "269d7721",
   "metadata": {},
   "outputs": [],
   "source": [
    "model.load_weights(filename)\n",
    "pred = model.predict(x_test)\n",
    "\n",
    "pred.shape"
   ]
  },
  {
   "cell_type": "markdown",
   "id": "3f70a61f",
   "metadata": {},
   "source": [
    "### 9. 결과 표시"
   ]
  },
  {
   "cell_type": "code",
   "execution_count": null,
   "id": "ce9d890a",
   "metadata": {},
   "outputs": [],
   "source": [
    "try:\n",
    "    os.mkdir('./Result')\n",
    "    print('폴더 생성 완료.')\n",
    "    \n",
    "except FileExistsError:\n",
    "    print('해당 폴더가 이미 존재합니다.')"
   ]
  },
  {
   "cell_type": "code",
   "execution_count": null,
   "id": "90879fb0",
   "metadata": {},
   "outputs": [],
   "source": [
    "try:\n",
    "    os.mkdir('./Result/LSTM')\n",
    "    os.mkdir('./Result/LSTM/Graph')\n",
    "    os.mkdir('./Result/LSTM/Data')\n",
    "    print('폴더 생성 완료.')\n",
    "    \n",
    "except FileExistsError:\n",
    "    print('해당 폴더가 이미 존재합니다.')"
   ]
  },
  {
   "cell_type": "code",
   "execution_count": null,
   "id": "e96d8ad2",
   "metadata": {},
   "outputs": [],
   "source": [
    "plt.title('Model Validation Loss', size='15')\n",
    "plt.xlabel('Epoch')\n",
    "plt.ylabel('Val_loss')\n",
    "plt.grid(True)\n",
    "plt.plot(history.history['val_loss'])\n",
    "plt.savefig('./Result/LSTM/Graph/Model_Valdation_Loss.png')\n",
    "plt.show"
   ]
  },
  {
   "cell_type": "code",
   "execution_count": null,
   "id": "2052fca8",
   "metadata": {},
   "outputs": [],
   "source": [
    "plt.figure(figsize=(300, 15))\n",
    "\n",
    "plt.tick_params(axis='x', colors='blue', size=15)\n",
    "plt.tick_params(axis='x', colors='blue', labelsize=12)\n",
    "plt.tick_params(axis='y', colors='blue', size=15)\n",
    "plt.tick_params(axis='y', colors='blue', labelsize=12)\n",
    "\n",
    "plt.plot(pred, label = 'Prediction',color='blue')\n",
    "\n",
    "plt.xticks([0, 31*24, 59*24, 90*24, 120*24, 151*24, 181*24, 212*24, 243*24, 273*24, 304*24, 334*24], \n",
    "           labels=['Jan', 'Feb', 'Mar', 'Apr', 'May', 'Jun', 'Jul', 'Aug', 'Sep', 'Oct', 'Nov', 'Dec'])\n",
    "plt.yticks([0, 0.2, 0.4, 0.6, 0.8], labels=['0', '2000 W', '3500 W', '5500 W', '7000 W'])\n",
    "\n",
    "plt.margins(x=0.005)\n",
    "plt.savefig('./Result/LSTM/Graph/Prediction.png')\n",
    "plt.show()"
   ]
  },
  {
   "cell_type": "code",
   "execution_count": null,
   "id": "51a66e75",
   "metadata": {},
   "outputs": [],
   "source": [
    "plt.figure(figsize=(300, 15))\n",
    "\n",
    "plt.tick_params(axis='x', colors='darkorange', size=15)\n",
    "plt.tick_params(axis='x', colors='darkorange', labelsize=12)\n",
    "plt.tick_params(axis='y', colors='darkorange', size=15)\n",
    "plt.tick_params(axis='y', colors='darkorange', labelsize=12)\n",
    "\n",
    "plt.plot(y_test, label = 'Actual', color='darkorange')\n",
    "\n",
    "plt.xticks([0, 31*24, 59*24, 90*24, 120*24, 151*24, 181*24, 212*24, 243*24, 273*24, 304*24, 334*24], \n",
    "           labels=['Jan', 'Feb', 'Mar', 'Apr', 'May', 'Jun', 'Jul', 'Aug', 'Sep', 'Oct', 'Nov', 'Dec'])\n",
    "plt.yticks([0, 0.2, 0.4, 0.6, 0.8], labels=['0', '2000 W', '3500 W', '5500 W', '7000 W'])\n",
    "\n",
    "plt.margins(x=0.005)\n",
    "plt.savefig('./Result/LSTM/Graph/Actual.png')\n",
    "plt.show()"
   ]
  },
  {
   "cell_type": "code",
   "execution_count": null,
   "id": "608e8bfa",
   "metadata": {},
   "outputs": [],
   "source": [
    "plt.figure(figsize=(300, 15))\n",
    "\n",
    "plt.tick_params(axis='x', colors='black', size=15)\n",
    "plt.tick_params(axis='x', colors='black', labelsize=12)\n",
    "plt.tick_params(axis='y', colors='black', size=15)\n",
    "plt.tick_params(axis='y', colors='black', labelsize=12)\n",
    "\n",
    "plt.plot(pred, label = 'Prediction',color='blue')\n",
    "plt.plot(y_test, label = 'Actual', color='darkorange')\n",
    "\n",
    "plt.xticks([0, 31*24, 59*24, 90*24, 120*24, 151*24, 181*24, 212*24, 243*24, 273*24, 304*24, 334*24], \n",
    "           labels=['Jan', 'Feb', 'Mar', 'Apr', 'May', 'Jun', 'Jul', 'Aug', 'Sep', 'Oct', 'Nov', 'Dec'])\n",
    "plt.yticks([0, 0.2, 0.4, 0.6, 0.8], labels=['0', '2000 W', '3500 W', '5500 W', '7000 W'])\n",
    "plt.grid(True)\n",
    "plt.legend()\n",
    "plt.margins(x=0.005)\n",
    "plt.savefig('./Result/LSTM/Graph/Pred_with_Actual.png')\n",
    "plt.show()"
   ]
  },
  {
   "cell_type": "code",
   "execution_count": null,
   "id": "b4b797df",
   "metadata": {
    "scrolled": false
   },
   "outputs": [],
   "source": [
    "# 월 단위 그래프 분할 표시 및 저장\n",
    "for m in range(1,13):\n",
    "    month = {0:0, 1:31, 2:28, 3:31, 4:30, 5:31, 6:30, 7:31, 8:31, 9:30, 10:31, 11:30, 12:31}\n",
    "    start = {1:0, 2:744, 3:1416, 4:2160, 5:2880, 6:3624, 7:4344, 8:5088, 9:5832, 10:6552, 11:7296, 12:8016}\n",
    "    end = {1:744, 2:1416, 3:2160, 4:2880, 5:3624, 6:4344, 7:5088, 8:5832, 9:6552, 10:7296, 11:8016, 12:8760}\n",
    "    \n",
    "    plt.figure(figsize=(30, 15))\n",
    "    \n",
    "    plt.title('Prediction & Actual Graph - month'+str(m), size='15')\n",
    "    \n",
    "    plt.tick_params(axis='x', colors='black', size=10)\n",
    "    plt.tick_params(axis='x', colors='black', labelsize=12)\n",
    "    plt.tick_params(axis='y', colors='black', size=10)\n",
    "    plt.tick_params(axis='y', colors='black', labelsize=12)\n",
    "    \n",
    "    plt.plot(pred[start[m]:end[m]], label = 'Prediction',color='blue', marker='.')\n",
    "    plt.plot(y_test[start[m]:end[m]], label = 'Actual', color='darkorange', marker='.')\n",
    "    \n",
    "    # 월별 xticks 설정 함수\n",
    "    def xticks_list (days):\n",
    "        xticks_list=[]\n",
    "        for x in range(0,days+1):\n",
    "            xticks_list.append(x*24)\n",
    "        return xticks_list\n",
    "    \n",
    "    # month labels 설정 함수\n",
    "    def month_labels (days):\n",
    "        month_labels=[]\n",
    "        for ml in range(1,days+1):\n",
    "            month_labels.append(ml)\n",
    "        month_labels.append('end') \n",
    "        return month_labels\n",
    "    \n",
    "    if (m==2):\n",
    "        plt.xticks(xticks_list(28), labels=month_labels(28))\n",
    "\n",
    "    if (m==4 or m==6  or m==9 or m==11):\n",
    "        plt.xticks(xticks_list(30), labels=month_labels(30))\n",
    "        \n",
    "    if (m==1 or m==3 or m==5 or m==7 or m==8 or m==10 or m==12):\n",
    "        plt.xticks(xticks_list(31), labels=month_labels(31))\n",
    "        \n",
    "    plt.yticks([0, 0.2, 0.4, 0.6, 0.8], labels=['0', '2000 W', '3500 W', '5500 W', '7000 W'])\n",
    "    \n",
    "    plt.grid(True)\n",
    "    plt.legend()\n",
    "    plt.margins(x=0.005)\n",
    "    plt.savefig('./Result/LSTM/Graph/Prediction_with_Actual_'+str(m)+'.png') # 이름 각각!"
   ]
  },
  {
   "cell_type": "markdown",
   "id": "f2f77043",
   "metadata": {},
   "source": [
    "#### 그래프 비교 결과"
   ]
  },
  {
   "cell_type": "code",
   "execution_count": null,
   "id": "a05fddf4",
   "metadata": {},
   "outputs": [],
   "source": [
    "import cv2\n",
    "from skimage.metrics import structural_similarity as ssim"
   ]
  },
  {
   "cell_type": "code",
   "execution_count": null,
   "id": "10777410",
   "metadata": {},
   "outputs": [],
   "source": [
    "# 유사도 측정을 위한 이미지 가공\n",
    "image1 = cv2.imread('./Result/LSTM/Graph/Prediction.png')\n",
    "image2 = cv2.imread('./Result/LSTM/Graph/Actual.png')\n",
    "\n",
    "tempDiff1 = cv2.subtract(image1, image2)\n",
    "\n",
    "gray1 = cv2.cvtColor(image1, cv2.COLOR_BGR2GRAY)\n",
    "gray2 = cv2.cvtColor(image2, cv2.COLOR_BGR2GRAY)"
   ]
  },
  {
   "cell_type": "code",
   "execution_count": null,
   "id": "ec1490fa",
   "metadata": {},
   "outputs": [],
   "source": [
    "# 차이 추출을 위한 뺄셈 과정\n",
    "pred_list=pred.tolist()\n",
    "actual_list=y_test.tolist()\n",
    "\n",
    "result_numbers=[]\n",
    "for minus in range(len(pred_list)):\n",
    "    result = abs(float(pred_list[minus][0]) - float(actual_list[minus][0]))\n",
    "    result_numbers.append(result)"
   ]
  },
  {
   "cell_type": "code",
   "execution_count": null,
   "id": "a62529df",
   "metadata": {},
   "outputs": [],
   "source": [
    "(score, diff) = ssim(gray1, gray2, full=True)\n",
    "sim_score = round(score,5)*100\n",
    "result_num_total = round(sum(result_numbers),3)\n",
    "final_score = (len(result_numbers) - result_num_total)/len(result_numbers)*100\n",
    "\n",
    "print('그래프 유사도 ==>> %.3f %%\\n' %sim_score)\n",
    "print('예측차 판별도 ==>> %.3f %%' %final_score)"
   ]
  },
  {
   "cell_type": "markdown",
   "id": "d56b11c1",
   "metadata": {},
   "source": [
    "#### 성능 측정 지표"
   ]
  },
  {
   "cell_type": "code",
   "execution_count": null,
   "id": "f21915c7",
   "metadata": {},
   "outputs": [],
   "source": [
    "from sklearn.metrics import r2_score as r2\n",
    "from sklearn.metrics import mean_absolute_error as MAE\n",
    "from sklearn.metrics import mean_squared_error as MSE\n",
    "from sklearn.metrics import mean_squared_log_error as MSLE\n",
    "\n",
    "print('r2 >> %.4f' %r2(y_test, pred)) # 1에 가까워야 좋음\n",
    "print('MAE >> %.4f' %MAE(y_test, pred)) # 0에 가까워야 좋음\n",
    "print('MSE >> %.4f' %MSE(y_test, pred)) # 0에 가까워야 좋음\n",
    "print('RMSE >> %.4f' %np.sqrt(MSE(y_test, pred))) # 0에 가까워야 좋음\n",
    "print('RMSLE >> %.4f' %np.sqrt(MSLE(y_test, pred))) # 0에 가까워야 좋음"
   ]
  },
  {
   "cell_type": "code",
   "execution_count": null,
   "id": "729d75c8",
   "metadata": {},
   "outputs": [],
   "source": [
    "RMSE = np.sqrt(MSE(y_test, pred))\n",
    "RMSE_pct = round(1-RMSE, 5)*100\n",
    "print('RMSE 측정 정확도 ==>> %.3f %%' %RMSE_pct)"
   ]
  },
  {
   "cell_type": "markdown",
   "id": "29569fd3",
   "metadata": {},
   "source": [
    "### 10. 예측값과 실제값 결과 csv 파일 저장"
   ]
  },
  {
   "cell_type": "markdown",
   "id": "c45f1a15",
   "metadata": {},
   "source": [
    "#### 1년 단위 데이터 저장"
   ]
  },
  {
   "cell_type": "code",
   "execution_count": null,
   "id": "aa200761",
   "metadata": {},
   "outputs": [],
   "source": [
    "# 날짜 정보 생성\n",
    "month = {1:31, 2:28, 3:31, 4:30, 5:31, 6:30, 7:31, 8:31, 9:30, 10:31, 11:30, 12:31}\n",
    "datetime_list=[]\n",
    "\n",
    "for m in range(1, 13):\n",
    "    month = {1:31, 2:28, 3:31, 4:30, 5:31, 6:30, 7:31, 8:31, 9:30, 10:31, 11:30, 12:31}\n",
    "    for d in range(month[m]):\n",
    "        d=d+1\n",
    "        m=int(m)\n",
    "        d=int(d)\n",
    "        \n",
    "        if m<=9:\n",
    "            m='0'+str(m)\n",
    "        if d<=9:\n",
    "            d='0'+str(d)\n",
    "            \n",
    "        for h in range(1,25):\n",
    "            elem = '2016'+'년-'+str(m)+'월-'+str(d)+'일-'+str(h)+'시'\n",
    "            datetime_list.append(elem)"
   ]
  },
  {
   "cell_type": "code",
   "execution_count": null,
   "id": "378d76b3",
   "metadata": {},
   "outputs": [],
   "source": [
    "# 넘파이 어레이를 데이터 프레임으로 변환\n",
    "pred_df = pd.DataFrame(pred)\n",
    "actual_df = pd.DataFrame(y_test)"
   ]
  },
  {
   "cell_type": "code",
   "execution_count": null,
   "id": "8dc8ff82",
   "metadata": {},
   "outputs": [],
   "source": [
    "df_for_chart = pd.DataFrame(columns=['datetime', 'pred', 'actual'])\n",
    "df_for_chart['datetime']=datetime_list\n",
    "df_for_chart['pred']=pred_df\n",
    "df_for_chart['actual']=actual_df\n",
    "df_for_chart.to_csv(\"./Result/LSTM/Data/Electric_Prediction_result_data_for_Chart_Year.csv\", encoding='cp949')\n",
    "\n",
    "print('Job Done!!')"
   ]
  },
  {
   "cell_type": "markdown",
   "id": "3111c30f",
   "metadata": {},
   "source": [
    "#### DB Import"
   ]
  },
  {
   "cell_type": "code",
   "execution_count": null,
   "id": "fa73df39",
   "metadata": {},
   "outputs": [],
   "source": [
    "db = pymysql.connect(host=Import_Host, user=User, password=PW)\n",
    "cursor = db.cursor()\n",
    "\n",
    "try:\n",
    "    cursor.execute('create database result_data_lstm;')\n",
    "    db.commit()\n",
    "    db.close()\n",
    "    print('Database has been created\\n')\n",
    "    \n",
    "except:\n",
    "    print('Database already exsist!\\n')\n",
    "    \n",
    "db = pymysql.connect(host=Import_Host, user=User, password=PW)\n",
    "cursor = db.cursor()\n",
    "\n",
    "# csv파일 불러오기\n",
    "df = pd.read_csv(\"./Result/LSTM/Data/Electric_Prediction_result_data_for_Chart_Year.csv\", encoding = 'cp949')\n",
    "\n",
    "# sqlalchemy를 사용해 원하는 database에 csv파일 저장\n",
    "try:\n",
    "    engine = create_engine(\"mysql+pymysql://\"+User+\":\"+PW+\"@\"+Import_Host+\":\"+Port+\"/result_data_lstm?charset=utf8\", encoding = \"cp949\")\n",
    "    conn = engine.connect()\n",
    "    df.to_sql(name = \"result_data_year\", con = engine, index = False)\n",
    "    conn.close()\n",
    "    print('Table Imported')\n",
    "\n",
    "except ValueError:\n",
    "    print('Table already exists!')\n",
    "\n",
    "print('\\nJob Done!')"
   ]
  },
  {
   "cell_type": "markdown",
   "id": "7bd5192e",
   "metadata": {},
   "source": [
    "#### 1달 단위 데이터 저장, Import"
   ]
  },
  {
   "cell_type": "code",
   "execution_count": null,
   "id": "7a934a25",
   "metadata": {},
   "outputs": [],
   "source": [
    "db = pymysql.connect(host=Import_Host, user=User, password=PW)\n",
    "cursor = db.cursor()\n",
    "\n",
    "try:\n",
    "    cursor.execute('create database result_data_lstm;')\n",
    "    db.commit()\n",
    "    db.close()\n",
    "    print('Database has been created\\n')\n",
    "    \n",
    "except:\n",
    "    print('Database already exsist!\\n')\n",
    "    \n",
    "#=========================================================================================================================================================\n",
    "pred_list=pred_df[0].tolist()\n",
    "actual_list=actual_df[0].tolist()\n",
    "\n",
    "for m in range(1,13):\n",
    "    m=int(m)\n",
    "    month = {0:0, 1:31, 2:28, 3:31, 4:30, 5:31, 6:30, 7:31, 8:31, 9:30, 10:31, 11:30, 12:31}\n",
    "    start = {1:0, 2:744, 3:1416, 4:2160, 5:2880, 6:3624, 7:4344, 8:5088, 9:5832, 10:6552, 11:7296, 12:8016}\n",
    "    end = {1:744, 2:1416, 3:2160, 4:2880, 5:3624, 6:4344, 7:5088, 8:5832, 9:6552, 10:7296, 11:8016, 12:8760}\n",
    "    \n",
    "    df_for_chart = pd.DataFrame(columns=['datetime', 'pred', 'actual'])\n",
    "    df_for_chart['datetime']=datetime_list[start[m]:end[m]]\n",
    "    df_for_chart['pred']=pred_list[start[m]:end[m]]\n",
    "    df_for_chart['actual']=actual_list[start[m]:end[m]]\n",
    "    \n",
    "    if m<=9:\n",
    "        m=str(m)\n",
    "        m='0'+m\n",
    "        \n",
    "    df_for_chart.to_csv(\"./Result/LSTM/Data/Electric_Prediction_result_data_for_Chart_\"+str(m)+\".csv\", encoding='cp949')\n",
    "    \n",
    "    #=========================================================================================================================================================\n",
    "    \n",
    "    db = pymysql.connect(host=Import_Host, user=User, password=PW)\n",
    "    cursor = db.cursor()\n",
    "\n",
    "    # csv파일 불러오기\n",
    "    df = df_for_chart\n",
    "\n",
    "    # sqlalchemy를 사용해 원하는 database에 csv파일 저장\n",
    "    try:\n",
    "        engine = create_engine(\"mysql+pymysql://\"+User+\":\"+PW+\"@\"+Import_Host+\":\"+Port+\"/result_data_lstm?charset=utf8\", encoding = \"cp949\")\n",
    "        conn = engine.connect()\n",
    "        df.to_sql(name = \"result_data_\"+str(m), con = engine, index = False)\n",
    "        conn.close()\n",
    "        print('Table Imported')\n",
    "        \n",
    "    except ValueError:\n",
    "        print('Table already exists!')\n",
    "    \n",
    "#=========================================================================================================================================================    \n",
    "\n",
    "print('\\nJob Done!!')"
   ]
  },
  {
   "cell_type": "markdown",
   "id": "828fa950",
   "metadata": {},
   "source": [
    "#### 일주일 단위 데이터 저장"
   ]
  },
  {
   "cell_type": "code",
   "execution_count": null,
   "id": "89d8abac",
   "metadata": {},
   "outputs": [],
   "source": [
    "try:\n",
    "    os.mkdir('./Result/LSTM/Data/Week')\n",
    "    print('폴더 생성 완료.')\n",
    "    \n",
    "except FileExistsError:\n",
    "    print('해당 폴더가 이미 존재합니다.')"
   ]
  },
  {
   "cell_type": "code",
   "execution_count": null,
   "id": "ac50819f",
   "metadata": {},
   "outputs": [],
   "source": [
    "count=0\n",
    "for w in range(0, 8760-168, 168):\n",
    "    count=int(count)\n",
    "    count+=1\n",
    "    start=w\n",
    "    end=w+168\n",
    "    \n",
    "    df_for_chart = pd.DataFrame(columns=['datetime', 'pred', 'actual'])\n",
    "    df_for_chart['datetime']=datetime_list[start:end]\n",
    "    df_for_chart['pred']=pred_list[start:end]\n",
    "    df_for_chart['actual']=actual_list[start:end]\n",
    "    \n",
    "    if count<=9:\n",
    "        count=str(count)\n",
    "        count='0'+count\n",
    "        \n",
    "    df_for_chart.to_csv(\"./Result/LSTM/Data//Week/Electric_Prediction_result_data_for_Chart_week\"+str(count)+\".csv\", encoding='cp949')\n",
    "    \n",
    "print('Job Done!!')"
   ]
  }
 ],
 "metadata": {
  "kernelspec": {
   "display_name": "Python 3 (ipykernel)",
   "language": "python",
   "name": "python3"
  },
  "language_info": {
   "codemirror_mode": {
    "name": "ipython",
    "version": 3
   },
   "file_extension": ".py",
   "mimetype": "text/x-python",
   "name": "python",
   "nbconvert_exporter": "python",
   "pygments_lexer": "ipython3",
   "version": "3.9.7"
  }
 },
 "nbformat": 4,
 "nbformat_minor": 5
}
