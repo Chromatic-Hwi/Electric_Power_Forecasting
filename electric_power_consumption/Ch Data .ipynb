{
 "cells": [
  {
   "cell_type": "code",
   "execution_count": 134,
   "id": "d22a0970",
   "metadata": {},
   "outputs": [
    {
     "name": "stdout",
     "output_type": "stream",
     "text": [
      "Done!\n"
     ]
    }
   ],
   "source": [
    "import pandas as pd\n",
    "ch1 = pd.read_csv('./channel_1.dat', names=['Unix', 'Watt'],header=None, delimiter=\" \")\n",
    "print('Done!')"
   ]
  },
  {
   "cell_type": "code",
   "execution_count": 135,
   "id": "d7d8f93b",
   "metadata": {
    "scrolled": true
   },
   "outputs": [
    {
     "name": "stdout",
     "output_type": "stream",
     "text": [
      "<class 'pandas.core.frame.DataFrame'>\n",
      "RangeIndex: 21837636 entries, 0 to 21837635\n",
      "Data columns (total 2 columns):\n",
      " #   Column  Dtype\n",
      "---  ------  -----\n",
      " 0   Unix    int64\n",
      " 1   Watt    int64\n",
      "dtypes: int64(2)\n",
      "memory usage: 333.2 MB\n"
     ]
    }
   ],
   "source": [
    "ch1.info()"
   ]
  },
  {
   "cell_type": "code",
   "execution_count": 136,
   "id": "ba63271c",
   "metadata": {},
   "outputs": [
    {
     "name": "stdout",
     "output_type": "stream",
     "text": [
      "          Unix  Watt\n",
      "0   1352500095   599\n",
      "1   1352500101   582\n",
      "2   1352500107   600\n",
      "3   1352500113   586\n",
      "4   1352500120   596\n",
      "5   1352500132   581\n",
      "6   1352500138   597\n",
      "7   1352500144   592\n",
      "8   1352500150   587\n",
      "9   1352500156   574\n",
      "10  1352500168   577\n",
      "1번째\n",
      "         Unix  Watt\n",
      "0  1352500095   599\n",
      "\n",
      "21837636번째\n",
      "                Unix  Watt\n",
      "21837635  1493227960   672\n"
     ]
    }
   ],
   "source": [
    "print(ch1[0:11])\n",
    "print('1번째')\n",
    "print(ch1[0:1])\n",
    "print()\n",
    "print('21837636번째')\n",
    "print(ch1[21837635:21837636])"
   ]
  },
  {
   "cell_type": "code",
   "execution_count": 177,
   "id": "ca051fb6",
   "metadata": {},
   "outputs": [
    {
     "name": "stdout",
     "output_type": "stream",
     "text": [
      "<class 'pandas.core.frame.DataFrame'>\n",
      "RangeIndex: 21837636 entries, 0 to 21837635\n",
      "Data columns (total 3 columns):\n",
      " #   Column  Dtype         \n",
      "---  ------  -----         \n",
      " 0   Unix    int64         \n",
      " 1   Date    datetime64[ns]\n",
      " 2   Watt    int64         \n",
      "dtypes: datetime64[ns](1), int64(2)\n",
      "memory usage: 499.8 MB\n"
     ]
    },
    {
     "data": {
      "text/html": [
       "<div>\n",
       "<style scoped>\n",
       "    .dataframe tbody tr th:only-of-type {\n",
       "        vertical-align: middle;\n",
       "    }\n",
       "\n",
       "    .dataframe tbody tr th {\n",
       "        vertical-align: top;\n",
       "    }\n",
       "\n",
       "    .dataframe thead th {\n",
       "        text-align: right;\n",
       "    }\n",
       "</style>\n",
       "<table border=\"1\" class=\"dataframe\">\n",
       "  <thead>\n",
       "    <tr style=\"text-align: right;\">\n",
       "      <th></th>\n",
       "      <th>Unix</th>\n",
       "      <th>Date</th>\n",
       "      <th>Watt</th>\n",
       "    </tr>\n",
       "  </thead>\n",
       "  <tbody>\n",
       "    <tr>\n",
       "      <th>0</th>\n",
       "      <td>1352500095</td>\n",
       "      <td>2012-11-09 22:28:15</td>\n",
       "      <td>599</td>\n",
       "    </tr>\n",
       "    <tr>\n",
       "      <th>1</th>\n",
       "      <td>1352500101</td>\n",
       "      <td>2012-11-09 22:28:21</td>\n",
       "      <td>582</td>\n",
       "    </tr>\n",
       "    <tr>\n",
       "      <th>2</th>\n",
       "      <td>1352500107</td>\n",
       "      <td>2012-11-09 22:28:27</td>\n",
       "      <td>600</td>\n",
       "    </tr>\n",
       "    <tr>\n",
       "      <th>3</th>\n",
       "      <td>1352500113</td>\n",
       "      <td>2012-11-09 22:28:33</td>\n",
       "      <td>586</td>\n",
       "    </tr>\n",
       "    <tr>\n",
       "      <th>4</th>\n",
       "      <td>1352500120</td>\n",
       "      <td>2012-11-09 22:28:40</td>\n",
       "      <td>596</td>\n",
       "    </tr>\n",
       "    <tr>\n",
       "      <th>5</th>\n",
       "      <td>1352500132</td>\n",
       "      <td>2012-11-09 22:28:52</td>\n",
       "      <td>581</td>\n",
       "    </tr>\n",
       "    <tr>\n",
       "      <th>6</th>\n",
       "      <td>1352500138</td>\n",
       "      <td>2012-11-09 22:28:58</td>\n",
       "      <td>597</td>\n",
       "    </tr>\n",
       "    <tr>\n",
       "      <th>7</th>\n",
       "      <td>1352500144</td>\n",
       "      <td>2012-11-09 22:29:04</td>\n",
       "      <td>592</td>\n",
       "    </tr>\n",
       "    <tr>\n",
       "      <th>8</th>\n",
       "      <td>1352500150</td>\n",
       "      <td>2012-11-09 22:29:10</td>\n",
       "      <td>587</td>\n",
       "    </tr>\n",
       "    <tr>\n",
       "      <th>9</th>\n",
       "      <td>1352500156</td>\n",
       "      <td>2012-11-09 22:29:16</td>\n",
       "      <td>574</td>\n",
       "    </tr>\n",
       "  </tbody>\n",
       "</table>\n",
       "</div>"
      ],
      "text/plain": [
       "         Unix                Date  Watt\n",
       "0  1352500095 2012-11-09 22:28:15   599\n",
       "1  1352500101 2012-11-09 22:28:21   582\n",
       "2  1352500107 2012-11-09 22:28:27   600\n",
       "3  1352500113 2012-11-09 22:28:33   586\n",
       "4  1352500120 2012-11-09 22:28:40   596\n",
       "5  1352500132 2012-11-09 22:28:52   581\n",
       "6  1352500138 2012-11-09 22:28:58   597\n",
       "7  1352500144 2012-11-09 22:29:04   592\n",
       "8  1352500150 2012-11-09 22:29:10   587\n",
       "9  1352500156 2012-11-09 22:29:16   574"
      ]
     },
     "execution_count": 177,
     "metadata": {},
     "output_type": "execute_result"
    }
   ],
   "source": [
    "from datetime import datetime\n",
    "ch1_date = pd.DataFrame(ch1,columns = ['Unix', 'Date', 'Watt'])\n",
    "\n",
    "ch1_date['Date'] = pd.to_datetime(ch1['Unix'], unit='s')\n",
    "ch1_date.info()\n",
    "ch1_date.head(10)"
   ]
  },
  {
   "cell_type": "code",
   "execution_count": 210,
   "id": "9574a77a",
   "metadata": {},
   "outputs": [
    {
     "name": "stdout",
     "output_type": "stream",
     "text": [
      "              Unix                Date  Watt\n",
      "431368  1356998401 2013-01-01 00:00:01   499\n",
      "1차 가공\n",
      "2차 가공\n",
      "2013 0 0 1\n"
     ]
    }
   ],
   "source": [
    "# 추출할 컬럼의 Unix Timestamp 선정\n",
    "unix_numb = ch1_date.Unix == 1356998401\n",
    "print(ch1_date[unix_numb])\n",
    "print('1차 가공')\n",
    "\n",
    "# 칼럼은 판다스 기반 데이터이기 때문에 리스트화 진행\n",
    "list1 = ch1_date[unix_numb].values.tolist()\n",
    "print('2차 가공')\n",
    "\n",
    "# Nested List 사용해서 시간 정보만 따로 추출\n",
    "date = list1[0][1]\n",
    "y = date.year\n",
    "h = date.hour\n",
    "m = date.minute\n",
    "s = date.second\n",
    "\n",
    "# 확인용 각 변수 출력\n",
    "print(y, h, m, s)"
   ]
  },
  {
   "cell_type": "markdown",
   "id": "5fd40237",
   "metadata": {},
   "source": [
    "## ============================"
   ]
  },
  {
   "cell_type": "code",
   "execution_count": 162,
   "id": "c3bed47d",
   "metadata": {},
   "outputs": [
    {
     "name": "stdout",
     "output_type": "stream",
     "text": [
      "<class 'pandas.core.frame.DataFrame'>\n",
      "Int64Index: 21837636 entries, 1352500095 to 1493227960\n",
      "Data columns (total 2 columns):\n",
      " #   Column  Dtype         \n",
      "---  ------  -----         \n",
      " 0   Date    datetime64[ns]\n",
      " 1   Watt    int64         \n",
      "dtypes: datetime64[ns](1), int64(1)\n",
      "memory usage: 499.8 MB\n",
      "                          Date  Watt\n",
      "Unix                                \n",
      "1352500101 2012-11-09 22:28:21   582\n",
      "1352500107 2012-11-09 22:28:27   600\n",
      "1352500113 2012-11-09 22:28:33   586\n",
      "1352500120 2012-11-09 22:28:40   596\n",
      "1352500132 2012-11-09 22:28:52   581\n",
      "1352500138 2012-11-09 22:28:58   597\n",
      "1352500144 2012-11-09 22:29:04   592\n",
      "1352500150 2012-11-09 22:29:10   587\n",
      "1352500156 2012-11-09 22:29:16   574\n",
      "1352500168 2012-11-09 22:29:28   577\n"
     ]
    }
   ],
   "source": [
    "# Unix를 인덱스 열로 지정\n",
    "ch1_date2 = ch1_date.set_index('Unix')\n",
    "ch1_date2.info()\n",
    "print(ch1_date2[1:11])"
   ]
  },
  {
   "cell_type": "code",
   "execution_count": 176,
   "id": "de44740f",
   "metadata": {},
   "outputs": [
    {
     "name": "stdout",
     "output_type": "stream",
     "text": [
      "                          Date  Watt\n",
      "Unix                                \n",
      "1352500101 2012-11-09 22:28:21   582\n",
      "1352500107 2012-11-09 22:28:27   600\n",
      "1352500113 2012-11-09 22:28:33   586\n",
      "1352500120 2012-11-09 22:28:40   596\n",
      "1352500132 2012-11-09 22:28:52   581\n",
      "...                        ...   ...\n",
      "1493227935 2017-04-26 17:32:15   667\n",
      "1493227942 2017-04-26 17:32:22   667\n",
      "1493227948 2017-04-26 17:32:28   686\n",
      "1493227954 2017-04-26 17:32:34   667\n",
      "1493227960 2017-04-26 17:32:40   672\n",
      "\n",
      "[21837635 rows x 2 columns]\n"
     ]
    }
   ],
   "source": [
    "ch1_date3 = ch1_date2.iloc[:, [0, 1]]\n",
    "ch1_date3.head(10)\n",
    "print(ch1_date3[1:])"
   ]
  },
  {
   "cell_type": "code",
   "execution_count": 133,
   "id": "36d931a6",
   "metadata": {},
   "outputs": [
    {
     "ename": "KeyError",
     "evalue": "431368",
     "output_type": "error",
     "traceback": [
      "\u001b[1;31m---------------------------------------------------------------------------\u001b[0m",
      "\u001b[1;31mKeyError\u001b[0m                                  Traceback (most recent call last)",
      "\u001b[1;32m~\\anaconda3\\lib\\site-packages\\pandas\\core\\indexes\\base.py\u001b[0m in \u001b[0;36mget_loc\u001b[1;34m(self, key, method, tolerance)\u001b[0m\n\u001b[0;32m   3360\u001b[0m             \u001b[1;32mtry\u001b[0m\u001b[1;33m:\u001b[0m\u001b[1;33m\u001b[0m\u001b[1;33m\u001b[0m\u001b[0m\n\u001b[1;32m-> 3361\u001b[1;33m                 \u001b[1;32mreturn\u001b[0m \u001b[0mself\u001b[0m\u001b[1;33m.\u001b[0m\u001b[0m_engine\u001b[0m\u001b[1;33m.\u001b[0m\u001b[0mget_loc\u001b[0m\u001b[1;33m(\u001b[0m\u001b[0mcasted_key\u001b[0m\u001b[1;33m)\u001b[0m\u001b[1;33m\u001b[0m\u001b[1;33m\u001b[0m\u001b[0m\n\u001b[0m\u001b[0;32m   3362\u001b[0m             \u001b[1;32mexcept\u001b[0m \u001b[0mKeyError\u001b[0m \u001b[1;32mas\u001b[0m \u001b[0merr\u001b[0m\u001b[1;33m:\u001b[0m\u001b[1;33m\u001b[0m\u001b[1;33m\u001b[0m\u001b[0m\n",
      "\u001b[1;32m~\\anaconda3\\lib\\site-packages\\pandas\\_libs\\index.pyx\u001b[0m in \u001b[0;36mpandas._libs.index.IndexEngine.get_loc\u001b[1;34m()\u001b[0m\n",
      "\u001b[1;32m~\\anaconda3\\lib\\site-packages\\pandas\\_libs\\index.pyx\u001b[0m in \u001b[0;36mpandas._libs.index.IndexEngine.get_loc\u001b[1;34m()\u001b[0m\n",
      "\u001b[1;32mpandas\\_libs\\hashtable_class_helper.pxi\u001b[0m in \u001b[0;36mpandas._libs.hashtable.PyObjectHashTable.get_item\u001b[1;34m()\u001b[0m\n",
      "\u001b[1;32mpandas\\_libs\\hashtable_class_helper.pxi\u001b[0m in \u001b[0;36mpandas._libs.hashtable.PyObjectHashTable.get_item\u001b[1;34m()\u001b[0m\n",
      "\u001b[1;31mKeyError\u001b[0m: 431368",
      "\nThe above exception was the direct cause of the following exception:\n",
      "\u001b[1;31mKeyError\u001b[0m                                  Traceback (most recent call last)",
      "\u001b[1;32m~\\AppData\\Local\\Temp/ipykernel_3304/1060437930.py\u001b[0m in \u001b[0;36m<module>\u001b[1;34m\u001b[0m\n\u001b[0;32m      1\u001b[0m \u001b[0mi\u001b[0m \u001b[1;33m=\u001b[0m \u001b[1;36m431368\u001b[0m\u001b[1;33m\u001b[0m\u001b[1;33m\u001b[0m\u001b[0m\n\u001b[0;32m      2\u001b[0m \u001b[1;32mwhile\u001b[0m\u001b[1;33m(\u001b[0m\u001b[0mi\u001b[0m\u001b[1;33m<\u001b[0m\u001b[1;36m431378\u001b[0m\u001b[1;33m)\u001b[0m\u001b[1;33m:\u001b[0m\u001b[1;33m\u001b[0m\u001b[1;33m\u001b[0m\u001b[0m\n\u001b[1;32m----> 3\u001b[1;33m     \u001b[0mcount_list\u001b[0m\u001b[1;33m=\u001b[0m\u001b[0mch1_date\u001b[0m\u001b[1;33m[\u001b[0m\u001b[0mi\u001b[0m\u001b[1;33m]\u001b[0m\u001b[1;33m.\u001b[0m\u001b[0mvalues\u001b[0m\u001b[1;33m.\u001b[0m\u001b[0mtolist\u001b[0m\u001b[1;33m(\u001b[0m\u001b[1;33m)\u001b[0m\u001b[1;33m\u001b[0m\u001b[1;33m\u001b[0m\u001b[0m\n\u001b[0m\u001b[0;32m      4\u001b[0m     \u001b[0mcount_list\u001b[0m\u001b[1;33m[\u001b[0m\u001b[1;36m1\u001b[0m\u001b[1;33m]\u001b[0m\u001b[1;33m[\u001b[0m\u001b[1;36m0\u001b[0m\u001b[1;33m]\u001b[0m \u001b[1;31m# Nested List 에서 인덱싱 진행\u001b[0m\u001b[1;33m\u001b[0m\u001b[1;33m\u001b[0m\u001b[0m\n\u001b[0;32m      5\u001b[0m \u001b[1;33m\u001b[0m\u001b[0m\n",
      "\u001b[1;32m~\\anaconda3\\lib\\site-packages\\pandas\\core\\frame.py\u001b[0m in \u001b[0;36m__getitem__\u001b[1;34m(self, key)\u001b[0m\n\u001b[0;32m   3456\u001b[0m             \u001b[1;32mif\u001b[0m \u001b[0mself\u001b[0m\u001b[1;33m.\u001b[0m\u001b[0mcolumns\u001b[0m\u001b[1;33m.\u001b[0m\u001b[0mnlevels\u001b[0m \u001b[1;33m>\u001b[0m \u001b[1;36m1\u001b[0m\u001b[1;33m:\u001b[0m\u001b[1;33m\u001b[0m\u001b[1;33m\u001b[0m\u001b[0m\n\u001b[0;32m   3457\u001b[0m                 \u001b[1;32mreturn\u001b[0m \u001b[0mself\u001b[0m\u001b[1;33m.\u001b[0m\u001b[0m_getitem_multilevel\u001b[0m\u001b[1;33m(\u001b[0m\u001b[0mkey\u001b[0m\u001b[1;33m)\u001b[0m\u001b[1;33m\u001b[0m\u001b[1;33m\u001b[0m\u001b[0m\n\u001b[1;32m-> 3458\u001b[1;33m             \u001b[0mindexer\u001b[0m \u001b[1;33m=\u001b[0m \u001b[0mself\u001b[0m\u001b[1;33m.\u001b[0m\u001b[0mcolumns\u001b[0m\u001b[1;33m.\u001b[0m\u001b[0mget_loc\u001b[0m\u001b[1;33m(\u001b[0m\u001b[0mkey\u001b[0m\u001b[1;33m)\u001b[0m\u001b[1;33m\u001b[0m\u001b[1;33m\u001b[0m\u001b[0m\n\u001b[0m\u001b[0;32m   3459\u001b[0m             \u001b[1;32mif\u001b[0m \u001b[0mis_integer\u001b[0m\u001b[1;33m(\u001b[0m\u001b[0mindexer\u001b[0m\u001b[1;33m)\u001b[0m\u001b[1;33m:\u001b[0m\u001b[1;33m\u001b[0m\u001b[1;33m\u001b[0m\u001b[0m\n\u001b[0;32m   3460\u001b[0m                 \u001b[0mindexer\u001b[0m \u001b[1;33m=\u001b[0m \u001b[1;33m[\u001b[0m\u001b[0mindexer\u001b[0m\u001b[1;33m]\u001b[0m\u001b[1;33m\u001b[0m\u001b[1;33m\u001b[0m\u001b[0m\n",
      "\u001b[1;32m~\\anaconda3\\lib\\site-packages\\pandas\\core\\indexes\\base.py\u001b[0m in \u001b[0;36mget_loc\u001b[1;34m(self, key, method, tolerance)\u001b[0m\n\u001b[0;32m   3361\u001b[0m                 \u001b[1;32mreturn\u001b[0m \u001b[0mself\u001b[0m\u001b[1;33m.\u001b[0m\u001b[0m_engine\u001b[0m\u001b[1;33m.\u001b[0m\u001b[0mget_loc\u001b[0m\u001b[1;33m(\u001b[0m\u001b[0mcasted_key\u001b[0m\u001b[1;33m)\u001b[0m\u001b[1;33m\u001b[0m\u001b[1;33m\u001b[0m\u001b[0m\n\u001b[0;32m   3362\u001b[0m             \u001b[1;32mexcept\u001b[0m \u001b[0mKeyError\u001b[0m \u001b[1;32mas\u001b[0m \u001b[0merr\u001b[0m\u001b[1;33m:\u001b[0m\u001b[1;33m\u001b[0m\u001b[1;33m\u001b[0m\u001b[0m\n\u001b[1;32m-> 3363\u001b[1;33m                 \u001b[1;32mraise\u001b[0m \u001b[0mKeyError\u001b[0m\u001b[1;33m(\u001b[0m\u001b[0mkey\u001b[0m\u001b[1;33m)\u001b[0m \u001b[1;32mfrom\u001b[0m \u001b[0merr\u001b[0m\u001b[1;33m\u001b[0m\u001b[1;33m\u001b[0m\u001b[0m\n\u001b[0m\u001b[0;32m   3364\u001b[0m \u001b[1;33m\u001b[0m\u001b[0m\n\u001b[0;32m   3365\u001b[0m         \u001b[1;32mif\u001b[0m \u001b[0mis_scalar\u001b[0m\u001b[1;33m(\u001b[0m\u001b[0mkey\u001b[0m\u001b[1;33m)\u001b[0m \u001b[1;32mand\u001b[0m \u001b[0misna\u001b[0m\u001b[1;33m(\u001b[0m\u001b[0mkey\u001b[0m\u001b[1;33m)\u001b[0m \u001b[1;32mand\u001b[0m \u001b[1;32mnot\u001b[0m \u001b[0mself\u001b[0m\u001b[1;33m.\u001b[0m\u001b[0mhasnans\u001b[0m\u001b[1;33m:\u001b[0m\u001b[1;33m\u001b[0m\u001b[1;33m\u001b[0m\u001b[0m\n",
      "\u001b[1;31mKeyError\u001b[0m: 431368"
     ]
    }
   ],
   "source": [
    "i = 431368\n",
    "while(i<431378):\n",
    "    count_list=ch1_date[i].values.tolist()\n",
    "    count_list[1][0] # Nested List 에서 인덱싱 진행\n",
    "\n",
    "    print(count_list[1][0]) # date\n",
    "    print(count_list[1][0]) # watt\n",
    "\n",
    "    print()\n",
    "    stamp = count_list[0][0]\n",
    "    print('hour:', stamp.hour)\n",
    "    print('minute:', stamp.minute)\n",
    "    print('second:', stamp.second)\n",
    "    i=i+1"
   ]
  },
  {
   "cell_type": "code",
   "execution_count": 65,
   "id": "2753eec3",
   "metadata": {},
   "outputs": [
    {
     "name": "stdout",
     "output_type": "stream",
     "text": [
      "13년 1월\n",
      "              Unix                Date  Watt\n",
      "431368  1356998401 2013-01-01 00:00:01   499\n",
      "431369  1356998407 2013-01-01 00:00:07   500\n",
      "431370  1356998413 2013-01-01 00:00:13   515\n",
      "431371  1356998419 2013-01-01 00:00:19   522\n",
      "431372  1356998426 2013-01-01 00:00:26   508\n",
      "...            ...                 ...   ...\n",
      "710835  1360756548 2013-02-13 11:55:48   176\n",
      "710836  1360756555 2013-02-13 11:55:55   179\n",
      "710837  1360756561 2013-02-13 11:56:01   178\n",
      "710838  1360756567 2013-02-13 11:56:07   178\n",
      "710839  1360756573 2013-02-13 11:56:13   178\n",
      "\n",
      "[279472 rows x 3 columns]\n",
      "\n",
      "14년 1월 1일 찾기\n",
      "               Unix                Date  Watt\n",
      "5133240  1388534402 2014-01-01 00:00:02   485\n",
      "\n"
     ]
    }
   ],
   "source": [
    "#print(ch1_date[0:21])\n",
    "\n",
    "\"\"\"\n",
    "print('1번째')\n",
    "print(ch1_date[0:1])\n",
    "print()\n",
    "\n",
    "print('21837636번째')\n",
    "print(ch1_date[21837635:21837636])\n",
    "\n",
    "\n",
    "print('13년 데이터')\n",
    "print(ch1_date[431368:5133240])\n",
    "print()\n",
    "\"\"\"\n",
    "# + 255822\n",
    "\n",
    "print('13년 1월')\n",
    "print(ch1_date[431368:710840])\n",
    "print()\n",
    "\n",
    "\n",
    "print('14년 1월 1일 찾기')\n",
    "print(ch1_date[5133240:5133241])\n",
    "print()\n",
    "\n"
   ]
  },
  {
   "cell_type": "code",
   "execution_count": 10,
   "id": "13be42ec",
   "metadata": {},
   "outputs": [
    {
     "name": "stdout",
     "output_type": "stream",
     "text": [
      "[[Timestamp('2013-12-31 23:59:55'), 481]]\n",
      "2013-12-31 23:59:55\n",
      "481\n",
      "\n",
      "hour: 23\n",
      "minute: 59\n",
      "second: 55\n"
     ]
    }
   ],
   "source": [
    "test_list=ch1_date[5133239:5133240].values.tolist()\n",
    "print(test_list) # 여기서 주기 결정, 변수 잘 넣어야 함\n",
    "test_list[0][0] # Nested List 에서 인덱싱 진행\n",
    "\n",
    "print(test_list[0][0])\n",
    "print(test_list[0][1])\n",
    "\n",
    "print()\n",
    "stamp = test_list[0][0]\n",
    "print('hour:', stamp.hour)\n",
    "print('minute:', stamp.minute)\n",
    "print('second:', stamp.second)"
   ]
  },
  {
   "cell_type": "code",
   "execution_count": 1,
   "id": "05363929",
   "metadata": {},
   "outputs": [],
   "source": [
    "t = 431368"
   ]
  },
  {
   "cell_type": "code",
   "execution_count": null,
   "id": "22e155d7",
   "metadata": {},
   "outputs": [],
   "source": [
    "# Max 값 찾기\n",
    "numbers = [55, 4, 92, 1, 104, 64, 73, 99, 20]\n",
    "\n",
    "max_value = max(numbers)\n",
    "print('Maximum value:', max_value)"
   ]
  },
  {
   "cell_type": "code",
   "execution_count": null,
   "id": "55517777",
   "metadata": {},
   "outputs": [],
   "source": [
    "ch1_list = ch1_date['Date'].values.tolist()\n",
    "print(type(ch1_list))\n",
    "print(ch1_list)"
   ]
  },
  {
   "cell_type": "code",
   "execution_count": null,
   "id": "4370a94f",
   "metadata": {},
   "outputs": [],
   "source": [
    "import numpy as np\n",
    "ch1_list = list(np.array(ch1_date['Date'].tolist()))"
   ]
  }
 ],
 "metadata": {
  "kernelspec": {
   "display_name": "Python 3 (ipykernel)",
   "language": "python",
   "name": "python3"
  },
  "language_info": {
   "codemirror_mode": {
    "name": "ipython",
    "version": 3
   },
   "file_extension": ".py",
   "mimetype": "text/x-python",
   "name": "python",
   "nbconvert_exporter": "python",
   "pygments_lexer": "ipython3",
   "version": "3.9.7"
  }
 },
 "nbformat": 4,
 "nbformat_minor": 5
}
