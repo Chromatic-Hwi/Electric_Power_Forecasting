{
 "cells": [
  {
   "cell_type": "code",
   "execution_count": 4,
   "id": "d22a0970",
   "metadata": {},
   "outputs": [
    {
     "name": "stdout",
     "output_type": "stream",
     "text": [
      "Done!\n"
     ]
    }
   ],
   "source": [
    "import pandas as pd\n",
    "ch1 = pd.read_csv('./channel_1.dat', names=['Unix', 'Watt'],\n",
    "                  header=None, delimiter=\" \")\n",
    "\n",
    "print('Done!')"
   ]
  },
  {
   "cell_type": "code",
   "execution_count": 5,
   "id": "d7d8f93b",
   "metadata": {
    "scrolled": true
   },
   "outputs": [
    {
     "name": "stdout",
     "output_type": "stream",
     "text": [
      "<class 'pandas.core.frame.DataFrame'>\n",
      "RangeIndex: 21837636 entries, 0 to 21837635\n",
      "Data columns (total 2 columns):\n",
      " #   Column  Dtype\n",
      "---  ------  -----\n",
      " 0   Unix    int64\n",
      " 1   Watt    int64\n",
      "dtypes: int64(2)\n",
      "memory usage: 333.2 MB\n"
     ]
    }
   ],
   "source": [
    "ch1.info()"
   ]
  },
  {
   "cell_type": "code",
   "execution_count": 6,
   "id": "ba63271c",
   "metadata": {},
   "outputs": [
    {
     "name": "stdout",
     "output_type": "stream",
     "text": [
      "          Unix  Watt\n",
      "0   1352500095   599\n",
      "1   1352500101   582\n",
      "2   1352500107   600\n",
      "3   1352500113   586\n",
      "4   1352500120   596\n",
      "5   1352500132   581\n",
      "6   1352500138   597\n",
      "7   1352500144   592\n",
      "8   1352500150   587\n",
      "9   1352500156   574\n",
      "10  1352500168   577\n",
      "11  1352500175   581\n",
      "12  1352500181   587\n",
      "13  1352500199   577\n",
      "14  1352500211   584\n",
      "15  1352500218   587\n",
      "16  1352500224   592\n",
      "17  1352500230   587\n",
      "18  1352500236   585\n",
      "19  1352500242   583\n",
      "20  1352500248   593\n",
      "1번째\n",
      "         Unix  Watt\n",
      "0  1352500095   599\n",
      "\n",
      "21837636번째\n",
      "                Unix  Watt\n",
      "21837635  1493227960   672\n"
     ]
    }
   ],
   "source": [
    "print(ch1[0:21])\n",
    "print('1번째')\n",
    "print(ch1[0:1])\n",
    "print()\n",
    "print('21837636번째')\n",
    "print(ch1[21837635:21837636])"
   ]
  },
  {
   "cell_type": "code",
   "execution_count": 7,
   "id": "ca051fb6",
   "metadata": {},
   "outputs": [],
   "source": [
    "from datetime import datetime\n",
    "ch1_date = pd.DataFrame(ch1,columns = ['Date', 'Watt'])\n",
    "\n",
    "ch1_date['Date'] = pd.to_datetime(ch1['Unix'], unit='s')"
   ]
  },
  {
   "cell_type": "code",
   "execution_count": 8,
   "id": "2753eec3",
   "metadata": {},
   "outputs": [
    {
     "name": "stdout",
     "output_type": "stream",
     "text": [
      "                  Date  Watt\n",
      "0  2012-11-09 22:28:15   599\n",
      "1  2012-11-09 22:28:21   582\n",
      "2  2012-11-09 22:28:27   600\n",
      "3  2012-11-09 22:28:33   586\n",
      "4  2012-11-09 22:28:40   596\n",
      "5  2012-11-09 22:28:52   581\n",
      "6  2012-11-09 22:28:58   597\n",
      "7  2012-11-09 22:29:04   592\n",
      "8  2012-11-09 22:29:10   587\n",
      "9  2012-11-09 22:29:16   574\n",
      "10 2012-11-09 22:29:28   577\n",
      "11 2012-11-09 22:29:35   581\n",
      "12 2012-11-09 22:29:41   587\n",
      "13 2012-11-09 22:29:59   577\n",
      "14 2012-11-09 22:30:11   584\n",
      "15 2012-11-09 22:30:18   587\n",
      "16 2012-11-09 22:30:24   592\n",
      "17 2012-11-09 22:30:30   587\n",
      "18 2012-11-09 22:30:36   585\n",
      "19 2012-11-09 22:30:42   583\n",
      "20 2012-11-09 22:30:48   593\n",
      "1번째\n",
      "                 Date  Watt\n",
      "0 2012-11-09 22:28:15   599\n",
      "\n",
      "13년 데이터\n",
      "                       Date  Watt\n",
      "431368  2013-01-01 00:00:01   499\n",
      "431369  2013-01-01 00:00:07   500\n",
      "431370  2013-01-01 00:00:13   515\n",
      "431371  2013-01-01 00:00:19   522\n",
      "431372  2013-01-01 00:00:26   508\n",
      "...                     ...   ...\n",
      "5133235 2013-12-31 23:59:31   481\n",
      "5133236 2013-12-31 23:59:37   483\n",
      "5133237 2013-12-31 23:59:43   482\n",
      "5133238 2013-12-31 23:59:49   491\n",
      "5133239 2013-12-31 23:59:55   481\n",
      "\n",
      "[4701872 rows x 2 columns]\n",
      "\n",
      "14년 1월 1일 찾기\n",
      "                       Date  Watt\n",
      "5133240 2014-01-01 00:00:02   485\n",
      "\n",
      "21837636번째\n",
      "                        Date  Watt\n",
      "21837635 2017-04-26 17:32:40   672\n"
     ]
    }
   ],
   "source": [
    "print(ch1_date[0:21])\n",
    "\n",
    "print('1번째')\n",
    "print(ch1_date[0:1])\n",
    "print()\n",
    "\n",
    "print('13년 데이터')\n",
    "print(ch1_date[431368:5133240])\n",
    "print()\n",
    "\n",
    "\n",
    "print('14년 1월 1일 찾기')\n",
    "print(ch1_date[5133240:5133241])\n",
    "print()\n",
    "\n",
    "print('21837636번째')\n",
    "print(ch1_date[21837635:21837636])"
   ]
  },
  {
   "cell_type": "code",
   "execution_count": 9,
   "id": "84d48e33",
   "metadata": {},
   "outputs": [
    {
     "data": {
      "text/plain": [
       "'\\n6초 간격으로 데이터 존재\\n(6초)*10 = 1분\\n1분 * 60 = 1시간\\n1시간 * 24 = 1일\\n1일 * 30 = 약 한달\\n6초가 기준 한칸이라면 한칸*10*60*24*30*12=한칸*5,184,000\\n\\n하지만 실제 1년 차이는\\n4,701,872 정도\\n4701864 / 12 = 391822\\n'"
      ]
     },
     "execution_count": 9,
     "metadata": {},
     "output_type": "execute_result"
    }
   ],
   "source": [
    "\"\"\"\n",
    "6초 간격으로 데이터 존재\n",
    "(6초)*10 = 1분\n",
    "1분 * 60 = 1시간\n",
    "1시간 * 24 = 1일\n",
    "1일 * 30 = 약 한달\n",
    "6초가 기준 한칸이라면 한칸*10*60*24*30*12=한칸*5,184,000\n",
    "\n",
    "하지만 실제 1년 차이는\n",
    "4,701,872 정도\n",
    "4701864 / 12 = 391822\n",
    "\"\"\""
   ]
  },
  {
   "cell_type": "code",
   "execution_count": 10,
   "id": "13be42ec",
   "metadata": {},
   "outputs": [
    {
     "name": "stdout",
     "output_type": "stream",
     "text": [
      "[[Timestamp('2013-12-31 23:59:55'), 481]]\n",
      "2013-12-31 23:59:55\n",
      "481\n",
      "\n",
      "hour: 23\n",
      "minute: 59\n",
      "second: 55\n"
     ]
    }
   ],
   "source": [
    "test_list=ch1_date[5133239:5133240].values.tolist()\n",
    "print(test_list) # 여기서 주기 결정, 변수 잘 넣어야 함\n",
    "test_list[0][0] # Nested List 에서 인덱싱 진행\n",
    "\n",
    "print(test_list[0][0])\n",
    "print(test_list[0][1])\n",
    "\n",
    "print()\n",
    "stamp = test_list[0][0]\n",
    "print('hour:', stamp.hour)\n",
    "print('minute:', stamp.minute)\n",
    "print('second:', stamp.second)"
   ]
  },
  {
   "cell_type": "code",
   "execution_count": 1,
   "id": "05363929",
   "metadata": {},
   "outputs": [],
   "source": [
    "t = 431368"
   ]
  },
  {
   "cell_type": "code",
   "execution_count": null,
   "id": "22e155d7",
   "metadata": {},
   "outputs": [],
   "source": [
    "# Max 값 찾기\n",
    "numbers = [55, 4, 92, 1, 104, 64, 73, 99, 20]\n",
    "\n",
    "max_value = max(numbers)\n",
    "print('Maximum value:', max_value)"
   ]
  },
  {
   "cell_type": "code",
   "execution_count": null,
   "id": "55517777",
   "metadata": {},
   "outputs": [],
   "source": [
    "ch1_list = ch1_date['Date'].values.tolist()\n",
    "print(type(ch1_list))\n",
    "print(ch1_list)"
   ]
  },
  {
   "cell_type": "code",
   "execution_count": null,
   "id": "4370a94f",
   "metadata": {},
   "outputs": [],
   "source": [
    "import numpy as np\n",
    "ch1_list = list(np.array(ch1_date['Date'].tolist()))"
   ]
  }
 ],
 "metadata": {
  "kernelspec": {
   "display_name": "Python 3 (ipykernel)",
   "language": "python",
   "name": "python3"
  },
  "language_info": {
   "codemirror_mode": {
    "name": "ipython",
    "version": 3
   },
   "file_extension": ".py",
   "mimetype": "text/x-python",
   "name": "python",
   "nbconvert_exporter": "python",
   "pygments_lexer": "ipython3",
   "version": "3.9.7"
  }
 },
 "nbformat": 4,
 "nbformat_minor": 5
}
